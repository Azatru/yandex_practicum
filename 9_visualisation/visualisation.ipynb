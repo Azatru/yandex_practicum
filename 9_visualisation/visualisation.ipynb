{
 "cells": [
  {
   "cell_type": "markdown",
   "id": "b06db052",
   "metadata": {
    "toc": true
   },
   "source": [
    "<h1>Table of Contents<span class=\"tocSkip\"></span></h1>\n",
    "<div class=\"toc\"><ul class=\"toc-item\"><li><span><a href=\"#Введение\" data-toc-modified-id=\"Введение-1\"><span class=\"toc-item-num\">1&nbsp;&nbsp;</span>Введение</a></span></li><li><span><a href=\"#Описание-проекта\" data-toc-modified-id=\"Описание-проекта-2\"><span class=\"toc-item-num\">2&nbsp;&nbsp;</span>Описание проекта</a></span><ul class=\"toc-item\"><li><span><a href=\"#Описание-данных\" data-toc-modified-id=\"Описание-данных-2.1\"><span class=\"toc-item-num\">2.1&nbsp;&nbsp;</span>Описание данных</a></span></li></ul></li><li><span><a href=\"#Подготовка-к-анализу\" data-toc-modified-id=\"Подготовка-к-анализу-3\"><span class=\"toc-item-num\">3&nbsp;&nbsp;</span>Подготовка к анализу</a></span></li><li><span><a href=\"#Анализ-данных\" data-toc-modified-id=\"Анализ-данных-4\"><span class=\"toc-item-num\">4&nbsp;&nbsp;</span>Анализ данных</a></span><ul class=\"toc-item\"><li><span><a href=\"#Исследование-соотношения-видов-объектов-общественного-питания-по-количеству\" data-toc-modified-id=\"Исследование-соотношения-видов-объектов-общественного-питания-по-количеству-4.1\"><span class=\"toc-item-num\">4.1&nbsp;&nbsp;</span>Исследование соотношения видов объектов общественного питания по количеству</a></span></li><li><span><a href=\"#Исследование-соотношение-сетевых-и-несетевых-заведений-по-количеству\" data-toc-modified-id=\"Исследование-соотношение-сетевых-и-несетевых-заведений-по-количеству-4.2\"><span class=\"toc-item-num\">4.2&nbsp;&nbsp;</span>Исследование соотношение сетевых и несетевых заведений по количеству</a></span></li><li><span><a href=\"#Вид-объекта-общественного-питания-для-которого-характерно-сетевое-распространение\" data-toc-modified-id=\"Вид-объекта-общественного-питания-для-которого-характерно-сетевое-распространение-4.3\"><span class=\"toc-item-num\">4.3&nbsp;&nbsp;</span>Вид объекта общественного питания для которого характерно сетевое распространение</a></span></li><li><span><a href=\"#Анализ-сетевых-заведений\" data-toc-modified-id=\"Анализ-сетевых-заведений-4.4\"><span class=\"toc-item-num\">4.4&nbsp;&nbsp;</span>Анализ сетевых заведений</a></span></li><li><span><a href=\"#Cреднее-количество-посадочных-мест-по-видам-объектов-общественного-питания.\" data-toc-modified-id=\"Cреднее-количество-посадочных-мест-по-видам-объектов-общественного-питания.-4.5\"><span class=\"toc-item-num\">4.5&nbsp;&nbsp;</span>Cреднее количество посадочных мест по видам объектов общественного питания.</a></span></li><li><span><a href=\"#Выделите-в-отдельный-столбец-информацию-об-улице-из-столбца-address-.\" data-toc-modified-id=\"Выделите-в-отдельный-столбец-информацию-об-улице-из-столбца-address-.-4.6\"><span class=\"toc-item-num\">4.6&nbsp;&nbsp;</span>Выделите в отдельный столбец информацию об улице из столбца address .</a></span></li><li><span><a href=\"#Топ-10-улиц-по-количеству-объектов-общественного-питания.\" data-toc-modified-id=\"Топ-10-улиц-по-количеству-объектов-общественного-питания.-4.7\"><span class=\"toc-item-num\">4.7&nbsp;&nbsp;</span>Топ-10 улиц по количеству объектов общественного питания.</a></span></li><li><span><a href=\"#Районы-Москвы-с-улицами-на-которых-есть-только-одно-заведение-общественного-питания.\" data-toc-modified-id=\"Районы-Москвы-с-улицами-на-которых-есть-только-одно-заведение-общественного-питания.-4.8\"><span class=\"toc-item-num\">4.8&nbsp;&nbsp;</span>Районы Москвы с улицами на которых есть только одно заведение общественного питания.</a></span></li></ul></li><li><span><a href=\"#Общий-вывод\" data-toc-modified-id=\"Общий-вывод-5\"><span class=\"toc-item-num\">5&nbsp;&nbsp;</span>Общий вывод</a></span></li><li><span><a href=\"#Шаг-№3.-Подготовка-презентации\" data-toc-modified-id=\"Шаг-№3.-Подготовка-презентации-6\"><span class=\"toc-item-num\">6&nbsp;&nbsp;</span>Шаг №3. Подготовка презентации</a></span></li></ul></div>"
   ]
  },
  {
   "cell_type": "markdown",
   "id": "0a208bb3",
   "metadata": {},
   "source": [
    "\n",
    "<font size = 5> **\"Обзор рынка общественного питания г. Москвы\"** </font>"
   ]
  },
  {
   "cell_type": "markdown",
   "id": "9f9c0f51",
   "metadata": {},
   "source": [
    "## Введение\n",
    "\n",
    "В проекте исследуется рынок общественного питания г. Москвы с целью его предварительного изучения с перспективой инвестиций.\n",
    "\n",
    "В первом и втором разделах дано описание проекта и проведена подготовка данных к анализу.\n",
    "\n",
    "В третьем разделе дан анализ ситуации на рынки. Выводы обзора даны в четвёртом разделе.\n",
    "\n",
    "Ссылка на презентацию обзора рынка дана в пятом разделе.\n",
    "\n",
    "**Список использованных источников**\n",
    "\n",
    "1. Общественное питание в Москве (https://data.mos.ru/opendata/7710881420-obshchestvennoe-pitanie-v-moskve)\n",
    "2. Общемосковский классификатор улиц Москвы ОМК УМ (https://data.mos.ru/classifier/7710168515-obshchemoskovskiy-klassifikator-ulits-moskvy-omk-001-2013-razdel-1)\n",
    "3. Общемосковский классификатор территориальных единиц Москвы ОМК ТЕ (https://data.mos.ru/classifier/2039)\n"
   ]
  },
  {
   "cell_type": "markdown",
   "id": "4a8a0a69",
   "metadata": {},
   "source": [
    "## Описание проекта\n",
    "\n",
    "### Описание данных\n",
    "\n",
    "Основной датасет для исследования получен из источника [1] \n",
    "\n",
    "Содержит следующие столбцы:\n",
    "- `id` — идентификатор объекта;\n",
    "- `object_name` — название объекта общественного питания;\n",
    "- `chain` — сетевой ресторан;\n",
    "- `object_type` — тип объекта общественного питания;\n",
    "- `address` — адрес;\n",
    "- `number` — количество посадочных мест.\n"
   ]
  },
  {
   "cell_type": "markdown",
   "id": "aed51092",
   "metadata": {},
   "source": [
    "## Подготовка к анализу\n",
    "\n",
    "Загрузите данные о заведениях общественного питания Москвы. Убедитесь, что тип данных в каждой колонке — правильный, а также отсутствуют пропущенные значения и дубликаты. При необходимости обработайте их."
   ]
  },
  {
   "cell_type": "code",
   "execution_count": 1,
   "id": "f312accb",
   "metadata": {},
   "outputs": [
    {
     "name": "stdout",
     "output_type": "stream",
     "text": [
      "Name: matplotlib\n",
      "Version: 3.4.0\n",
      "Summary: Python plotting package\n",
      "Home-page: https://matplotlib.org\n",
      "Author: John D. Hunter, Michael Droettboom\n",
      "Author-email: matplotlib-users@python.org\n",
      "License: PSF\n",
      "Location: c:\\users\\azat\\anaconda3\\lib\\site-packages\n",
      "Requires: cycler, kiwisolver, numpy, pillow, pyparsing, python-dateutil\n",
      "Required-by: missingno, pandas-profiling, phik, seaborn\n"
     ]
    }
   ],
   "source": [
    "# Код ревьюера\n",
    "# !pip install matplotlib==3.4.0\n",
    "!pip show matplotlib"
   ]
  },
  {
   "cell_type": "code",
   "execution_count": 2,
   "id": "7b775b5d",
   "metadata": {},
   "outputs": [],
   "source": [
    "import pandas as pd\n",
    "import numpy as np\n",
    "import matplotlib.pyplot as plt\n",
    "import seaborn as sns\n",
    "from io import BytesIO\n",
    "import requests\n",
    "import matplotlib.patches as mpatches"
   ]
  },
  {
   "cell_type": "code",
   "execution_count": 3,
   "id": "ea9d38bd",
   "metadata": {},
   "outputs": [],
   "source": [
    "pth_data = 'rest_data.csv'\n",
    "pth_folder = '/datasets/'\n",
    "\n",
    "try:\n",
    "    data = pd.read_csv(pth_data)\n",
    "except:\n",
    "    data = pd.read_csv(pth_folder + pth_data)"
   ]
  },
  {
   "cell_type": "code",
   "execution_count": 4,
   "id": "e10cc4bd",
   "metadata": {},
   "outputs": [
    {
     "data": {
      "text/html": [
       "<div>\n",
       "<style scoped>\n",
       "    .dataframe tbody tr th:only-of-type {\n",
       "        vertical-align: middle;\n",
       "    }\n",
       "\n",
       "    .dataframe tbody tr th {\n",
       "        vertical-align: top;\n",
       "    }\n",
       "\n",
       "    .dataframe thead th {\n",
       "        text-align: right;\n",
       "    }\n",
       "</style>\n",
       "<table border=\"1\" class=\"dataframe\">\n",
       "  <thead>\n",
       "    <tr style=\"text-align: right;\">\n",
       "      <th></th>\n",
       "      <th>id</th>\n",
       "      <th>object_name</th>\n",
       "      <th>chain</th>\n",
       "      <th>object_type</th>\n",
       "      <th>address</th>\n",
       "      <th>number</th>\n",
       "    </tr>\n",
       "  </thead>\n",
       "  <tbody>\n",
       "    <tr>\n",
       "      <th>0</th>\n",
       "      <td>151635</td>\n",
       "      <td>СМЕТАНА</td>\n",
       "      <td>нет</td>\n",
       "      <td>кафе</td>\n",
       "      <td>город Москва, улица Егора Абакумова, дом 9</td>\n",
       "      <td>48</td>\n",
       "    </tr>\n",
       "    <tr>\n",
       "      <th>1</th>\n",
       "      <td>77874</td>\n",
       "      <td>Родник</td>\n",
       "      <td>нет</td>\n",
       "      <td>кафе</td>\n",
       "      <td>город Москва, улица Талалихина, дом 2/1, корпус 1</td>\n",
       "      <td>35</td>\n",
       "    </tr>\n",
       "    <tr>\n",
       "      <th>2</th>\n",
       "      <td>24309</td>\n",
       "      <td>Кафе «Академия»</td>\n",
       "      <td>нет</td>\n",
       "      <td>кафе</td>\n",
       "      <td>город Москва, Абельмановская улица, дом 6</td>\n",
       "      <td>95</td>\n",
       "    </tr>\n",
       "    <tr>\n",
       "      <th>3</th>\n",
       "      <td>21894</td>\n",
       "      <td>ПИЦЦЕТОРИЯ</td>\n",
       "      <td>да</td>\n",
       "      <td>кафе</td>\n",
       "      <td>город Москва, Абрамцевская улица, дом 1</td>\n",
       "      <td>40</td>\n",
       "    </tr>\n",
       "    <tr>\n",
       "      <th>4</th>\n",
       "      <td>119365</td>\n",
       "      <td>Кафе «Вишневая метель»</td>\n",
       "      <td>нет</td>\n",
       "      <td>кафе</td>\n",
       "      <td>город Москва, Абрамцевская улица, дом 9, корпус 1</td>\n",
       "      <td>50</td>\n",
       "    </tr>\n",
       "  </tbody>\n",
       "</table>\n",
       "</div>"
      ],
      "text/plain": [
       "       id             object_name chain object_type  \\\n",
       "0  151635                 СМЕТАНА   нет        кафе   \n",
       "1   77874                  Родник   нет        кафе   \n",
       "2   24309         Кафе «Академия»   нет        кафе   \n",
       "3   21894              ПИЦЦЕТОРИЯ    да        кафе   \n",
       "4  119365  Кафе «Вишневая метель»   нет        кафе   \n",
       "\n",
       "                                             address  number  \n",
       "0         город Москва, улица Егора Абакумова, дом 9      48  \n",
       "1  город Москва, улица Талалихина, дом 2/1, корпус 1      35  \n",
       "2          город Москва, Абельмановская улица, дом 6      95  \n",
       "3            город Москва, Абрамцевская улица, дом 1      40  \n",
       "4  город Москва, Абрамцевская улица, дом 9, корпус 1      50  "
      ]
     },
     "execution_count": 4,
     "metadata": {},
     "output_type": "execute_result"
    }
   ],
   "source": [
    "data.head()"
   ]
  },
  {
   "cell_type": "code",
   "execution_count": 5,
   "id": "be4d9ce6",
   "metadata": {},
   "outputs": [
    {
     "name": "stdout",
     "output_type": "stream",
     "text": [
      "<class 'pandas.core.frame.DataFrame'>\n",
      "RangeIndex: 15366 entries, 0 to 15365\n",
      "Data columns (total 6 columns):\n",
      " #   Column       Non-Null Count  Dtype \n",
      "---  ------       --------------  ----- \n",
      " 0   id           15366 non-null  int64 \n",
      " 1   object_name  15366 non-null  object\n",
      " 2   chain        15366 non-null  object\n",
      " 3   object_type  15366 non-null  object\n",
      " 4   address      15366 non-null  object\n",
      " 5   number       15366 non-null  int64 \n",
      "dtypes: int64(2), object(4)\n",
      "memory usage: 720.4+ KB\n"
     ]
    }
   ],
   "source": [
    "data.info()"
   ]
  },
  {
   "cell_type": "markdown",
   "id": "4214834e",
   "metadata": {},
   "source": [
    "Данные в заполнении пропусков ненуждаются."
   ]
  },
  {
   "cell_type": "code",
   "execution_count": 6,
   "id": "0e50ec9c",
   "metadata": {},
   "outputs": [
    {
     "data": {
      "text/plain": [
       "82"
      ]
     },
     "execution_count": 6,
     "metadata": {},
     "output_type": "execute_result"
    }
   ],
   "source": [
    "data[['object_name', 'chain', 'object_type', 'address', 'number']].duplicated().sum()"
   ]
  },
  {
   "cell_type": "markdown",
   "id": "0600ecdc",
   "metadata": {},
   "source": [
    "Есть дубликаты, удалим их:"
   ]
  },
  {
   "cell_type": "code",
   "execution_count": 7,
   "id": "52c02a1a",
   "metadata": {},
   "outputs": [
    {
     "data": {
      "text/plain": [
       "15366"
      ]
     },
     "execution_count": 7,
     "metadata": {},
     "output_type": "execute_result"
    }
   ],
   "source": [
    "len(data)"
   ]
  },
  {
   "cell_type": "code",
   "execution_count": 8,
   "id": "cb6f17b0",
   "metadata": {},
   "outputs": [
    {
     "data": {
      "text/plain": [
       "15284"
      ]
     },
     "execution_count": 8,
     "metadata": {},
     "output_type": "execute_result"
    }
   ],
   "source": [
    "rows_dubl = data[['object_name', 'chain', 'object_type', 'address', 'number']].duplicated()\n",
    "data = data.loc[~rows_dubl]\n",
    "len(data)"
   ]
  },
  {
   "cell_type": "markdown",
   "id": "01445768",
   "metadata": {},
   "source": [
    "## Анализ данных\n",
    "### Исследование соотношения видов объектов общественного питания по количеству"
   ]
  },
  {
   "cell_type": "code",
   "execution_count": 9,
   "id": "b581ce5f",
   "metadata": {},
   "outputs": [
    {
     "data": {
      "text/html": [
       "<div>\n",
       "<style scoped>\n",
       "    .dataframe tbody tr th:only-of-type {\n",
       "        vertical-align: middle;\n",
       "    }\n",
       "\n",
       "    .dataframe tbody tr th {\n",
       "        vertical-align: top;\n",
       "    }\n",
       "\n",
       "    .dataframe thead th {\n",
       "        text-align: right;\n",
       "    }\n",
       "</style>\n",
       "<table border=\"1\" class=\"dataframe\">\n",
       "  <thead>\n",
       "    <tr style=\"text-align: right;\">\n",
       "      <th></th>\n",
       "      <th>object_type</th>\n",
       "      <th>object_count</th>\n",
       "      <th>percent</th>\n",
       "    </tr>\n",
       "  </thead>\n",
       "  <tbody>\n",
       "    <tr>\n",
       "      <th>3</th>\n",
       "      <td>кафе</td>\n",
       "      <td>6071</td>\n",
       "      <td>39.72</td>\n",
       "    </tr>\n",
       "    <tr>\n",
       "      <th>8</th>\n",
       "      <td>столовая</td>\n",
       "      <td>2584</td>\n",
       "      <td>16.91</td>\n",
       "    </tr>\n",
       "    <tr>\n",
       "      <th>7</th>\n",
       "      <td>ресторан</td>\n",
       "      <td>2282</td>\n",
       "      <td>14.93</td>\n",
       "    </tr>\n",
       "    <tr>\n",
       "      <th>6</th>\n",
       "      <td>предприятие быстрого обслуживания</td>\n",
       "      <td>1898</td>\n",
       "      <td>12.42</td>\n",
       "    </tr>\n",
       "    <tr>\n",
       "      <th>0</th>\n",
       "      <td>бар</td>\n",
       "      <td>855</td>\n",
       "      <td>5.59</td>\n",
       "    </tr>\n",
       "    <tr>\n",
       "      <th>1</th>\n",
       "      <td>буфет</td>\n",
       "      <td>577</td>\n",
       "      <td>3.78</td>\n",
       "    </tr>\n",
       "    <tr>\n",
       "      <th>4</th>\n",
       "      <td>кафетерий</td>\n",
       "      <td>395</td>\n",
       "      <td>2.58</td>\n",
       "    </tr>\n",
       "    <tr>\n",
       "      <th>2</th>\n",
       "      <td>закусочная</td>\n",
       "      <td>349</td>\n",
       "      <td>2.28</td>\n",
       "    </tr>\n",
       "    <tr>\n",
       "      <th>5</th>\n",
       "      <td>магазин (отдел кулинарии)</td>\n",
       "      <td>273</td>\n",
       "      <td>1.79</td>\n",
       "    </tr>\n",
       "  </tbody>\n",
       "</table>\n",
       "</div>"
      ],
      "text/plain": [
       "                         object_type  object_count  percent\n",
       "3                               кафе          6071    39.72\n",
       "8                           столовая          2584    16.91\n",
       "7                           ресторан          2282    14.93\n",
       "6  предприятие быстрого обслуживания          1898    12.42\n",
       "0                                бар           855     5.59\n",
       "1                              буфет           577     3.78\n",
       "4                          кафетерий           395     2.58\n",
       "2                         закусочная           349     2.28\n",
       "5          магазин (отдел кулинарии)           273     1.79"
      ]
     },
     "execution_count": 9,
     "metadata": {},
     "output_type": "execute_result"
    }
   ],
   "source": [
    "types = data.groupby(['object_type'], as_index=False).agg(\n",
    "    object_count=('id', 'count')).sort_values(by='object_count', ascending=False)\n",
    "types['percent'] = round(\n",
    "    types['object_count'] / types['object_count'].sum() * 100, 2)\n",
    "types "
   ]
  },
  {
   "cell_type": "code",
   "execution_count": 10,
   "id": "587e37e1",
   "metadata": {},
   "outputs": [
    {
     "data": {
      "image/png": "[encoded data removed]",
      "text/plain": [
       "<Figure size 576x396 with 1 Axes>"
      ]
     },
     "metadata": {},
     "output_type": "display_data"
    }
   ],
   "source": [
    "plt.style.use('seaborn')\n",
    "ax = sns.barplot(x='percent', y='object_type', \n",
    "                 data=types, color='darkblue',\n",
    "                 errwidth=0)\n",
    "plt.yticks(fontsize=15)\n",
    "plt.xticks(fontsize=15)\n",
    "plt.title('Доли в % каждого типа заведения на рынке Москвы', fontsize=20)\n",
    "plt.xlabel('', fontsize=16)\n",
    "plt.ylabel('')\n",
    "ax.axes.xaxis.set_visible(False)\n",
    "ax.set_facecolor('w')\n",
    "for i in ax.containers:\n",
    "    ax.bar_label(i, fontsize=15)"
   ]
  },
  {
   "cell_type": "markdown",
   "id": "ad930f8a",
   "metadata": {},
   "source": [
    "Из графиков ясно видно, самым распространёнными заведениями общепита являются кафе."
   ]
  },
  {
   "cell_type": "markdown",
   "id": "87c925fe",
   "metadata": {},
   "source": [
    "### Исследование соотношение сетевых и несетевых заведений по количеству"
   ]
  },
  {
   "cell_type": "code",
   "execution_count": 11,
   "id": "ecffe968",
   "metadata": {},
   "outputs": [],
   "source": [
    "type_obj = data.chain.value_counts()\n",
    "type_obj = 100 * type_obj/len(data)\n",
    "type_obj = type_obj.reset_index()\n",
    "type_obj['index'] = ['Процент несетевых заведений', 'Процент сетевых заведений']\n",
    "type_obj.chain = type_obj.chain.apply(lambda x: round(x, 1))"
   ]
  },
  {
   "cell_type": "code",
   "execution_count": 12,
   "id": "927d8b4d",
   "metadata": {},
   "outputs": [
    {
     "data": {
      "image/png": "[encoded data removed]",
      "text/plain": [
       "<Figure size 576x396 with 1 Axes>"
      ]
     },
     "metadata": {},
     "output_type": "display_data"
    }
   ],
   "source": [
    "plt.style.use('seaborn')\n",
    "ax = sns.barplot(x='index', y='chain',\n",
    "                 data=type_obj,\n",
    "                 errwidth=0)\n",
    "\n",
    "plt.xticks(fontsize=15)\n",
    "plt.title('Распределения долей сетевых и несетевых заведений', fontsize=15)\n",
    "plt.xlabel(' ')\n",
    "ax.axes.yaxis.set_visible(False)\n",
    "ax.set_facecolor('w')\n",
    "for i in ax.containers:\n",
    "    ax.bar_label(i, fontsize=15)"
   ]
  },
  {
   "cell_type": "code",
   "execution_count": 13,
   "id": "ea536ddb",
   "metadata": {},
   "outputs": [
    {
     "data": {
      "text/plain": [
       "нет    80.607171\n",
       "да     19.392829\n",
       "Name: chain, dtype: float64"
      ]
     },
     "metadata": {},
     "output_type": "display_data"
    },
    {
     "data": {
      "image/png": "[encoded data removed]",
      "text/plain": [
       "<Figure size 576x396 with 1 Axes>"
      ]
     },
     "metadata": {},
     "output_type": "display_data"
    }
   ],
   "source": [
    "type_obj = data.chain.value_counts()\n",
    "type_obj = 100 * type_obj/len(data) \n",
    "display(type_obj)\n",
    "plt.bar(type_obj.index, type_obj )\n",
    "plt.xticks(fontsize=13)\n",
    "plt.yticks(fontsize=13)\n",
    "plt.title('Распределения долей сетевых и несетевых заведений', fontsize=20)\n",
    "plt.show()"
   ]
  },
  {
   "cell_type": "markdown",
   "id": "54b11c45",
   "metadata": {},
   "source": [
    "Из графика выше видим:\n",
    "- несетевых заведений абсолютное большинство\n",
    "- доля сетевых заведений менее 20%"
   ]
  },
  {
   "cell_type": "markdown",
   "id": "1f8d713a",
   "metadata": {},
   "source": [
    "### Вид объекта общественного питания для которого характерно сетевое распространение"
   ]
  },
  {
   "cell_type": "code",
   "execution_count": 14,
   "id": "aea04995",
   "metadata": {},
   "outputs": [],
   "source": [
    "points = data.groupby('object_type')['id'].count().reset_index().rename(columns={'id': 'all_points'})\n",
    "#webs.all_points = 100\n",
    "web = data.query('chain == \"да\"').groupby('object_type')['id'].count().reset_index().rename(columns={'id': 'web_points'})\n",
    "points = points.merge(web, on='object_type')\n",
    "points['all_p'] = 100 \n",
    "points['web_points_p'] = 100 * points.web_points / points.all_points\n",
    "points = points.sort_values(by='web_points_p')\n"
   ]
  },
  {
   "cell_type": "code",
   "execution_count": 15,
   "id": "ad2672e0",
   "metadata": {},
   "outputs": [
    {
     "data": {
      "image/png": "[encoded data removed]",
      "text/plain": [
       "<Figure size 576x396 with 1 Axes>"
      ]
     },
     "metadata": {},
     "output_type": "display_data"
    }
   ],
   "source": [
    "plt.style.use('seaborn')\n",
    "sns.set(rc={'axes.facecolor':'white'})\n",
    "bar1 = sns.barplot(x='all_p',  y=\"object_type\", data=points, color='lightblue')\n",
    "bar1 = sns.barplot(x='web_points_p',  y=\"object_type\", data=points, color='darkblue')\n",
    "plt.xticks(fontsize=15)\n",
    "plt.yticks(fontsize=15)\n",
    "plt.title('Доли сетевых и несетевых заведений по типам заведений', fontsize=20)\n",
    "plt.xlabel('')\n",
    "plt.ylabel('')\n",
    "top_bar = mpatches.Patch(color='darkblue', label='сетевые заведения')\n",
    "bottom_bar = mpatches.Patch(color='lightblue', label='несетевые заведения')\n",
    "plt.legend(loc='center left', bbox_to_anchor=(1, 0.5), handles=[top_bar, bottom_bar], fontsize=13)\n",
    "plt.show()"
   ]
  },
  {
   "cell_type": "markdown",
   "id": "17c2441f",
   "metadata": {},
   "source": [
    "Из графика выше видим:\n",
    "\n",
    "- сетевое распространение наиболее характерно для предприятий быстрого обслуживания\n",
    "- почти не бывает сетевых столовых\n"
   ]
  },
  {
   "cell_type": "markdown",
   "id": "3b85c698",
   "metadata": {},
   "source": [
    "### Анализ сетевых заведений \n",
    "\n",
    "Некоторые точки всего одни в сети. Попытаемся вычислить к какой сети они принадлежат:"
   ]
  },
  {
   "cell_type": "code",
   "execution_count": 16,
   "id": "70486fc1",
   "metadata": {},
   "outputs": [],
   "source": [
    "web = data.query('chain == \"да\"')\n",
    "web = web.groupby('object_name').agg(\n",
    "    mean_number_seats=('number', np.mean),\n",
    "    size_web=('object_name', 'count'))"
   ]
  },
  {
   "cell_type": "code",
   "execution_count": 17,
   "id": "a42755c7",
   "metadata": {},
   "outputs": [
    {
     "data": {
      "image/png": "[encoded data removed]",
      "text/plain": [
       "<Figure size 432x432 with 3 Axes>"
      ]
     },
     "metadata": {},
     "output_type": "display_data"
    }
   ],
   "source": [
    "sns.jointplot(x='size_web', y='mean_number_seats', data=web, alpha=0.2).set_axis_labels('количество заведений', 'среднее количество мест в заведении', fontsize=15)\n",
    "plt.title('Зависимость числа мест \\n от количества заведений в сети', fontsize=20, y=1.2, x=-3)\n",
    "plt.show()"
   ]
  },
  {
   "cell_type": "markdown",
   "id": "9c945732",
   "metadata": {},
   "source": [
    "Большинство сетей содержат мало заведений с небольшим количеством мест. О количестве мест говорит гистограмма справа: наибольшие столбцы на 20-30 мест. Количество заведение в сети: до 5 (наибольший столбик на верхней гистограмме). Наиболее тёмное пятно на scatter plot подтверждает эти выводы."
   ]
  },
  {
   "cell_type": "code",
   "execution_count": 18,
   "id": "1d7ee778",
   "metadata": {},
   "outputs": [
    {
     "name": "stderr",
     "output_type": "stream",
     "text": [
      "C:\\Users\\Azat\\AppData\\Local\\Temp\\ipykernel_12428\\3208901622.py:20: SettingWithCopyWarning: \n",
      "A value is trying to be set on a copy of a slice from a DataFrame.\n",
      "Try using .loc[row_indexer,col_indexer] = value instead\n",
      "\n",
      "See the caveats in the documentation: https://pandas.pydata.org/pandas-docs/stable/user_guide/indexing.html#returning-a-view-versus-a-copy\n",
      "  webs.object_name = webs.object_name.apply(get_from_quotes)\n",
      "C:\\Users\\Azat\\AppData\\Local\\Temp\\ipykernel_12428\\3208901622.py:21: SettingWithCopyWarning: \n",
      "A value is trying to be set on a copy of a slice from a DataFrame.\n",
      "Try using .loc[row_indexer,col_indexer] = value instead\n",
      "\n",
      "See the caveats in the documentation: https://pandas.pydata.org/pandas-docs/stable/user_guide/indexing.html#returning-a-view-versus-a-copy\n",
      "  webs.object_name = webs.object_name.apply(delete_type)\n"
     ]
    }
   ],
   "source": [
    "def delete_type(x):\n",
    "    types = ['КАФЕ', 'РЕСТОРАН']\n",
    "    for type_obj in types:\n",
    "        if type_obj in x:\n",
    "            return x.replace(type_obj, '').rstrip().lstrip()\n",
    "        else:\n",
    "            return x\n",
    "\n",
    "def get_from_quotes(x):\n",
    "    '''Обработка названий заведений.\n",
    "    Остаётся только название, без типа заведения'''\n",
    "    x = x.upper()\n",
    "\n",
    "    if '«' in x:\n",
    "        return x[(x.find('«') + 1):x.rfind('»')]\n",
    "    else:\n",
    "        return x\n",
    "\n",
    "webs = data.query('chain == \"да\"')\n",
    "webs.object_name = webs.object_name.apply(get_from_quotes)\n",
    "webs.object_name = webs.object_name.apply(delete_type)\n",
    "webs = webs.groupby('object_name').agg(\n",
    "    all_seats=('number', 'sum'),\n",
    "    size_web=('object_name', 'count'),\n",
    "    type_obj = ('object_type', 'first'),\n",
    "    ratio = ('number', 'mean'))\n"
   ]
  },
  {
   "cell_type": "code",
   "execution_count": 19,
   "id": "6313e4b3",
   "metadata": {},
   "outputs": [
    {
     "data": {
      "text/html": [
       "<style type=\"text/css\">\n",
       "#T_55ed7_row0_col0 {\n",
       "  background-color: #ecdadb;\n",
       "  color: #000000;\n",
       "}\n",
       "#T_55ed7_row0_col1, #T_55ed7_row3_col0, #T_55ed7_row4_col2 {\n",
       "  background-color: #f2f0f0;\n",
       "  color: #000000;\n",
       "}\n",
       "#T_55ed7_row0_col2 {\n",
       "  background-color: #e4c0c1;\n",
       "  color: #000000;\n",
       "}\n",
       "#T_55ed7_row1_col0 {\n",
       "  background-color: #f1eeee;\n",
       "  color: #000000;\n",
       "}\n",
       "#T_55ed7_row1_col1 {\n",
       "  background-color: #e2b8ba;\n",
       "  color: #000000;\n",
       "}\n",
       "#T_55ed7_row1_col2 {\n",
       "  background-color: #f1ecec;\n",
       "  color: #000000;\n",
       "}\n",
       "#T_55ed7_row2_col0 {\n",
       "  background-color: #dfafb1;\n",
       "  color: #000000;\n",
       "}\n",
       "#T_55ed7_row2_col1 {\n",
       "  background-color: #da9a9c;\n",
       "  color: #f1f1f1;\n",
       "}\n",
       "#T_55ed7_row2_col2 {\n",
       "  background-color: #e2b8b9;\n",
       "  color: #000000;\n",
       "}\n",
       "#T_55ed7_row3_col1 {\n",
       "  background-color: #f1eded;\n",
       "  color: #000000;\n",
       "}\n",
       "#T_55ed7_row3_col2 {\n",
       "  background-color: #f1efef;\n",
       "  color: #000000;\n",
       "}\n",
       "#T_55ed7_row4_col0 {\n",
       "  background-color: #efe5e6;\n",
       "  color: #000000;\n",
       "}\n",
       "#T_55ed7_row4_col1 {\n",
       "  background-color: #ca6266;\n",
       "  color: #f1f1f1;\n",
       "}\n",
       "#T_55ed7_row5_col0 {\n",
       "  background-color: #ebd8d9;\n",
       "  color: #000000;\n",
       "}\n",
       "#T_55ed7_row5_col1, #T_55ed7_row6_col0, #T_55ed7_row6_col2 {\n",
       "  background-color: #c44e52;\n",
       "  color: #f1f1f1;\n",
       "}\n",
       "#T_55ed7_row5_col2 {\n",
       "  background-color: #ecddde;\n",
       "  color: #000000;\n",
       "}\n",
       "#T_55ed7_row6_col1 {\n",
       "  background-color: #e1b4b5;\n",
       "  color: #000000;\n",
       "}\n",
       "</style>\n",
       "<table id=\"T_55ed7\">\n",
       "  <thead>\n",
       "    <tr>\n",
       "      <th class=\"blank level0\" >&nbsp;</th>\n",
       "      <th id=\"T_55ed7_level0_col0\" class=\"col_heading level0 col0\" >usual_number_seats</th>\n",
       "      <th id=\"T_55ed7_level0_col1\" class=\"col_heading level0 col1\" >usual_size_web</th>\n",
       "      <th id=\"T_55ed7_level0_col2\" class=\"col_heading level0 col2\" >usual_ratio</th>\n",
       "    </tr>\n",
       "    <tr>\n",
       "      <th class=\"index_name level0\" >type_obj</th>\n",
       "      <th class=\"blank col0\" >&nbsp;</th>\n",
       "      <th class=\"blank col1\" >&nbsp;</th>\n",
       "      <th class=\"blank col2\" >&nbsp;</th>\n",
       "    </tr>\n",
       "  </thead>\n",
       "  <tbody>\n",
       "    <tr>\n",
       "      <th id=\"T_55ed7_level0_row0\" class=\"row_heading level0 row0\" >бар</th>\n",
       "      <td id=\"T_55ed7_row0_col0\" class=\"data row0 col0\" >41.000000</td>\n",
       "      <td id=\"T_55ed7_row0_col1\" class=\"data row0 col1\" >1.071429</td>\n",
       "      <td id=\"T_55ed7_row0_col2\" class=\"data row0 col2\" >41.714286</td>\n",
       "    </tr>\n",
       "    <tr>\n",
       "      <th id=\"T_55ed7_level0_row1\" class=\"row_heading level0 row1\" >закусочная</th>\n",
       "      <td id=\"T_55ed7_row1_col0\" class=\"data row1 col0\" >22.500000</td>\n",
       "      <td id=\"T_55ed7_row1_col1\" class=\"data row1 col1\" >5.000000</td>\n",
       "      <td id=\"T_55ed7_row1_col2\" class=\"data row1 col2\" >16.375000</td>\n",
       "    </tr>\n",
       "    <tr>\n",
       "      <th id=\"T_55ed7_level0_row2\" class=\"row_heading level0 row2\" >кафе</th>\n",
       "      <td id=\"T_55ed7_row2_col0\" class=\"data row2 col0\" >80.000000</td>\n",
       "      <td id=\"T_55ed7_row2_col1\" class=\"data row2 col1\" >7.063415</td>\n",
       "      <td id=\"T_55ed7_row2_col2\" class=\"data row2 col2\" >46.472955</td>\n",
       "    </tr>\n",
       "    <tr>\n",
       "      <th id=\"T_55ed7_level0_row3\" class=\"row_heading level0 row3\" >кафетерий</th>\n",
       "      <td id=\"T_55ed7_row3_col0\" class=\"data row3 col0\" >20.000000</td>\n",
       "      <td id=\"T_55ed7_row3_col1\" class=\"data row3 col1\" >1.333333</td>\n",
       "      <td id=\"T_55ed7_row3_col2\" class=\"data row3 col2\" >14.833333</td>\n",
       "    </tr>\n",
       "    <tr>\n",
       "      <th id=\"T_55ed7_level0_row4\" class=\"row_heading level0 row4\" >магазин (отдел кулинарии)</th>\n",
       "      <td id=\"T_55ed7_row4_col0\" class=\"data row4 col0\" >30.000000</td>\n",
       "      <td id=\"T_55ed7_row4_col1\" class=\"data row4 col1\" >11.000000</td>\n",
       "      <td id=\"T_55ed7_row4_col2\" class=\"data row4 col2\" >13.767161</td>\n",
       "    </tr>\n",
       "    <tr>\n",
       "      <th id=\"T_55ed7_level0_row5\" class=\"row_heading level0 row5\" >предприятие быстрого обслуживания</th>\n",
       "      <td id=\"T_55ed7_row5_col0\" class=\"data row5 col0\" >42.500000</td>\n",
       "      <td id=\"T_55ed7_row5_col1\" class=\"data row5 col1\" >12.428571</td>\n",
       "      <td id=\"T_55ed7_row5_col2\" class=\"data row5 col2\" >24.700466</td>\n",
       "    </tr>\n",
       "    <tr>\n",
       "      <th id=\"T_55ed7_level0_row6\" class=\"row_heading level0 row6\" >ресторан</th>\n",
       "      <td id=\"T_55ed7_row6_col0\" class=\"data row6 col0\" >170.000000</td>\n",
       "      <td id=\"T_55ed7_row6_col1\" class=\"data row6 col1\" >5.302521</td>\n",
       "      <td id=\"T_55ed7_row6_col2\" class=\"data row6 col2\" >106.920279</td>\n",
       "    </tr>\n",
       "  </tbody>\n",
       "</table>\n"
      ],
      "text/plain": [
       "<pandas.io.formats.style.Styler at 0x299667e5e80>"
      ]
     },
     "execution_count": 19,
     "metadata": {},
     "output_type": "execute_result"
    }
   ],
   "source": [
    "gr_webs = webs.groupby('type_obj').agg(\n",
    "    usual_number_seats=('all_seats', 'median'),\n",
    "    usual_size_web=('size_web', 'mean'),\n",
    "    usual_ratio = ('ratio', 'mean')\n",
    ")\n",
    "cm = sns.light_palette(\"r\", as_cmap=True)\n",
    "gr_webs.style.background_gradient(cmap=cm)"
   ]
  },
  {
   "cell_type": "code",
   "execution_count": 20,
   "id": "cc7ce463",
   "metadata": {},
   "outputs": [
    {
     "data": {
      "image/png": "[encoded data removed]",
      "text/plain": [
       "<Figure size 576x396 with 1 Axes>"
      ]
     },
     "metadata": {},
     "output_type": "display_data"
    }
   ],
   "source": [
    "sns.stripplot(x='ratio', y='type_obj', data=webs)\n",
    "plt.xticks(fontsize=15)\n",
    "plt.yticks(fontsize=15)\n",
    "# plt.title('Cоотношение видов объектов общественного питания', fontsize=20)\n",
    "plt.xlabel('Средние число посадочных мест в сети', fontsize=16)\n",
    "plt.ylabel('Сети', fontsize=16)\n",
    "plt.show()"
   ]
  },
  {
   "cell_type": "markdown",
   "id": "8bfeecb1",
   "metadata": {},
   "source": [
    "Из графика и таблицы выше, делаю следующие выводы:\n",
    "\n",
    "    1. Большинство ресторанов входит в небольшие сети, при этом обычно содержат больше всего мест \n",
    "    2. Закусочные, кафетерии и магазины (отделы кулинарии) имеют не большие сети с малым числом мест\n",
    "    3. Предприятия быстрого обслуживания имеют крупные сети и среднее число мест.\n",
    "    4. Бары имеют маленькие сети со средним числом посадочных мест\n",
    "    5. Кафе объеденены в крупные сети с немаленьким числом мест."
   ]
  },
  {
   "cell_type": "markdown",
   "id": "0a6bbe62",
   "metadata": {},
   "source": [
    "### Cреднее количество посадочных мест по видам объектов общественного питания."
   ]
  },
  {
   "cell_type": "code",
   "execution_count": 21,
   "id": "204d6aad",
   "metadata": {},
   "outputs": [
    {
     "data": {
      "image/png": "[encoded data removed]",
      "text/plain": [
       "<Figure size 576x396 with 1 Axes>"
      ]
     },
     "metadata": {},
     "output_type": "display_data"
    }
   ],
   "source": [
    "order = data.groupby('object_type')['number'].mean().sort_values()\n",
    "plt.style.use('tableau-colorblind10')\n",
    "sns.barplot(x='number', y='object_type', data=data, color='darkblue', order=order.index, ci=None) \n",
    "plt.xticks(fontsize=13)\n",
    "plt.yticks(fontsize=13)\n",
    "plt.title('Среднее количество мест по типам заведений', fontsize=20)\n",
    "plt.ylabel('', fontsize=16)\n",
    "plt.xlabel('Среднее количество мест', fontsize=16)\n",
    "plt.show()"
   ]
  },
  {
   "cell_type": "markdown",
   "id": "21829026",
   "metadata": {},
   "source": [
    "Из графика выше следует, что столовые предоставляют наибольшее число посадочных мест."
   ]
  },
  {
   "cell_type": "markdown",
   "id": "67c92f46",
   "metadata": {},
   "source": [
    "### Выделите в отдельный столбец информацию об улице из столбца address ."
   ]
  },
  {
   "cell_type": "code",
   "execution_count": 22,
   "id": "146e46f0",
   "metadata": {},
   "outputs": [],
   "source": [
    "# создадим функцию, которая оставлеят только название улицы от адреса\n",
    "def get_street(x):\n",
    "    part = x.split(',', 4)[1:]\n",
    "    for substr in part:\n",
    "        if 'улица' in substr or 'переулок' in substr or 'шоссе' in substr or 'проспект' in substr or 'площадь' in substr or 'проезд' in substr or 'Проезд' in substr or 'аллея' in substr or 'бульвар' in substr or 'набережная' in substr or 'тупик' in substr or 'линия' in substr:\n",
    "            return substr.lstrip()"
   ]
  },
  {
   "cell_type": "code",
   "execution_count": 23,
   "id": "4bda859c",
   "metadata": {},
   "outputs": [],
   "source": [
    "data['street'] = data['address'].apply(get_street)"
   ]
  },
  {
   "cell_type": "markdown",
   "id": "8c74e4ef",
   "metadata": {},
   "source": [
    "### Топ-10 улиц по количеству объектов общественного питания. "
   ]
  },
  {
   "cell_type": "code",
   "execution_count": 24,
   "id": "49e4ffa7",
   "metadata": {},
   "outputs": [
    {
     "data": {
      "image/png": "[encoded data removed]",
      "text/plain": [
       "<Figure size 576x396 with 1 Axes>"
      ]
     },
     "metadata": {},
     "output_type": "display_data"
    }
   ],
   "source": [
    "ten_st = data.street.value_counts().reset_index().head(10)\n",
    "sns.barplot(x='street', y='index', data=ten_st.sort_values(by='street'), color=\"darkblue\") \n",
    "plt.xticks(fontsize=13)\n",
    "plt.yticks(fontsize=13)\n",
    "# plt.title('Количество объектов на улицах топ-10', fontsize=20)\n",
    "plt.xlabel('Количество объектов', fontsize=16)\n",
    "plt.ylabel('', fontsize=16)\n",
    "plt.xlim(100, 220)\n",
    "plt.show()"
   ]
  },
  {
   "cell_type": "markdown",
   "id": "22276f4b",
   "metadata": {},
   "source": [
    "Исследовав википедию, составил следующие списки:"
   ]
  },
  {
   "cell_type": "code",
   "execution_count": 25,
   "id": "163ecd3b",
   "metadata": {},
   "outputs": [
    {
     "data": {
      "text/plain": [
       "Обручевский              3\n",
       "Донской                  2\n",
       "Нагорный                 2\n",
       "Чертаново Северное       2\n",
       "Чертаново Центральное    2\n",
       "Чертаново Южное          2\n",
       "Тёплый Стан              2\n",
       "Нагатино-Садовники       2\n",
       "Гагаринский              2\n",
       "Ломоносовский            2\n",
       "Проспект Вернадского     2\n",
       "Якиманка                 1\n",
       "dtype: int64"
      ]
     },
     "execution_count": 25,
     "metadata": {},
     "output_type": "execute_result"
    }
   ],
   "source": [
    "mir = ['Мещанский', 'Марьина Роща', 'Алексеевский', 'Останкинский', 'Свиблово', 'Ростокино']\n",
    "prof = ['Академический', 'Коньково', 'Обручевский', 'Тёплый Стан', 'Черёмушки', 'Ясенево']\n",
    "lengrad = ['Беговой', 'Аэропорт', 'Сокол', 'Хорошёвский']\n",
    "pres = ['Москва-сити']\n",
    "varshav = ['Донской', 'Нагатино-Садовники', 'Нагорный', 'Чертаново Северное', 'Чертаново Центральное', 'Чертаново Южное', 'Северное Бутово', 'Южное Бутово']\n",
    "lenin = ['Якиманка', 'Донской', 'Гагаринский', 'Ломоносовский', 'Обручевский', 'Тёплый Стан', 'Проспект Вернадского', 'Тропарёво-Никулино']\n",
    "vern = ['Гагаринский', 'Ломоносовский', 'Обручевский', 'Проспект Вернадского']\n",
    "kutuz = ['Дорогомилово', 'Фили-Давыдково']\n",
    "kashir = ['Нагатино-Садовники', 'Нагорный']\n",
    "kirov = ['Чертаново Северное', 'Чертаново Центральное', 'Чертаново Южное']\n",
    "\n",
    "districts = mir + prof + lengrad + pres + varshav + lenin + vern + kutuz + kashir + kirov\n",
    "pd.Series(data=districts).value_counts(ascending=False).head(12)"
   ]
  },
  {
   "cell_type": "markdown",
   "id": "3bdbce3d",
   "metadata": {},
   "source": [
    "### Районы Москвы с улицами на которых есть только одно заведение общественного питания."
   ]
  },
  {
   "cell_type": "markdown",
   "id": "b692c1ea",
   "metadata": {},
   "source": [
    "Получим список улиц с одним заведением:"
   ]
  },
  {
   "cell_type": "code",
   "execution_count": 26,
   "id": "9a1304f9",
   "metadata": {},
   "outputs": [
    {
     "data": {
      "text/html": [
       "<div>\n",
       "<style scoped>\n",
       "    .dataframe tbody tr th:only-of-type {\n",
       "        vertical-align: middle;\n",
       "    }\n",
       "\n",
       "    .dataframe tbody tr th {\n",
       "        vertical-align: top;\n",
       "    }\n",
       "\n",
       "    .dataframe thead th {\n",
       "        text-align: right;\n",
       "    }\n",
       "</style>\n",
       "<table border=\"1\" class=\"dataframe\">\n",
       "  <thead>\n",
       "    <tr style=\"text-align: right;\">\n",
       "      <th></th>\n",
       "      <th>street</th>\n",
       "      <th>id</th>\n",
       "    </tr>\n",
       "  </thead>\n",
       "  <tbody>\n",
       "    <tr>\n",
       "      <th>2</th>\n",
       "      <td>1-й Балтийский переулок</td>\n",
       "      <td>1</td>\n",
       "    </tr>\n",
       "    <tr>\n",
       "      <th>3</th>\n",
       "      <td>1-й Басманный переулок</td>\n",
       "      <td>1</td>\n",
       "    </tr>\n",
       "    <tr>\n",
       "      <th>4</th>\n",
       "      <td>1-й Ботанический проезд</td>\n",
       "      <td>1</td>\n",
       "    </tr>\n",
       "    <tr>\n",
       "      <th>7</th>\n",
       "      <td>1-й Вешняковский проезд</td>\n",
       "      <td>1</td>\n",
       "    </tr>\n",
       "    <tr>\n",
       "      <th>9</th>\n",
       "      <td>1-й Голутвинский переулок</td>\n",
       "      <td>1</td>\n",
       "    </tr>\n",
       "    <tr>\n",
       "      <th>...</th>\n",
       "      <td>...</td>\n",
       "      <td>...</td>\n",
       "    </tr>\n",
       "    <tr>\n",
       "      <th>1882</th>\n",
       "      <td>улица Шумилова</td>\n",
       "      <td>1</td>\n",
       "    </tr>\n",
       "    <tr>\n",
       "      <th>1883</th>\n",
       "      <td>улица Шумкина</td>\n",
       "      <td>1</td>\n",
       "    </tr>\n",
       "    <tr>\n",
       "      <th>1887</th>\n",
       "      <td>улица Щорса</td>\n",
       "      <td>1</td>\n",
       "    </tr>\n",
       "    <tr>\n",
       "      <th>1888</th>\n",
       "      <td>улица Энгельса</td>\n",
       "      <td>1</td>\n",
       "    </tr>\n",
       "    <tr>\n",
       "      <th>1893</th>\n",
       "      <td>шоссе Фрезер</td>\n",
       "      <td>1</td>\n",
       "    </tr>\n",
       "  </tbody>\n",
       "</table>\n",
       "<p>550 rows × 2 columns</p>\n",
       "</div>"
      ],
      "text/plain": [
       "                         street  id\n",
       "2       1-й Балтийский переулок   1\n",
       "3        1-й Басманный переулок   1\n",
       "4       1-й Ботанический проезд   1\n",
       "7       1-й Вешняковский проезд   1\n",
       "9     1-й Голутвинский переулок   1\n",
       "...                         ...  ..\n",
       "1882             улица Шумилова   1\n",
       "1883              улица Шумкина   1\n",
       "1887                улица Щорса   1\n",
       "1888             улица Энгельса   1\n",
       "1893               шоссе Фрезер   1\n",
       "\n",
       "[550 rows x 2 columns]"
      ]
     },
     "execution_count": 26,
     "metadata": {},
     "output_type": "execute_result"
    }
   ],
   "source": [
    "small = data.groupby('street')['id'].count()\n",
    "small = small.reset_index()\n",
    "small.loc[small['id']==1]"
   ]
  },
  {
   "cell_type": "markdown",
   "id": "0e2406be",
   "metadata": {},
   "source": [
    "Для определения районов нам понадобятся датасеты из источнков [1], [2]. Загрузим их и уберём ненужную информацию:"
   ]
  },
  {
   "cell_type": "markdown",
   "id": "9d3475cd",
   "metadata": {},
   "source": [
    "Создадим таблицу с указанием района для каждой улицы:"
   ]
  },
  {
   "cell_type": "code",
   "execution_count": 27,
   "id": "4696be4b",
   "metadata": {},
   "outputs": [
    {
     "data": {
      "text/html": [
       "<div>\n",
       "<style scoped>\n",
       "    .dataframe tbody tr th:only-of-type {\n",
       "        vertical-align: middle;\n",
       "    }\n",
       "\n",
       "    .dataframe tbody tr th {\n",
       "        vertical-align: top;\n",
       "    }\n",
       "\n",
       "    .dataframe thead th {\n",
       "        text-align: right;\n",
       "    }\n",
       "</style>\n",
       "<table border=\"1\" class=\"dataframe\">\n",
       "  <thead>\n",
       "    <tr style=\"text-align: right;\">\n",
       "      <th></th>\n",
       "      <th>Полное наименование</th>\n",
       "      <th>Сокращённое наименование</th>\n",
       "      <th>Код</th>\n",
       "      <th>Транслитерация</th>\n",
       "      <th>Код вида</th>\n",
       "      <th>Код ОМК ТМ</th>\n",
       "      <th>Код ОМК ТЕ</th>\n",
       "      <th>Код КЛАДР</th>\n",
       "      <th>global_id</th>\n",
       "      <th>UM_NAMEF_en</th>\n",
       "      <th>UM_NAMES_en</th>\n",
       "      <th>UM_CODE_en</th>\n",
       "      <th>UM_TRANS_en</th>\n",
       "      <th>UM_TYPE_en</th>\n",
       "      <th>UM_TM_en</th>\n",
       "      <th>UM_TE_en</th>\n",
       "      <th>UM_KLADR_en</th>\n",
       "    </tr>\n",
       "  </thead>\n",
       "  <tbody>\n",
       "    <tr>\n",
       "      <th>0</th>\n",
       "      <td>1-й Ирининский переулок</td>\n",
       "      <td>1-й Ирининский пер.</td>\n",
       "      <td>8880</td>\n",
       "      <td>Pervy'j Irininskij pereulok</td>\n",
       "      <td>2</td>\n",
       "      <td>NaN</td>\n",
       "      <td>0102</td>\n",
       "      <td>77000000000706300</td>\n",
       "      <td>58481065</td>\n",
       "      <td>NaN</td>\n",
       "      <td>NaN</td>\n",
       "      <td>NaN</td>\n",
       "      <td>NaN</td>\n",
       "      <td>NaN</td>\n",
       "      <td>NaN</td>\n",
       "      <td>NaN</td>\n",
       "      <td>NaN</td>\n",
       "    </tr>\n",
       "    <tr>\n",
       "      <th>1</th>\n",
       "      <td>2-й Ирининский переулок</td>\n",
       "      <td>2-й Ирининский пер.</td>\n",
       "      <td>8890</td>\n",
       "      <td>Vtoroj Irininskij pereulok</td>\n",
       "      <td>2</td>\n",
       "      <td>NaN</td>\n",
       "      <td>0102</td>\n",
       "      <td>77000000000362200</td>\n",
       "      <td>58481066</td>\n",
       "      <td>NaN</td>\n",
       "      <td>NaN</td>\n",
       "      <td>NaN</td>\n",
       "      <td>NaN</td>\n",
       "      <td>NaN</td>\n",
       "      <td>NaN</td>\n",
       "      <td>NaN</td>\n",
       "      <td>NaN</td>\n",
       "    </tr>\n",
       "    <tr>\n",
       "      <th>2</th>\n",
       "      <td>3-й Ирининский переулок</td>\n",
       "      <td>3-й Ирининский пер.</td>\n",
       "      <td>8891</td>\n",
       "      <td>Tretij Irininskij pereulok</td>\n",
       "      <td>2</td>\n",
       "      <td>NaN</td>\n",
       "      <td>0102</td>\n",
       "      <td>77000000000362300</td>\n",
       "      <td>58481067</td>\n",
       "      <td>NaN</td>\n",
       "      <td>NaN</td>\n",
       "      <td>NaN</td>\n",
       "      <td>NaN</td>\n",
       "      <td>NaN</td>\n",
       "      <td>NaN</td>\n",
       "      <td>NaN</td>\n",
       "      <td>NaN</td>\n",
       "    </tr>\n",
       "    <tr>\n",
       "      <th>3</th>\n",
       "      <td>Иркутская улица</td>\n",
       "      <td>Иркутская ул.</td>\n",
       "      <td>8910</td>\n",
       "      <td>Irkutskaya ulicza</td>\n",
       "      <td>1</td>\n",
       "      <td>NaN</td>\n",
       "      <td>0406</td>\n",
       "      <td>77000000000139700</td>\n",
       "      <td>58481068</td>\n",
       "      <td>NaN</td>\n",
       "      <td>NaN</td>\n",
       "      <td>NaN</td>\n",
       "      <td>NaN</td>\n",
       "      <td>NaN</td>\n",
       "      <td>NaN</td>\n",
       "      <td>NaN</td>\n",
       "      <td>NaN</td>\n",
       "    </tr>\n",
       "    <tr>\n",
       "      <th>4</th>\n",
       "      <td>1-й Иртышский проезд</td>\n",
       "      <td>1-й Иртышский пр.</td>\n",
       "      <td>8920</td>\n",
       "      <td>Pervy'j Irty'shskij proezd</td>\n",
       "      <td>3</td>\n",
       "      <td>NaN</td>\n",
       "      <td>0406</td>\n",
       "      <td>77000000000331600</td>\n",
       "      <td>58481069</td>\n",
       "      <td>NaN</td>\n",
       "      <td>NaN</td>\n",
       "      <td>NaN</td>\n",
       "      <td>NaN</td>\n",
       "      <td>NaN</td>\n",
       "      <td>NaN</td>\n",
       "      <td>NaN</td>\n",
       "      <td>NaN</td>\n",
       "    </tr>\n",
       "  </tbody>\n",
       "</table>\n",
       "</div>"
      ],
      "text/plain": [
       "       Полное наименование Сокращённое наименование   Код  \\\n",
       "0  1-й Ирининский переулок      1-й Ирининский пер.  8880   \n",
       "1  2-й Ирининский переулок      2-й Ирининский пер.  8890   \n",
       "2  3-й Ирининский переулок      3-й Ирининский пер.  8891   \n",
       "3          Иркутская улица            Иркутская ул.  8910   \n",
       "4     1-й Иртышский проезд        1-й Иртышский пр.  8920   \n",
       "\n",
       "                Транслитерация  Код вида Код ОМК ТМ Код ОМК ТЕ  \\\n",
       "0  Pervy'j Irininskij pereulok         2        NaN       0102   \n",
       "1   Vtoroj Irininskij pereulok         2        NaN       0102   \n",
       "2   Tretij Irininskij pereulok         2        NaN       0102   \n",
       "3            Irkutskaya ulicza         1        NaN       0406   \n",
       "4   Pervy'j Irty'shskij proezd         3        NaN       0406   \n",
       "\n",
       "           Код КЛАДР  global_id  UM_NAMEF_en  UM_NAMES_en  UM_CODE_en  \\\n",
       "0  77000000000706300   58481065          NaN          NaN         NaN   \n",
       "1  77000000000362200   58481066          NaN          NaN         NaN   \n",
       "2  77000000000362300   58481067          NaN          NaN         NaN   \n",
       "3  77000000000139700   58481068          NaN          NaN         NaN   \n",
       "4  77000000000331600   58481069          NaN          NaN         NaN   \n",
       "\n",
       "   UM_TRANS_en  UM_TYPE_en  UM_TM_en  UM_TE_en  UM_KLADR_en  \n",
       "0          NaN         NaN       NaN       NaN          NaN  \n",
       "1          NaN         NaN       NaN       NaN          NaN  \n",
       "2          NaN         NaN       NaN       NaN          NaN  \n",
       "3          NaN         NaN       NaN       NaN          NaN  \n",
       "4          NaN         NaN       NaN       NaN          NaN  "
      ]
     },
     "metadata": {},
     "output_type": "display_data"
    },
    {
     "data": {
      "text/html": [
       "<div>\n",
       "<style scoped>\n",
       "    .dataframe tbody tr th:only-of-type {\n",
       "        vertical-align: middle;\n",
       "    }\n",
       "\n",
       "    .dataframe tbody tr th {\n",
       "        vertical-align: top;\n",
       "    }\n",
       "\n",
       "    .dataframe thead th {\n",
       "        text-align: right;\n",
       "    }\n",
       "</style>\n",
       "<table border=\"1\" class=\"dataframe\">\n",
       "  <thead>\n",
       "    <tr style=\"text-align: right;\">\n",
       "      <th></th>\n",
       "      <th>Kod</th>\n",
       "      <th>Name</th>\n",
       "      <th>global_id</th>\n",
       "      <th>Latin_name</th>\n",
       "      <th>Type</th>\n",
       "      <th>Kod_okato</th>\n",
       "    </tr>\n",
       "  </thead>\n",
       "  <tbody>\n",
       "    <tr>\n",
       "      <th>0</th>\n",
       "      <td>100</td>\n",
       "      <td>Центральный административный округ</td>\n",
       "      <td>58703558</td>\n",
       "      <td>Czentral`ny'j administrativny'j okrug</td>\n",
       "      <td>2</td>\n",
       "      <td>45286000</td>\n",
       "    </tr>\n",
       "    <tr>\n",
       "      <th>1</th>\n",
       "      <td>101</td>\n",
       "      <td>район Арбат</td>\n",
       "      <td>58703559</td>\n",
       "      <td>rajon Arbat</td>\n",
       "      <td>3</td>\n",
       "      <td>45286552</td>\n",
       "    </tr>\n",
       "    <tr>\n",
       "      <th>2</th>\n",
       "      <td>102</td>\n",
       "      <td>Басманный район</td>\n",
       "      <td>58703560</td>\n",
       "      <td>Basmanny'j rajon</td>\n",
       "      <td>3</td>\n",
       "      <td>45286555</td>\n",
       "    </tr>\n",
       "    <tr>\n",
       "      <th>3</th>\n",
       "      <td>103</td>\n",
       "      <td>район Замоскворечье</td>\n",
       "      <td>58703561</td>\n",
       "      <td>rajon Zamoskvorech`e</td>\n",
       "      <td>3</td>\n",
       "      <td>45286560</td>\n",
       "    </tr>\n",
       "    <tr>\n",
       "      <th>4</th>\n",
       "      <td>104</td>\n",
       "      <td>Красносельский район</td>\n",
       "      <td>58703562</td>\n",
       "      <td>Krasnosel`skij rajon</td>\n",
       "      <td>3</td>\n",
       "      <td>45286565</td>\n",
       "    </tr>\n",
       "  </tbody>\n",
       "</table>\n",
       "</div>"
      ],
      "text/plain": [
       "   Kod                                Name  global_id  \\\n",
       "0  100  Центральный административный округ   58703558   \n",
       "1  101                         район Арбат   58703559   \n",
       "2  102                     Басманный район   58703560   \n",
       "3  103                 район Замоскворечье   58703561   \n",
       "4  104                Красносельский район   58703562   \n",
       "\n",
       "                              Latin_name  Type  Kod_okato  \n",
       "0  Czentral`ny'j administrativny'j okrug     2   45286000  \n",
       "1                            rajon Arbat     3   45286552  \n",
       "2                       Basmanny'j rajon     3   45286555  \n",
       "3                   rajon Zamoskvorech`e     3   45286560  \n",
       "4                   Krasnosel`skij rajon     3   45286565  "
      ]
     },
     "metadata": {},
     "output_type": "display_data"
    }
   ],
   "source": [
    "spreadsheet_id_omk_um = '1f-Yh38qvZEYDq9WkIrg4SH9N_n8cFQbq6FXYnHlhYaA'\n",
    "file_name = 'https://docs.google.com/spreadsheets/d/{}/export?format=csv'.format(spreadsheet_id_omk_um)\n",
    "r = requests.get(file_name)\n",
    "omk_um = pd.read_csv(BytesIO(r.content), header=1)\n",
    "display(omk_um.head())\n",
    "\n",
    "spreadsheet_id_omk_te = '1yCCs3ODmiYsUYvfsUuy9RPg86ckWzMr5EcFYNogVwJc'\n",
    "file_name = 'https://docs.google.com/spreadsheets/d/{}/export?format=csv'.format(spreadsheet_id_omk_te)\n",
    "r = requests.get(file_name)\n",
    "omk_te = pd.read_csv(BytesIO(r.content))\n",
    "display(omk_te.head())\n"
   ]
  },
  {
   "cell_type": "code",
   "execution_count": 28,
   "id": "3b5a7c24",
   "metadata": {},
   "outputs": [],
   "source": [
    "omk_te = omk_te.iloc[:, :2]\n",
    "omk_um = omk_um.iloc[:, [0, 6]]"
   ]
  },
  {
   "cell_type": "code",
   "execution_count": 29,
   "id": "3c381908",
   "metadata": {},
   "outputs": [],
   "source": [
    "omk_te['Kod'] = omk_te.Kod.astype('str')\n",
    "omk_te['Kod'] = omk_te.Kod.apply(lambda x: '0' + x if len(x) == 3 else x)\n",
    "districts = omk_um.merge(omk_te, left_on='Код ОМК ТЕ', right_on='Kod')\n",
    "districts = districts.iloc[:, [0, 3]]\n",
    "districts.rename(columns={'Полное наименование': 'street'}, inplace=True)"
   ]
  },
  {
   "cell_type": "markdown",
   "id": "dc0e660a",
   "metadata": {},
   "source": [
    "Объединим данные из двух таблиц:"
   ]
  },
  {
   "cell_type": "code",
   "execution_count": 30,
   "id": "924142a1",
   "metadata": {},
   "outputs": [],
   "source": [
    "sm = small.merge(districts, on='street')"
   ]
  },
  {
   "cell_type": "code",
   "execution_count": 31,
   "id": "c46b0e13",
   "metadata": {},
   "outputs": [
    {
     "data": {
      "text/plain": [
       "поселение Первомайское       86\n",
       "Тверской район               69\n",
       "Таганский район              65\n",
       "поселение Марушкинское       65\n",
       "Басманный район              65\n",
       "район Хамовники              62\n",
       "Пресненский район            58\n",
       "поселение Новофедоровское    48\n",
       "поселение Щербинка           42\n",
       "поселение Краснопахорское    40\n",
       "район Замоскворечье          33\n",
       "Name: Name, dtype: int64"
      ]
     },
     "execution_count": 31,
     "metadata": {},
     "output_type": "execute_result"
    }
   ],
   "source": [
    "sm.Name.value_counts(ascending=False).head(11)"
   ]
  },
  {
   "cell_type": "markdown",
   "id": "7559c365",
   "metadata": {},
   "source": [
    "## Общий вывод\n",
    "\n",
    "1. Наибольшую долю на московском рынке общественного питания занимает кафе - это говорит о наиболее конкурентном сегменте\n",
    "данного рынка.\n",
    "\n",
    "2. Несетевых заведений более 80% - подавляющее большинство.\n",
    "\n",
    "2. Сетевое распространение наиболее характерно для предприятий быстрого обслуживания.\n",
    "\n",
    "3. Большинство заведений объеденены в малые сети с малым числом мест (до 30 мест).\n",
    "\n",
    "5. Столовый в среднем предоставляют наибольшее число мест.\n",
    "\n",
    "6. В Обручевском районе проходят 3 улицы на которых расположены больше всего заведений общественного питания.\n",
    "\n",
    "7. Наибольшее число улиц с одним заведением расположено в поселение Первомайское. Улицы с одним заведением распространены в:\n",
    "    - историческом центре. Вероятно, это связано с наличием небольших улиц и улочек. Конкуренция в этих районах высокая;\n",
    "    - поселениях и посёлках Новой Москвы. Связано это с удалённостью от центра. Конкуренция в этих районах низкая, но и проходимость не высокая."
   ]
  },
  {
   "cell_type": "markdown",
   "id": "95a94d39",
   "metadata": {},
   "source": [
    "## Шаг №3. Подготовка презентации\n",
    "Презентация подготовлена и доступна для просмотра по ссылке: disk.yandex.ru/i/6vNy3kmrf1phWw"
   ]
  }
 ],
 "metadata": {
  "ExecuteTimeLog": [
   {
    "duration": 1304,
    "start_time": "2022-09-04T13:29:09.176Z"
   },
   {
    "duration": 3,
    "start_time": "2022-09-04T13:29:12.479Z"
   },
   {
    "duration": 148,
    "start_time": "2022-09-04T13:29:13.552Z"
   },
   {
    "duration": 12,
    "start_time": "2022-09-04T13:29:15.054Z"
   },
   {
    "duration": 13,
    "start_time": "2022-09-04T13:29:17.124Z"
   },
   {
    "duration": 87,
    "start_time": "2022-09-04T13:29:22.418Z"
   },
   {
    "duration": 9,
    "start_time": "2022-09-04T13:29:28.761Z"
   },
   {
    "duration": 465,
    "start_time": "2022-09-04T13:29:33.937Z"
   },
   {
    "duration": 1254,
    "start_time": "2022-09-04T13:30:01.515Z"
   },
   {
    "duration": 175,
    "start_time": "2022-09-04T13:31:50.949Z"
   },
   {
    "duration": 4,
    "start_time": "2022-09-04T13:31:54.785Z"
   },
   {
    "duration": 15,
    "start_time": "2022-09-04T13:31:57.278Z"
   },
   {
    "duration": 173,
    "start_time": "2022-09-04T13:31:59.561Z"
   },
   {
    "duration": 9,
    "start_time": "2022-09-04T13:32:04.698Z"
   },
   {
    "duration": 14,
    "start_time": "2022-09-04T13:32:09.649Z"
   },
   {
    "duration": 66,
    "start_time": "2022-09-04T13:32:10.778Z"
   },
   {
    "duration": 9,
    "start_time": "2022-09-04T13:32:11.979Z"
   },
   {
    "duration": 13,
    "start_time": "2022-09-04T13:32:13.754Z"
   },
   {
    "duration": 11,
    "start_time": "2022-09-04T13:32:14.407Z"
   },
   {
    "duration": 9,
    "start_time": "2022-09-04T13:32:14.978Z"
   },
   {
    "duration": 13,
    "start_time": "2022-09-04T14:10:40.319Z"
   },
   {
    "duration": 5,
    "start_time": "2022-09-04T14:11:21.089Z"
   },
   {
    "duration": 5,
    "start_time": "2022-09-04T14:11:24.466Z"
   },
   {
    "duration": 10,
    "start_time": "2022-09-04T14:11:40.456Z"
   },
   {
    "duration": 5,
    "start_time": "2022-09-04T14:12:02.845Z"
   },
   {
    "duration": 1191,
    "start_time": "2022-09-04T14:39:15.322Z"
   },
   {
    "duration": 3,
    "start_time": "2022-09-04T14:39:16.515Z"
   },
   {
    "duration": 107,
    "start_time": "2022-09-04T14:39:16.520Z"
   },
   {
    "duration": 12,
    "start_time": "2022-09-04T14:39:16.629Z"
   },
   {
    "duration": 18,
    "start_time": "2022-09-04T14:39:16.642Z"
   },
   {
    "duration": 102,
    "start_time": "2022-09-04T14:39:16.662Z"
   },
   {
    "duration": 0,
    "start_time": "2022-09-04T14:39:16.766Z"
   },
   {
    "duration": 0,
    "start_time": "2022-09-04T14:39:16.767Z"
   },
   {
    "duration": 0,
    "start_time": "2022-09-04T14:39:16.768Z"
   },
   {
    "duration": 0,
    "start_time": "2022-09-04T14:39:16.769Z"
   },
   {
    "duration": 0,
    "start_time": "2022-09-04T14:39:16.770Z"
   },
   {
    "duration": 0,
    "start_time": "2022-09-04T14:39:16.772Z"
   },
   {
    "duration": 0,
    "start_time": "2022-09-04T14:39:16.772Z"
   },
   {
    "duration": 0,
    "start_time": "2022-09-04T14:39:16.774Z"
   },
   {
    "duration": 0,
    "start_time": "2022-09-04T14:39:16.774Z"
   },
   {
    "duration": 0,
    "start_time": "2022-09-04T14:39:16.775Z"
   },
   {
    "duration": 0,
    "start_time": "2022-09-04T14:39:16.776Z"
   },
   {
    "duration": 0,
    "start_time": "2022-09-04T14:39:16.777Z"
   },
   {
    "duration": 0,
    "start_time": "2022-09-04T14:39:16.778Z"
   },
   {
    "duration": 0,
    "start_time": "2022-09-04T14:39:16.779Z"
   },
   {
    "duration": 1089,
    "start_time": "2022-09-07T17:56:57.883Z"
   },
   {
    "duration": 81,
    "start_time": "2022-09-07T17:56:58.974Z"
   },
   {
    "duration": 12,
    "start_time": "2022-09-07T17:57:00.894Z"
   },
   {
    "duration": 11,
    "start_time": "2022-09-07T17:57:01.311Z"
   },
   {
    "duration": 18,
    "start_time": "2022-09-07T17:57:02.220Z"
   },
   {
    "duration": 4,
    "start_time": "2022-09-07T17:57:03.283Z"
   },
   {
    "duration": 15,
    "start_time": "2022-09-07T17:57:03.728Z"
   },
   {
    "duration": 8,
    "start_time": "2022-09-07T17:57:06.280Z"
   },
   {
    "duration": 232,
    "start_time": "2022-09-07T17:57:07.477Z"
   },
   {
    "duration": 8,
    "start_time": "2022-09-07T18:10:05.872Z"
   },
   {
    "duration": 3,
    "start_time": "2022-09-07T18:10:28.941Z"
   },
   {
    "duration": 8,
    "start_time": "2022-09-07T19:19:53.240Z"
   },
   {
    "duration": 9,
    "start_time": "2022-09-07T19:46:41.498Z"
   },
   {
    "duration": 11,
    "start_time": "2022-09-07T19:47:19.757Z"
   },
   {
    "duration": 12,
    "start_time": "2022-09-07T19:48:37.892Z"
   },
   {
    "duration": 13,
    "start_time": "2022-09-07T19:48:47.288Z"
   },
   {
    "duration": 15,
    "start_time": "2022-09-07T19:49:47.877Z"
   },
   {
    "duration": 17,
    "start_time": "2022-09-07T19:49:54.046Z"
   },
   {
    "duration": 22,
    "start_time": "2022-09-07T19:50:07.207Z"
   },
   {
    "duration": 18,
    "start_time": "2022-09-07T19:50:12.857Z"
   },
   {
    "duration": 24,
    "start_time": "2022-09-07T19:50:27.796Z"
   },
   {
    "duration": 24,
    "start_time": "2022-09-07T19:51:15.152Z"
   },
   {
    "duration": 21,
    "start_time": "2022-09-07T19:51:56.768Z"
   },
   {
    "duration": 7174,
    "start_time": "2022-09-07T19:57:34.489Z"
   },
   {
    "duration": 1054,
    "start_time": "2022-09-07T19:57:46.444Z"
   },
   {
    "duration": 85,
    "start_time": "2022-09-07T19:57:48.614Z"
   },
   {
    "duration": 11,
    "start_time": "2022-09-07T19:57:49.651Z"
   },
   {
    "duration": 12,
    "start_time": "2022-09-07T19:57:49.943Z"
   },
   {
    "duration": 19,
    "start_time": "2022-09-07T19:57:50.534Z"
   },
   {
    "duration": 4,
    "start_time": "2022-09-07T19:57:51.055Z"
   },
   {
    "duration": 17,
    "start_time": "2022-09-07T19:57:51.335Z"
   },
   {
    "duration": 8,
    "start_time": "2022-09-07T19:57:53.320Z"
   },
   {
    "duration": 176,
    "start_time": "2022-09-07T19:57:56.974Z"
   },
   {
    "duration": 7,
    "start_time": "2022-09-07T19:58:08.557Z"
   },
   {
    "duration": 83,
    "start_time": "2022-09-07T19:58:10.235Z"
   },
   {
    "duration": 101,
    "start_time": "2022-09-07T19:58:16.414Z"
   },
   {
    "duration": 17,
    "start_time": "2022-09-07T19:58:53.080Z"
   },
   {
    "duration": 238,
    "start_time": "2022-09-07T19:58:57.087Z"
   },
   {
    "duration": 26,
    "start_time": "2022-09-07T19:59:06.661Z"
   },
   {
    "duration": 58,
    "start_time": "2022-09-07T19:59:15.385Z"
   },
   {
    "duration": 189,
    "start_time": "2022-09-07T19:59:39.961Z"
   },
   {
    "duration": 165,
    "start_time": "2022-09-07T20:00:14.788Z"
   },
   {
    "duration": 4,
    "start_time": "2022-09-07T20:00:23.241Z"
   },
   {
    "duration": 18,
    "start_time": "2022-09-07T20:00:26.570Z"
   },
   {
    "duration": 288,
    "start_time": "2022-09-07T20:00:29.941Z"
   },
   {
    "duration": 8,
    "start_time": "2022-09-07T20:00:34.832Z"
   },
   {
    "duration": 16,
    "start_time": "2022-09-07T20:00:37.631Z"
   },
   {
    "duration": 2103,
    "start_time": "2022-09-07T20:00:42.836Z"
   },
   {
    "duration": 5,
    "start_time": "2022-09-07T20:00:53.016Z"
   },
   {
    "duration": 10,
    "start_time": "2022-09-07T20:00:54.171Z"
   },
   {
    "duration": 9,
    "start_time": "2022-09-07T20:00:55.449Z"
   },
   {
    "duration": 6,
    "start_time": "2022-09-07T20:00:56.080Z"
   },
   {
    "duration": 3,
    "start_time": "2022-09-07T20:40:20.584Z"
   },
   {
    "duration": 1107,
    "start_time": "2022-09-07T20:40:20.589Z"
   },
   {
    "duration": 87,
    "start_time": "2022-09-07T20:40:21.697Z"
   },
   {
    "duration": 14,
    "start_time": "2022-09-07T20:40:21.785Z"
   },
   {
    "duration": 15,
    "start_time": "2022-09-07T20:40:21.801Z"
   },
   {
    "duration": 17,
    "start_time": "2022-09-07T20:40:21.818Z"
   },
   {
    "duration": 4,
    "start_time": "2022-09-07T20:40:21.836Z"
   },
   {
    "duration": 45,
    "start_time": "2022-09-07T20:40:21.841Z"
   },
   {
    "duration": 8,
    "start_time": "2022-09-07T20:40:21.888Z"
   },
   {
    "duration": 177,
    "start_time": "2022-09-07T20:40:21.898Z"
   },
   {
    "duration": 7,
    "start_time": "2022-09-07T20:40:22.085Z"
   },
   {
    "duration": 92,
    "start_time": "2022-09-07T20:40:22.094Z"
   },
   {
    "duration": 104,
    "start_time": "2022-09-07T20:40:22.188Z"
   },
   {
    "duration": 17,
    "start_time": "2022-09-07T20:40:22.293Z"
   },
   {
    "duration": 253,
    "start_time": "2022-09-07T20:40:22.312Z"
   },
   {
    "duration": 35,
    "start_time": "2022-09-07T20:40:22.567Z"
   },
   {
    "duration": 62,
    "start_time": "2022-09-07T20:40:22.604Z"
   },
   {
    "duration": 219,
    "start_time": "2022-09-07T20:40:22.667Z"
   },
   {
    "duration": 198,
    "start_time": "2022-09-07T20:40:22.887Z"
   },
   {
    "duration": 4,
    "start_time": "2022-09-07T20:40:23.087Z"
   },
   {
    "duration": 26,
    "start_time": "2022-09-07T20:40:23.093Z"
   },
   {
    "duration": 268,
    "start_time": "2022-09-07T20:40:23.121Z"
   },
   {
    "duration": 8,
    "start_time": "2022-09-07T20:40:23.391Z"
   },
   {
    "duration": 23,
    "start_time": "2022-09-07T20:40:23.400Z"
   },
   {
    "duration": 2424,
    "start_time": "2022-09-07T20:40:23.424Z"
   },
   {
    "duration": 4,
    "start_time": "2022-09-07T20:40:25.850Z"
   },
   {
    "duration": 14,
    "start_time": "2022-09-07T20:40:25.855Z"
   },
   {
    "duration": 6,
    "start_time": "2022-09-07T20:40:25.871Z"
   },
   {
    "duration": 5,
    "start_time": "2022-09-07T20:40:25.880Z"
   }
  ],
  "kernelspec": {
   "display_name": "Python 3 (ipykernel)",
   "language": "python",
   "name": "python3"
  },
  "language_info": {
   "codemirror_mode": {
    "name": "ipython",
    "version": 3
   },
   "file_extension": ".py",
   "mimetype": "text/x-python",
   "name": "python",
   "nbconvert_exporter": "python",
   "pygments_lexer": "ipython3",
   "version": "3.8.3"
  },
  "toc": {
   "base_numbering": 1,
   "nav_menu": {},
   "number_sections": true,
   "sideBar": true,
   "skip_h1_title": false,
   "title_cell": "Table of Contents",
   "title_sidebar": "Contents",
   "toc_cell": true,
   "toc_position": {},
   "toc_section_display": true,
   "toc_window_display": false
  },
  "toc-autonumbering": true
 },
 "nbformat": 4,
 "nbformat_minor": 5
}
