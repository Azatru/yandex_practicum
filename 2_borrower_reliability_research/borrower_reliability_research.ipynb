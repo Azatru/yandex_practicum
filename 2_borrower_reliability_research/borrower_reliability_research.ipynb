{
 "cells": [
  {
   "cell_type": "markdown",
   "metadata": {},
   "source": [
    "# Исследование надежности заемщиков."
   ]
  },
  {
   "cell_type": "markdown",
   "metadata": {},
   "source": [
    "### Шаг 1. Обзор данных <a class=\"anchor\" id=\"chapter1\"></a>"
   ]
  },
  {
   "cell_type": "code",
   "execution_count": 1,
   "metadata": {},
   "outputs": [
    {
     "data": {
      "text/html": [
       "<div>\n",
       "<style scoped>\n",
       "    .dataframe tbody tr th:only-of-type {\n",
       "        vertical-align: middle;\n",
       "    }\n",
       "\n",
       "    .dataframe tbody tr th {\n",
       "        vertical-align: top;\n",
       "    }\n",
       "\n",
       "    .dataframe thead th {\n",
       "        text-align: right;\n",
       "    }\n",
       "</style>\n",
       "<table border=\"1\" class=\"dataframe\">\n",
       "  <thead>\n",
       "    <tr style=\"text-align: right;\">\n",
       "      <th></th>\n",
       "      <th>children</th>\n",
       "      <th>days_employed</th>\n",
       "      <th>dob_years</th>\n",
       "      <th>education</th>\n",
       "      <th>education_id</th>\n",
       "      <th>family_status</th>\n",
       "      <th>family_status_id</th>\n",
       "      <th>gender</th>\n",
       "      <th>income_type</th>\n",
       "      <th>debt</th>\n",
       "      <th>total_income</th>\n",
       "      <th>purpose</th>\n",
       "    </tr>\n",
       "  </thead>\n",
       "  <tbody>\n",
       "    <tr>\n",
       "      <th>21520</th>\n",
       "      <td>1</td>\n",
       "      <td>-4529.316663</td>\n",
       "      <td>43</td>\n",
       "      <td>среднее</td>\n",
       "      <td>1</td>\n",
       "      <td>гражданский брак</td>\n",
       "      <td>1</td>\n",
       "      <td>F</td>\n",
       "      <td>компаньон</td>\n",
       "      <td>0</td>\n",
       "      <td>224791.862382</td>\n",
       "      <td>операции с жильем</td>\n",
       "    </tr>\n",
       "    <tr>\n",
       "      <th>21521</th>\n",
       "      <td>0</td>\n",
       "      <td>343937.404131</td>\n",
       "      <td>67</td>\n",
       "      <td>среднее</td>\n",
       "      <td>1</td>\n",
       "      <td>женат / замужем</td>\n",
       "      <td>0</td>\n",
       "      <td>F</td>\n",
       "      <td>пенсионер</td>\n",
       "      <td>0</td>\n",
       "      <td>155999.806512</td>\n",
       "      <td>сделка с автомобилем</td>\n",
       "    </tr>\n",
       "    <tr>\n",
       "      <th>21522</th>\n",
       "      <td>1</td>\n",
       "      <td>-2113.346888</td>\n",
       "      <td>38</td>\n",
       "      <td>среднее</td>\n",
       "      <td>1</td>\n",
       "      <td>гражданский брак</td>\n",
       "      <td>1</td>\n",
       "      <td>M</td>\n",
       "      <td>сотрудник</td>\n",
       "      <td>1</td>\n",
       "      <td>89672.561153</td>\n",
       "      <td>недвижимость</td>\n",
       "    </tr>\n",
       "    <tr>\n",
       "      <th>21523</th>\n",
       "      <td>3</td>\n",
       "      <td>-3112.481705</td>\n",
       "      <td>38</td>\n",
       "      <td>среднее</td>\n",
       "      <td>1</td>\n",
       "      <td>женат / замужем</td>\n",
       "      <td>0</td>\n",
       "      <td>M</td>\n",
       "      <td>сотрудник</td>\n",
       "      <td>1</td>\n",
       "      <td>244093.050500</td>\n",
       "      <td>на покупку своего автомобиля</td>\n",
       "    </tr>\n",
       "    <tr>\n",
       "      <th>21524</th>\n",
       "      <td>2</td>\n",
       "      <td>-1984.507589</td>\n",
       "      <td>40</td>\n",
       "      <td>среднее</td>\n",
       "      <td>1</td>\n",
       "      <td>женат / замужем</td>\n",
       "      <td>0</td>\n",
       "      <td>F</td>\n",
       "      <td>сотрудник</td>\n",
       "      <td>0</td>\n",
       "      <td>82047.418899</td>\n",
       "      <td>на покупку автомобиля</td>\n",
       "    </tr>\n",
       "  </tbody>\n",
       "</table>\n",
       "</div>"
      ],
      "text/plain": [
       "       children  days_employed  dob_years education  education_id  \\\n",
       "21520         1   -4529.316663         43   среднее             1   \n",
       "21521         0  343937.404131         67   среднее             1   \n",
       "21522         1   -2113.346888         38   среднее             1   \n",
       "21523         3   -3112.481705         38   среднее             1   \n",
       "21524         2   -1984.507589         40   среднее             1   \n",
       "\n",
       "          family_status  family_status_id gender income_type  debt  \\\n",
       "21520  гражданский брак                 1      F   компаньон     0   \n",
       "21521   женат / замужем                 0      F   пенсионер     0   \n",
       "21522  гражданский брак                 1      M   сотрудник     1   \n",
       "21523   женат / замужем                 0      M   сотрудник     1   \n",
       "21524   женат / замужем                 0      F   сотрудник     0   \n",
       "\n",
       "        total_income                       purpose  \n",
       "21520  224791.862382             операции с жильем  \n",
       "21521  155999.806512          сделка с автомобилем  \n",
       "21522   89672.561153                  недвижимость  \n",
       "21523  244093.050500  на покупку своего автомобиля  \n",
       "21524   82047.418899         на покупку автомобиля  "
      ]
     },
     "metadata": {},
     "output_type": "display_data"
    }
   ],
   "source": [
    "import pandas as pd\n",
    "data = pd.read_csv('data_project_2.csv')\n",
    "display(data.tail(5))"
   ]
  },
  {
   "cell_type": "markdown",
   "metadata": {},
   "source": [
    "### Шаг 2.1 Заполнение пропусков"
   ]
  },
  {
   "cell_type": "code",
   "execution_count": 2,
   "metadata": {},
   "outputs": [
    {
     "name": "stdout",
     "output_type": "stream",
     "text": [
      "<class 'pandas.core.frame.DataFrame'>\n",
      "RangeIndex: 21525 entries, 0 to 21524\n",
      "Data columns (total 12 columns):\n",
      " #   Column            Non-Null Count  Dtype  \n",
      "---  ------            --------------  -----  \n",
      " 0   children          21525 non-null  int64  \n",
      " 1   days_employed     19351 non-null  float64\n",
      " 2   dob_years         21525 non-null  int64  \n",
      " 3   education         21525 non-null  object \n",
      " 4   education_id      21525 non-null  int64  \n",
      " 5   family_status     21525 non-null  object \n",
      " 6   family_status_id  21525 non-null  int64  \n",
      " 7   gender            21525 non-null  object \n",
      " 8   income_type       21525 non-null  object \n",
      " 9   debt              21525 non-null  int64  \n",
      " 10  total_income      19351 non-null  float64\n",
      " 11  purpose           21525 non-null  object \n",
      "dtypes: float64(2), int64(5), object(5)\n",
      "memory usage: 2.0+ MB\n"
     ]
    }
   ],
   "source": [
    "data.info() # Просмотрим информацию о датафрейме"
   ]
  },
  {
   "cell_type": "markdown",
   "metadata": {},
   "source": [
    "Не нулевые значения, отличные от 21525 (длина датафрейма), имеют два столбца:\n",
    "\n",
    "1. `days_employed`\n",
    "2. `total_income`.\n",
    "\n",
    "Рассмотрим их подробнее:"
   ]
  },
  {
   "cell_type": "code",
   "execution_count": 3,
   "metadata": {},
   "outputs": [
    {
     "data": {
      "text/plain": [
       "children               0\n",
       "days_employed       2174\n",
       "dob_years              0\n",
       "education              0\n",
       "education_id           0\n",
       "family_status          0\n",
       "family_status_id       0\n",
       "gender                 0\n",
       "income_type            0\n",
       "debt                   0\n",
       "total_income        2174\n",
       "purpose                0\n",
       "dtype: int64"
      ]
     },
     "metadata": {},
     "output_type": "display_data"
    }
   ],
   "source": [
    "# ИЗМЕНЕНО ПОСЛЕ РЕВЬЮ\n",
    "# Количество пропусков:\n",
    "display(data.isna().sum())"
   ]
  },
  {
   "cell_type": "code",
   "execution_count": 4,
   "metadata": {},
   "outputs": [
    {
     "data": {
      "text/plain": [
       "children            0.000000\n",
       "days_employed       0.100999\n",
       "dob_years           0.000000\n",
       "education           0.000000\n",
       "education_id        0.000000\n",
       "family_status       0.000000\n",
       "family_status_id    0.000000\n",
       "gender              0.000000\n",
       "income_type         0.000000\n",
       "debt                0.000000\n",
       "total_income        0.100999\n",
       "purpose             0.000000\n",
       "dtype: float64"
      ]
     },
     "metadata": {},
     "output_type": "display_data"
    }
   ],
   "source": [
    "# ИЗМЕНЕНО ПОСЛЕ РЕВЬЮ\n",
    "# Доля пропусков\n",
    "display(data.isna().mean())"
   ]
  },
  {
   "cell_type": "code",
   "execution_count": 5,
   "metadata": {},
   "outputs": [],
   "source": [
    "medianna = data['total_income'].median()\n",
    "# нашли медианное значение по столбцу 'total_income'\n",
    "data['total_income'] = data['total_income'].fillna(medianna)\n",
    "# заполнили пустые ячейки медианными значениями"
   ]
  },
  {
   "cell_type": "markdown",
   "metadata": {},
   "source": [
    "Просмотри число медианных значение в столбце `total_income`"
   ]
  },
  {
   "cell_type": "code",
   "execution_count": 6,
   "metadata": {},
   "outputs": [
    {
     "data": {
      "text/plain": [
       "145017.937533    2175\n",
       "112874.418757       1\n",
       "104381.857170       1\n",
       "182036.676828       1\n",
       "122421.963500       1\n",
       "Name: total_income, dtype: int64"
      ]
     },
     "metadata": {},
     "output_type": "display_data"
    }
   ],
   "source": [
    "display(data['total_income'].value_counts().head(5))"
   ]
  },
  {
   "cell_type": "markdown",
   "metadata": {},
   "source": [
    "Из вывода видно: 2174 ячейки пустые + одно медианное значение. \n",
    "Похоже, что пустыя ячейки в столбце `total_income` совпадают с пустыми ячейками в столбце `days_employed`. Проверим предположение:"
   ]
  },
  {
   "cell_type": "code",
   "execution_count": 7,
   "metadata": {},
   "outputs": [
    {
     "data": {
      "text/plain": [
       "array([          nan, -341.40009236])"
      ]
     },
     "metadata": {},
     "output_type": "display_data"
    }
   ],
   "source": [
    "unique_value = data[data['total_income'] == medianna]['days_employed'].unique()\n",
    "display(unique_value)"
   ]
  },
  {
   "cell_type": "markdown",
   "metadata": {},
   "source": [
    "Видим, всего два значения в столбце `days_employed` для медианных значений в столбце `total_income`. Проверим: какие значения останутся в `unique_value` исключив `unique_value[1]` из столбца `days_emloyed` (-341.40009236):"
   ]
  },
  {
   "cell_type": "code",
   "execution_count": 8,
   "metadata": {},
   "outputs": [
    {
     "data": {
      "text/plain": [
       "array([nan])"
      ]
     },
     "metadata": {},
     "output_type": "display_data"
    }
   ],
   "source": [
    "unique_value = data.loc[\n",
    "    (data['total_income'] == medianna) & (data['days_employed'] != unique_value[1]),\n",
    "    'days_employed'].unique()\n",
    "display(unique_value)"
   ]
  },
  {
   "cell_type": "markdown",
   "metadata": {},
   "source": [
    "Пустой `array` доказывает совпадение пустых ячеек в столбце `days_employed` с пустыми ячейками в `total_income`.\n",
    "Если столбцы total_income и days_employed имеют пропуски строго в одних и тех же строках, значит если человек не работал ни дня, его доход отсутствует. В то же время, для этих строк указан тип занятости. Можно предположить, что человек пришёл за кредитом в первый день занятости."
   ]
  },
  {
   "cell_type": "markdown",
   "metadata": {},
   "source": [
    "Пустые значения столбца `total_income` следует заполнить не нулевыми значениями -- на нулевой доход и кредит будет нулевой. В первом приближении выбор стоит между средним и медианным значениями по столбцу. Так как в выборке могут быть выдающиеся значения, лучше использовать медианну."
   ]
  },
  {
   "cell_type": "markdown",
   "metadata": {},
   "source": [
    "### Шаг 2.2 Проверка данных на аномалии и исправления."
   ]
  },
  {
   "cell_type": "markdown",
   "metadata": {},
   "source": [
    "Из предыдущего пункта видно: в столбце `days_employed` содержатся данные типа\n",
    "float, но некоторые из них отрицательные - это неправдоподобно для трудового \n",
    "стажа в днях. "
   ]
  },
  {
   "cell_type": "markdown",
   "metadata": {},
   "source": [
    "#### Проверка столбцов с числовыми значениями и их устранение"
   ]
  },
  {
   "cell_type": "markdown",
   "metadata": {},
   "source": [
    "##### Проверка столбца `days_emloyed`"
   ]
  },
  {
   "cell_type": "code",
   "execution_count": 9,
   "metadata": {},
   "outputs": [
    {
     "data": {
      "text/plain": [
       "16335   -18388.949901\n",
       "4299    -17615.563266\n",
       "7329    -16593.472817\n",
       "17838   -16264.699501\n",
       "16825   -16119.687737\n",
       "             ...     \n",
       "2127       -34.701045\n",
       "9683       -33.520665\n",
       "6157       -30.195337\n",
       "8336       -24.240695\n",
       "17437      -24.141633\n",
       "Name: days_employed, Length: 15906, dtype: float64"
      ]
     },
     "metadata": {},
     "output_type": "display_data"
    }
   ],
   "source": [
    "# Оценим количество отрицательных значений в столбце:\n",
    "display(data.loc[data['days_employed'] < 0, 'days_employed'].sort_values())"
   ]
  },
  {
   "cell_type": "markdown",
   "metadata": {},
   "source": [
    "Отрицательных значений около 75% от всех значений - на мой взгляд слишком высока часть отрицательных значений для человеческого фактора и больше похоже на технологическую ошибку, т.е. по ошибке был приписан \"-\" к числу. Задача: убрать минус."
   ]
  },
  {
   "cell_type": "code",
   "execution_count": 10,
   "metadata": {},
   "outputs": [
    {
     "data": {
      "text/plain": [
       "Series([], Name: days_employed, dtype: float64)"
      ]
     },
     "metadata": {},
     "output_type": "display_data"
    }
   ],
   "source": [
    "# Возьмём все значения столбца по модулю\n",
    "data['days_employed'] = data['days_employed'].apply(abs) \n",
    "# Проверим на отрицательные значения:\n",
    "display(data.loc[data['days_employed'] <= 0, 'days_employed'])"
   ]
  },
  {
   "cell_type": "code",
   "execution_count": 11,
   "metadata": {},
   "outputs": [
    {
     "data": {
      "text/plain": [
       "<matplotlib.axes._subplots.AxesSubplot at 0x1e59ae87190>"
      ]
     },
     "execution_count": 11,
     "metadata": {},
     "output_type": "execute_result"
    },
    {
     "data": {
      "image/png": "[encoded data removed]",
      "text/plain": [
       "<Figure size 432x288 with 1 Axes>"
      ]
     },
     "metadata": {
      "needs_background": "light"
     },
     "output_type": "display_data"
    }
   ],
   "source": [
    "# ИЗМЕНЕНО ПОСЛЕ РЕВЬЮ\n",
    "# Оценим выбросы положительных значений\n",
    "data['days_employed'].hist()"
   ]
  },
  {
   "cell_type": "code",
   "execution_count": 12,
   "metadata": {},
   "outputs": [
    {
     "data": {
      "text/plain": [
       "17437       24.141633\n",
       "8336        24.240695\n",
       "6157        30.195337\n",
       "9683        33.520665\n",
       "2127        34.701045\n",
       "             ...     \n",
       "16825    16119.687737\n",
       "17838    16264.699501\n",
       "7329     16593.472817\n",
       "4299     17615.563266\n",
       "16335    18388.949901\n",
       "Name: days_employed, Length: 15906, dtype: float64"
      ]
     },
     "metadata": {},
     "output_type": "display_data"
    }
   ],
   "source": [
    "display(data.loc[(data['days_employed'] > 0) & (data['days_employed'] < 50000), 'days_employed'].sort_values())"
   ]
  },
  {
   "cell_type": "code",
   "execution_count": 13,
   "metadata": {},
   "outputs": [
    {
     "data": {
      "text/plain": [
       "<matplotlib.axes._subplots.AxesSubplot at 0x1e59b5e5760>"
      ]
     },
     "metadata": {},
     "output_type": "display_data"
    },
    {
     "data": {
      "image/png": "[encoded data removed]",
      "text/plain": [
       "<Figure size 432x288 with 1 Axes>"
      ]
     },
     "metadata": {
      "needs_background": "light"
     },
     "output_type": "display_data"
    }
   ],
   "source": [
    "# ИЗМЕНЕНО ПОСЛЕ РЕВЬЮ\n",
    "# Отберём данные для медианны и расчитаем её:\n",
    "medianna = data.loc[(data['days_employed'] > 0) & (data['days_employed'] < 50000), 'days_employed'].median()\n",
    "# Заменим аномальные значения на расчитанную медианну:\n",
    "data.loc[(data['days_employed'] > 50000), 'days_employed'] = medianna\n",
    "# Просмотрим гистограмму на основе обновлённых данных:\n",
    "display(data['days_employed'].hist())"
   ]
  },
  {
   "cell_type": "markdown",
   "metadata": {},
   "source": [
    "##### Проверка столбца `dob_years`"
   ]
  },
  {
   "cell_type": "code",
   "execution_count": 14,
   "metadata": {},
   "outputs": [
    {
     "data": {
      "text/plain": [
       "<matplotlib.axes._subplots.AxesSubplot at 0x1e59b6682b0>"
      ]
     },
     "metadata": {},
     "output_type": "display_data"
    },
    {
     "data": {
      "image/png": "[encoded data removed]",
      "text/plain": [
       "<Figure size 432x288 with 1 Axes>"
      ]
     },
     "metadata": {
      "needs_background": "light"
     },
     "output_type": "display_data"
    }
   ],
   "source": [
    "# ИЗМЕНЕНО ПОСЛЕ РЕВЬЮ\n",
    "# Проверим возразт клиентов\n",
    "display(data['dob_years'].hist())"
   ]
  },
  {
   "cell_type": "code",
   "execution_count": 15,
   "metadata": {},
   "outputs": [
    {
     "data": {
      "text/plain": [
       "<matplotlib.axes._subplots.AxesSubplot at 0x1e59b6d5af0>"
      ]
     },
     "metadata": {},
     "output_type": "display_data"
    },
    {
     "data": {
      "image/png": "[encoded data removed]",
      "text/plain": [
       "<Figure size 432x288 with 1 Axes>"
      ]
     },
     "metadata": {
      "needs_background": "light"
     },
     "output_type": "display_data"
    }
   ],
   "source": [
    "# ИЗМЕНЕНО ПОСЛЕ РЕВЬЮ\n",
    "# Отберём данные для медианны и расчитаем её:\n",
    "medianna = data.loc[data['dob_years'] > 0, 'dob_years'].median()\n",
    "medianna\n",
    "# Заменим аномальные значения на расчитанную медианну:\n",
    "data.loc[(data['dob_years'] == 0), 'dob_years'] = medianna\n",
    "# Просмотрим гистограмму на основе обновлённых данных:\n",
    "display(data['dob_years'].hist())"
   ]
  },
  {
   "cell_type": "markdown",
   "metadata": {},
   "source": [
    "#### Проверка столбца `education_id`\n",
    "Столбец 'education_id' содержит категориальные данные, и содержит ограниченное число уникальных значений. Выведем количество упоминаний в столбце для каждого значения."
   ]
  },
  {
   "cell_type": "code",
   "execution_count": 16,
   "metadata": {},
   "outputs": [
    {
     "data": {
      "text/plain": [
       "1    15233\n",
       "0     5260\n",
       "2      744\n",
       "3      282\n",
       "4        6\n",
       "Name: education_id, dtype: int64"
      ]
     },
     "metadata": {},
     "output_type": "display_data"
    }
   ],
   "source": [
    "display(data['education_id'].value_counts())"
   ]
  },
  {
   "cell_type": "code",
   "execution_count": 17,
   "metadata": {
    "scrolled": true
   },
   "outputs": [
    {
     "data": {
      "text/html": [
       "<div>\n",
       "<style scoped>\n",
       "    .dataframe tbody tr th:only-of-type {\n",
       "        vertical-align: middle;\n",
       "    }\n",
       "\n",
       "    .dataframe tbody tr th {\n",
       "        vertical-align: top;\n",
       "    }\n",
       "\n",
       "    .dataframe thead th {\n",
       "        text-align: right;\n",
       "    }\n",
       "</style>\n",
       "<table border=\"1\" class=\"dataframe\">\n",
       "  <thead>\n",
       "    <tr style=\"text-align: right;\">\n",
       "      <th></th>\n",
       "      <th>children</th>\n",
       "      <th>days_employed</th>\n",
       "      <th>dob_years</th>\n",
       "      <th>education</th>\n",
       "      <th>education_id</th>\n",
       "      <th>family_status</th>\n",
       "      <th>family_status_id</th>\n",
       "      <th>gender</th>\n",
       "      <th>income_type</th>\n",
       "      <th>debt</th>\n",
       "      <th>total_income</th>\n",
       "      <th>purpose</th>\n",
       "    </tr>\n",
       "  </thead>\n",
       "  <tbody>\n",
       "    <tr>\n",
       "      <th>2963</th>\n",
       "      <td>0</td>\n",
       "      <td>1630.019381</td>\n",
       "      <td>69.0</td>\n",
       "      <td>Ученая степень</td>\n",
       "      <td>4</td>\n",
       "      <td>женат / замужем</td>\n",
       "      <td>0</td>\n",
       "      <td>M</td>\n",
       "      <td>пенсионер</td>\n",
       "      <td>0</td>\n",
       "      <td>98752.495442</td>\n",
       "      <td>покупка жилой недвижимости</td>\n",
       "    </tr>\n",
       "    <tr>\n",
       "      <th>4170</th>\n",
       "      <td>0</td>\n",
       "      <td>409.200149</td>\n",
       "      <td>45.0</td>\n",
       "      <td>УЧЕНАЯ СТЕПЕНЬ</td>\n",
       "      <td>4</td>\n",
       "      <td>Не женат / не замужем</td>\n",
       "      <td>4</td>\n",
       "      <td>M</td>\n",
       "      <td>сотрудник</td>\n",
       "      <td>0</td>\n",
       "      <td>198570.757322</td>\n",
       "      <td>операции с коммерческой недвижимостью</td>\n",
       "    </tr>\n",
       "    <tr>\n",
       "      <th>6551</th>\n",
       "      <td>0</td>\n",
       "      <td>5352.038180</td>\n",
       "      <td>58.0</td>\n",
       "      <td>ученая степень</td>\n",
       "      <td>4</td>\n",
       "      <td>женат / замужем</td>\n",
       "      <td>0</td>\n",
       "      <td>M</td>\n",
       "      <td>сотрудник</td>\n",
       "      <td>0</td>\n",
       "      <td>268411.214536</td>\n",
       "      <td>заняться высшим образованием</td>\n",
       "    </tr>\n",
       "    <tr>\n",
       "      <th>12021</th>\n",
       "      <td>3</td>\n",
       "      <td>5968.075884</td>\n",
       "      <td>36.0</td>\n",
       "      <td>ученая степень</td>\n",
       "      <td>4</td>\n",
       "      <td>женат / замужем</td>\n",
       "      <td>0</td>\n",
       "      <td>F</td>\n",
       "      <td>госслужащий</td>\n",
       "      <td>0</td>\n",
       "      <td>111392.231107</td>\n",
       "      <td>покупка жилья</td>\n",
       "    </tr>\n",
       "    <tr>\n",
       "      <th>12786</th>\n",
       "      <td>0</td>\n",
       "      <td>1630.019381</td>\n",
       "      <td>62.0</td>\n",
       "      <td>ученая степень</td>\n",
       "      <td>4</td>\n",
       "      <td>женат / замужем</td>\n",
       "      <td>0</td>\n",
       "      <td>F</td>\n",
       "      <td>пенсионер</td>\n",
       "      <td>0</td>\n",
       "      <td>255425.196556</td>\n",
       "      <td>покупка жилой недвижимости</td>\n",
       "    </tr>\n",
       "    <tr>\n",
       "      <th>21519</th>\n",
       "      <td>1</td>\n",
       "      <td>2351.431934</td>\n",
       "      <td>37.0</td>\n",
       "      <td>ученая степень</td>\n",
       "      <td>4</td>\n",
       "      <td>в разводе</td>\n",
       "      <td>3</td>\n",
       "      <td>M</td>\n",
       "      <td>сотрудник</td>\n",
       "      <td>0</td>\n",
       "      <td>115949.039788</td>\n",
       "      <td>покупка коммерческой недвижимости</td>\n",
       "    </tr>\n",
       "  </tbody>\n",
       "</table>\n",
       "</div>"
      ],
      "text/plain": [
       "       children  days_employed  dob_years       education  education_id  \\\n",
       "2963          0    1630.019381       69.0  Ученая степень             4   \n",
       "4170          0     409.200149       45.0  УЧЕНАЯ СТЕПЕНЬ             4   \n",
       "6551          0    5352.038180       58.0  ученая степень             4   \n",
       "12021         3    5968.075884       36.0  ученая степень             4   \n",
       "12786         0    1630.019381       62.0  ученая степень             4   \n",
       "21519         1    2351.431934       37.0  ученая степень             4   \n",
       "\n",
       "               family_status  family_status_id gender  income_type  debt  \\\n",
       "2963         женат / замужем                 0      M    пенсионер     0   \n",
       "4170   Не женат / не замужем                 4      M    сотрудник     0   \n",
       "6551         женат / замужем                 0      M    сотрудник     0   \n",
       "12021        женат / замужем                 0      F  госслужащий     0   \n",
       "12786        женат / замужем                 0      F    пенсионер     0   \n",
       "21519              в разводе                 3      M    сотрудник     0   \n",
       "\n",
       "        total_income                                purpose  \n",
       "2963    98752.495442             покупка жилой недвижимости  \n",
       "4170   198570.757322  операции с коммерческой недвижимостью  \n",
       "6551   268411.214536           заняться высшим образованием  \n",
       "12021  111392.231107                          покупка жилья  \n",
       "12786  255425.196556             покупка жилой недвижимости  \n",
       "21519  115949.039788      покупка коммерческой недвижимости  "
      ]
     },
     "metadata": {},
     "output_type": "display_data"
    }
   ],
   "source": [
    "# Посмотрим какое образование скрывается за цифрой 4 (слишком малое количество):\n",
    "display(data[data['education_id'] == 4])"
   ]
  },
  {
   "cell_type": "markdown",
   "metadata": {},
   "source": [
    "\"Учёная степень\" - вполне может быть у заёмщика."
   ]
  },
  {
   "cell_type": "markdown",
   "metadata": {},
   "source": [
    "#### Проверка столбца `children`\n",
    "Столбец 'children' содержит ограниченное число \n",
    "уникальных значений. Выведем количество упоминаний в столбце\n",
    "для каждого значения."
   ]
  },
  {
   "cell_type": "code",
   "execution_count": 18,
   "metadata": {},
   "outputs": [
    {
     "data": {
      "text/plain": [
       " 0     14149\n",
       " 1      4818\n",
       " 2      2055\n",
       " 3       330\n",
       " 20       76\n",
       "-1        47\n",
       " 4        41\n",
       " 5         9\n",
       "Name: children, dtype: int64"
      ]
     },
     "metadata": {},
     "output_type": "display_data"
    }
   ],
   "source": [
    "display(data['children'].value_counts())"
   ]
  },
  {
   "cell_type": "markdown",
   "metadata": {},
   "source": [
    "Количество детей -1 не может быть. Скорее всего, сыграл роль человеческий фактор и по ошибке вместо 1 записали -1, поэтому заменим -1 на 1. Количество детей равное 20 - аномально, причём такое количество детей встречается чаще чем количество детей равное 4 и 5 вместе взятых. Предполагаю, также сыграл свою роль человеческий фактор: вместо 2 записали 20, также заменим 20 на 2."
   ]
  },
  {
   "cell_type": "code",
   "execution_count": 19,
   "metadata": {},
   "outputs": [
    {
     "data": {
      "text/plain": [
       "0    14149\n",
       "1     4865\n",
       "2     2131\n",
       "3      330\n",
       "4       41\n",
       "5        9\n",
       "Name: children, dtype: int64"
      ]
     },
     "metadata": {},
     "output_type": "display_data"
    }
   ],
   "source": [
    "data.loc[data['children'] == -1, 'children'] = 1\n",
    "data.loc[data['children'] == 20, 'children'] = 2\n",
    "display(data['children'].value_counts())"
   ]
  },
  {
   "cell_type": "markdown",
   "metadata": {},
   "source": [
    "#### Проверка столбца `family_status_id`\n",
    "Столбец `family_status_id` содержит категориальные данные.\n",
    "Выведем количество упоминаний в столбце для каждого значения:"
   ]
  },
  {
   "cell_type": "code",
   "execution_count": 20,
   "metadata": {},
   "outputs": [
    {
     "data": {
      "text/plain": [
       "0    12380\n",
       "1     4177\n",
       "4     2813\n",
       "3     1195\n",
       "2      960\n",
       "Name: family_status_id, dtype: int64"
      ]
     },
     "metadata": {},
     "output_type": "display_data"
    }
   ],
   "source": [
    "display(data['family_status_id'].value_counts())"
   ]
  },
  {
   "cell_type": "markdown",
   "metadata": {},
   "source": [
    "#### Проверка столбца `total_income`\n",
    "Проверим доход клиента - должен быть не отрицательным"
   ]
  },
  {
   "cell_type": "code",
   "execution_count": 21,
   "metadata": {},
   "outputs": [
    {
     "data": {
      "text/plain": [
       "Series([], Name: total_income, dtype: float64)"
      ]
     },
     "metadata": {},
     "output_type": "display_data"
    }
   ],
   "source": [
    "display(data.loc[data['total_income'] < 0, 'total_income'].sort_values())"
   ]
  },
  {
   "cell_type": "markdown",
   "metadata": {},
   "source": [
    "#### Проверка столбца `debt`\n",
    "Столбец `debt` содержит категориальные данные.\n",
    "Выведем количество упоминаний в столбце для каждого значения:"
   ]
  },
  {
   "cell_type": "code",
   "execution_count": 22,
   "metadata": {},
   "outputs": [
    {
     "data": {
      "text/plain": [
       "0    19784\n",
       "1     1741\n",
       "Name: debt, dtype: int64"
      ]
     },
     "metadata": {},
     "output_type": "display_data"
    }
   ],
   "source": [
    "display(data['debt'].value_counts())"
   ]
  },
  {
   "cell_type": "markdown",
   "metadata": {},
   "source": [
    "#### Проверка столбцов с нечисловыми значениями\n",
    "Проверим на регистр столбцы с типом данных object: `education`, `purpose`."
   ]
  },
  {
   "cell_type": "code",
   "execution_count": 23,
   "metadata": {},
   "outputs": [
    {
     "data": {
      "text/plain": [
       "среднее                13750\n",
       "высшее                  4718\n",
       "СРЕДНЕЕ                  772\n",
       "Среднее                  711\n",
       "неоконченное высшее      668\n",
       "ВЫСШЕЕ                   274\n",
       "Высшее                   268\n",
       "начальное                250\n",
       "Неоконченное высшее       47\n",
       "НЕОКОНЧЕННОЕ ВЫСШЕЕ       29\n",
       "НАЧАЛЬНОЕ                 17\n",
       "Начальное                 15\n",
       "ученая степень             4\n",
       "Ученая степень             1\n",
       "УЧЕНАЯ СТЕПЕНЬ             1\n",
       "Name: education, dtype: int64"
      ]
     },
     "metadata": {},
     "output_type": "display_data"
    }
   ],
   "source": [
    "display(data['education'].value_counts())"
   ]
  },
  {
   "cell_type": "markdown",
   "metadata": {},
   "source": [
    "Все значения - строковые. Неявные дубликаты уберём на шаге 2.4."
   ]
  },
  {
   "cell_type": "code",
   "execution_count": 24,
   "metadata": {},
   "outputs": [
    {
     "data": {
      "text/plain": [
       "свадьба                                   797\n",
       "на проведение свадьбы                     777\n",
       "сыграть свадьбу                           774\n",
       "операции с недвижимостью                  676\n",
       "покупка коммерческой недвижимости         664\n",
       "покупка жилья для сдачи                   653\n",
       "операции с жильем                         653\n",
       "операции с коммерческой недвижимостью     651\n",
       "жилье                                     647\n",
       "покупка жилья                             647\n",
       "покупка жилья для семьи                   641\n",
       "строительство собственной недвижимости    635\n",
       "недвижимость                              634\n",
       "операции со своей недвижимостью           630\n",
       "строительство жилой недвижимости          626\n",
       "покупка недвижимости                      624\n",
       "строительство недвижимости                620\n",
       "покупка своего жилья                      620\n",
       "ремонт жилью                              612\n",
       "покупка жилой недвижимости                607\n",
       "на покупку своего автомобиля              505\n",
       "заняться высшим образованием              496\n",
       "автомобиль                                495\n",
       "сделка с подержанным автомобилем          489\n",
       "свой автомобиль                           480\n",
       "на покупку подержанного автомобиля        479\n",
       "автомобили                                478\n",
       "на покупку автомобиля                     472\n",
       "дополнительное образование                462\n",
       "приобретение автомобиля                   462\n",
       "сделка с автомобилем                      455\n",
       "высшее образование                        453\n",
       "получение дополнительного образования     447\n",
       "образование                               447\n",
       "получение образования                     443\n",
       "профильное образование                    436\n",
       "получение высшего образования             426\n",
       "заняться образованием                     412\n",
       "Name: purpose, dtype: int64"
      ]
     },
     "metadata": {},
     "output_type": "display_data"
    }
   ],
   "source": [
    "display(data['purpose'].value_counts()) # аномалий не обнаружено"
   ]
  },
  {
   "cell_type": "markdown",
   "metadata": {},
   "source": [
    "Все столбцы проверены на аномалии и устранены. "
   ]
  },
  {
   "cell_type": "markdown",
   "metadata": {},
   "source": [
    "### Шаг 2.3. Изменение типов данных."
   ]
  },
  {
   "cell_type": "code",
   "execution_count": 25,
   "metadata": {},
   "outputs": [
    {
     "data": {
      "text/html": [
       "<div>\n",
       "<style scoped>\n",
       "    .dataframe tbody tr th:only-of-type {\n",
       "        vertical-align: middle;\n",
       "    }\n",
       "\n",
       "    .dataframe tbody tr th {\n",
       "        vertical-align: top;\n",
       "    }\n",
       "\n",
       "    .dataframe thead th {\n",
       "        text-align: right;\n",
       "    }\n",
       "</style>\n",
       "<table border=\"1\" class=\"dataframe\">\n",
       "  <thead>\n",
       "    <tr style=\"text-align: right;\">\n",
       "      <th></th>\n",
       "      <th>children</th>\n",
       "      <th>days_employed</th>\n",
       "      <th>dob_years</th>\n",
       "      <th>education</th>\n",
       "      <th>education_id</th>\n",
       "      <th>family_status</th>\n",
       "      <th>family_status_id</th>\n",
       "      <th>gender</th>\n",
       "      <th>income_type</th>\n",
       "      <th>debt</th>\n",
       "      <th>total_income</th>\n",
       "      <th>purpose</th>\n",
       "    </tr>\n",
       "  </thead>\n",
       "  <tbody>\n",
       "    <tr>\n",
       "      <th>0</th>\n",
       "      <td>1</td>\n",
       "      <td>8437.673028</td>\n",
       "      <td>42.0</td>\n",
       "      <td>высшее</td>\n",
       "      <td>0</td>\n",
       "      <td>женат / замужем</td>\n",
       "      <td>0</td>\n",
       "      <td>F</td>\n",
       "      <td>сотрудник</td>\n",
       "      <td>0</td>\n",
       "      <td>253875</td>\n",
       "      <td>покупка жилья</td>\n",
       "    </tr>\n",
       "    <tr>\n",
       "      <th>1</th>\n",
       "      <td>1</td>\n",
       "      <td>4024.803754</td>\n",
       "      <td>36.0</td>\n",
       "      <td>среднее</td>\n",
       "      <td>1</td>\n",
       "      <td>женат / замужем</td>\n",
       "      <td>0</td>\n",
       "      <td>F</td>\n",
       "      <td>сотрудник</td>\n",
       "      <td>0</td>\n",
       "      <td>112080</td>\n",
       "      <td>приобретение автомобиля</td>\n",
       "    </tr>\n",
       "    <tr>\n",
       "      <th>2</th>\n",
       "      <td>0</td>\n",
       "      <td>5623.422610</td>\n",
       "      <td>33.0</td>\n",
       "      <td>Среднее</td>\n",
       "      <td>1</td>\n",
       "      <td>женат / замужем</td>\n",
       "      <td>0</td>\n",
       "      <td>M</td>\n",
       "      <td>сотрудник</td>\n",
       "      <td>0</td>\n",
       "      <td>145885</td>\n",
       "      <td>покупка жилья</td>\n",
       "    </tr>\n",
       "    <tr>\n",
       "      <th>3</th>\n",
       "      <td>3</td>\n",
       "      <td>4124.747207</td>\n",
       "      <td>32.0</td>\n",
       "      <td>среднее</td>\n",
       "      <td>1</td>\n",
       "      <td>женат / замужем</td>\n",
       "      <td>0</td>\n",
       "      <td>M</td>\n",
       "      <td>сотрудник</td>\n",
       "      <td>0</td>\n",
       "      <td>267628</td>\n",
       "      <td>дополнительное образование</td>\n",
       "    </tr>\n",
       "    <tr>\n",
       "      <th>4</th>\n",
       "      <td>0</td>\n",
       "      <td>1630.019381</td>\n",
       "      <td>53.0</td>\n",
       "      <td>среднее</td>\n",
       "      <td>1</td>\n",
       "      <td>гражданский брак</td>\n",
       "      <td>1</td>\n",
       "      <td>F</td>\n",
       "      <td>пенсионер</td>\n",
       "      <td>0</td>\n",
       "      <td>158616</td>\n",
       "      <td>сыграть свадьбу</td>\n",
       "    </tr>\n",
       "  </tbody>\n",
       "</table>\n",
       "</div>"
      ],
      "text/plain": [
       "   children  days_employed  dob_years education  education_id  \\\n",
       "0         1    8437.673028       42.0    высшее             0   \n",
       "1         1    4024.803754       36.0   среднее             1   \n",
       "2         0    5623.422610       33.0   Среднее             1   \n",
       "3         3    4124.747207       32.0   среднее             1   \n",
       "4         0    1630.019381       53.0   среднее             1   \n",
       "\n",
       "      family_status  family_status_id gender income_type  debt  total_income  \\\n",
       "0   женат / замужем                 0      F   сотрудник     0        253875   \n",
       "1   женат / замужем                 0      F   сотрудник     0        112080   \n",
       "2   женат / замужем                 0      M   сотрудник     0        145885   \n",
       "3   женат / замужем                 0      M   сотрудник     0        267628   \n",
       "4  гражданский брак                 1      F   пенсионер     0        158616   \n",
       "\n",
       "                      purpose  \n",
       "0               покупка жилья  \n",
       "1     приобретение автомобиля  \n",
       "2               покупка жилья  \n",
       "3  дополнительное образование  \n",
       "4             сыграть свадьбу  "
      ]
     },
     "metadata": {},
     "output_type": "display_data"
    }
   ],
   "source": [
    "# Изменим тип данных в столбце 'total_income' на integer:\n",
    "data = data.astype({'total_income': int})\n",
    "display(data.head(5))"
   ]
  },
  {
   "cell_type": "markdown",
   "metadata": {},
   "source": [
    "### Шаг 2.4. Удаление дубликатов."
   ]
  },
  {
   "cell_type": "markdown",
   "metadata": {},
   "source": [
    "#### Проверим строки на дубликаты:"
   ]
  },
  {
   "cell_type": "code",
   "execution_count": 26,
   "metadata": {},
   "outputs": [
    {
     "data": {
      "text/html": [
       "<div>\n",
       "<style scoped>\n",
       "    .dataframe tbody tr th:only-of-type {\n",
       "        vertical-align: middle;\n",
       "    }\n",
       "\n",
       "    .dataframe tbody tr th {\n",
       "        vertical-align: top;\n",
       "    }\n",
       "\n",
       "    .dataframe thead th {\n",
       "        text-align: right;\n",
       "    }\n",
       "</style>\n",
       "<table border=\"1\" class=\"dataframe\">\n",
       "  <thead>\n",
       "    <tr style=\"text-align: right;\">\n",
       "      <th></th>\n",
       "      <th>children</th>\n",
       "      <th>days_employed</th>\n",
       "      <th>dob_years</th>\n",
       "      <th>education</th>\n",
       "      <th>education_id</th>\n",
       "      <th>family_status</th>\n",
       "      <th>family_status_id</th>\n",
       "      <th>gender</th>\n",
       "      <th>income_type</th>\n",
       "      <th>debt</th>\n",
       "      <th>total_income</th>\n",
       "      <th>purpose</th>\n",
       "    </tr>\n",
       "  </thead>\n",
       "  <tbody>\n",
       "    <tr>\n",
       "      <th>2849</th>\n",
       "      <td>0</td>\n",
       "      <td>NaN</td>\n",
       "      <td>41.0</td>\n",
       "      <td>среднее</td>\n",
       "      <td>1</td>\n",
       "      <td>женат / замужем</td>\n",
       "      <td>0</td>\n",
       "      <td>F</td>\n",
       "      <td>сотрудник</td>\n",
       "      <td>0</td>\n",
       "      <td>145017</td>\n",
       "      <td>покупка жилья для семьи</td>\n",
       "    </tr>\n",
       "    <tr>\n",
       "      <th>4182</th>\n",
       "      <td>1</td>\n",
       "      <td>NaN</td>\n",
       "      <td>34.0</td>\n",
       "      <td>ВЫСШЕЕ</td>\n",
       "      <td>0</td>\n",
       "      <td>гражданский брак</td>\n",
       "      <td>1</td>\n",
       "      <td>F</td>\n",
       "      <td>сотрудник</td>\n",
       "      <td>0</td>\n",
       "      <td>145017</td>\n",
       "      <td>свадьба</td>\n",
       "    </tr>\n",
       "    <tr>\n",
       "      <th>4851</th>\n",
       "      <td>0</td>\n",
       "      <td>NaN</td>\n",
       "      <td>60.0</td>\n",
       "      <td>среднее</td>\n",
       "      <td>1</td>\n",
       "      <td>гражданский брак</td>\n",
       "      <td>1</td>\n",
       "      <td>F</td>\n",
       "      <td>пенсионер</td>\n",
       "      <td>0</td>\n",
       "      <td>145017</td>\n",
       "      <td>свадьба</td>\n",
       "    </tr>\n",
       "    <tr>\n",
       "      <th>5557</th>\n",
       "      <td>0</td>\n",
       "      <td>NaN</td>\n",
       "      <td>58.0</td>\n",
       "      <td>среднее</td>\n",
       "      <td>1</td>\n",
       "      <td>гражданский брак</td>\n",
       "      <td>1</td>\n",
       "      <td>F</td>\n",
       "      <td>пенсионер</td>\n",
       "      <td>0</td>\n",
       "      <td>145017</td>\n",
       "      <td>сыграть свадьбу</td>\n",
       "    </tr>\n",
       "    <tr>\n",
       "      <th>7808</th>\n",
       "      <td>0</td>\n",
       "      <td>NaN</td>\n",
       "      <td>57.0</td>\n",
       "      <td>среднее</td>\n",
       "      <td>1</td>\n",
       "      <td>гражданский брак</td>\n",
       "      <td>1</td>\n",
       "      <td>F</td>\n",
       "      <td>пенсионер</td>\n",
       "      <td>0</td>\n",
       "      <td>145017</td>\n",
       "      <td>на проведение свадьбы</td>\n",
       "    </tr>\n",
       "  </tbody>\n",
       "</table>\n",
       "</div>"
      ],
      "text/plain": [
       "      children  days_employed  dob_years education  education_id  \\\n",
       "2849         0            NaN       41.0   среднее             1   \n",
       "4182         1            NaN       34.0    ВЫСШЕЕ             0   \n",
       "4851         0            NaN       60.0   среднее             1   \n",
       "5557         0            NaN       58.0   среднее             1   \n",
       "7808         0            NaN       57.0   среднее             1   \n",
       "\n",
       "         family_status  family_status_id gender income_type  debt  \\\n",
       "2849   женат / замужем                 0      F   сотрудник     0   \n",
       "4182  гражданский брак                 1      F   сотрудник     0   \n",
       "4851  гражданский брак                 1      F   пенсионер     0   \n",
       "5557  гражданский брак                 1      F   пенсионер     0   \n",
       "7808  гражданский брак                 1      F   пенсионер     0   \n",
       "\n",
       "      total_income                  purpose  \n",
       "2849        145017  покупка жилья для семьи  \n",
       "4182        145017                  свадьба  \n",
       "4851        145017                  свадьба  \n",
       "5557        145017          сыграть свадьбу  \n",
       "7808        145017    на проведение свадьбы  "
      ]
     },
     "metadata": {},
     "output_type": "display_data"
    }
   ],
   "source": [
    "# Посмотрим на строки дубликаты, если таковые есть:\n",
    "display(data[data.duplicated()].head(5))"
   ]
  },
  {
   "cell_type": "markdown",
   "metadata": {},
   "source": [
    "Явно заметно совпадение по столбцам days_employed, total_income - все медианные значения. По остальным столбцам много не совпадений и возможно есть точные совпадения строк. Но это не гарантирует от чистого совпадения данных, т.к. в таблице не представлен уникальный id клиента к примеру. Найдём 100% совпадения по строкам:"
   ]
  },
  {
   "cell_type": "code",
   "execution_count": 27,
   "metadata": {},
   "outputs": [
    {
     "data": {
      "text/html": [
       "<div>\n",
       "<style scoped>\n",
       "    .dataframe tbody tr th:only-of-type {\n",
       "        vertical-align: middle;\n",
       "    }\n",
       "\n",
       "    .dataframe tbody tr th {\n",
       "        vertical-align: top;\n",
       "    }\n",
       "\n",
       "    .dataframe thead th {\n",
       "        text-align: right;\n",
       "    }\n",
       "</style>\n",
       "<table border=\"1\" class=\"dataframe\">\n",
       "  <thead>\n",
       "    <tr style=\"text-align: right;\">\n",
       "      <th></th>\n",
       "      <th>children</th>\n",
       "      <th>days_employed</th>\n",
       "      <th>dob_years</th>\n",
       "      <th>education</th>\n",
       "      <th>education_id</th>\n",
       "      <th>family_status</th>\n",
       "      <th>family_status_id</th>\n",
       "      <th>gender</th>\n",
       "      <th>income_type</th>\n",
       "      <th>debt</th>\n",
       "      <th>total_income</th>\n",
       "      <th>purpose</th>\n",
       "    </tr>\n",
       "  </thead>\n",
       "  <tbody>\n",
       "    <tr>\n",
       "      <th>10864</th>\n",
       "      <td>0</td>\n",
       "      <td>NaN</td>\n",
       "      <td>62.0</td>\n",
       "      <td>среднее</td>\n",
       "      <td>1</td>\n",
       "      <td>женат / замужем</td>\n",
       "      <td>0</td>\n",
       "      <td>F</td>\n",
       "      <td>пенсионер</td>\n",
       "      <td>0</td>\n",
       "      <td>145017</td>\n",
       "      <td>ремонт жилью</td>\n",
       "    </tr>\n",
       "    <tr>\n",
       "      <th>10994</th>\n",
       "      <td>0</td>\n",
       "      <td>NaN</td>\n",
       "      <td>62.0</td>\n",
       "      <td>среднее</td>\n",
       "      <td>1</td>\n",
       "      <td>женат / замужем</td>\n",
       "      <td>0</td>\n",
       "      <td>F</td>\n",
       "      <td>пенсионер</td>\n",
       "      <td>0</td>\n",
       "      <td>145017</td>\n",
       "      <td>ремонт жилью</td>\n",
       "    </tr>\n",
       "    <tr>\n",
       "      <th>16176</th>\n",
       "      <td>0</td>\n",
       "      <td>NaN</td>\n",
       "      <td>47.0</td>\n",
       "      <td>среднее</td>\n",
       "      <td>1</td>\n",
       "      <td>женат / замужем</td>\n",
       "      <td>0</td>\n",
       "      <td>F</td>\n",
       "      <td>сотрудник</td>\n",
       "      <td>0</td>\n",
       "      <td>145017</td>\n",
       "      <td>ремонт жилью</td>\n",
       "    </tr>\n",
       "    <tr>\n",
       "      <th>21132</th>\n",
       "      <td>0</td>\n",
       "      <td>NaN</td>\n",
       "      <td>47.0</td>\n",
       "      <td>среднее</td>\n",
       "      <td>1</td>\n",
       "      <td>женат / замужем</td>\n",
       "      <td>0</td>\n",
       "      <td>F</td>\n",
       "      <td>сотрудник</td>\n",
       "      <td>0</td>\n",
       "      <td>145017</td>\n",
       "      <td>ремонт жилью</td>\n",
       "    </tr>\n",
       "  </tbody>\n",
       "</table>\n",
       "</div>"
      ],
      "text/plain": [
       "       children  days_employed  dob_years education  education_id  \\\n",
       "10864         0            NaN       62.0   среднее             1   \n",
       "10994         0            NaN       62.0   среднее             1   \n",
       "16176         0            NaN       47.0   среднее             1   \n",
       "21132         0            NaN       47.0   среднее             1   \n",
       "\n",
       "         family_status  family_status_id gender income_type  debt  \\\n",
       "10864  женат / замужем                 0      F   пенсионер     0   \n",
       "10994  женат / замужем                 0      F   пенсионер     0   \n",
       "16176  женат / замужем                 0      F   сотрудник     0   \n",
       "21132  женат / замужем                 0      F   сотрудник     0   \n",
       "\n",
       "       total_income       purpose  \n",
       "10864        145017  ремонт жилью  \n",
       "10994        145017  ремонт жилью  \n",
       "16176        145017  ремонт жилью  \n",
       "21132        145017  ремонт жилью  "
      ]
     },
     "metadata": {},
     "output_type": "display_data"
    }
   ],
   "source": [
    "# ИЗМЕНЕНО ПОСЛЕ РЕВЬЮ\n",
    "duplicats = data[data.duplicated()] # Датафрейм в котором могут содержаться 100%-ные дубликаты\n",
    "display(duplicats[duplicats.duplicated(keep=False)])"
   ]
  },
  {
   "cell_type": "code",
   "execution_count": 28,
   "metadata": {},
   "outputs": [
    {
     "name": "stdout",
     "output_type": "stream",
     "text": [
      "<class 'pandas.core.frame.DataFrame'>\n",
      "Int64Index: 21523 entries, 0 to 21524\n",
      "Data columns (total 12 columns):\n",
      " #   Column            Non-Null Count  Dtype  \n",
      "---  ------            --------------  -----  \n",
      " 0   children          21523 non-null  int64  \n",
      " 1   days_employed     19351 non-null  float64\n",
      " 2   dob_years         21523 non-null  float64\n",
      " 3   education         21523 non-null  object \n",
      " 4   education_id      21523 non-null  int64  \n",
      " 5   family_status     21523 non-null  object \n",
      " 6   family_status_id  21523 non-null  int64  \n",
      " 7   gender            21523 non-null  object \n",
      " 8   income_type       21523 non-null  object \n",
      " 9   debt              21523 non-null  int64  \n",
      " 10  total_income      21523 non-null  int32  \n",
      " 11  purpose           21523 non-null  object \n",
      "dtypes: float64(2), int32(1), int64(4), object(5)\n",
      "memory usage: 2.1+ MB\n"
     ]
    }
   ],
   "source": [
    "# ИЗМЕНЕНО ПОСЛЕ РЕВЬЮ\n",
    "data.drop(data.index[[10994, 21132]], inplace=True)\n",
    "data.info()"
   ]
  },
  {
   "cell_type": "code",
   "execution_count": 29,
   "metadata": {},
   "outputs": [
    {
     "data": {
      "text/html": [
       "<div>\n",
       "<style scoped>\n",
       "    .dataframe tbody tr th:only-of-type {\n",
       "        vertical-align: middle;\n",
       "    }\n",
       "\n",
       "    .dataframe tbody tr th {\n",
       "        vertical-align: top;\n",
       "    }\n",
       "\n",
       "    .dataframe thead th {\n",
       "        text-align: right;\n",
       "    }\n",
       "</style>\n",
       "<table border=\"1\" class=\"dataframe\">\n",
       "  <thead>\n",
       "    <tr style=\"text-align: right;\">\n",
       "      <th></th>\n",
       "      <th>children</th>\n",
       "      <th>days_employed</th>\n",
       "      <th>dob_years</th>\n",
       "      <th>education</th>\n",
       "      <th>education_id</th>\n",
       "      <th>family_status</th>\n",
       "      <th>family_status_id</th>\n",
       "      <th>gender</th>\n",
       "      <th>income_type</th>\n",
       "      <th>debt</th>\n",
       "      <th>total_income</th>\n",
       "      <th>purpose</th>\n",
       "    </tr>\n",
       "  </thead>\n",
       "  <tbody>\n",
       "    <tr>\n",
       "      <th>21518</th>\n",
       "      <td>1</td>\n",
       "      <td>4529.316663</td>\n",
       "      <td>43.0</td>\n",
       "      <td>среднее</td>\n",
       "      <td>1</td>\n",
       "      <td>гражданский брак</td>\n",
       "      <td>1</td>\n",
       "      <td>F</td>\n",
       "      <td>компаньон</td>\n",
       "      <td>0</td>\n",
       "      <td>224791</td>\n",
       "      <td>операции с жильем</td>\n",
       "    </tr>\n",
       "    <tr>\n",
       "      <th>21519</th>\n",
       "      <td>0</td>\n",
       "      <td>1630.019381</td>\n",
       "      <td>67.0</td>\n",
       "      <td>среднее</td>\n",
       "      <td>1</td>\n",
       "      <td>женат / замужем</td>\n",
       "      <td>0</td>\n",
       "      <td>F</td>\n",
       "      <td>пенсионер</td>\n",
       "      <td>0</td>\n",
       "      <td>155999</td>\n",
       "      <td>сделка с автомобилем</td>\n",
       "    </tr>\n",
       "    <tr>\n",
       "      <th>21520</th>\n",
       "      <td>1</td>\n",
       "      <td>2113.346888</td>\n",
       "      <td>38.0</td>\n",
       "      <td>среднее</td>\n",
       "      <td>1</td>\n",
       "      <td>гражданский брак</td>\n",
       "      <td>1</td>\n",
       "      <td>M</td>\n",
       "      <td>сотрудник</td>\n",
       "      <td>1</td>\n",
       "      <td>89672</td>\n",
       "      <td>недвижимость</td>\n",
       "    </tr>\n",
       "    <tr>\n",
       "      <th>21521</th>\n",
       "      <td>3</td>\n",
       "      <td>3112.481705</td>\n",
       "      <td>38.0</td>\n",
       "      <td>среднее</td>\n",
       "      <td>1</td>\n",
       "      <td>женат / замужем</td>\n",
       "      <td>0</td>\n",
       "      <td>M</td>\n",
       "      <td>сотрудник</td>\n",
       "      <td>1</td>\n",
       "      <td>244093</td>\n",
       "      <td>на покупку своего автомобиля</td>\n",
       "    </tr>\n",
       "    <tr>\n",
       "      <th>21522</th>\n",
       "      <td>2</td>\n",
       "      <td>1984.507589</td>\n",
       "      <td>40.0</td>\n",
       "      <td>среднее</td>\n",
       "      <td>1</td>\n",
       "      <td>женат / замужем</td>\n",
       "      <td>0</td>\n",
       "      <td>F</td>\n",
       "      <td>сотрудник</td>\n",
       "      <td>0</td>\n",
       "      <td>82047</td>\n",
       "      <td>на покупку автомобиля</td>\n",
       "    </tr>\n",
       "  </tbody>\n",
       "</table>\n",
       "</div>"
      ],
      "text/plain": [
       "       children  days_employed  dob_years education  education_id  \\\n",
       "21518         1    4529.316663       43.0   среднее             1   \n",
       "21519         0    1630.019381       67.0   среднее             1   \n",
       "21520         1    2113.346888       38.0   среднее             1   \n",
       "21521         3    3112.481705       38.0   среднее             1   \n",
       "21522         2    1984.507589       40.0   среднее             1   \n",
       "\n",
       "          family_status  family_status_id gender income_type  debt  \\\n",
       "21518  гражданский брак                 1      F   компаньон     0   \n",
       "21519   женат / замужем                 0      F   пенсионер     0   \n",
       "21520  гражданский брак                 1      M   сотрудник     1   \n",
       "21521   женат / замужем                 0      M   сотрудник     1   \n",
       "21522   женат / замужем                 0      F   сотрудник     0   \n",
       "\n",
       "       total_income                       purpose  \n",
       "21518        224791             операции с жильем  \n",
       "21519        155999          сделка с автомобилем  \n",
       "21520         89672                  недвижимость  \n",
       "21521        244093  на покупку своего автомобиля  \n",
       "21522         82047         на покупку автомобиля  "
      ]
     },
     "metadata": {},
     "output_type": "display_data"
    }
   ],
   "source": [
    "# ИЗМЕНЕНО ПОСЛЕ РЕВЬЮ\n",
    "data = data.reset_index(drop=True)\n",
    "display(data.tail(5))"
   ]
  },
  {
   "cell_type": "markdown",
   "metadata": {},
   "source": [
    "#### Уберём неявные дубликаты из столбца `education`:"
   ]
  },
  {
   "cell_type": "code",
   "execution_count": 30,
   "metadata": {},
   "outputs": [
    {
     "data": {
      "text/plain": [
       "array(['высшее', 'среднее', 'неоконченное высшее', 'начальное',\n",
       "       'ученая степень'], dtype=object)"
      ]
     },
     "metadata": {},
     "output_type": "display_data"
    }
   ],
   "source": [
    "# приведём всё к нижнему регистуру\n",
    "data['education'] = data['education'].str.lower()\n",
    "display(data['education'].unique())"
   ]
  },
  {
   "cell_type": "markdown",
   "metadata": {},
   "source": [
    "### Шаг 2.5. Формирование дополнительных датафреймов словарей, декомпозиция исходного датафрейма."
   ]
  },
  {
   "cell_type": "markdown",
   "metadata": {},
   "source": [
    "#### Сформируем датафрейм `education_dict`:"
   ]
  },
  {
   "cell_type": "code",
   "execution_count": 31,
   "metadata": {},
   "outputs": [
    {
     "data": {
      "text/html": [
       "<div>\n",
       "<style scoped>\n",
       "    .dataframe tbody tr th:only-of-type {\n",
       "        vertical-align: middle;\n",
       "    }\n",
       "\n",
       "    .dataframe tbody tr th {\n",
       "        vertical-align: top;\n",
       "    }\n",
       "\n",
       "    .dataframe thead th {\n",
       "        text-align: right;\n",
       "    }\n",
       "</style>\n",
       "<table border=\"1\" class=\"dataframe\">\n",
       "  <thead>\n",
       "    <tr style=\"text-align: right;\">\n",
       "      <th></th>\n",
       "      <th>education</th>\n",
       "    </tr>\n",
       "    <tr>\n",
       "      <th>education_id</th>\n",
       "      <th></th>\n",
       "    </tr>\n",
       "  </thead>\n",
       "  <tbody>\n",
       "    <tr>\n",
       "      <th>0</th>\n",
       "      <td>высшее</td>\n",
       "    </tr>\n",
       "    <tr>\n",
       "      <th>1</th>\n",
       "      <td>среднее</td>\n",
       "    </tr>\n",
       "    <tr>\n",
       "      <th>2</th>\n",
       "      <td>неоконченное высшее</td>\n",
       "    </tr>\n",
       "    <tr>\n",
       "      <th>3</th>\n",
       "      <td>начальное</td>\n",
       "    </tr>\n",
       "    <tr>\n",
       "      <th>4</th>\n",
       "      <td>ученая степень</td>\n",
       "    </tr>\n",
       "  </tbody>\n",
       "</table>\n",
       "</div>"
      ],
      "text/plain": [
       "                        education\n",
       "education_id                     \n",
       "0                          высшее\n",
       "1                         среднее\n",
       "2             неоконченное высшее\n",
       "3                       начальное\n",
       "4                  ученая степень"
      ]
     },
     "metadata": {},
     "output_type": "display_data"
    }
   ],
   "source": [
    "education_dict = data[['education', 'education_id']]\n",
    "education_dict = education_dict.drop_duplicates().reset_index(drop=True)\n",
    "education_dict = education_dict.set_index('education_id') # Установили как индекс 'education_id'\n",
    "display(education_dict)"
   ]
  },
  {
   "cell_type": "markdown",
   "metadata": {},
   "source": [
    "#### Сформируем датафрейм `family_dict`:"
   ]
  },
  {
   "cell_type": "code",
   "execution_count": 32,
   "metadata": {},
   "outputs": [
    {
     "data": {
      "text/html": [
       "<div>\n",
       "<style scoped>\n",
       "    .dataframe tbody tr th:only-of-type {\n",
       "        vertical-align: middle;\n",
       "    }\n",
       "\n",
       "    .dataframe tbody tr th {\n",
       "        vertical-align: top;\n",
       "    }\n",
       "\n",
       "    .dataframe thead th {\n",
       "        text-align: right;\n",
       "    }\n",
       "</style>\n",
       "<table border=\"1\" class=\"dataframe\">\n",
       "  <thead>\n",
       "    <tr style=\"text-align: right;\">\n",
       "      <th></th>\n",
       "      <th>family_status</th>\n",
       "    </tr>\n",
       "    <tr>\n",
       "      <th>family_status_id</th>\n",
       "      <th></th>\n",
       "    </tr>\n",
       "  </thead>\n",
       "  <tbody>\n",
       "    <tr>\n",
       "      <th>0</th>\n",
       "      <td>женат / замужем</td>\n",
       "    </tr>\n",
       "    <tr>\n",
       "      <th>1</th>\n",
       "      <td>гражданский брак</td>\n",
       "    </tr>\n",
       "    <tr>\n",
       "      <th>2</th>\n",
       "      <td>вдовец / вдова</td>\n",
       "    </tr>\n",
       "    <tr>\n",
       "      <th>3</th>\n",
       "      <td>в разводе</td>\n",
       "    </tr>\n",
       "    <tr>\n",
       "      <th>4</th>\n",
       "      <td>Не женат / не замужем</td>\n",
       "    </tr>\n",
       "  </tbody>\n",
       "</table>\n",
       "</div>"
      ],
      "text/plain": [
       "                          family_status\n",
       "family_status_id                       \n",
       "0                       женат / замужем\n",
       "1                      гражданский брак\n",
       "2                        вдовец / вдова\n",
       "3                             в разводе\n",
       "4                 Не женат / не замужем"
      ]
     },
     "metadata": {},
     "output_type": "display_data"
    }
   ],
   "source": [
    "family_dict = data[['family_status', 'family_status_id']]\n",
    "family_dict = family_dict.drop_duplicates().reset_index(drop=True)\n",
    "family_dict = family_dict.set_index('family_status_id') # Установили как индекс 'family_status_id'\n",
    "display(family_dict)"
   ]
  },
  {
   "cell_type": "code",
   "execution_count": 33,
   "metadata": {},
   "outputs": [],
   "source": [
    "data = data.drop(['education', 'family_status'], axis=1)\n",
    "# Удалили столбцы 'education', 'family_status'"
   ]
  },
  {
   "cell_type": "markdown",
   "metadata": {},
   "source": [
    "### Шаг 2.6. Категоризация дохода."
   ]
  },
  {
   "cell_type": "code",
   "execution_count": 34,
   "metadata": {},
   "outputs": [
    {
     "data": {
      "text/html": [
       "<div>\n",
       "<style scoped>\n",
       "    .dataframe tbody tr th:only-of-type {\n",
       "        vertical-align: middle;\n",
       "    }\n",
       "\n",
       "    .dataframe tbody tr th {\n",
       "        vertical-align: top;\n",
       "    }\n",
       "\n",
       "    .dataframe thead th {\n",
       "        text-align: right;\n",
       "    }\n",
       "</style>\n",
       "<table border=\"1\" class=\"dataframe\">\n",
       "  <thead>\n",
       "    <tr style=\"text-align: right;\">\n",
       "      <th></th>\n",
       "      <th>children</th>\n",
       "      <th>days_employed</th>\n",
       "      <th>dob_years</th>\n",
       "      <th>education_id</th>\n",
       "      <th>family_status_id</th>\n",
       "      <th>gender</th>\n",
       "      <th>income_type</th>\n",
       "      <th>debt</th>\n",
       "      <th>total_income</th>\n",
       "      <th>purpose</th>\n",
       "      <th>total_income_category</th>\n",
       "    </tr>\n",
       "  </thead>\n",
       "  <tbody>\n",
       "    <tr>\n",
       "      <th>0</th>\n",
       "      <td>1</td>\n",
       "      <td>8437.673028</td>\n",
       "      <td>42.0</td>\n",
       "      <td>0</td>\n",
       "      <td>0</td>\n",
       "      <td>F</td>\n",
       "      <td>сотрудник</td>\n",
       "      <td>0</td>\n",
       "      <td>253875</td>\n",
       "      <td>покупка жилья</td>\n",
       "      <td>B</td>\n",
       "    </tr>\n",
       "    <tr>\n",
       "      <th>1</th>\n",
       "      <td>1</td>\n",
       "      <td>4024.803754</td>\n",
       "      <td>36.0</td>\n",
       "      <td>1</td>\n",
       "      <td>0</td>\n",
       "      <td>F</td>\n",
       "      <td>сотрудник</td>\n",
       "      <td>0</td>\n",
       "      <td>112080</td>\n",
       "      <td>приобретение автомобиля</td>\n",
       "      <td>C</td>\n",
       "    </tr>\n",
       "    <tr>\n",
       "      <th>2</th>\n",
       "      <td>0</td>\n",
       "      <td>5623.422610</td>\n",
       "      <td>33.0</td>\n",
       "      <td>1</td>\n",
       "      <td>0</td>\n",
       "      <td>M</td>\n",
       "      <td>сотрудник</td>\n",
       "      <td>0</td>\n",
       "      <td>145885</td>\n",
       "      <td>покупка жилья</td>\n",
       "      <td>C</td>\n",
       "    </tr>\n",
       "    <tr>\n",
       "      <th>3</th>\n",
       "      <td>3</td>\n",
       "      <td>4124.747207</td>\n",
       "      <td>32.0</td>\n",
       "      <td>1</td>\n",
       "      <td>0</td>\n",
       "      <td>M</td>\n",
       "      <td>сотрудник</td>\n",
       "      <td>0</td>\n",
       "      <td>267628</td>\n",
       "      <td>дополнительное образование</td>\n",
       "      <td>B</td>\n",
       "    </tr>\n",
       "    <tr>\n",
       "      <th>4</th>\n",
       "      <td>0</td>\n",
       "      <td>1630.019381</td>\n",
       "      <td>53.0</td>\n",
       "      <td>1</td>\n",
       "      <td>1</td>\n",
       "      <td>F</td>\n",
       "      <td>пенсионер</td>\n",
       "      <td>0</td>\n",
       "      <td>158616</td>\n",
       "      <td>сыграть свадьбу</td>\n",
       "      <td>C</td>\n",
       "    </tr>\n",
       "  </tbody>\n",
       "</table>\n",
       "</div>"
      ],
      "text/plain": [
       "   children  days_employed  dob_years  education_id  family_status_id gender  \\\n",
       "0         1    8437.673028       42.0             0                 0      F   \n",
       "1         1    4024.803754       36.0             1                 0      F   \n",
       "2         0    5623.422610       33.0             1                 0      M   \n",
       "3         3    4124.747207       32.0             1                 0      M   \n",
       "4         0    1630.019381       53.0             1                 1      F   \n",
       "\n",
       "  income_type  debt  total_income                     purpose  \\\n",
       "0   сотрудник     0        253875               покупка жилья   \n",
       "1   сотрудник     0        112080     приобретение автомобиля   \n",
       "2   сотрудник     0        145885               покупка жилья   \n",
       "3   сотрудник     0        267628  дополнительное образование   \n",
       "4   пенсионер     0        158616             сыграть свадьбу   \n",
       "\n",
       "  total_income_category  \n",
       "0                     B  \n",
       "1                     C  \n",
       "2                     C  \n",
       "3                     B  \n",
       "4                     C  "
      ]
     },
     "metadata": {},
     "output_type": "display_data"
    }
   ],
   "source": [
    "# Для начала создадим функцию, которая возвращает категорию в зависимости от дохода\n",
    "def get_income_category(income):\n",
    "    ''' Доходы поделим по категориям:\n",
    "        0–30000 — 'E';\n",
    "        30001–50000 — 'D';\n",
    "        50001–200000 — 'C';\n",
    "        200001–1000000 — 'B';\n",
    "        1000001 и выше — 'A'.'''\n",
    "    if income <= 30000:\n",
    "        return 'E'\n",
    "    if income <= 50000:\n",
    "        return 'D'\n",
    "    if income <= 200000:\n",
    "        return 'C'\n",
    "    if income <= 1000000:\n",
    "        return 'B'\n",
    "    return 'A'\n",
    "\n",
    "# Добавим новый столбец 'total_income_category'\n",
    "data['total_income_category'] = data['total_income'].apply(get_income_category)\n",
    "display(data.head(5))"
   ]
  },
  {
   "cell_type": "markdown",
   "metadata": {},
   "source": [
    "### Шаг 2.7. Категоризация целей кредита."
   ]
  },
  {
   "cell_type": "code",
   "execution_count": 35,
   "metadata": {},
   "outputs": [
    {
     "data": {
      "text/html": [
       "<div>\n",
       "<style scoped>\n",
       "    .dataframe tbody tr th:only-of-type {\n",
       "        vertical-align: middle;\n",
       "    }\n",
       "\n",
       "    .dataframe tbody tr th {\n",
       "        vertical-align: top;\n",
       "    }\n",
       "\n",
       "    .dataframe thead th {\n",
       "        text-align: right;\n",
       "    }\n",
       "</style>\n",
       "<table border=\"1\" class=\"dataframe\">\n",
       "  <thead>\n",
       "    <tr style=\"text-align: right;\">\n",
       "      <th></th>\n",
       "      <th>children</th>\n",
       "      <th>days_employed</th>\n",
       "      <th>dob_years</th>\n",
       "      <th>education_id</th>\n",
       "      <th>family_status_id</th>\n",
       "      <th>gender</th>\n",
       "      <th>income_type</th>\n",
       "      <th>debt</th>\n",
       "      <th>total_income</th>\n",
       "      <th>purpose</th>\n",
       "      <th>total_income_category</th>\n",
       "      <th>purpose_category</th>\n",
       "    </tr>\n",
       "  </thead>\n",
       "  <tbody>\n",
       "    <tr>\n",
       "      <th>0</th>\n",
       "      <td>1</td>\n",
       "      <td>8437.673028</td>\n",
       "      <td>42.0</td>\n",
       "      <td>0</td>\n",
       "      <td>0</td>\n",
       "      <td>F</td>\n",
       "      <td>сотрудник</td>\n",
       "      <td>0</td>\n",
       "      <td>253875</td>\n",
       "      <td>покупка жилья</td>\n",
       "      <td>B</td>\n",
       "      <td>операции с недвижимостью</td>\n",
       "    </tr>\n",
       "    <tr>\n",
       "      <th>1</th>\n",
       "      <td>1</td>\n",
       "      <td>4024.803754</td>\n",
       "      <td>36.0</td>\n",
       "      <td>1</td>\n",
       "      <td>0</td>\n",
       "      <td>F</td>\n",
       "      <td>сотрудник</td>\n",
       "      <td>0</td>\n",
       "      <td>112080</td>\n",
       "      <td>приобретение автомобиля</td>\n",
       "      <td>C</td>\n",
       "      <td>операции с автомобилем</td>\n",
       "    </tr>\n",
       "    <tr>\n",
       "      <th>2</th>\n",
       "      <td>0</td>\n",
       "      <td>5623.422610</td>\n",
       "      <td>33.0</td>\n",
       "      <td>1</td>\n",
       "      <td>0</td>\n",
       "      <td>M</td>\n",
       "      <td>сотрудник</td>\n",
       "      <td>0</td>\n",
       "      <td>145885</td>\n",
       "      <td>покупка жилья</td>\n",
       "      <td>C</td>\n",
       "      <td>операции с недвижимостью</td>\n",
       "    </tr>\n",
       "    <tr>\n",
       "      <th>3</th>\n",
       "      <td>3</td>\n",
       "      <td>4124.747207</td>\n",
       "      <td>32.0</td>\n",
       "      <td>1</td>\n",
       "      <td>0</td>\n",
       "      <td>M</td>\n",
       "      <td>сотрудник</td>\n",
       "      <td>0</td>\n",
       "      <td>267628</td>\n",
       "      <td>дополнительное образование</td>\n",
       "      <td>B</td>\n",
       "      <td>получение образования</td>\n",
       "    </tr>\n",
       "    <tr>\n",
       "      <th>4</th>\n",
       "      <td>0</td>\n",
       "      <td>1630.019381</td>\n",
       "      <td>53.0</td>\n",
       "      <td>1</td>\n",
       "      <td>1</td>\n",
       "      <td>F</td>\n",
       "      <td>пенсионер</td>\n",
       "      <td>0</td>\n",
       "      <td>158616</td>\n",
       "      <td>сыграть свадьбу</td>\n",
       "      <td>C</td>\n",
       "      <td>проведение свадьбы</td>\n",
       "    </tr>\n",
       "  </tbody>\n",
       "</table>\n",
       "</div>"
      ],
      "text/plain": [
       "   children  days_employed  dob_years  education_id  family_status_id gender  \\\n",
       "0         1    8437.673028       42.0             0                 0      F   \n",
       "1         1    4024.803754       36.0             1                 0      F   \n",
       "2         0    5623.422610       33.0             1                 0      M   \n",
       "3         3    4124.747207       32.0             1                 0      M   \n",
       "4         0    1630.019381       53.0             1                 1      F   \n",
       "\n",
       "  income_type  debt  total_income                     purpose  \\\n",
       "0   сотрудник     0        253875               покупка жилья   \n",
       "1   сотрудник     0        112080     приобретение автомобиля   \n",
       "2   сотрудник     0        145885               покупка жилья   \n",
       "3   сотрудник     0        267628  дополнительное образование   \n",
       "4   пенсионер     0        158616             сыграть свадьбу   \n",
       "\n",
       "  total_income_category          purpose_category  \n",
       "0                     B  операции с недвижимостью  \n",
       "1                     C    операции с автомобилем  \n",
       "2                     C  операции с недвижимостью  \n",
       "3                     B     получение образования  \n",
       "4                     C        проведение свадьбы  "
      ]
     },
     "metadata": {},
     "output_type": "display_data"
    }
   ],
   "source": [
    "# Cоздадим функцию, которая возвращает категорию в зависимости от целей кредита\n",
    "def get_purpose_category(purpose):\n",
    "    ''' Цели поделим по категориям:\n",
    "        'операции с автомобилем',\n",
    "        'операции с недвижимостью',\n",
    "        'проведение свадьбы',\n",
    "        'получение образования'.'''\n",
    "    if 'автомобил' in purpose:\n",
    "        return 'операции с автомобилем'\n",
    "    if 'жиль' in purpose or 'недвижимост' in purpose:\n",
    "        return 'операции с недвижимостью'\n",
    "    if 'свадьб' in purpose:\n",
    "        return 'проведение свадьбы'\n",
    "    if 'образова' in purpose:\n",
    "        return 'получение образования'\n",
    "\n",
    "# Добавим новый столбец 'total_purpose_category'\n",
    "data['purpose_category'] = data['purpose'].apply(get_purpose_category)\n",
    "display(data.head(5))"
   ]
  },
  {
   "cell_type": "markdown",
   "metadata": {},
   "source": [
    "### Ответы на вопросы."
   ]
  },
  {
   "cell_type": "code",
   "execution_count": 36,
   "metadata": {},
   "outputs": [],
   "source": [
    "# ИЗМЕНЕНО ПОСЛЕ РЕВЬЮ\n",
    "data_copy = data.copy() # создадим копию датафрейма 'data' для экспериментов"
   ]
  },
  {
   "cell_type": "markdown",
   "metadata": {},
   "source": [
    "##### Вопрос 1:\n",
    "Есть ли зависимость между количеством детей и возвратом кредита в срок?"
   ]
  },
  {
   "cell_type": "code",
   "execution_count": 37,
   "metadata": {},
   "outputs": [
    {
     "data": {
      "text/html": [
       "<div>\n",
       "<style scoped>\n",
       "    .dataframe tbody tr th:only-of-type {\n",
       "        vertical-align: middle;\n",
       "    }\n",
       "\n",
       "    .dataframe tbody tr th {\n",
       "        vertical-align: top;\n",
       "    }\n",
       "\n",
       "    .dataframe thead th {\n",
       "        text-align: right;\n",
       "    }\n",
       "</style>\n",
       "<table border=\"1\" class=\"dataframe\">\n",
       "  <thead>\n",
       "    <tr style=\"text-align: right;\">\n",
       "      <th>debt</th>\n",
       "      <th>0</th>\n",
       "      <th>1</th>\n",
       "    </tr>\n",
       "    <tr>\n",
       "      <th>children</th>\n",
       "      <th></th>\n",
       "      <th></th>\n",
       "    </tr>\n",
       "  </thead>\n",
       "  <tbody>\n",
       "    <tr>\n",
       "      <th>0</th>\n",
       "      <td>13084.0</td>\n",
       "      <td>1063.0</td>\n",
       "    </tr>\n",
       "    <tr>\n",
       "      <th>1</th>\n",
       "      <td>4420.0</td>\n",
       "      <td>445.0</td>\n",
       "    </tr>\n",
       "    <tr>\n",
       "      <th>2</th>\n",
       "      <td>1929.0</td>\n",
       "      <td>202.0</td>\n",
       "    </tr>\n",
       "    <tr>\n",
       "      <th>3</th>\n",
       "      <td>303.0</td>\n",
       "      <td>27.0</td>\n",
       "    </tr>\n",
       "    <tr>\n",
       "      <th>4</th>\n",
       "      <td>37.0</td>\n",
       "      <td>4.0</td>\n",
       "    </tr>\n",
       "    <tr>\n",
       "      <th>5</th>\n",
       "      <td>9.0</td>\n",
       "      <td>NaN</td>\n",
       "    </tr>\n",
       "  </tbody>\n",
       "</table>\n",
       "</div>"
      ],
      "text/plain": [
       "debt            0       1\n",
       "children                 \n",
       "0         13084.0  1063.0\n",
       "1          4420.0   445.0\n",
       "2          1929.0   202.0\n",
       "3           303.0    27.0\n",
       "4            37.0     4.0\n",
       "5             9.0     NaN"
      ]
     },
     "metadata": {},
     "output_type": "display_data"
    }
   ],
   "source": [
    "# ИЗМЕНЕНО ПОСЛЕ РЕВЬЮ\n",
    "# Создадим сводную таблицу со столбцами \"0\" - нет задолжности, \"1\" - есть задолжность. В строках будут категории заёмщиков. \n",
    "data_children = data_copy.pivot_table(index='children', columns='debt', values='dob_years', aggfunc='count')\n",
    "display(data_children)"
   ]
  },
  {
   "cell_type": "markdown",
   "metadata": {},
   "source": [
    "Выборка по клиентам с 5 и 4 детьми не репрезентативна, объеденим эту группу клиентов с группой клиентов с 3 детьми и посмотрим получившиеся результаты."
   ]
  },
  {
   "cell_type": "code",
   "execution_count": 38,
   "metadata": {},
   "outputs": [
    {
     "data": {
      "text/html": [
       "<div>\n",
       "<style scoped>\n",
       "    .dataframe tbody tr th:only-of-type {\n",
       "        vertical-align: middle;\n",
       "    }\n",
       "\n",
       "    .dataframe tbody tr th {\n",
       "        vertical-align: top;\n",
       "    }\n",
       "\n",
       "    .dataframe thead th {\n",
       "        text-align: right;\n",
       "    }\n",
       "</style>\n",
       "<table border=\"1\" class=\"dataframe\">\n",
       "  <thead>\n",
       "    <tr style=\"text-align: right;\">\n",
       "      <th>debt</th>\n",
       "      <th>0</th>\n",
       "      <th>1</th>\n",
       "    </tr>\n",
       "    <tr>\n",
       "      <th>children</th>\n",
       "      <th></th>\n",
       "      <th></th>\n",
       "    </tr>\n",
       "  </thead>\n",
       "  <tbody>\n",
       "    <tr>\n",
       "      <th>0</th>\n",
       "      <td>13084</td>\n",
       "      <td>1063</td>\n",
       "    </tr>\n",
       "    <tr>\n",
       "      <th>1</th>\n",
       "      <td>4420</td>\n",
       "      <td>445</td>\n",
       "    </tr>\n",
       "    <tr>\n",
       "      <th>2</th>\n",
       "      <td>1929</td>\n",
       "      <td>202</td>\n",
       "    </tr>\n",
       "    <tr>\n",
       "      <th>3+</th>\n",
       "      <td>349</td>\n",
       "      <td>31</td>\n",
       "    </tr>\n",
       "  </tbody>\n",
       "</table>\n",
       "</div>"
      ],
      "text/plain": [
       "debt          0     1\n",
       "children             \n",
       "0         13084  1063\n",
       "1          4420   445\n",
       "2          1929   202\n",
       "3+          349    31"
      ]
     },
     "metadata": {},
     "output_type": "display_data"
    }
   ],
   "source": [
    "# ИЗМЕНЕНО ПОСЛЕ РЕВЬЮ\n",
    "data_copy['children'] = data_copy['children'].astype(str) # Изменим тип данных в столбце 'children' на строковый\n",
    "# Объединим в одну категорию клиентов с тремя и более детьми\n",
    "data_copy.loc[(data_copy['children'] == '4') | (data_copy['children'] == '5') | (data_copy['children'] == '3'), 'children'] = '3+'\n",
    "data_children = data_copy.pivot_table(index='children', columns='debt', values='dob_years', aggfunc='count')\n",
    "display(data_children)"
   ]
  },
  {
   "cell_type": "markdown",
   "metadata": {},
   "source": [
    "##### Вывод 1:"
   ]
  },
  {
   "cell_type": "code",
   "execution_count": 39,
   "metadata": {},
   "outputs": [
    {
     "data": {
      "text/html": [
       "<div>\n",
       "<style scoped>\n",
       "    .dataframe tbody tr th:only-of-type {\n",
       "        vertical-align: middle;\n",
       "    }\n",
       "\n",
       "    .dataframe tbody tr th {\n",
       "        vertical-align: top;\n",
       "    }\n",
       "\n",
       "    .dataframe thead th {\n",
       "        text-align: right;\n",
       "    }\n",
       "</style>\n",
       "<table border=\"1\" class=\"dataframe\">\n",
       "  <thead>\n",
       "    <tr style=\"text-align: right;\">\n",
       "      <th>debt</th>\n",
       "      <th>0</th>\n",
       "      <th>1</th>\n",
       "      <th>part_debt</th>\n",
       "    </tr>\n",
       "    <tr>\n",
       "      <th>children</th>\n",
       "      <th></th>\n",
       "      <th></th>\n",
       "      <th></th>\n",
       "    </tr>\n",
       "  </thead>\n",
       "  <tbody>\n",
       "    <tr>\n",
       "      <th>0</th>\n",
       "      <td>13084</td>\n",
       "      <td>1063</td>\n",
       "      <td>0.075140</td>\n",
       "    </tr>\n",
       "    <tr>\n",
       "      <th>3+</th>\n",
       "      <td>349</td>\n",
       "      <td>31</td>\n",
       "      <td>0.081579</td>\n",
       "    </tr>\n",
       "    <tr>\n",
       "      <th>1</th>\n",
       "      <td>4420</td>\n",
       "      <td>445</td>\n",
       "      <td>0.091470</td>\n",
       "    </tr>\n",
       "    <tr>\n",
       "      <th>2</th>\n",
       "      <td>1929</td>\n",
       "      <td>202</td>\n",
       "      <td>0.094791</td>\n",
       "    </tr>\n",
       "  </tbody>\n",
       "</table>\n",
       "</div>"
      ],
      "text/plain": [
       "debt          0     1  part_debt\n",
       "children                        \n",
       "0         13084  1063   0.075140\n",
       "3+          349    31   0.081579\n",
       "1          4420   445   0.091470\n",
       "2          1929   202   0.094791"
      ]
     },
     "metadata": {},
     "output_type": "display_data"
    }
   ],
   "source": [
    "# Добавим столбец `part_debt` в котором покажем долю должников по категориям\n",
    "data_children['part_debt'] = data_children[1] / (data_children[0] + data_children[1]) \n",
    "display(data_children.sort_values(by='part_debt'))  # cортируем по возрастанию"
   ]
  },
  {
   "cell_type": "markdown",
   "metadata": {},
   "source": [
    "Зависимость количества детей на возврать кредита:\n",
    "клиенты без детей более дисциплинированы, чем клиенты с детьми.\n",
    "1. По столбцу `part_debt` видим, что **наиболее** дисциплинированные **клиенты без детей**. \n",
    "2. Следом идут клиенты у которыех **3 и более детей**. \n",
    "3. **Наименее** дисциплинированы клиенты с **одним или двумя детьми**. "
   ]
  },
  {
   "cell_type": "markdown",
   "metadata": {},
   "source": [
    "##### Вопрос 2:\n",
    "Есть ли зависимость между семейным положением и возвратом кредита в срок?"
   ]
  },
  {
   "cell_type": "code",
   "execution_count": 40,
   "metadata": {},
   "outputs": [
    {
     "data": {
      "text/html": [
       "<div>\n",
       "<style scoped>\n",
       "    .dataframe tbody tr th:only-of-type {\n",
       "        vertical-align: middle;\n",
       "    }\n",
       "\n",
       "    .dataframe tbody tr th {\n",
       "        vertical-align: top;\n",
       "    }\n",
       "\n",
       "    .dataframe thead th {\n",
       "        text-align: right;\n",
       "    }\n",
       "</style>\n",
       "<table border=\"1\" class=\"dataframe\">\n",
       "  <thead>\n",
       "    <tr style=\"text-align: right;\">\n",
       "      <th>debt</th>\n",
       "      <th>0</th>\n",
       "      <th>1</th>\n",
       "    </tr>\n",
       "    <tr>\n",
       "      <th>family_status_id</th>\n",
       "      <th></th>\n",
       "      <th></th>\n",
       "    </tr>\n",
       "  </thead>\n",
       "  <tbody>\n",
       "    <tr>\n",
       "      <th>0</th>\n",
       "      <td>11447</td>\n",
       "      <td>931</td>\n",
       "    </tr>\n",
       "    <tr>\n",
       "      <th>1</th>\n",
       "      <td>3789</td>\n",
       "      <td>388</td>\n",
       "    </tr>\n",
       "    <tr>\n",
       "      <th>2</th>\n",
       "      <td>897</td>\n",
       "      <td>63</td>\n",
       "    </tr>\n",
       "    <tr>\n",
       "      <th>3</th>\n",
       "      <td>1110</td>\n",
       "      <td>85</td>\n",
       "    </tr>\n",
       "    <tr>\n",
       "      <th>4</th>\n",
       "      <td>2539</td>\n",
       "      <td>274</td>\n",
       "    </tr>\n",
       "  </tbody>\n",
       "</table>\n",
       "</div>"
      ],
      "text/plain": [
       "debt                  0    1\n",
       "family_status_id            \n",
       "0                 11447  931\n",
       "1                  3789  388\n",
       "2                   897   63\n",
       "3                  1110   85\n",
       "4                  2539  274"
      ]
     },
     "metadata": {},
     "output_type": "display_data"
    },
    {
     "data": {
      "text/html": [
       "<div>\n",
       "<style scoped>\n",
       "    .dataframe tbody tr th:only-of-type {\n",
       "        vertical-align: middle;\n",
       "    }\n",
       "\n",
       "    .dataframe tbody tr th {\n",
       "        vertical-align: top;\n",
       "    }\n",
       "\n",
       "    .dataframe thead th {\n",
       "        text-align: right;\n",
       "    }\n",
       "</style>\n",
       "<table border=\"1\" class=\"dataframe\">\n",
       "  <thead>\n",
       "    <tr style=\"text-align: right;\">\n",
       "      <th>debt</th>\n",
       "      <th>0</th>\n",
       "      <th>1</th>\n",
       "    </tr>\n",
       "    <tr>\n",
       "      <th>family_status_id</th>\n",
       "      <th></th>\n",
       "      <th></th>\n",
       "    </tr>\n",
       "  </thead>\n",
       "  <tbody>\n",
       "    <tr>\n",
       "      <th>женат / замужем</th>\n",
       "      <td>11447</td>\n",
       "      <td>931</td>\n",
       "    </tr>\n",
       "    <tr>\n",
       "      <th>гражданский брак</th>\n",
       "      <td>3789</td>\n",
       "      <td>388</td>\n",
       "    </tr>\n",
       "    <tr>\n",
       "      <th>вдовец / вдова</th>\n",
       "      <td>897</td>\n",
       "      <td>63</td>\n",
       "    </tr>\n",
       "    <tr>\n",
       "      <th>в разводе</th>\n",
       "      <td>1110</td>\n",
       "      <td>85</td>\n",
       "    </tr>\n",
       "    <tr>\n",
       "      <th>Не женат / не замужем</th>\n",
       "      <td>2539</td>\n",
       "      <td>274</td>\n",
       "    </tr>\n",
       "  </tbody>\n",
       "</table>\n",
       "</div>"
      ],
      "text/plain": [
       "debt                       0    1\n",
       "family_status_id                 \n",
       "женат / замужем        11447  931\n",
       "гражданский брак        3789  388\n",
       "вдовец / вдова           897   63\n",
       "в разводе               1110   85\n",
       "Не женат / не замужем   2539  274"
      ]
     },
     "metadata": {},
     "output_type": "display_data"
    }
   ],
   "source": [
    "# ИЗМЕНЕНО ПОСЛЕ РЕВЬЮ\n",
    "# Создадим сводную таблицу со столбцами \"0\" - нет задолжности, \"1\" - есть задолжность. В строках будут категории заёмщиков. \n",
    "data_family = data_copy.pivot_table(index='family_status_id', columns='debt', values='dob_years', aggfunc='count')\n",
    "display(data_family)\n",
    "# Заменим \"family_status_id\" на соответствующий \"family status\" from 'family_dict'.\n",
    "data_family = data_family.rename(index=family_dict['family_status'])\n",
    "display(data_family)"
   ]
  },
  {
   "cell_type": "markdown",
   "metadata": {},
   "source": [
    "#### Вывод 2:"
   ]
  },
  {
   "cell_type": "code",
   "execution_count": 41,
   "metadata": {},
   "outputs": [
    {
     "data": {
      "text/html": [
       "<div>\n",
       "<style scoped>\n",
       "    .dataframe tbody tr th:only-of-type {\n",
       "        vertical-align: middle;\n",
       "    }\n",
       "\n",
       "    .dataframe tbody tr th {\n",
       "        vertical-align: top;\n",
       "    }\n",
       "\n",
       "    .dataframe thead th {\n",
       "        text-align: right;\n",
       "    }\n",
       "</style>\n",
       "<table border=\"1\" class=\"dataframe\">\n",
       "  <thead>\n",
       "    <tr style=\"text-align: right;\">\n",
       "      <th>debt</th>\n",
       "      <th>0</th>\n",
       "      <th>1</th>\n",
       "      <th>part_debt</th>\n",
       "    </tr>\n",
       "    <tr>\n",
       "      <th>family_status_id</th>\n",
       "      <th></th>\n",
       "      <th></th>\n",
       "      <th></th>\n",
       "    </tr>\n",
       "  </thead>\n",
       "  <tbody>\n",
       "    <tr>\n",
       "      <th>вдовец / вдова</th>\n",
       "      <td>897</td>\n",
       "      <td>63</td>\n",
       "      <td>0.065625</td>\n",
       "    </tr>\n",
       "    <tr>\n",
       "      <th>в разводе</th>\n",
       "      <td>1110</td>\n",
       "      <td>85</td>\n",
       "      <td>0.071130</td>\n",
       "    </tr>\n",
       "    <tr>\n",
       "      <th>женат / замужем</th>\n",
       "      <td>11447</td>\n",
       "      <td>931</td>\n",
       "      <td>0.075214</td>\n",
       "    </tr>\n",
       "    <tr>\n",
       "      <th>гражданский брак</th>\n",
       "      <td>3789</td>\n",
       "      <td>388</td>\n",
       "      <td>0.092890</td>\n",
       "    </tr>\n",
       "    <tr>\n",
       "      <th>Не женат / не замужем</th>\n",
       "      <td>2539</td>\n",
       "      <td>274</td>\n",
       "      <td>0.097405</td>\n",
       "    </tr>\n",
       "  </tbody>\n",
       "</table>\n",
       "</div>"
      ],
      "text/plain": [
       "debt                       0    1  part_debt\n",
       "family_status_id                            \n",
       "вдовец / вдова           897   63   0.065625\n",
       "в разводе               1110   85   0.071130\n",
       "женат / замужем        11447  931   0.075214\n",
       "гражданский брак        3789  388   0.092890\n",
       "Не женат / не замужем   2539  274   0.097405"
      ]
     },
     "metadata": {},
     "output_type": "display_data"
    }
   ],
   "source": [
    "data_family['part_debt'] = data_family[1] / (data_family[0] + data_family[1])\n",
    "display(data_family.sort_values('part_debt'))"
   ]
  },
  {
   "cell_type": "markdown",
   "metadata": {},
   "source": [
    "Есть зависимость от семейного положения.\n",
    "Из полученной таблицы видно:\n",
    "1. **Лучшая** кредитная дисциплина у клиентов указавших статус **\"вдовец / вдова\"**.\n",
    "2. **Худшая** кредитная дисциплина у клиентов указавших статус **\"Не женат / не замужем\"**."
   ]
  },
  {
   "cell_type": "markdown",
   "metadata": {},
   "source": [
    "#### Вопрос 3:\n",
    "Есть ли зависимость между уровнем дохода и возвратом кредита в срок?"
   ]
  },
  {
   "cell_type": "code",
   "execution_count": 42,
   "metadata": {},
   "outputs": [
    {
     "data": {
      "text/html": [
       "<div>\n",
       "<style scoped>\n",
       "    .dataframe tbody tr th:only-of-type {\n",
       "        vertical-align: middle;\n",
       "    }\n",
       "\n",
       "    .dataframe tbody tr th {\n",
       "        vertical-align: top;\n",
       "    }\n",
       "\n",
       "    .dataframe thead th {\n",
       "        text-align: right;\n",
       "    }\n",
       "</style>\n",
       "<table border=\"1\" class=\"dataframe\">\n",
       "  <thead>\n",
       "    <tr style=\"text-align: right;\">\n",
       "      <th>debt</th>\n",
       "      <th>0</th>\n",
       "      <th>1</th>\n",
       "    </tr>\n",
       "    <tr>\n",
       "      <th>total_income_category</th>\n",
       "      <th></th>\n",
       "      <th></th>\n",
       "    </tr>\n",
       "  </thead>\n",
       "  <tbody>\n",
       "    <tr>\n",
       "      <th>A</th>\n",
       "      <td>23</td>\n",
       "      <td>2</td>\n",
       "    </tr>\n",
       "    <tr>\n",
       "      <th>B</th>\n",
       "      <td>4685</td>\n",
       "      <td>356</td>\n",
       "    </tr>\n",
       "    <tr>\n",
       "      <th>C</th>\n",
       "      <td>14725</td>\n",
       "      <td>1360</td>\n",
       "    </tr>\n",
       "    <tr>\n",
       "      <th>D</th>\n",
       "      <td>329</td>\n",
       "      <td>21</td>\n",
       "    </tr>\n",
       "    <tr>\n",
       "      <th>E</th>\n",
       "      <td>20</td>\n",
       "      <td>2</td>\n",
       "    </tr>\n",
       "  </tbody>\n",
       "</table>\n",
       "</div>"
      ],
      "text/plain": [
       "debt                       0     1\n",
       "total_income_category             \n",
       "A                         23     2\n",
       "B                       4685   356\n",
       "C                      14725  1360\n",
       "D                        329    21\n",
       "E                         20     2"
      ]
     },
     "metadata": {},
     "output_type": "display_data"
    }
   ],
   "source": [
    "# ИЗМЕНЕНО ПОСЛЕ РЕВЬЮ\n",
    "# Создадим сводную таблицу со столбцами \"0\" - нет задолжности, \"1\" - есть задолжность. В строках будут категории заёмщиков. \n",
    "data_income = data_copy.pivot_table(index='total_income_category', columns='debt', values='dob_years', aggfunc='count')\n",
    "display(data_income)"
   ]
  },
  {
   "cell_type": "markdown",
   "metadata": {},
   "source": [
    "Категории \"А\" и \"Е\" слишком малы, поэтому соединим их с категориями \"В\" и \"D\" соответственно."
   ]
  },
  {
   "cell_type": "code",
   "execution_count": 43,
   "metadata": {},
   "outputs": [
    {
     "data": {
      "text/html": [
       "<div>\n",
       "<style scoped>\n",
       "    .dataframe tbody tr th:only-of-type {\n",
       "        vertical-align: middle;\n",
       "    }\n",
       "\n",
       "    .dataframe tbody tr th {\n",
       "        vertical-align: top;\n",
       "    }\n",
       "\n",
       "    .dataframe thead th {\n",
       "        text-align: right;\n",
       "    }\n",
       "</style>\n",
       "<table border=\"1\" class=\"dataframe\">\n",
       "  <thead>\n",
       "    <tr style=\"text-align: right;\">\n",
       "      <th>debt</th>\n",
       "      <th>0</th>\n",
       "      <th>1</th>\n",
       "    </tr>\n",
       "    <tr>\n",
       "      <th>total_income_category</th>\n",
       "      <th></th>\n",
       "      <th></th>\n",
       "    </tr>\n",
       "  </thead>\n",
       "  <tbody>\n",
       "    <tr>\n",
       "      <th>B</th>\n",
       "      <td>4708</td>\n",
       "      <td>358</td>\n",
       "    </tr>\n",
       "    <tr>\n",
       "      <th>C</th>\n",
       "      <td>14725</td>\n",
       "      <td>1360</td>\n",
       "    </tr>\n",
       "    <tr>\n",
       "      <th>D</th>\n",
       "      <td>349</td>\n",
       "      <td>23</td>\n",
       "    </tr>\n",
       "  </tbody>\n",
       "</table>\n",
       "</div>"
      ],
      "text/plain": [
       "debt                       0     1\n",
       "total_income_category             \n",
       "B                       4708   358\n",
       "C                      14725  1360\n",
       "D                        349    23"
      ]
     },
     "metadata": {},
     "output_type": "display_data"
    }
   ],
   "source": [
    "# ИЗМЕНЕНО ПОСЛЕ РЕВЬЮ\n",
    "data_copy.loc[data_copy['total_income_category'] == 'A', 'total_income_category'] = 'B'\n",
    "data_copy.loc[data_copy['total_income_category'] == 'E', 'total_income_category'] = 'D' \n",
    "data_income = data_copy.pivot_table(index='total_income_category', columns='debt', values='dob_years', aggfunc='count')\n",
    "display(data_income)"
   ]
  },
  {
   "cell_type": "markdown",
   "metadata": {},
   "source": [
    "#### Вывод 3:"
   ]
  },
  {
   "cell_type": "code",
   "execution_count": 44,
   "metadata": {},
   "outputs": [
    {
     "data": {
      "text/html": [
       "<div>\n",
       "<style scoped>\n",
       "    .dataframe tbody tr th:only-of-type {\n",
       "        vertical-align: middle;\n",
       "    }\n",
       "\n",
       "    .dataframe tbody tr th {\n",
       "        vertical-align: top;\n",
       "    }\n",
       "\n",
       "    .dataframe thead th {\n",
       "        text-align: right;\n",
       "    }\n",
       "</style>\n",
       "<table border=\"1\" class=\"dataframe\">\n",
       "  <thead>\n",
       "    <tr style=\"text-align: right;\">\n",
       "      <th>debt</th>\n",
       "      <th>0</th>\n",
       "      <th>1</th>\n",
       "      <th>part_debt</th>\n",
       "    </tr>\n",
       "    <tr>\n",
       "      <th>total_income_category</th>\n",
       "      <th></th>\n",
       "      <th></th>\n",
       "      <th></th>\n",
       "    </tr>\n",
       "  </thead>\n",
       "  <tbody>\n",
       "    <tr>\n",
       "      <th>D</th>\n",
       "      <td>349</td>\n",
       "      <td>23</td>\n",
       "      <td>0.061828</td>\n",
       "    </tr>\n",
       "    <tr>\n",
       "      <th>B</th>\n",
       "      <td>4708</td>\n",
       "      <td>358</td>\n",
       "      <td>0.070667</td>\n",
       "    </tr>\n",
       "    <tr>\n",
       "      <th>C</th>\n",
       "      <td>14725</td>\n",
       "      <td>1360</td>\n",
       "      <td>0.084551</td>\n",
       "    </tr>\n",
       "  </tbody>\n",
       "</table>\n",
       "</div>"
      ],
      "text/plain": [
       "debt                       0     1  part_debt\n",
       "total_income_category                        \n",
       "D                        349    23   0.061828\n",
       "B                       4708   358   0.070667\n",
       "C                      14725  1360   0.084551"
      ]
     },
     "metadata": {},
     "output_type": "display_data"
    }
   ],
   "source": [
    "# Добавим столбец 'part_debt'\n",
    "data_income['part_debt'] = data_income[1] / (data_income[0] + data_income[1])\n",
    "display(data_income.sort_values(by='part_debt'))"
   ]
  },
  {
   "cell_type": "markdown",
   "metadata": {},
   "source": [
    "Есть зависимость между уровнем дохода и возвратом кредита в срок:\n",
    "1. **Лучшие заёмщики** - клиенты с уровнем дохода **до 50000**\n",
    "2. **Худшие заёмщики** - клиенты с уровнем дохода в диапазоне: **50001–200000**."
   ]
  },
  {
   "cell_type": "markdown",
   "metadata": {},
   "source": [
    "#### Вопрос 4:\n",
    "Как разные цели кредита влияют на его возврат в срок?"
   ]
  },
  {
   "cell_type": "code",
   "execution_count": 45,
   "metadata": {},
   "outputs": [
    {
     "data": {
      "text/html": [
       "<div>\n",
       "<style scoped>\n",
       "    .dataframe tbody tr th:only-of-type {\n",
       "        vertical-align: middle;\n",
       "    }\n",
       "\n",
       "    .dataframe tbody tr th {\n",
       "        vertical-align: top;\n",
       "    }\n",
       "\n",
       "    .dataframe thead th {\n",
       "        text-align: right;\n",
       "    }\n",
       "</style>\n",
       "<table border=\"1\" class=\"dataframe\">\n",
       "  <thead>\n",
       "    <tr style=\"text-align: right;\">\n",
       "      <th>debt</th>\n",
       "      <th>0</th>\n",
       "      <th>1</th>\n",
       "    </tr>\n",
       "    <tr>\n",
       "      <th>purpose_category</th>\n",
       "      <th></th>\n",
       "      <th></th>\n",
       "    </tr>\n",
       "  </thead>\n",
       "  <tbody>\n",
       "    <tr>\n",
       "      <th>операции с автомобилем</th>\n",
       "      <td>3912</td>\n",
       "      <td>403</td>\n",
       "    </tr>\n",
       "    <tr>\n",
       "      <th>операции с недвижимостью</th>\n",
       "      <td>10056</td>\n",
       "      <td>782</td>\n",
       "    </tr>\n",
       "    <tr>\n",
       "      <th>получение образования</th>\n",
       "      <td>3652</td>\n",
       "      <td>370</td>\n",
       "    </tr>\n",
       "    <tr>\n",
       "      <th>проведение свадьбы</th>\n",
       "      <td>2162</td>\n",
       "      <td>186</td>\n",
       "    </tr>\n",
       "  </tbody>\n",
       "</table>\n",
       "</div>"
      ],
      "text/plain": [
       "debt                          0    1\n",
       "purpose_category                    \n",
       "операции с автомобилем     3912  403\n",
       "операции с недвижимостью  10056  782\n",
       "получение образования      3652  370\n",
       "проведение свадьбы         2162  186"
      ]
     },
     "metadata": {},
     "output_type": "display_data"
    }
   ],
   "source": [
    "# ИЗМЕНЕНО ПОСЛЕ РЕВЬЮ\n",
    "# Создадим сводную таблицу со столбцами \"0\" - нет задолжности, \"1\" - есть задолжность. В строках будут категории заёмщиков. \n",
    "data_target = data_copy.pivot_table(index='purpose_category', columns='debt', values='dob_years', aggfunc='count')\n",
    "display(data_target)"
   ]
  },
  {
   "cell_type": "markdown",
   "metadata": {},
   "source": [
    "#### Вывод 4:"
   ]
  },
  {
   "cell_type": "code",
   "execution_count": 46,
   "metadata": {},
   "outputs": [
    {
     "data": {
      "text/html": [
       "<div>\n",
       "<style scoped>\n",
       "    .dataframe tbody tr th:only-of-type {\n",
       "        vertical-align: middle;\n",
       "    }\n",
       "\n",
       "    .dataframe tbody tr th {\n",
       "        vertical-align: top;\n",
       "    }\n",
       "\n",
       "    .dataframe thead th {\n",
       "        text-align: right;\n",
       "    }\n",
       "</style>\n",
       "<table border=\"1\" class=\"dataframe\">\n",
       "  <thead>\n",
       "    <tr style=\"text-align: right;\">\n",
       "      <th>debt</th>\n",
       "      <th>0</th>\n",
       "      <th>1</th>\n",
       "      <th>part_debt</th>\n",
       "    </tr>\n",
       "    <tr>\n",
       "      <th>purpose_category</th>\n",
       "      <th></th>\n",
       "      <th></th>\n",
       "      <th></th>\n",
       "    </tr>\n",
       "  </thead>\n",
       "  <tbody>\n",
       "    <tr>\n",
       "      <th>операции с недвижимостью</th>\n",
       "      <td>10056</td>\n",
       "      <td>782</td>\n",
       "      <td>0.072154</td>\n",
       "    </tr>\n",
       "    <tr>\n",
       "      <th>проведение свадьбы</th>\n",
       "      <td>2162</td>\n",
       "      <td>186</td>\n",
       "      <td>0.079216</td>\n",
       "    </tr>\n",
       "    <tr>\n",
       "      <th>получение образования</th>\n",
       "      <td>3652</td>\n",
       "      <td>370</td>\n",
       "      <td>0.091994</td>\n",
       "    </tr>\n",
       "    <tr>\n",
       "      <th>операции с автомобилем</th>\n",
       "      <td>3912</td>\n",
       "      <td>403</td>\n",
       "      <td>0.093395</td>\n",
       "    </tr>\n",
       "  </tbody>\n",
       "</table>\n",
       "</div>"
      ],
      "text/plain": [
       "debt                          0    1  part_debt\n",
       "purpose_category                               \n",
       "операции с недвижимостью  10056  782   0.072154\n",
       "проведение свадьбы         2162  186   0.079216\n",
       "получение образования      3652  370   0.091994\n",
       "операции с автомобилем     3912  403   0.093395"
      ]
     },
     "metadata": {},
     "output_type": "display_data"
    }
   ],
   "source": [
    "# Добавим столбец 'part_debt'\n",
    "data_target ['part_debt'] = data_target [1] / (data_target [0] + data_target [1])\n",
    "display(data_target.sort_values(by='part_debt'))"
   ]
  },
  {
   "cell_type": "markdown",
   "metadata": {},
   "source": [
    "По целям произошло деление на **две группы**:\n",
    "1. **Хорошо** возвращают кредиты клиенты из категорий **\"операции с недвижимостью\", \"проведение свадьбы\"**.\n",
    "2. **Хуже** всего возвращают кредиты клиенты из категорий **\"получение образования\", \"операции с автомобилем\"**."
   ]
  },
  {
   "cell_type": "markdown",
   "metadata": {},
   "source": [
    "## Общий вывод:"
   ]
  },
  {
   "cell_type": "markdown",
   "metadata": {},
   "source": [
    "Наименее дисциплинированные заёмщики это: \n",
    "- клиенты с целями кредита: \"получение образования\", \"операции с автомобилем\";\n",
    "- клиенты с доходом в диапазоне 50001-200000;\n",
    "- клиенты, указавшие семейное положение \"Не женат / не замужем\";\n",
    "- клиенты с одним или двумя детьми.\n",
    "\n",
    "Хорошими заёмщиками с большой вероятностью могут быть:\n",
    "- клиенты, указавшие семейное положение: \"вдовец / вдова\", \"в разводе\", \"женат / не замужем\";\n",
    "- клиенты с доходом до 50000;\n",
    "- клиенты с целями кредита: \"операции с недвижимостью\", \"проведение свадьбы\"; \n",
    "- клиенты без детей."
   ]
  }
 ],
 "metadata": {
  "ExecuteTimeLog": [
   {
    "duration": 512,
    "start_time": "2022-05-19T11:23:44.714Z"
   },
   {
    "duration": 149,
    "start_time": "2022-05-19T11:23:58.964Z"
   },
   {
    "duration": 24,
    "start_time": "2022-05-19T11:25:11.667Z"
   },
   {
    "duration": 5,
    "start_time": "2022-05-19T11:27:22.799Z"
   },
   {
    "duration": 4,
    "start_time": "2022-05-19T11:27:25.308Z"
   },
   {
    "duration": 4,
    "start_time": "2022-05-19T11:27:27.180Z"
   },
   {
    "duration": 6,
    "start_time": "2022-05-19T11:27:27.578Z"
   },
   {
    "duration": 7,
    "start_time": "2022-05-19T11:30:09.604Z"
   },
   {
    "duration": 317,
    "start_time": "2022-05-19T11:36:55.054Z"
   },
   {
    "duration": 6,
    "start_time": "2022-05-19T11:43:02.583Z"
   },
   {
    "duration": 6,
    "start_time": "2022-05-19T11:43:15.603Z"
   },
   {
    "duration": 6,
    "start_time": "2022-05-19T11:43:22.005Z"
   },
   {
    "duration": 37,
    "start_time": "2022-05-19T11:46:57.314Z"
   },
   {
    "duration": 3,
    "start_time": "2022-05-19T11:47:36.648Z"
   },
   {
    "duration": 37,
    "start_time": "2022-05-19T11:49:09.865Z"
   },
   {
    "duration": 9,
    "start_time": "2022-05-19T11:49:26.262Z"
   },
   {
    "duration": 42,
    "start_time": "2022-05-19T11:49:48.129Z"
   },
   {
    "duration": 10,
    "start_time": "2022-05-19T11:50:12.686Z"
   },
   {
    "duration": 14,
    "start_time": "2022-05-19T11:50:15.303Z"
   },
   {
    "duration": 11,
    "start_time": "2022-05-19T11:52:52.493Z"
   },
   {
    "duration": 3,
    "start_time": "2022-05-19T11:54:46.785Z"
   },
   {
    "duration": 6,
    "start_time": "2022-05-19T11:58:25.390Z"
   },
   {
    "duration": 6,
    "start_time": "2022-05-19T12:00:07.596Z"
   },
   {
    "duration": 13,
    "start_time": "2022-05-19T12:00:17.292Z"
   },
   {
    "duration": 18,
    "start_time": "2022-05-19T12:00:27.438Z"
   },
   {
    "duration": 3,
    "start_time": "2022-05-19T12:00:38.724Z"
   },
   {
    "duration": 3,
    "start_time": "2022-05-19T12:00:51.216Z"
   },
   {
    "duration": 12,
    "start_time": "2022-05-19T12:00:59.906Z"
   },
   {
    "duration": 7,
    "start_time": "2022-05-19T12:04:23.637Z"
   },
   {
    "duration": 7,
    "start_time": "2022-05-19T12:04:56.909Z"
   },
   {
    "duration": 7,
    "start_time": "2022-05-19T12:06:42.647Z"
   },
   {
    "duration": 32,
    "start_time": "2022-05-19T12:07:19.661Z"
   },
   {
    "duration": 5,
    "start_time": "2022-05-19T12:07:30.106Z"
   },
   {
    "duration": 5,
    "start_time": "2022-05-19T12:09:05.797Z"
   },
   {
    "duration": 3,
    "start_time": "2022-05-19T12:12:03.858Z"
   },
   {
    "duration": 7,
    "start_time": "2022-05-19T12:13:04.616Z"
   },
   {
    "duration": 33,
    "start_time": "2022-05-19T12:14:34.910Z"
   },
   {
    "duration": 8,
    "start_time": "2022-05-19T12:15:09.505Z"
   },
   {
    "duration": 17,
    "start_time": "2022-05-19T12:16:47.201Z"
   },
   {
    "duration": 23,
    "start_time": "2022-05-19T12:17:56.817Z"
   },
   {
    "duration": 25,
    "start_time": "2022-05-19T12:18:19.994Z"
   },
   {
    "duration": 11,
    "start_time": "2022-05-19T12:20:36.084Z"
   },
   {
    "duration": 15,
    "start_time": "2022-05-19T12:21:02.805Z"
   },
   {
    "duration": 15,
    "start_time": "2022-05-19T12:21:12.343Z"
   },
   {
    "duration": 12,
    "start_time": "2022-05-19T12:23:17.207Z"
   },
   {
    "duration": 12,
    "start_time": "2022-05-19T12:23:58.628Z"
   },
   {
    "duration": 5,
    "start_time": "2022-05-19T12:24:28.524Z"
   },
   {
    "duration": 18,
    "start_time": "2022-05-19T12:25:04.859Z"
   },
   {
    "duration": 18,
    "start_time": "2022-05-19T12:25:30.368Z"
   },
   {
    "duration": 5,
    "start_time": "2022-05-19T12:25:50.953Z"
   },
   {
    "duration": 30,
    "start_time": "2022-05-19T12:26:42.593Z"
   },
   {
    "duration": 38,
    "start_time": "2022-05-19T12:27:03.652Z"
   },
   {
    "duration": 10,
    "start_time": "2022-05-19T12:27:34.484Z"
   },
   {
    "duration": 4,
    "start_time": "2022-05-19T12:28:48.678Z"
   },
   {
    "duration": 19,
    "start_time": "2022-05-19T12:29:01.378Z"
   },
   {
    "duration": 2,
    "start_time": "2022-05-19T12:29:28.525Z"
   },
   {
    "duration": 9,
    "start_time": "2022-05-19T12:29:39.715Z"
   },
   {
    "duration": 2,
    "start_time": "2022-05-19T12:30:20.014Z"
   },
   {
    "duration": 15,
    "start_time": "2022-05-19T12:31:36.816Z"
   },
   {
    "duration": 21,
    "start_time": "2022-05-19T12:33:05.891Z"
   },
   {
    "duration": 10,
    "start_time": "2022-05-19T12:33:23.891Z"
   },
   {
    "duration": 41,
    "start_time": "2022-05-19T12:35:08.342Z"
   },
   {
    "duration": 19,
    "start_time": "2022-05-19T12:36:09.783Z"
   },
   {
    "duration": 9,
    "start_time": "2022-05-19T12:36:24.241Z"
   },
   {
    "duration": 553,
    "start_time": "2022-05-19T19:37:16.164Z"
   },
   {
    "duration": 25,
    "start_time": "2022-05-19T19:37:16.719Z"
   },
   {
    "duration": 6,
    "start_time": "2022-05-19T19:37:16.745Z"
   },
   {
    "duration": 6,
    "start_time": "2022-05-19T19:37:16.754Z"
   },
   {
    "duration": 11,
    "start_time": "2022-05-19T19:37:16.784Z"
   },
   {
    "duration": 7,
    "start_time": "2022-05-19T19:37:16.797Z"
   },
   {
    "duration": 10,
    "start_time": "2022-05-19T19:37:16.806Z"
   },
   {
    "duration": 12,
    "start_time": "2022-05-19T19:37:16.818Z"
   },
   {
    "duration": 52,
    "start_time": "2022-05-19T19:37:16.832Z"
   },
   {
    "duration": 10,
    "start_time": "2022-05-19T19:37:16.888Z"
   },
   {
    "duration": 14,
    "start_time": "2022-05-19T19:37:16.900Z"
   },
   {
    "duration": 7,
    "start_time": "2022-05-19T19:37:16.916Z"
   },
   {
    "duration": 10,
    "start_time": "2022-05-19T19:37:16.925Z"
   },
   {
    "duration": 4,
    "start_time": "2022-05-19T19:37:16.937Z"
   },
   {
    "duration": 6,
    "start_time": "2022-05-19T19:37:16.983Z"
   },
   {
    "duration": 6,
    "start_time": "2022-05-19T19:37:16.991Z"
   },
   {
    "duration": 9,
    "start_time": "2022-05-19T19:37:16.999Z"
   },
   {
    "duration": 7,
    "start_time": "2022-05-19T19:37:17.010Z"
   },
   {
    "duration": 18,
    "start_time": "2022-05-19T19:37:17.019Z"
   },
   {
    "duration": 68,
    "start_time": "2022-05-19T19:37:17.038Z"
   },
   {
    "duration": 26,
    "start_time": "2022-05-19T19:37:17.107Z"
   },
   {
    "duration": 50,
    "start_time": "2022-05-19T19:37:17.135Z"
   },
   {
    "duration": 12,
    "start_time": "2022-05-19T19:37:17.186Z"
   },
   {
    "duration": 11,
    "start_time": "2022-05-19T19:37:17.199Z"
   },
   {
    "duration": 4,
    "start_time": "2022-05-19T19:37:17.211Z"
   },
   {
    "duration": 17,
    "start_time": "2022-05-19T19:37:17.217Z"
   },
   {
    "duration": 65,
    "start_time": "2022-05-19T19:37:17.236Z"
   },
   {
    "duration": 9,
    "start_time": "2022-05-19T19:37:17.304Z"
   },
   {
    "duration": 20,
    "start_time": "2022-05-19T19:37:17.314Z"
   },
   {
    "duration": 65,
    "start_time": "2022-05-19T19:37:17.335Z"
   },
   {
    "duration": 8,
    "start_time": "2022-05-19T19:37:17.402Z"
   },
   {
    "duration": 21,
    "start_time": "2022-05-19T19:37:17.412Z"
   },
   {
    "duration": 8,
    "start_time": "2022-05-19T19:37:17.435Z"
   },
   {
    "duration": 57,
    "start_time": "2022-05-19T19:37:17.445Z"
   },
   {
    "duration": 21,
    "start_time": "2022-05-19T19:37:17.505Z"
   },
   {
    "duration": 11,
    "start_time": "2022-05-19T19:37:17.528Z"
   },
   {
    "duration": 49,
    "start_time": "2022-05-19T19:37:17.542Z"
   },
   {
    "duration": 11,
    "start_time": "2022-05-19T19:37:17.592Z"
   },
   {
    "duration": 3,
    "start_time": "2022-05-19T19:42:46.681Z"
   },
   {
    "duration": 544,
    "start_time": "2022-05-19T19:49:28.921Z"
   },
   {
    "duration": 22,
    "start_time": "2022-05-19T19:55:22.281Z"
   },
   {
    "duration": 4,
    "start_time": "2022-05-19T19:55:36.565Z"
   },
   {
    "duration": 21,
    "start_time": "2022-05-19T19:55:39.993Z"
   },
   {
    "duration": 13,
    "start_time": "2022-05-19T19:58:37.846Z"
   },
   {
    "duration": 35,
    "start_time": "2022-05-19T20:03:57.224Z"
   },
   {
    "duration": 17,
    "start_time": "2022-05-19T20:03:58.780Z"
   },
   {
    "duration": 94,
    "start_time": "2022-05-19T20:04:01.926Z"
   },
   {
    "duration": 16,
    "start_time": "2022-05-19T20:04:08.813Z"
   },
   {
    "duration": 3,
    "start_time": "2022-05-20T07:46:09.694Z"
   },
   {
    "duration": 53,
    "start_time": "2022-05-20T07:59:19.835Z"
   },
   {
    "duration": 94,
    "start_time": "2022-05-20T09:08:44.130Z"
   },
   {
    "duration": 1348,
    "start_time": "2022-05-20T09:08:47.923Z"
   },
   {
    "duration": 26,
    "start_time": "2022-05-20T09:08:49.702Z"
   },
   {
    "duration": 11,
    "start_time": "2022-05-20T09:08:53.263Z"
   },
   {
    "duration": 21,
    "start_time": "2022-05-20T09:09:05.300Z"
   },
   {
    "duration": 92,
    "start_time": "2022-05-20T10:45:47.354Z"
   },
   {
    "duration": 15,
    "start_time": "2022-05-20T10:45:54.846Z"
   },
   {
    "duration": 10,
    "start_time": "2022-05-20T10:46:22.007Z"
   },
   {
    "duration": 11,
    "start_time": "2022-05-20T10:46:27.973Z"
   },
   {
    "duration": 5,
    "start_time": "2022-05-20T10:46:40.557Z"
   },
   {
    "duration": 7,
    "start_time": "2022-05-20T10:46:43.231Z"
   },
   {
    "duration": 449,
    "start_time": "2022-05-20T10:47:09.885Z"
   },
   {
    "duration": 9,
    "start_time": "2022-05-20T10:47:27.679Z"
   },
   {
    "duration": 11,
    "start_time": "2022-05-20T10:47:41.663Z"
   },
   {
    "duration": 627,
    "start_time": "2022-05-20T10:47:55.474Z"
   },
   {
    "duration": 11,
    "start_time": "2022-05-20T10:48:12.206Z"
   },
   {
    "duration": 154,
    "start_time": "2022-05-20T10:49:03.088Z"
   },
   {
    "duration": 150,
    "start_time": "2022-05-20T10:49:30.599Z"
   },
   {
    "duration": 146,
    "start_time": "2022-05-20T10:49:53.544Z"
   },
   {
    "duration": 6,
    "start_time": "2022-05-20T10:50:00.664Z"
   },
   {
    "duration": 15,
    "start_time": "2022-05-20T10:50:04.091Z"
   },
   {
    "duration": 5,
    "start_time": "2022-05-20T10:50:11.967Z"
   },
   {
    "duration": 8,
    "start_time": "2022-05-20T10:50:13.656Z"
   },
   {
    "duration": 8,
    "start_time": "2022-05-20T10:50:18.818Z"
   },
   {
    "duration": 6,
    "start_time": "2022-05-20T10:50:22.271Z"
   },
   {
    "duration": 5,
    "start_time": "2022-05-20T10:50:24.436Z"
   },
   {
    "duration": 5,
    "start_time": "2022-05-20T10:50:27.500Z"
   },
   {
    "duration": 7,
    "start_time": "2022-05-20T10:50:29.396Z"
   },
   {
    "duration": 8,
    "start_time": "2022-05-20T10:50:31.688Z"
   },
   {
    "duration": 21,
    "start_time": "2022-05-20T10:50:41.532Z"
   },
   {
    "duration": 28,
    "start_time": "2022-05-20T10:50:50.757Z"
   },
   {
    "duration": 26,
    "start_time": "2022-05-20T10:51:02.072Z"
   },
   {
    "duration": 18,
    "start_time": "2022-05-20T10:51:34.361Z"
   },
   {
    "duration": 15,
    "start_time": "2022-05-20T10:52:15.528Z"
   },
   {
    "duration": 16,
    "start_time": "2022-05-20T10:52:38.928Z"
   },
   {
    "duration": 13,
    "start_time": "2022-05-20T10:52:45.512Z"
   },
   {
    "duration": 12,
    "start_time": "2022-05-20T10:52:47.992Z"
   },
   {
    "duration": 27,
    "start_time": "2022-05-20T10:52:51.210Z"
   },
   {
    "duration": 22,
    "start_time": "2022-05-20T10:52:54.778Z"
   },
   {
    "duration": 5,
    "start_time": "2022-05-20T10:53:15.054Z"
   },
   {
    "duration": 24,
    "start_time": "2022-05-20T10:53:24.777Z"
   },
   {
    "duration": 47,
    "start_time": "2022-05-20T10:53:38.712Z"
   },
   {
    "duration": 10,
    "start_time": "2022-05-20T10:53:57.113Z"
   },
   {
    "duration": 23,
    "start_time": "2022-05-20T10:54:22.609Z"
   },
   {
    "duration": 11,
    "start_time": "2022-05-20T10:54:31.457Z"
   },
   {
    "duration": 9,
    "start_time": "2022-05-20T10:55:40.379Z"
   },
   {
    "duration": 17,
    "start_time": "2022-05-20T10:55:45.609Z"
   },
   {
    "duration": 49,
    "start_time": "2022-05-20T10:55:51.665Z"
   },
   {
    "duration": 23,
    "start_time": "2022-05-20T10:56:13.089Z"
   },
   {
    "duration": 30,
    "start_time": "2022-05-20T10:56:26.956Z"
   },
   {
    "duration": 10,
    "start_time": "2022-05-20T10:56:29.790Z"
   },
   {
    "duration": 27,
    "start_time": "2022-05-20T10:56:42.563Z"
   },
   {
    "duration": 18,
    "start_time": "2022-05-20T10:57:06.442Z"
   },
   {
    "duration": 12,
    "start_time": "2022-05-20T10:57:10.780Z"
   },
   {
    "duration": 610,
    "start_time": "2022-05-20T19:19:03.153Z"
   },
   {
    "duration": 22,
    "start_time": "2022-05-20T19:19:03.765Z"
   },
   {
    "duration": 11,
    "start_time": "2022-05-20T19:19:03.789Z"
   },
   {
    "duration": 12,
    "start_time": "2022-05-20T19:19:03.802Z"
   },
   {
    "duration": 6,
    "start_time": "2022-05-20T19:19:03.815Z"
   },
   {
    "duration": 7,
    "start_time": "2022-05-20T19:19:03.823Z"
   },
   {
    "duration": 49,
    "start_time": "2022-05-20T19:19:03.831Z"
   },
   {
    "duration": 7,
    "start_time": "2022-05-20T19:19:03.882Z"
   },
   {
    "duration": 8,
    "start_time": "2022-05-20T19:19:03.891Z"
   },
   {
    "duration": 10,
    "start_time": "2022-05-20T19:19:03.901Z"
   },
   {
    "duration": 495,
    "start_time": "2022-05-20T19:19:03.912Z"
   },
   {
    "duration": 9,
    "start_time": "2022-05-20T19:19:04.409Z"
   },
   {
    "duration": 184,
    "start_time": "2022-05-20T19:19:04.420Z"
   },
   {
    "duration": 142,
    "start_time": "2022-05-20T19:19:04.606Z"
   },
   {
    "duration": 159,
    "start_time": "2022-05-20T19:19:04.749Z"
   },
   {
    "duration": 6,
    "start_time": "2022-05-20T19:19:04.910Z"
   },
   {
    "duration": 16,
    "start_time": "2022-05-20T19:19:04.918Z"
   },
   {
    "duration": 6,
    "start_time": "2022-05-20T19:19:04.936Z"
   },
   {
    "duration": 34,
    "start_time": "2022-05-20T19:19:04.944Z"
   },
   {
    "duration": 12,
    "start_time": "2022-05-20T19:19:04.980Z"
   },
   {
    "duration": 7,
    "start_time": "2022-05-20T19:19:04.994Z"
   },
   {
    "duration": 12,
    "start_time": "2022-05-20T19:19:05.003Z"
   },
   {
    "duration": 9,
    "start_time": "2022-05-20T19:19:05.017Z"
   },
   {
    "duration": 12,
    "start_time": "2022-05-20T19:19:05.028Z"
   },
   {
    "duration": 41,
    "start_time": "2022-05-20T19:19:05.042Z"
   },
   {
    "duration": 26,
    "start_time": "2022-05-20T19:19:05.085Z"
   },
   {
    "duration": 27,
    "start_time": "2022-05-20T19:19:05.113Z"
   },
   {
    "duration": 40,
    "start_time": "2022-05-20T19:19:05.143Z"
   },
   {
    "duration": 13,
    "start_time": "2022-05-20T19:19:05.185Z"
   },
   {
    "duration": 17,
    "start_time": "2022-05-20T19:19:05.200Z"
   },
   {
    "duration": 13,
    "start_time": "2022-05-20T19:19:05.218Z"
   },
   {
    "duration": 44,
    "start_time": "2022-05-20T19:19:05.233Z"
   },
   {
    "duration": 5,
    "start_time": "2022-05-20T19:19:05.279Z"
   },
   {
    "duration": 31,
    "start_time": "2022-05-20T19:19:05.286Z"
   },
   {
    "duration": 25,
    "start_time": "2022-05-20T19:19:05.318Z"
   },
   {
    "duration": 10,
    "start_time": "2022-05-20T19:19:05.345Z"
   },
   {
    "duration": 32,
    "start_time": "2022-05-20T19:19:05.357Z"
   },
   {
    "duration": 45,
    "start_time": "2022-05-20T19:19:05.391Z"
   },
   {
    "duration": 9,
    "start_time": "2022-05-20T19:19:05.438Z"
   },
   {
    "duration": 33,
    "start_time": "2022-05-20T19:19:05.449Z"
   },
   {
    "duration": 9,
    "start_time": "2022-05-20T19:19:05.484Z"
   },
   {
    "duration": 23,
    "start_time": "2022-05-20T19:19:05.494Z"
   },
   {
    "duration": 20,
    "start_time": "2022-05-20T19:19:05.519Z"
   },
   {
    "duration": 33,
    "start_time": "2022-05-20T19:19:05.541Z"
   },
   {
    "duration": 25,
    "start_time": "2022-05-20T19:19:05.575Z"
   },
   {
    "duration": 9,
    "start_time": "2022-05-20T19:19:05.602Z"
   },
   {
    "duration": 28,
    "start_time": "2022-05-20T19:30:44.603Z"
   },
   {
    "duration": 24,
    "start_time": "2022-05-20T19:32:58.361Z"
   },
   {
    "duration": 7,
    "start_time": "2022-05-20T19:33:03.274Z"
   },
   {
    "duration": 32,
    "start_time": "2022-05-20T19:33:13.856Z"
   },
   {
    "duration": 41,
    "start_time": "2022-05-20T19:33:29.121Z"
   },
   {
    "duration": 40,
    "start_time": "2022-05-20T19:33:35.143Z"
   }
  ],
  "kernelspec": {
   "display_name": "Python 3",
   "language": "python",
   "name": "python3"
  },
  "language_info": {
   "codemirror_mode": {
    "name": "ipython",
    "version": 3
   },
   "file_extension": ".py",
   "mimetype": "text/x-python",
   "name": "python",
   "nbconvert_exporter": "python",
   "pygments_lexer": "ipython3",
   "version": "3.8.3"
  },
  "toc": {
   "base_numbering": 1,
   "nav_menu": {},
   "number_sections": true,
   "sideBar": true,
   "skip_h1_title": true,
   "title_cell": "Table of Contents",
   "title_sidebar": "Contents",
   "toc_cell": false,
   "toc_position": {
    "height": "calc(100% - 180px)",
    "left": "10px",
    "top": "150px",
    "width": "276px"
   },
   "toc_section_display": true,
   "toc_window_display": true
  }
 },
 "nbformat": 4,
 "nbformat_minor": 5
}
