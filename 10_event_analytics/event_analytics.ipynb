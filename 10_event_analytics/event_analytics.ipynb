{
 "cells": [
  {
   "cell_type": "markdown",
   "id": "0c6a5838",
   "metadata": {
    "toc": true
   },
   "source": [
    "<h1>Table of Contents<span class=\"tocSkip\"></span></h1>\n",
    "<div class=\"toc\"><ul class=\"toc-item\"><li><span><a href=\"#Введение\" data-toc-modified-id=\"Введение-1\"><span class=\"toc-item-num\">1&nbsp;&nbsp;</span>Введение</a></span><ul class=\"toc-item\"><li><span><a href=\"#Описание-проекта\" data-toc-modified-id=\"Описание-проекта-1.1\"><span class=\"toc-item-num\">1.1&nbsp;&nbsp;</span>Описание проекта</a></span></li></ul></li><li><span><a href=\"#Подготовка-к-анализу\" data-toc-modified-id=\"Подготовка-к-анализу-2\"><span class=\"toc-item-num\">2&nbsp;&nbsp;</span>Подготовка к анализу</a></span><ul class=\"toc-item\"><li><span><a href=\"#Загрузка-библиотек-и-датасета\" data-toc-modified-id=\"Загрузка-библиотек-и-датасета-2.1\"><span class=\"toc-item-num\">2.1&nbsp;&nbsp;</span>Загрузка библиотек и датасета</a></span></li><li><span><a href=\"#Подготовка-датасета\" data-toc-modified-id=\"Подготовка-датасета-2.2\"><span class=\"toc-item-num\">2.2&nbsp;&nbsp;</span>Подготовка датасета</a></span></li></ul></li><li><span><a href=\"#Анализ-данных\" data-toc-modified-id=\"Анализ-данных-3\"><span class=\"toc-item-num\">3&nbsp;&nbsp;</span>Анализ данных</a></span><ul class=\"toc-item\"><li><span><a href=\"#Количество-событий-в-логе\" data-toc-modified-id=\"Количество-событий-в-логе-3.1\"><span class=\"toc-item-num\">3.1&nbsp;&nbsp;</span>Количество событий в логе</a></span></li><li><span><a href=\"#Число-пользователей-в-логе\" data-toc-modified-id=\"Число-пользователей-в-логе-3.2\"><span class=\"toc-item-num\">3.2&nbsp;&nbsp;</span>Число пользователей в логе</a></span></li><li><span><a href=\"#Среднее-количество-событий-на-пользователя\" data-toc-modified-id=\"Среднее-количество-событий-на-пользователя-3.3\"><span class=\"toc-item-num\">3.3&nbsp;&nbsp;</span>Среднее количество событий на пользователя</a></span></li><li><span><a href=\"#Выделение-данных-для-анализа\" data-toc-modified-id=\"Выделение-данных-для-анализа-3.4\"><span class=\"toc-item-num\">3.4&nbsp;&nbsp;</span>Выделение данных для анализа</a></span></li><li><span><a href=\"#Показатели-отброшенных-данных\" data-toc-modified-id=\"Показатели-отброшенных-данных-3.5\"><span class=\"toc-item-num\">3.5&nbsp;&nbsp;</span>Показатели отброшенных данных</a></span></li><li><span><a href=\"#Проверка-сохранности-экспериментальных-групп\" data-toc-modified-id=\"Проверка-сохранности-экспериментальных-групп-3.6\"><span class=\"toc-item-num\">3.6&nbsp;&nbsp;</span>Проверка сохранности экспериментальных групп</a></span></li></ul></li><li><span><a href=\"#Изучение-воронки-событий\" data-toc-modified-id=\"Изучение-воронки-событий-4\"><span class=\"toc-item-num\">4&nbsp;&nbsp;</span>Изучение воронки событий</a></span><ul class=\"toc-item\"><li><span><a href=\"#Частота-событий-в-логе\" data-toc-modified-id=\"Частота-событий-в-логе-4.1\"><span class=\"toc-item-num\">4.1&nbsp;&nbsp;</span>Частота событий в логе</a></span></li><li><span><a href=\"#Подсчёт-польвателей-по-событиям\" data-toc-modified-id=\"Подсчёт-польвателей-по-событиям-4.2\"><span class=\"toc-item-num\">4.2&nbsp;&nbsp;</span>Подсчёт польвателей по событиям</a></span></li><li><span><a href=\"#Предположение-о-цепочке-событий-воронки\" data-toc-modified-id=\"Предположение-о-цепочке-событий-воронки-4.3\"><span class=\"toc-item-num\">4.3&nbsp;&nbsp;</span>Предположение о цепочке событий воронки</a></span></li><li><span><a href=\"#Выявление-шага-с-самой-низкой-конверсией\" data-toc-modified-id=\"Выявление-шага-с-самой-низкой-конверсией-4.4\"><span class=\"toc-item-num\">4.4&nbsp;&nbsp;</span>Выявление шага с самой низкой конверсией</a></span></li><li><span><a href=\"#Доля-пользователей,-проходящих-от-первого-события-до-оплаты\" data-toc-modified-id=\"Доля-пользователей,-проходящих-от-первого-события-до-оплаты-4.5\"><span class=\"toc-item-num\">4.5&nbsp;&nbsp;</span>Доля пользователей, проходящих от первого события до оплаты</a></span></li></ul></li><li><span><a href=\"#Изучение-результатов-эксперимента\" data-toc-modified-id=\"Изучение-результатов-эксперимента-5\"><span class=\"toc-item-num\">5&nbsp;&nbsp;</span>Изучение результатов эксперимента</a></span><ul class=\"toc-item\"><li><span><a href=\"#Число-пользователей-в-каждой-экспериментальной-группе\" data-toc-modified-id=\"Число-пользователей-в-каждой-экспериментальной-группе-5.1\"><span class=\"toc-item-num\">5.1&nbsp;&nbsp;</span>Число пользователей в каждой экспериментальной группе</a></span></li><li><span><a href=\"#Самое-популярное-событие.-А/А-тест-для-групп-246,-247.\" data-toc-modified-id=\"Самое-популярное-событие.-А/А-тест-для-групп-246,-247.-5.2\"><span class=\"toc-item-num\">5.2&nbsp;&nbsp;</span>Самое популярное событие. А/А-тест для групп 246, 247.</a></span></li><li><span><a href=\"#A/B-тесты\" data-toc-modified-id=\"A/B-тесты-5.3\"><span class=\"toc-item-num\">5.3&nbsp;&nbsp;</span>A/B-тесты</a></span></li><li><span><a href=\"#Анализ-полученных-ранее-результатов-и-действия-по-итогу-анализа\" data-toc-modified-id=\"Анализ-полученных-ранее-результатов-и-действия-по-итогу-анализа-5.4\"><span class=\"toc-item-num\">5.4&nbsp;&nbsp;</span>Анализ полученных ранее результатов и действия по итогу анализа</a></span></li></ul></li></ul></div>"
   ]
  },
  {
   "cell_type": "markdown",
   "id": "b93385dd",
   "metadata": {},
   "source": [
    "<font size = 5>**Проект \"Событийная аналитика в мобильном приложении\"**<font size>"
   ]
  },
  {
   "cell_type": "markdown",
   "id": "94e0e8ca",
   "metadata": {},
   "source": [
    "# Введение\n",
    "\n",
    "**Разделы 2 и 3** посвящены подготовке и анализу полученных датасетов\n",
    "\n",
    "При работе в стартапе, который продаёт продукты питания, требуется разобраться, как поведут себя пользователи вашего мобильного приложения в случае изменения шрифта. \n",
    "\n",
    "Чтобы это узнать, следует изучить воронку продаж, как пользователи доходят до покупки и в каком количестве доходят - данным вопросам посвящён **раздел 4**. \n",
    "\n",
    "Чтобы избежать больших расходов решено провести серию A/A/B-экспериментов на группах с номерами: 246, 247, 248. Первые две группы контрольные: в них нет изменений шрифта и они нужны для проведения А/А-тестов. Группа 248 имеет изменённый шрифт - в разных сочетаниях с остальными группами, данная группа пройдёт серию А/В-тестов. Всё это рассматривается в **разделе 5**.\n",
    "\n",
    "Подготовка к разделам 4, 5 ведётся в **разделах 2 и 3** - здесь проведена подготовка и анализ полученных данных.\n",
    "\n"
   ]
  },
  {
   "cell_type": "markdown",
   "id": "1a572da6",
   "metadata": {},
   "source": [
    "## Описание проекта\n",
    "\n",
    "Каждая запись в логе — это действие пользователя, или событие.\n",
    "\n",
    "- `EventName` — название события;\n",
    "- `DeviceIDHash` — уникальный идентификатор пользователя;\n",
    "- `EventTimestamp` — время события;\n",
    "- `ExpId` — номер эксперимента: 246 и 247 — контрольные группы, а 248 — экспериментальная."
   ]
  },
  {
   "cell_type": "markdown",
   "id": "ef5df411",
   "metadata": {},
   "source": [
    "# Подготовка к анализу"
   ]
  },
  {
   "cell_type": "markdown",
   "id": "c37f0fc3",
   "metadata": {},
   "source": [
    "## Загрузка библиотек и датасета"
   ]
  },
  {
   "cell_type": "code",
   "execution_count": 1,
   "id": "2579e25b",
   "metadata": {},
   "outputs": [],
   "source": [
    "import pandas as pd\n",
    "import matplotlib.pyplot as plt\n",
    "import seaborn as sns\n",
    "from datetime import *\n",
    "from scipy import stats as st\n",
    "import numpy as np\n",
    "import math as mth"
   ]
  },
  {
   "cell_type": "code",
   "execution_count": 2,
   "id": "7970b528",
   "metadata": {},
   "outputs": [],
   "source": [
    "pd.set_option('display.max_columns', 50)\n",
    "pd.options.mode.chained_assignment = None  # default='warn'"
   ]
  },
  {
   "cell_type": "code",
   "execution_count": 3,
   "id": "f3bcbfe0",
   "metadata": {},
   "outputs": [],
   "source": [
    "pth_data = 'logs_exp.csv'\n",
    "pth_folder = '/datasets/'\n",
    "\n",
    "try:\n",
    "    df = pd.read_csv(pth_data, sep='\\\\t' , engine='python')\n",
    "except:\n",
    "    df = pd.read_csv(pth_folder + pth_data, sep='\\\\t' , engine='python')"
   ]
  },
  {
   "cell_type": "code",
   "execution_count": 4,
   "id": "4671eddd",
   "metadata": {},
   "outputs": [
    {
     "data": {
      "text/html": [
       "<div>\n",
       "<style scoped>\n",
       "    .dataframe tbody tr th:only-of-type {\n",
       "        vertical-align: middle;\n",
       "    }\n",
       "\n",
       "    .dataframe tbody tr th {\n",
       "        vertical-align: top;\n",
       "    }\n",
       "\n",
       "    .dataframe thead th {\n",
       "        text-align: right;\n",
       "    }\n",
       "</style>\n",
       "<table border=\"1\" class=\"dataframe\">\n",
       "  <thead>\n",
       "    <tr style=\"text-align: right;\">\n",
       "      <th></th>\n",
       "      <th>EventName</th>\n",
       "      <th>DeviceIDHash</th>\n",
       "      <th>EventTimestamp</th>\n",
       "      <th>ExpId</th>\n",
       "    </tr>\n",
       "  </thead>\n",
       "  <tbody>\n",
       "    <tr>\n",
       "      <th>0</th>\n",
       "      <td>MainScreenAppear</td>\n",
       "      <td>4575588528974610257</td>\n",
       "      <td>1564029816</td>\n",
       "      <td>246</td>\n",
       "    </tr>\n",
       "    <tr>\n",
       "      <th>1</th>\n",
       "      <td>MainScreenAppear</td>\n",
       "      <td>7416695313311560658</td>\n",
       "      <td>1564053102</td>\n",
       "      <td>246</td>\n",
       "    </tr>\n",
       "    <tr>\n",
       "      <th>2</th>\n",
       "      <td>PaymentScreenSuccessful</td>\n",
       "      <td>3518123091307005509</td>\n",
       "      <td>1564054127</td>\n",
       "      <td>248</td>\n",
       "    </tr>\n",
       "    <tr>\n",
       "      <th>3</th>\n",
       "      <td>CartScreenAppear</td>\n",
       "      <td>3518123091307005509</td>\n",
       "      <td>1564054127</td>\n",
       "      <td>248</td>\n",
       "    </tr>\n",
       "    <tr>\n",
       "      <th>4</th>\n",
       "      <td>PaymentScreenSuccessful</td>\n",
       "      <td>6217807653094995999</td>\n",
       "      <td>1564055322</td>\n",
       "      <td>248</td>\n",
       "    </tr>\n",
       "  </tbody>\n",
       "</table>\n",
       "</div>"
      ],
      "text/plain": [
       "                 EventName         DeviceIDHash  EventTimestamp  ExpId\n",
       "0         MainScreenAppear  4575588528974610257      1564029816    246\n",
       "1         MainScreenAppear  7416695313311560658      1564053102    246\n",
       "2  PaymentScreenSuccessful  3518123091307005509      1564054127    248\n",
       "3         CartScreenAppear  3518123091307005509      1564054127    248\n",
       "4  PaymentScreenSuccessful  6217807653094995999      1564055322    248"
      ]
     },
     "execution_count": 4,
     "metadata": {},
     "output_type": "execute_result"
    }
   ],
   "source": [
    "df.head()"
   ]
  },
  {
   "cell_type": "markdown",
   "id": "11dbf05b",
   "metadata": {},
   "source": [
    "## Подготовка датасета\n",
    "\n",
    "- Замените названия столбцов на удобные для вас;\n",
    "- Проверьте пропуски и типы данных. Откорректируйте, если нужно;\n",
    "- Добавьте столбец даты и времени, а также отдельный столбец дат;"
   ]
  },
  {
   "cell_type": "code",
   "execution_count": 5,
   "id": "9623286b",
   "metadata": {},
   "outputs": [
    {
     "data": {
      "text/plain": [
       "Index(['event_name', 'user_id', 'event_ts', 'exp_id'], dtype='object')"
      ]
     },
     "execution_count": 5,
     "metadata": {},
     "output_type": "execute_result"
    }
   ],
   "source": [
    "import re\n",
    "\n",
    "def from_CamelCase(name):\n",
    "    return '_'.join(re.findall('([A-Z][^A-Z]*)', name)).lower()\n",
    "    \n",
    "cols = [from_CamelCase(col) for col in df.columns]\n",
    "cols[1] = 'user_id'\n",
    "cols[2] = 'event_ts'\n",
    "df.columns = cols\n",
    "df.columns"
   ]
  },
  {
   "cell_type": "code",
   "execution_count": 6,
   "id": "e0b8edf3",
   "metadata": {},
   "outputs": [
    {
     "name": "stdout",
     "output_type": "stream",
     "text": [
      "<class 'pandas.core.frame.DataFrame'>\n",
      "RangeIndex: 244126 entries, 0 to 244125\n",
      "Data columns (total 4 columns):\n",
      " #   Column      Non-Null Count   Dtype \n",
      "---  ------      --------------   ----- \n",
      " 0   event_name  244126 non-null  object\n",
      " 1   user_id     244126 non-null  int64 \n",
      " 2   event_ts    244126 non-null  int64 \n",
      " 3   exp_id      244126 non-null  int64 \n",
      "dtypes: int64(3), object(1)\n",
      "memory usage: 7.5+ MB\n"
     ]
    }
   ],
   "source": [
    "df.info()"
   ]
  },
  {
   "cell_type": "code",
   "execution_count": 7,
   "id": "58993109",
   "metadata": {},
   "outputs": [],
   "source": [
    "df.event_ts = pd.to_datetime(df.event_ts, unit='s')"
   ]
  },
  {
   "cell_type": "code",
   "execution_count": 8,
   "id": "6edc541d",
   "metadata": {},
   "outputs": [],
   "source": [
    "df['event_date'] = pd.to_datetime(df['event_ts'], format='%Y-%m-%d').dt.date"
   ]
  },
  {
   "cell_type": "code",
   "execution_count": 9,
   "id": "bf2ff7b8",
   "metadata": {},
   "outputs": [
    {
     "data": {
      "text/plain": [
       "False"
      ]
     },
     "execution_count": 9,
     "metadata": {},
     "output_type": "execute_result"
    }
   ],
   "source": [
    "df.event_date[0] == '2019-07-25'"
   ]
  },
  {
   "cell_type": "code",
   "execution_count": 10,
   "id": "7a6ea6e4",
   "metadata": {},
   "outputs": [
    {
     "name": "stdout",
     "output_type": "stream",
     "text": [
      "<class 'pandas.core.frame.DataFrame'>\n",
      "RangeIndex: 244126 entries, 0 to 244125\n",
      "Data columns (total 5 columns):\n",
      " #   Column      Non-Null Count   Dtype         \n",
      "---  ------      --------------   -----         \n",
      " 0   event_name  244126 non-null  object        \n",
      " 1   user_id     244126 non-null  int64         \n",
      " 2   event_ts    244126 non-null  datetime64[ns]\n",
      " 3   exp_id      244126 non-null  int64         \n",
      " 4   event_date  244126 non-null  object        \n",
      "dtypes: datetime64[ns](1), int64(2), object(2)\n",
      "memory usage: 9.3+ MB\n"
     ]
    }
   ],
   "source": [
    "df.info()"
   ]
  },
  {
   "cell_type": "code",
   "execution_count": 11,
   "id": "babe5bfd",
   "metadata": {},
   "outputs": [
    {
     "data": {
      "text/plain": [
       "413"
      ]
     },
     "execution_count": 11,
     "metadata": {},
     "output_type": "execute_result"
    }
   ],
   "source": [
    "df[['event_name', 'user_id', 'event_ts', 'exp_id']].duplicated().sum()"
   ]
  },
  {
   "cell_type": "code",
   "execution_count": 12,
   "id": "3cf6d353",
   "metadata": {},
   "outputs": [
    {
     "name": "stdout",
     "output_type": "stream",
     "text": [
      "<class 'pandas.core.frame.DataFrame'>\n",
      "Int64Index: 243713 entries, 0 to 244125\n",
      "Data columns (total 5 columns):\n",
      " #   Column      Non-Null Count   Dtype         \n",
      "---  ------      --------------   -----         \n",
      " 0   event_name  243713 non-null  object        \n",
      " 1   user_id     243713 non-null  int64         \n",
      " 2   event_ts    243713 non-null  datetime64[ns]\n",
      " 3   exp_id      243713 non-null  int64         \n",
      " 4   event_date  243713 non-null  object        \n",
      "dtypes: datetime64[ns](1), int64(2), object(2)\n",
      "memory usage: 11.2+ MB\n"
     ]
    }
   ],
   "source": [
    "rows_dubl = df[['event_name', 'user_id', 'event_ts', 'exp_id']].duplicated()\n",
    "df = df.loc[~rows_dubl]\n",
    "df.info()"
   ]
  },
  {
   "cell_type": "markdown",
   "id": "8ac739a2",
   "metadata": {},
   "source": [
    "Полученные данные - не имеют пропусков, но имеют дубликаты строк. Удалены дубликаты строк.\n",
    "\n",
    "Проверим, попадание пользователей только в одну группу:"
   ]
  },
  {
   "cell_type": "code",
   "execution_count": 13,
   "id": "07349583",
   "metadata": {},
   "outputs": [
    {
     "data": {
      "text/plain": [
       "array([], dtype=int64)"
      ]
     },
     "metadata": {},
     "output_type": "display_data"
    },
    {
     "data": {
      "text/plain": [
       "array([], dtype=int64)"
      ]
     },
     "metadata": {},
     "output_type": "display_data"
    },
    {
     "data": {
      "text/plain": [
       "array([], dtype=int64)"
      ]
     },
     "metadata": {},
     "output_type": "display_data"
    }
   ],
   "source": [
    "df_246 = df.query('exp_id == 246').user_id.unique()\n",
    "df_247 = df.query('exp_id == 247').user_id.unique()\n",
    "df_248 = df.query('exp_id == 248').user_id.unique()\n",
    "inter_247_246 = np.intersect1d(df_246, df_247)\n",
    "display(inter_247_246)\n",
    "inter_247_248 = np.intersect1d(df_248, df_247)\n",
    "display(inter_247_248)\n",
    "inter_246_248 = np.intersect1d(df_248, df_246)\n",
    "display(inter_246_248)"
   ]
  },
  {
   "cell_type": "markdown",
   "id": "5addcd5a",
   "metadata": {},
   "source": [
    "Пересечения пустые, значит каждый пользователь числится только в одной группе."
   ]
  },
  {
   "cell_type": "markdown",
   "id": "47939e70",
   "metadata": {},
   "source": [
    "# Анализ данных"
   ]
  },
  {
   "cell_type": "markdown",
   "id": "abb49614",
   "metadata": {},
   "source": [
    "## Количество событий в логе"
   ]
  },
  {
   "cell_type": "code",
   "execution_count": 14,
   "id": "6e793957",
   "metadata": {},
   "outputs": [
    {
     "data": {
      "text/plain": [
       "'Число событий: 243713'"
      ]
     },
     "metadata": {},
     "output_type": "display_data"
    }
   ],
   "source": [
    "all_events = df.event_name.count()\n",
    "display(f'Число событий: {all_events}')"
   ]
  },
  {
   "cell_type": "markdown",
   "id": "052bc1cc",
   "metadata": {},
   "source": [
    "## Число пользователей в логе"
   ]
  },
  {
   "cell_type": "code",
   "execution_count": 15,
   "id": "a14f0f96",
   "metadata": {},
   "outputs": [
    {
     "data": {
      "text/plain": [
       "'Число пользователей: 7551'"
      ]
     },
     "metadata": {},
     "output_type": "display_data"
    }
   ],
   "source": [
    "all_users = df.user_id.nunique()\n",
    "display(f'Число пользователей: {all_users}')"
   ]
  },
  {
   "cell_type": "markdown",
   "id": "44b5e657",
   "metadata": {},
   "source": [
    "## Среднее количество событий на пользователя"
   ]
  },
  {
   "cell_type": "code",
   "execution_count": 16,
   "id": "86277807",
   "metadata": {},
   "outputs": [
    {
     "data": {
      "text/plain": [
       "'Среднее количество событий на одного пользователя: 32.27559263673685'"
      ]
     },
     "metadata": {},
     "output_type": "display_data"
    }
   ],
   "source": [
    "display(f'Среднее количество событий на одного пользователя: {df.event_name.count() / df.user_id.nunique()}')"
   ]
  },
  {
   "cell_type": "markdown",
   "id": "9182014c",
   "metadata": {},
   "source": [
    "## Выделение данных для анализа"
   ]
  },
  {
   "cell_type": "code",
   "execution_count": 17,
   "id": "1a3834ce",
   "metadata": {},
   "outputs": [
    {
     "data": {
      "text/plain": [
       "'Самая ранняя дата: 2019-07-25'"
      ]
     },
     "metadata": {},
     "output_type": "display_data"
    }
   ],
   "source": [
    "display(f'Самая ранняя дата: {df.event_date.min()}')"
   ]
  },
  {
   "cell_type": "code",
   "execution_count": 18,
   "id": "524c57a6",
   "metadata": {},
   "outputs": [
    {
     "data": {
      "text/plain": [
       "'Самая поздняя дата: 2019-08-07'"
      ]
     },
     "metadata": {},
     "output_type": "display_data"
    }
   ],
   "source": [
    "display(f'Самая поздняя дата: {df.event_date.max()}')"
   ]
  },
  {
   "cell_type": "code",
   "execution_count": 19,
   "id": "c467e6bf",
   "metadata": {},
   "outputs": [
    {
     "data": {
      "image/png": "[encoded data removed]",
      "text/plain": [
       "<Figure size 1224x360 with 1 Axes>"
      ]
     },
     "metadata": {},
     "output_type": "display_data"
    }
   ],
   "source": [
    "plt.style.use('seaborn')\n",
    "plt.figure(figsize=[17, 5])\n",
    "plt.hist(df.event_ts, bins=100)\n",
    "plt.grid(False)\n",
    "plt.show;"
   ]
  },
  {
   "cell_type": "markdown",
   "id": "6bb13e7b",
   "metadata": {},
   "source": [
    "Глядя на гистограмму ввидим:\n",
    "- данных до 01.08.2019 очень мало;\n",
    "- с 01.08.2019 активность пользователей циклична - так и должно быть, большинство людей по ночам спит.\n",
    "Ввиду очень малого количества данных до начала августа, можно сделать предположение о техническом сбое. Т.е. полученные данные могут быть неполными до августа. \n",
    "\n",
    "Отберём данные, которые будут полными с большой вероятностью:"
   ]
  },
  {
   "cell_type": "code",
   "execution_count": 20,
   "id": "aad21e20",
   "metadata": {},
   "outputs": [
    {
     "data": {
      "image/png": "[encoded data removed]",
      "text/plain": [
       "<Figure size 1224x360 with 1 Axes>"
      ]
     },
     "metadata": {},
     "output_type": "display_data"
    }
   ],
   "source": [
    "plt.style.use('seaborn')\n",
    "plt.figure(figsize=[17, 5])\n",
    "plt.hist(df.event_ts, bins=200)\n",
    "plt.xlim(datetime(2019, 8, 1, 0, 0), datetime(2019, 8, 2, 6, 0))\n",
    "plt.grid(False)\n",
    "plt.show;"
   ]
  },
  {
   "cell_type": "markdown",
   "id": "6b7c32c5",
   "metadata": {},
   "source": [
    "Думаю стоит взять отсечку с 4 часов 01.08.2019, т.к. в 3 часа достигается локальный максимум следующей ночи - возможно в это время подъгружаются данные за предыдущий вечер. Так пользователи с предыдущего вечера \"не доедут\" в данные.\n",
    "\n",
    "Так как уверенность есть по данным только после 31 июля 2019 года, следует убрать данные до 1 августа. Т.е уберём события до этого момента и убёрем из датасета пользователей прикреплённых к этим событиям - для них картина будет неполной без данных до 1 августа."
   ]
  },
  {
   "cell_type": "code",
   "execution_count": 21,
   "id": "7c57b92d",
   "metadata": {},
   "outputs": [],
   "source": [
    "df_old = df\n",
    "lost_users = df_old.loc[df_old.event_ts < (datetime(2019, 8, 1, 4, 0)), 'user_id']\n",
    "df = df_old.loc[~df_old.user_id.isin(lost_users)]"
   ]
  },
  {
   "cell_type": "code",
   "execution_count": 22,
   "id": "870dd639",
   "metadata": {},
   "outputs": [
    {
     "data": {
      "text/plain": [
       "'Располагаю данными за период времени: 2019-08-01 04:00:29 - 2019-08-07 21:15:17'"
      ]
     },
     "metadata": {},
     "output_type": "display_data"
    }
   ],
   "source": [
    "display(f'Располагаю данными за период времени: {df.event_ts.min()} - {df.event_ts.max()}')"
   ]
  },
  {
   "cell_type": "markdown",
   "id": "e9862a0c",
   "metadata": {},
   "source": [
    "## Показатели отброшенных данных"
   ]
  },
  {
   "cell_type": "code",
   "execution_count": 23,
   "id": "48322873",
   "metadata": {},
   "outputs": [
    {
     "data": {
      "text/plain": [
       "'Количество потяренных событий: 70506'"
      ]
     },
     "metadata": {},
     "output_type": "display_data"
    },
    {
     "data": {
      "text/plain": [
       "'Количество оставшихся событий: 173207'"
      ]
     },
     "metadata": {},
     "output_type": "display_data"
    },
    {
     "data": {
      "text/plain": [
       "'Percent lost events: 28.9%'"
      ]
     },
     "metadata": {},
     "output_type": "display_data"
    },
    {
     "data": {
      "text/plain": [
       "'Число потяренных пользователей: 1654'"
      ]
     },
     "metadata": {},
     "output_type": "display_data"
    },
    {
     "data": {
      "text/plain": [
       "'Число оставшихся пользователей: 5897'"
      ]
     },
     "metadata": {},
     "output_type": "display_data"
    },
    {
     "data": {
      "text/plain": [
       "'Percent lost users: 21.9%'"
      ]
     },
     "metadata": {},
     "output_type": "display_data"
    }
   ],
   "source": [
    "lost_events = len(df_old) - len(df)\n",
    "n_lost_users = lost_users.nunique()\n",
    "new_all_users = all_users - n_lost_users\n",
    "\n",
    "display(f'Количество потяренных событий: {lost_events}')\n",
    "display(f'Количество оставшихся событий: {all_events - lost_events}')\n",
    "display(f'Percent lost events: {round(100 * lost_events / all_events, 1)}%')\n",
    "display(f'Число потяренных пользователей: {n_lost_users}')\n",
    "display(f'Число оставшихся пользователей: {new_all_users}')\n",
    "display(f'Percent lost users: {round(100 * n_lost_users / all_users, 1)}%')"
   ]
  },
  {
   "cell_type": "markdown",
   "id": "ad71a519",
   "metadata": {},
   "source": [
    "## Проверка сохранности экспериментальных групп"
   ]
  },
  {
   "cell_type": "code",
   "execution_count": 24,
   "id": "b8900b6e",
   "metadata": {},
   "outputs": [
    {
     "data": {
      "text/plain": [
       "array([246, 247, 248], dtype=int64)"
      ]
     },
     "execution_count": 24,
     "metadata": {},
     "output_type": "execute_result"
    }
   ],
   "source": [
    "name_groups = df.exp_id.unique()\n",
    "name_groups"
   ]
  },
  {
   "cell_type": "markdown",
   "id": "f72ade8f",
   "metadata": {},
   "source": [
    "Как видим, в ходе выделения данных у нас сохранились все три группы для проведение А/А и А/В тестов "
   ]
  },
  {
   "cell_type": "markdown",
   "id": "e3b72cf1",
   "metadata": {},
   "source": [
    "# Изучение воронки событий"
   ]
  },
  {
   "cell_type": "markdown",
   "id": "2048dae4",
   "metadata": {},
   "source": [
    "## Частота событий в логе"
   ]
  },
  {
   "cell_type": "code",
   "execution_count": 25,
   "id": "f8c5e685",
   "metadata": {},
   "outputs": [
    {
     "data": {
      "text/plain": [
       "MainScreenAppear           83297\n",
       "OffersScreenAppear         33620\n",
       "CartScreenAppear           30846\n",
       "PaymentScreenSuccessful    24461\n",
       "Tutorial                     983\n",
       "Name: event_name, dtype: int64"
      ]
     },
     "execution_count": 25,
     "metadata": {},
     "output_type": "execute_result"
    }
   ],
   "source": [
    "df.event_name.value_counts().sort_values(ascending=False)"
   ]
  },
  {
   "cell_type": "markdown",
   "id": "c3aaeb80",
   "metadata": {},
   "source": [
    "1. Самое частое событие - появление на главном экране\n",
    "2. Далее идёт экран каталога\n",
    "3. Чуть меньше событий с появлением экрана для заполнения/выбора карты\n",
    "4. Заметно реже, появляется событие об успешном платеже\n",
    "5. Очень мало кто читает tutorial"
   ]
  },
  {
   "cell_type": "markdown",
   "id": "ede86c27",
   "metadata": {},
   "source": [
    "## Подсчёт польвателей по событиям"
   ]
  },
  {
   "cell_type": "code",
   "execution_count": 26,
   "id": "57c0bc2c",
   "metadata": {},
   "outputs": [
    {
     "data": {
      "text/html": [
       "<div>\n",
       "<style scoped>\n",
       "    .dataframe tbody tr th:only-of-type {\n",
       "        vertical-align: middle;\n",
       "    }\n",
       "\n",
       "    .dataframe tbody tr th {\n",
       "        vertical-align: top;\n",
       "    }\n",
       "\n",
       "    .dataframe thead th {\n",
       "        text-align: right;\n",
       "    }\n",
       "</style>\n",
       "<table border=\"1\" class=\"dataframe\">\n",
       "  <thead>\n",
       "    <tr style=\"text-align: right;\">\n",
       "      <th></th>\n",
       "      <th>number_users</th>\n",
       "      <th>event_users/all_users</th>\n",
       "      <th>conversation</th>\n",
       "    </tr>\n",
       "  </thead>\n",
       "  <tbody>\n",
       "    <tr>\n",
       "      <th>MainScreenAppear</th>\n",
       "      <td>5820</td>\n",
       "      <td>0.99</td>\n",
       "      <td>1.00</td>\n",
       "    </tr>\n",
       "    <tr>\n",
       "      <th>OffersScreenAppear</th>\n",
       "      <td>3592</td>\n",
       "      <td>0.61</td>\n",
       "      <td>0.62</td>\n",
       "    </tr>\n",
       "    <tr>\n",
       "      <th>CartScreenAppear</th>\n",
       "      <td>2898</td>\n",
       "      <td>0.49</td>\n",
       "      <td>0.81</td>\n",
       "    </tr>\n",
       "    <tr>\n",
       "      <th>PaymentScreenSuccessful</th>\n",
       "      <td>2739</td>\n",
       "      <td>0.46</td>\n",
       "      <td>0.95</td>\n",
       "    </tr>\n",
       "    <tr>\n",
       "      <th>Tutorial</th>\n",
       "      <td>822</td>\n",
       "      <td>0.14</td>\n",
       "      <td>0.30</td>\n",
       "    </tr>\n",
       "  </tbody>\n",
       "</table>\n",
       "</div>"
      ],
      "text/plain": [
       "                         number_users  event_users/all_users  conversation\n",
       "MainScreenAppear                 5820                   0.99          1.00\n",
       "OffersScreenAppear               3592                   0.61          0.62\n",
       "CartScreenAppear                 2898                   0.49          0.81\n",
       "PaymentScreenSuccessful          2739                   0.46          0.95\n",
       "Tutorial                          822                   0.14          0.30"
      ]
     },
     "execution_count": 26,
     "metadata": {},
     "output_type": "execute_result"
    }
   ],
   "source": [
    "users = {}\n",
    "for name, data in df.groupby('event_name'):\n",
    "    number = data.user_id.nunique()\n",
    "    ratio = round(number / new_all_users, 2)\n",
    "    users[name] = [number, ratio]\n",
    "    \n",
    "num_us = pd.DataFrame.from_dict(users, orient='index', columns=['number_users', 'event_users/all_users']).sort_values(by='number_users', ascending=False)\n",
    "num_us\n",
    "\n",
    "num_us['temp_shift'] = num_us['number_users'].shift(1, fill_value=num_us['number_users'].max())\n",
    "num_us['conversation'] = num_us.apply(lambda x: round(x['number_users'] / x['temp_shift'], 2), axis=1)\n",
    "num_us.drop(columns=['temp_shift'], inplace=True)\n",
    "num_us\n"
   ]
  },
  {
   "cell_type": "markdown",
   "id": "309f80e9",
   "metadata": {},
   "source": [
    "## Предположение о цепочке событий воронки"
   ]
  },
  {
   "cell_type": "markdown",
   "id": "f49f5afe",
   "metadata": {},
   "source": [
    "Событие `Tutorial` не укладывается в общию цепочку событий: кто-то его вообще не смотрит, кто-то заходит на него глянуть после любого события. Уберём его из таблицы п. 4.2 и посчитаем конверсию для остальных событий, так как они выстраиваются в логичную цепочку:\n",
    "\n",
    "`MainScreenAppear` -> `OffersScreenAppear` -> `CartScreenAppear` -> `PaymentScreenSuccessful`"
   ]
  },
  {
   "cell_type": "code",
   "execution_count": 27,
   "id": "d0e3267a",
   "metadata": {},
   "outputs": [],
   "source": [
    "num_us = num_us.loc[~(num_us.index == 'Tutorial')]"
   ]
  },
  {
   "cell_type": "markdown",
   "id": "d2881169",
   "metadata": {},
   "source": [
    "## Выявление шага с самой низкой конверсией"
   ]
  },
  {
   "cell_type": "code",
   "execution_count": 28,
   "id": "5c5e2ea3",
   "metadata": {},
   "outputs": [
    {
     "data": {
      "text/plain": [
       "'Больше всего пользователей теряется на шаге: OffersScreenAppear'"
      ]
     },
     "metadata": {},
     "output_type": "display_data"
    }
   ],
   "source": [
    "display(f'Больше всего пользователей теряется на шаге: {num_us.number_users.diff().idxmin()}')"
   ]
  },
  {
   "cell_type": "markdown",
   "id": "896d354e",
   "metadata": {},
   "source": [
    "## Доля пользователей, проходящих от первого события до оплаты"
   ]
  },
  {
   "cell_type": "code",
   "execution_count": 29,
   "id": "0fa3e7f9",
   "metadata": {},
   "outputs": [
    {
     "data": {
      "text/plain": [
       "'Доля пользователей, доходящая от первого события до оплаты: 0.47'"
      ]
     },
     "metadata": {},
     "output_type": "display_data"
    }
   ],
   "source": [
    "ratio_users = num_us.number_users.iloc[-1] / num_us.number_users.iloc[0]\n",
    "display(f'Доля пользователей, доходящая от первого события до оплаты: {round(ratio_users, 2)}')"
   ]
  },
  {
   "cell_type": "markdown",
   "id": "5a5e1853",
   "metadata": {},
   "source": [
    "# Изучение результатов эксперимента"
   ]
  },
  {
   "cell_type": "markdown",
   "id": "df686c08",
   "metadata": {},
   "source": [
    "## Число пользователей в каждой экспериментальной группе"
   ]
  },
  {
   "cell_type": "code",
   "execution_count": 30,
   "id": "1a68f366",
   "metadata": {},
   "outputs": [
    {
     "data": {
      "text/plain": [
       "exp_id\n",
       "246    1962\n",
       "247    1964\n",
       "248    1971\n",
       "Name: user_id, dtype: int64"
      ]
     },
     "execution_count": 30,
     "metadata": {},
     "output_type": "execute_result"
    }
   ],
   "source": [
    "df.groupby('exp_id')['user_id'].nunique()"
   ]
  },
  {
   "cell_type": "markdown",
   "id": "48d35d54",
   "metadata": {},
   "source": [
    "Видно, что группы сопоставимы по размеру и пригодны для проверки статистических гипотез"
   ]
  },
  {
   "cell_type": "markdown",
   "id": "d8df642d",
   "metadata": {},
   "source": [
    "## Самое популярное событие. А/А-тест для групп 246, 247. "
   ]
  },
  {
   "cell_type": "code",
   "execution_count": 31,
   "id": "fbd8e8fd",
   "metadata": {},
   "outputs": [
    {
     "name": "stdout",
     "output_type": "stream",
     "text": [
      "Различие в количестве пользователей в группах 246, 247: 0.1%\n"
     ]
    }
   ],
   "source": [
    "delta_users = (1 - df.query('exp_id == 246')['user_id'].nunique() / df.query('exp_id == 247')['user_id'].nunique()) * 100\n",
    "print(f'Различие в количестве пользователей в группах 246, 247: {round(abs(delta_users), 2)}%')"
   ]
  },
  {
   "cell_type": "markdown",
   "id": "62ff74b8",
   "metadata": {},
   "source": [
    "Критерии успешного A/A-теста:\n",
    "1. Количество пользователей в различных группах различается не более, чем на 1%;\n",
    "2. Для всех групп фиксируют и отправляют в системы аналитики данные об одном и том же;\n",
    "3. Различие ключевых метрик по группам не превышает 1% и не имеет статистической значимости;\n",
    "4. Попавший в одну из групп посетитель остаётся в этой группе до конца теста. Если пользователь видит разные версии исследуемой страницы в ходе одного исследования, неизвестно, какая именно повлияла на его решения. Значит, и результаты такого теста нельзя интерпретировать однозначно.\n",
    "\n",
    "Соответствие групп 247, 246 критериям:\n",
    "1. Соответствуют\n",
    "2. Соответствуют\n",
    "3. Контрольные метрики не рассчитывались.\n",
    "4. Соответствуют (п. 2.2)"
   ]
  },
  {
   "cell_type": "markdown",
   "id": "74660d7a",
   "metadata": {},
   "source": [
    "Для выявление статистической значимости :\n",
    "\n",
    "- пороговое значения альфа установим равным 0.05\n",
    "- выдвигаем гипотезы:\n",
    "\n",
    "    Н0: различий в пропорции для каждого события между контрольными группами 246 и 247 нет\n",
    "    \n",
    "    Н1: различия в пропорции для каждого события между контрольными группами 246 и 247 есть."
   ]
  },
  {
   "cell_type": "code",
   "execution_count": 32,
   "id": "bae755b2",
   "metadata": {},
   "outputs": [],
   "source": [
    "alpha = .05 # критический уровень статистической значимости"
   ]
  },
  {
   "cell_type": "markdown",
   "id": "022efbcf",
   "metadata": {},
   "source": [
    "Создадим словарь где ключи - названия групп, значения - датафреймы с необходимыми данными для расчётов по проверке гипотез для каждого события:"
   ]
  },
  {
   "cell_type": "code",
   "execution_count": 33,
   "id": "81364ad7",
   "metadata": {},
   "outputs": [
    {
     "data": {
      "text/html": [
       "<div>\n",
       "<style scoped>\n",
       "    .dataframe tbody tr th:only-of-type {\n",
       "        vertical-align: middle;\n",
       "    }\n",
       "\n",
       "    .dataframe tbody tr th {\n",
       "        vertical-align: top;\n",
       "    }\n",
       "\n",
       "    .dataframe thead th {\n",
       "        text-align: right;\n",
       "    }\n",
       "</style>\n",
       "<table border=\"1\" class=\"dataframe\">\n",
       "  <thead>\n",
       "    <tr style=\"text-align: right;\">\n",
       "      <th></th>\n",
       "      <th>number_users</th>\n",
       "      <th>events_user/users_in_group</th>\n",
       "      <th>shifted</th>\n",
       "    </tr>\n",
       "  </thead>\n",
       "  <tbody>\n",
       "    <tr>\n",
       "      <th>MainScreenAppear</th>\n",
       "      <td>1936</td>\n",
       "      <td>98.67</td>\n",
       "      <td>1962</td>\n",
       "    </tr>\n",
       "    <tr>\n",
       "      <th>OffersScreenAppear</th>\n",
       "      <td>1221</td>\n",
       "      <td>62.23</td>\n",
       "      <td>1936</td>\n",
       "    </tr>\n",
       "    <tr>\n",
       "      <th>CartScreenAppear</th>\n",
       "      <td>991</td>\n",
       "      <td>50.51</td>\n",
       "      <td>1221</td>\n",
       "    </tr>\n",
       "    <tr>\n",
       "      <th>PaymentScreenSuccessful</th>\n",
       "      <td>938</td>\n",
       "      <td>47.81</td>\n",
       "      <td>991</td>\n",
       "    </tr>\n",
       "    <tr>\n",
       "      <th>Tutorial</th>\n",
       "      <td>271</td>\n",
       "      <td>13.81</td>\n",
       "      <td>938</td>\n",
       "    </tr>\n",
       "  </tbody>\n",
       "</table>\n",
       "</div>"
      ],
      "text/plain": [
       "                         number_users  events_user/users_in_group  shifted\n",
       "MainScreenAppear                 1936                       98.67     1962\n",
       "OffersScreenAppear               1221                       62.23     1936\n",
       "CartScreenAppear                  991                       50.51     1221\n",
       "PaymentScreenSuccessful           938                       47.81      991\n",
       "Tutorial                          271                       13.81      938"
      ]
     },
     "metadata": {},
     "output_type": "display_data"
    },
    {
     "data": {
      "text/html": [
       "<div>\n",
       "<style scoped>\n",
       "    .dataframe tbody tr th:only-of-type {\n",
       "        vertical-align: middle;\n",
       "    }\n",
       "\n",
       "    .dataframe tbody tr th {\n",
       "        vertical-align: top;\n",
       "    }\n",
       "\n",
       "    .dataframe thead th {\n",
       "        text-align: right;\n",
       "    }\n",
       "</style>\n",
       "<table border=\"1\" class=\"dataframe\">\n",
       "  <thead>\n",
       "    <tr style=\"text-align: right;\">\n",
       "      <th></th>\n",
       "      <th>number_users</th>\n",
       "      <th>events_user/users_in_group</th>\n",
       "      <th>shifted</th>\n",
       "    </tr>\n",
       "  </thead>\n",
       "  <tbody>\n",
       "    <tr>\n",
       "      <th>MainScreenAppear</th>\n",
       "      <td>1941</td>\n",
       "      <td>98.83</td>\n",
       "      <td>1964</td>\n",
       "    </tr>\n",
       "    <tr>\n",
       "      <th>OffersScreenAppear</th>\n",
       "      <td>1184</td>\n",
       "      <td>60.29</td>\n",
       "      <td>1941</td>\n",
       "    </tr>\n",
       "    <tr>\n",
       "      <th>CartScreenAppear</th>\n",
       "      <td>958</td>\n",
       "      <td>48.78</td>\n",
       "      <td>1184</td>\n",
       "    </tr>\n",
       "    <tr>\n",
       "      <th>PaymentScreenSuccessful</th>\n",
       "      <td>893</td>\n",
       "      <td>45.47</td>\n",
       "      <td>958</td>\n",
       "    </tr>\n",
       "    <tr>\n",
       "      <th>Tutorial</th>\n",
       "      <td>277</td>\n",
       "      <td>14.10</td>\n",
       "      <td>893</td>\n",
       "    </tr>\n",
       "  </tbody>\n",
       "</table>\n",
       "</div>"
      ],
      "text/plain": [
       "                         number_users  events_user/users_in_group  shifted\n",
       "MainScreenAppear                 1941                       98.83     1964\n",
       "OffersScreenAppear               1184                       60.29     1941\n",
       "CartScreenAppear                  958                       48.78     1184\n",
       "PaymentScreenSuccessful           893                       45.47      958\n",
       "Tutorial                          277                       14.10      893"
      ]
     },
     "metadata": {},
     "output_type": "display_data"
    }
   ],
   "source": [
    "exp_groups = dict.fromkeys(name_groups)\n",
    "for group_name in exp_groups.keys():\n",
    "    data_group = df.loc[df.exp_id == group_name]\n",
    "    in_exp_group = {}\n",
    "    users_in_group = data_group.user_id.nunique()\n",
    "    for name, nested_data in data_group.groupby('event_name'):      \n",
    "        number = nested_data.user_id.nunique()\n",
    "        ratio = round(100 * number / users_in_group, 2)\n",
    "        in_exp_group[name] = [number, ratio]\n",
    "        \n",
    "    group_df = pd.DataFrame.from_dict(in_exp_group, orient='index', columns=['number_users', 'events_user/users_in_group']) \\\n",
    "        .sort_values(by='number_users', ascending=False) \n",
    "    group_df['shifted'] = group_df.number_users.shift(fill_value=users_in_group)\n",
    "    exp_groups[group_name] = group_df\n",
    "    \n",
    "display(exp_groups[246])\n",
    "display(exp_groups[247])"
   ]
  },
  {
   "cell_type": "markdown",
   "id": "2ccc0dc1",
   "metadata": {},
   "source": [
    "Самое популярное событие в обоих группах: `MainScreenAppear` (посещение основного окна)."
   ]
  },
  {
   "cell_type": "markdown",
   "id": "8d6b204a",
   "metadata": {},
   "source": [
    "Напишем функцию проверяющию наши гипотезы по каждому событию с помощью z-статистики:"
   ]
  },
  {
   "cell_type": "code",
   "execution_count": 34,
   "id": "9ce34d54",
   "metadata": {},
   "outputs": [],
   "source": [
    "def get_z_stat(name_group1, name_group2, exp_groups=exp_groups, alpha=alpha):\n",
    "    \n",
    "    df1 = exp_groups[name_group1]\n",
    "    df2 = exp_groups[name_group2]\n",
    "    event_names = df1.index\n",
    "    \n",
    "    for event_name in event_names:\n",
    "        \n",
    "        successes1 = df1.number_users.loc[event_name]\n",
    "        successes2 = df2.number_users.loc[event_name]\n",
    "        \n",
    "        trials1 = df1.shifted.loc[event_name]\n",
    "        trials2 = df2.shifted.loc[event_name]\n",
    "        \n",
    "        # пропорция успехов в первой группе:\n",
    "        p1 = successes1/trials1\n",
    "\n",
    "        # пропорция успехов во второй группе:\n",
    "        p2 = successes2/trials2\n",
    "\n",
    "        # пропорция успехов в комбинированном датасете:\n",
    "        p_combined = (successes1 + successes2) / (trials1 + trials2)\n",
    "\n",
    "        # разница пропорций в датасетах\n",
    "        difference = p1 - p2 \n",
    "\n",
    "        # считаем статистику в ст.отклонениях стандартного нормального распределения\n",
    "        z_value = difference / mth.sqrt(p_combined * (1 - p_combined) * (1/trials1 + 1/trials2))\n",
    "\n",
    "        # задаем стандартное нормальное распределение (среднее 0, ст.отклонение 1)\n",
    "        distr = st.norm(0, 1)  \n",
    "\n",
    "        # считаем статистику в ст.отклонениях стандартного нормального распределения\n",
    "        z_value = difference / mth.sqrt(\n",
    "            p_combined * (1 - p_combined) * (1 / trials1 + 1 / trials2)\n",
    "        )\n",
    "\n",
    "        # задаем стандартное нормальное распределение (среднее 0, ст.отклонение 1)\n",
    "        distr = st.norm(0, 1)\n",
    "\n",
    "        p_value = (1 - distr.cdf(abs(z_value))) * 2\n",
    "        print(f'{round(p1, 2)} с событием {event_name} в группе {name_group1}')\n",
    "        print(f'{round(p2, 2)} с событием {event_name} в группе {name_group2}')\n",
    "        print('p-значение: ', round(p_value, 3))\n",
    "\n",
    "        if p_value < alpha:\n",
    "            print('Отвергаем нулевую гипотезу: между долями есть значимая разница ')\n",
    "        else:\n",
    "            print(\n",
    "                'Не получилось отвергнуть нулевую гипотезу, нет оснований считать доли разными'\n",
    "            ) \n",
    "        print(' ')"
   ]
  },
  {
   "cell_type": "code",
   "execution_count": 35,
   "id": "de5a5358",
   "metadata": {},
   "outputs": [
    {
     "name": "stdout",
     "output_type": "stream",
     "text": [
      "0.99 с событием MainScreenAppear в группе 246\n",
      "0.99 с событием MainScreenAppear в группе 247\n",
      "p-значение:  0.664\n",
      "Не получилось отвергнуть нулевую гипотезу, нет оснований считать доли разными\n",
      " \n",
      "0.63 с событием OffersScreenAppear в группе 246\n",
      "0.61 с событием OffersScreenAppear в группе 247\n",
      "p-значение:  0.184\n",
      "Не получилось отвергнуть нулевую гипотезу, нет оснований считать доли разными\n",
      " \n",
      "0.81 с событием CartScreenAppear в группе 246\n",
      "0.81 с событием CartScreenAppear в группе 247\n",
      "p-значение:  0.875\n",
      "Не получилось отвергнуть нулевую гипотезу, нет оснований считать доли разными\n",
      " \n",
      "0.95 с событием PaymentScreenSuccessful в группе 246\n",
      "0.93 с событием PaymentScreenSuccessful в группе 247\n",
      "p-значение:  0.184\n",
      "Не получилось отвергнуть нулевую гипотезу, нет оснований считать доли разными\n",
      " \n",
      "0.29 с событием Tutorial в группе 246\n",
      "0.31 с событием Tutorial в группе 247\n",
      "p-значение:  0.32\n",
      "Не получилось отвергнуть нулевую гипотезу, нет оснований считать доли разными\n",
      " \n"
     ]
    }
   ],
   "source": [
    "get_z_stat(246, 247)"
   ]
  },
  {
   "cell_type": "markdown",
   "id": "385590a3",
   "metadata": {},
   "source": [
    "Для всех событий р-значение не опустилось ниже 0.05 и мы не можем отвергнуть все Н0 - это значит в утверждении **различий в пропорции между контрольными группами есть** с вероятностью 88% для события `CartScreenApper`(взято для примера) ошибочно. \n",
    "\n",
    "Таким образом, можем сказать, что разбиение по группам работает корректно."
   ]
  },
  {
   "cell_type": "markdown",
   "id": "414a9c66",
   "metadata": {},
   "source": [
    "## A/B-тесты"
   ]
  },
  {
   "cell_type": "markdown",
   "id": "9ec0e2c6",
   "metadata": {},
   "source": [
    "Приступим к А/В тесту. Для этого проведём аналогичный А/А-тесту тест статистической значимости различий в пропорции для каждого события. \n",
    "Сначала сравним группу 246 и 248:"
   ]
  },
  {
   "cell_type": "code",
   "execution_count": 36,
   "id": "8df8f160",
   "metadata": {},
   "outputs": [
    {
     "name": "stdout",
     "output_type": "stream",
     "text": [
      "0.99 с событием MainScreenAppear в группе 246\n",
      "0.99 с событием MainScreenAppear в группе 248\n",
      "p-значение:  0.797\n",
      "Не получилось отвергнуть нулевую гипотезу, нет оснований считать доли разными\n",
      " \n",
      "0.63 с событием OffersScreenAppear в группе 246\n",
      "0.61 с событием OffersScreenAppear в группе 248\n",
      "p-значение:  0.204\n",
      "Не получилось отвергнуть нулевую гипотезу, нет оснований считать доли разными\n",
      " \n",
      "0.81 с событием CartScreenAppear в группе 246\n",
      "0.8 с событием CartScreenAppear в группе 248\n",
      "p-значение:  0.452\n",
      "Не получилось отвергнуть нулевую гипотезу, нет оснований считать доли разными\n",
      " \n",
      "0.95 с событием PaymentScreenSuccessful в группе 246\n",
      "0.96 с событием PaymentScreenSuccessful в группе 248\n",
      "p-значение:  0.292\n",
      "Не получилось отвергнуть нулевую гипотезу, нет оснований считать доли разными\n",
      " \n",
      "0.29 с событием Tutorial в группе 246\n",
      "0.3 с событием Tutorial в группе 248\n",
      "p-значение:  0.545\n",
      "Не получилось отвергнуть нулевую гипотезу, нет оснований считать доли разными\n",
      " \n"
     ]
    }
   ],
   "source": [
    "get_z_stat(246, 248)"
   ]
  },
  {
   "cell_type": "markdown",
   "id": "330a6c11",
   "metadata": {},
   "source": [
    "Результат аналогичен A/A-тесту: p-value ни разу ни опустилось ниже альфы в 5%. Вероятности сделать ошибку в утверждении **различий в пропорции между контрольными группами есть** для событий `CartScreenAppear` равна 45%. Аналогичные вероятности для остальных событий увеличились.\n",
    "\n",
    "Теперь сравним группы 247 и 248:"
   ]
  },
  {
   "cell_type": "code",
   "execution_count": 37,
   "id": "0e4b2d23",
   "metadata": {},
   "outputs": [
    {
     "name": "stdout",
     "output_type": "stream",
     "text": [
      "0.99 с событием MainScreenAppear в группе 247\n",
      "0.99 с событием MainScreenAppear в группе 248\n",
      "p-значение:  0.489\n",
      "Не получилось отвергнуть нулевую гипотезу, нет оснований считать доли разными\n",
      " \n",
      "0.61 с событием OffersScreenAppear в группе 247\n",
      "0.61 с событием OffersScreenAppear в группе 248\n",
      "p-значение:  0.953\n",
      "Не получилось отвергнуть нулевую гипотезу, нет оснований считать доли разными\n",
      " \n",
      "0.81 с событием CartScreenAppear в группе 247\n",
      "0.8 с событием CartScreenAppear в группе 248\n",
      "p-значение:  0.555\n",
      "Не получилось отвергнуть нулевую гипотезу, нет оснований считать доли разными\n",
      " \n",
      "0.93 с событием PaymentScreenSuccessful в группе 247\n",
      "0.96 с событием PaymentScreenSuccessful в группе 248\n",
      "p-значение:  0.019\n",
      "Отвергаем нулевую гипотезу: между долями есть значимая разница \n",
      " \n",
      "0.31 с событием Tutorial в группе 247\n",
      "0.3 с событием Tutorial в группе 248\n",
      "p-значение:  0.698\n",
      "Не получилось отвергнуть нулевую гипотезу, нет оснований считать доли разными\n",
      " \n"
     ]
    }
   ],
   "source": [
    "get_z_stat(247, 248)"
   ]
  },
  {
   "cell_type": "markdown",
   "id": "77d83c8b",
   "metadata": {},
   "source": [
    "Для группы 247 и 248 есть понижение p_value ниже альфы в 5% для события `PaymentScreenSuccessful` - для него мы отвергаем нулевую гипотезу и утверждаем: статистически пропорции групп 247, 248 для события `PaymentScreenSuccessful` не одинаковы, т.е. шрифт повлиял на достижение пользователями окна оплаты.\n",
    "\n",
    "Теперь сравним объединённую группу 247 + 246 и  248, но сначала получим датафрейм для объединённой группы (дадим ей номер 249):"
   ]
  },
  {
   "cell_type": "code",
   "execution_count": 38,
   "id": "d6895285",
   "metadata": {},
   "outputs": [],
   "source": [
    "new_group_name = 249"
   ]
  },
  {
   "cell_type": "code",
   "execution_count": 39,
   "id": "bc7416d8",
   "metadata": {},
   "outputs": [],
   "source": [
    "data_group = df.loc[df.exp_id != 248]\n",
    "in_exp_group = {}\n",
    "users_in_group = data_group.user_id.nunique()\n",
    "for name, nested_data in data_group.groupby('event_name'):      \n",
    "    number = nested_data.user_id.nunique()\n",
    "    ratio = round(100 * number / users_in_group, 2)\n",
    "    in_exp_group[name] = [number, ratio]\n",
    "\n",
    "group_df = pd.DataFrame.from_dict(in_exp_group, orient='index', columns=['number_users', 'events_user/users_in_group']) \\\n",
    "    .sort_values(by='number_users', ascending=False) \n",
    "group_df['shifted'] = group_df.number_users.shift(fill_value=users_in_group)\n",
    "exp_groups[new_group_name] = group_df"
   ]
  },
  {
   "cell_type": "code",
   "execution_count": 40,
   "id": "0ca6ecd3",
   "metadata": {},
   "outputs": [
    {
     "data": {
      "text/html": [
       "<div>\n",
       "<style scoped>\n",
       "    .dataframe tbody tr th:only-of-type {\n",
       "        vertical-align: middle;\n",
       "    }\n",
       "\n",
       "    .dataframe tbody tr th {\n",
       "        vertical-align: top;\n",
       "    }\n",
       "\n",
       "    .dataframe thead th {\n",
       "        text-align: right;\n",
       "    }\n",
       "</style>\n",
       "<table border=\"1\" class=\"dataframe\">\n",
       "  <thead>\n",
       "    <tr style=\"text-align: right;\">\n",
       "      <th></th>\n",
       "      <th>number_users</th>\n",
       "      <th>events_user/users_in_group</th>\n",
       "      <th>shifted</th>\n",
       "    </tr>\n",
       "  </thead>\n",
       "  <tbody>\n",
       "    <tr>\n",
       "      <th>MainScreenAppear</th>\n",
       "      <td>3877</td>\n",
       "      <td>98.75</td>\n",
       "      <td>3926</td>\n",
       "    </tr>\n",
       "    <tr>\n",
       "      <th>OffersScreenAppear</th>\n",
       "      <td>2405</td>\n",
       "      <td>61.26</td>\n",
       "      <td>3877</td>\n",
       "    </tr>\n",
       "    <tr>\n",
       "      <th>CartScreenAppear</th>\n",
       "      <td>1949</td>\n",
       "      <td>49.64</td>\n",
       "      <td>2405</td>\n",
       "    </tr>\n",
       "    <tr>\n",
       "      <th>PaymentScreenSuccessful</th>\n",
       "      <td>1831</td>\n",
       "      <td>46.64</td>\n",
       "      <td>1949</td>\n",
       "    </tr>\n",
       "    <tr>\n",
       "      <th>Tutorial</th>\n",
       "      <td>548</td>\n",
       "      <td>13.96</td>\n",
       "      <td>1831</td>\n",
       "    </tr>\n",
       "  </tbody>\n",
       "</table>\n",
       "</div>"
      ],
      "text/plain": [
       "                         number_users  events_user/users_in_group  shifted\n",
       "MainScreenAppear                 3877                       98.75     3926\n",
       "OffersScreenAppear               2405                       61.26     3877\n",
       "CartScreenAppear                 1949                       49.64     2405\n",
       "PaymentScreenSuccessful          1831                       46.64     1949\n",
       "Tutorial                          548                       13.96     1831"
      ]
     },
     "execution_count": 40,
     "metadata": {},
     "output_type": "execute_result"
    }
   ],
   "source": [
    "exp_groups[249]"
   ]
  },
  {
   "cell_type": "code",
   "execution_count": 41,
   "id": "7af3cee3",
   "metadata": {},
   "outputs": [
    {
     "name": "stdout",
     "output_type": "stream",
     "text": [
      "0.99 с событием MainScreenAppear в группе 248\n",
      "0.99 с событием MainScreenAppear в группе 249\n",
      "p-значение:  0.582\n",
      "Не получилось отвергнуть нулевую гипотезу, нет оснований считать доли разными\n",
      " \n",
      "0.61 с событием OffersScreenAppear в группе 248\n",
      "0.62 с событием OffersScreenAppear в группе 249\n",
      "p-значение:  0.486\n",
      "Не получилось отвергнуть нулевую гипотезу, нет оснований считать доли разными\n",
      " \n",
      "0.8 с событием CartScreenAppear в группе 248\n",
      "0.81 с событием CartScreenAppear в группе 249\n",
      "p-значение:  0.436\n",
      "Не получилось отвергнуть нулевую гипотезу, нет оснований считать доли разными\n",
      " \n",
      "0.96 с событием PaymentScreenSuccessful в группе 248\n",
      "0.94 с событием PaymentScreenSuccessful в группе 249\n",
      "p-значение:  0.054\n",
      "Не получилось отвергнуть нулевую гипотезу, нет оснований считать доли разными\n",
      " \n",
      "0.3 с событием Tutorial в группе 248\n",
      "0.3 с событием Tutorial в группе 249\n",
      "p-значение:  0.894\n",
      "Не получилось отвергнуть нулевую гипотезу, нет оснований считать доли разными\n",
      " \n"
     ]
    }
   ],
   "source": [
    "get_z_stat(248, 249)"
   ]
  },
  {
   "cell_type": "markdown",
   "id": "4f9076ae",
   "metadata": {},
   "source": [
    "В данном случае, имеем пограничное значение p-value для события `PaymentScreenSuccessful` (5.4%). Всё же, все гипотезы Н0 не отвергаются.\n",
    "\n",
    "По результатам тестов статистической значимости получили:\n",
    "- при сравнении пропорций групп 246, 248, гипотезу H0 отвергнуть не удалось\n",
    "- статистически пропорции групп 247, 248 для события `PaymentScreenSuccessful` не одинаковы. Т.е. конверсия для события \"успешная оплата\" изменилась.\n",
    "- противоречивые результаты при сравнении групп 246+247 (249), 248 - по альфе гипотеза о равенстве выборок не отвергается, но для события `PaymentScreenSuccessful` p-value очень близко к альфе\n"
   ]
  },
  {
   "cell_type": "markdown",
   "id": "542d4b11",
   "metadata": {},
   "source": [
    "## Анализ полученных ранее результатов и действия по итогу анализа"
   ]
  },
  {
   "cell_type": "markdown",
   "id": "67cbd798",
   "metadata": {},
   "source": [
    "Для проверки статистических гипотез альфа была установлена: 0.05\n",
    "\n",
    "Было проведено 20 проверок статистических гипотез. Учитывая раннее выбранную альфу, в каждом 20 тесте можно получить ложный результат. Чтобы избежать такой вероятности и противоречивых тестов снизим альфу до 0.01 и проведём тесты заново: "
   ]
  },
  {
   "cell_type": "code",
   "execution_count": 42,
   "id": "576b3c83",
   "metadata": {},
   "outputs": [],
   "source": [
    "alpha2 = .01"
   ]
  },
  {
   "cell_type": "code",
   "execution_count": 43,
   "id": "7569f2d7",
   "metadata": {},
   "outputs": [
    {
     "name": "stdout",
     "output_type": "stream",
     "text": [
      "Сравнение групп 246, 247 при альфе в 1%\n",
      "0.99 с событием MainScreenAppear в группе 246\n",
      "0.99 с событием MainScreenAppear в группе 247\n",
      "p-значение:  0.664\n",
      "Не получилось отвергнуть нулевую гипотезу, нет оснований считать доли разными\n",
      " \n",
      "0.63 с событием OffersScreenAppear в группе 246\n",
      "0.61 с событием OffersScreenAppear в группе 247\n",
      "p-значение:  0.184\n",
      "Не получилось отвергнуть нулевую гипотезу, нет оснований считать доли разными\n",
      " \n",
      "0.81 с событием CartScreenAppear в группе 246\n",
      "0.81 с событием CartScreenAppear в группе 247\n",
      "p-значение:  0.875\n",
      "Не получилось отвергнуть нулевую гипотезу, нет оснований считать доли разными\n",
      " \n",
      "0.95 с событием PaymentScreenSuccessful в группе 246\n",
      "0.93 с событием PaymentScreenSuccessful в группе 247\n",
      "p-значение:  0.184\n",
      "Не получилось отвергнуть нулевую гипотезу, нет оснований считать доли разными\n",
      " \n",
      "0.29 с событием Tutorial в группе 246\n",
      "0.31 с событием Tutorial в группе 247\n",
      "p-значение:  0.32\n",
      "Не получилось отвергнуть нулевую гипотезу, нет оснований считать доли разными\n",
      " \n"
     ]
    }
   ],
   "source": [
    "print('Сравнение групп 246, 247 при альфе в 1%')\n",
    "get_z_stat(246, 247, alpha=alpha2)"
   ]
  },
  {
   "cell_type": "code",
   "execution_count": 44,
   "id": "29a97ee4",
   "metadata": {},
   "outputs": [
    {
     "name": "stdout",
     "output_type": "stream",
     "text": [
      "Сравнение групп 246, 247 при альфе в 1%\n",
      "0.99 с событием MainScreenAppear в группе 246\n",
      "0.99 с событием MainScreenAppear в группе 248\n",
      "p-значение:  0.797\n",
      "Не получилось отвергнуть нулевую гипотезу, нет оснований считать доли разными\n",
      " \n",
      "0.63 с событием OffersScreenAppear в группе 246\n",
      "0.61 с событием OffersScreenAppear в группе 248\n",
      "p-значение:  0.204\n",
      "Не получилось отвергнуть нулевую гипотезу, нет оснований считать доли разными\n",
      " \n",
      "0.81 с событием CartScreenAppear в группе 246\n",
      "0.8 с событием CartScreenAppear в группе 248\n",
      "p-значение:  0.452\n",
      "Не получилось отвергнуть нулевую гипотезу, нет оснований считать доли разными\n",
      " \n",
      "0.95 с событием PaymentScreenSuccessful в группе 246\n",
      "0.96 с событием PaymentScreenSuccessful в группе 248\n",
      "p-значение:  0.292\n",
      "Не получилось отвергнуть нулевую гипотезу, нет оснований считать доли разными\n",
      " \n",
      "0.29 с событием Tutorial в группе 246\n",
      "0.3 с событием Tutorial в группе 248\n",
      "p-значение:  0.545\n",
      "Не получилось отвергнуть нулевую гипотезу, нет оснований считать доли разными\n",
      " \n"
     ]
    }
   ],
   "source": [
    "print('Сравнение групп 246, 247 при альфе в 1%')\n",
    "get_z_stat(246, 248, alpha=alpha2)"
   ]
  },
  {
   "cell_type": "code",
   "execution_count": 45,
   "id": "f6fa809e",
   "metadata": {},
   "outputs": [
    {
     "name": "stdout",
     "output_type": "stream",
     "text": [
      "Сравнение групп 246, 247 при альфе в 1%\n",
      "0.99 с событием MainScreenAppear в группе 248\n",
      "0.99 с событием MainScreenAppear в группе 247\n",
      "p-значение:  0.489\n",
      "Не получилось отвергнуть нулевую гипотезу, нет оснований считать доли разными\n",
      " \n",
      "0.61 с событием OffersScreenAppear в группе 248\n",
      "0.61 с событием OffersScreenAppear в группе 247\n",
      "p-значение:  0.953\n",
      "Не получилось отвергнуть нулевую гипотезу, нет оснований считать доли разными\n",
      " \n",
      "0.8 с событием CartScreenAppear в группе 248\n",
      "0.81 с событием CartScreenAppear в группе 247\n",
      "p-значение:  0.555\n",
      "Не получилось отвергнуть нулевую гипотезу, нет оснований считать доли разными\n",
      " \n",
      "0.96 с событием PaymentScreenSuccessful в группе 248\n",
      "0.93 с событием PaymentScreenSuccessful в группе 247\n",
      "p-значение:  0.019\n",
      "Не получилось отвергнуть нулевую гипотезу, нет оснований считать доли разными\n",
      " \n",
      "0.3 с событием Tutorial в группе 248\n",
      "0.31 с событием Tutorial в группе 247\n",
      "p-значение:  0.698\n",
      "Не получилось отвергнуть нулевую гипотезу, нет оснований считать доли разными\n",
      " \n"
     ]
    }
   ],
   "source": [
    "print('Сравнение групп 246, 247 при альфе в 1%')\n",
    "get_z_stat(248, 247, alpha=alpha2)"
   ]
  },
  {
   "cell_type": "code",
   "execution_count": 46,
   "id": "cbe18b4d",
   "metadata": {},
   "outputs": [
    {
     "name": "stdout",
     "output_type": "stream",
     "text": [
      "Сравнение групп 246, 247 при альфе в 1%\n",
      "0.99 с событием MainScreenAppear в группе 249\n",
      "0.99 с событием MainScreenAppear в группе 248\n",
      "p-значение:  0.582\n",
      "Не получилось отвергнуть нулевую гипотезу, нет оснований считать доли разными\n",
      " \n",
      "0.62 с событием OffersScreenAppear в группе 249\n",
      "0.61 с событием OffersScreenAppear в группе 248\n",
      "p-значение:  0.486\n",
      "Не получилось отвергнуть нулевую гипотезу, нет оснований считать доли разными\n",
      " \n",
      "0.81 с событием CartScreenAppear в группе 249\n",
      "0.8 с событием CartScreenAppear в группе 248\n",
      "p-значение:  0.436\n",
      "Не получилось отвергнуть нулевую гипотезу, нет оснований считать доли разными\n",
      " \n",
      "0.94 с событием PaymentScreenSuccessful в группе 249\n",
      "0.96 с событием PaymentScreenSuccessful в группе 248\n",
      "p-значение:  0.054\n",
      "Не получилось отвергнуть нулевую гипотезу, нет оснований считать доли разными\n",
      " \n",
      "0.3 с событием Tutorial в группе 249\n",
      "0.3 с событием Tutorial в группе 248\n",
      "p-значение:  0.894\n",
      "Не получилось отвергнуть нулевую гипотезу, нет оснований считать доли разными\n",
      " \n"
     ]
    }
   ],
   "source": [
    "print('Сравнение групп 246, 247 при альфе в 1%')\n",
    "get_z_stat(249, 248, alpha=alpha2)"
   ]
  },
  {
   "cell_type": "markdown",
   "id": "1a3a87d2",
   "metadata": {},
   "source": [
    "При альфе в 1%, во всех тестах не удалось отвергнуть гипотезу H0 и нет оснований считать доли разными. Таким образом, изменение шрифта не повлияло на конверсия со статистической точки зрения."
   ]
  }
 ],
 "metadata": {
  "kernelspec": {
   "display_name": "Python 3 (ipykernel)",
   "language": "python",
   "name": "python3"
  },
  "language_info": {
   "codemirror_mode": {
    "name": "ipython",
    "version": 3
   },
   "file_extension": ".py",
   "mimetype": "text/x-python",
   "name": "python",
   "nbconvert_exporter": "python",
   "pygments_lexer": "ipython3",
   "version": "3.8.3"
  },
  "toc": {
   "base_numbering": 1,
   "nav_menu": {},
   "number_sections": true,
   "sideBar": true,
   "skip_h1_title": false,
   "title_cell": "Table of Contents",
   "title_sidebar": "Contents",
   "toc_cell": true,
   "toc_position": {},
   "toc_section_display": true,
   "toc_window_display": true
  }
 },
 "nbformat": 4,
 "nbformat_minor": 5
}
