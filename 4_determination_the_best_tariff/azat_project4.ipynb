{
 "cells": [
  {
   "cell_type": "markdown",
   "metadata": {
    "toc": true
   },
   "source": [
    "<h1>Table of Contents<span class=\"tocSkip\"></span></h1>\n",
    "<div class=\"toc\"><ul class=\"toc-item\"><li><span><a href=\"#Описание-проекта\" data-toc-modified-id=\"Описание-проекта-1\"><span class=\"toc-item-num\">1&nbsp;&nbsp;</span>Описание проекта</a></span><ul class=\"toc-item\"><li><span><a href=\"#Описание-тарифов\" data-toc-modified-id=\"Описание-тарифов-1.1\"><span class=\"toc-item-num\">1.1&nbsp;&nbsp;</span>Описание тарифов</a></span></li><li><span><a href=\"#Описание-данных\" data-toc-modified-id=\"Описание-данных-1.2\"><span class=\"toc-item-num\">1.2&nbsp;&nbsp;</span>Описание данных</a></span></li></ul></li><li><span><a href=\"#Изучение-информации\" data-toc-modified-id=\"Изучение-информации-2\"><span class=\"toc-item-num\">2&nbsp;&nbsp;</span>Изучение информации</a></span></li><li><span><a href=\"#Подготовка-данных\" data-toc-modified-id=\"Подготовка-данных-3\"><span class=\"toc-item-num\">3&nbsp;&nbsp;</span>Подготовка данных</a></span><ul class=\"toc-item\"><li><span><a href=\"#Изменение-типов-данных-в-столбцах-столбцов\" data-toc-modified-id=\"Изменение-типов-данных-в-столбцах-столбцов-3.1\"><span class=\"toc-item-num\">3.1&nbsp;&nbsp;</span>Изменение типов данных в столбцах столбцов</a></span></li><li><span><a href=\"#Поиск-ошибок-и-обработка-данных\" data-toc-modified-id=\"Поиск-ошибок-и-обработка-данных-3.2\"><span class=\"toc-item-num\">3.2&nbsp;&nbsp;</span>Поиск ошибок и обработка данных</a></span></li><li><span><a href=\"#Подготовка-данных\" data-toc-modified-id=\"Подготовка-данных-3.3\"><span class=\"toc-item-num\">3.3&nbsp;&nbsp;</span>Подготовка данных</a></span><ul class=\"toc-item\"><li><span><a href=\"#Расчёт-выручки-по-тарифу\" data-toc-modified-id=\"Расчёт-выручки-по-тарифу-3.3.1\"><span class=\"toc-item-num\">3.3.1&nbsp;&nbsp;</span>Расчёт выручки по тарифу</a></span></li><li><span><a href=\"#Расчёт-выручки-по-превышени-лимитов\" data-toc-modified-id=\"Расчёт-выручки-по-превышени-лимитов-3.3.2\"><span class=\"toc-item-num\">3.3.2&nbsp;&nbsp;</span>Расчёт выручки по превышени лимитов</a></span></li></ul></li></ul></li><li><span><a href=\"#Анализ-данных\" data-toc-modified-id=\"Анализ-данных-4\"><span class=\"toc-item-num\">4&nbsp;&nbsp;</span>Анализ данных</a></span></li><li><span><a href=\"#Проверка-статистических-гипотез\" data-toc-modified-id=\"Проверка-статистических-гипотез-5\"><span class=\"toc-item-num\">5&nbsp;&nbsp;</span>Проверка статистических гипотез</a></span><ul class=\"toc-item\"><li><span><a href=\"#Проверка-гипотезы-№1\" data-toc-modified-id=\"Проверка-гипотезы-№1-5.1\"><span class=\"toc-item-num\">5.1&nbsp;&nbsp;</span>Проверка гипотезы №1</a></span></li><li><span><a href=\"#Проверка-гипотезы-№2\" data-toc-modified-id=\"Проверка-гипотезы-№2-5.2\"><span class=\"toc-item-num\">5.2&nbsp;&nbsp;</span>Проверка гипотезы №2</a></span><ul class=\"toc-item\"><li><span><a href=\"#Расчёт-выручки-по-тарифу\" data-toc-modified-id=\"Расчёт-выручки-по-тарифу-5.2.1\"><span class=\"toc-item-num\">5.2.1&nbsp;&nbsp;</span>Расчёт выручки по тарифу</a></span></li><li><span><a href=\"#Расчёт-выручки-по-превышени-лимитов\" data-toc-modified-id=\"Расчёт-выручки-по-превышени-лимитов-5.2.2\"><span class=\"toc-item-num\">5.2.2&nbsp;&nbsp;</span>Расчёт выручки по превышени лимитов</a></span></li><li><span><a href=\"#Статистические-расчёты-по-гипотезе-№1\" data-toc-modified-id=\"Статистические-расчёты-по-гипотезе-№1-5.2.3\"><span class=\"toc-item-num\">5.2.3&nbsp;&nbsp;</span>Статистические расчёты по гипотезе №1</a></span></li></ul></li></ul></li><li><span><a href=\"#Общий-вывод\" data-toc-modified-id=\"Общий-вывод-6\"><span class=\"toc-item-num\">6&nbsp;&nbsp;</span>Общий вывод</a></span></li></ul></div>"
   ]
  },
  {
   "cell_type": "markdown",
   "metadata": {},
   "source": [
    "## Описание проекта\n",
    "\n",
    "Вы аналитик компании «Мегалайн» — федерального оператора сотовой связи. Клиентам предлагают два тарифных плана: «Смарт» и «Ультра». Чтобы скорректировать рекламный бюджет, коммерческий департамент хочет понять, какой тариф приносит больше денег.\n",
    "Вам предстоит сделать предварительный анализ тарифов на небольшой выборке клиентов. В вашем распоряжении данные 500 пользователей «Мегалайна»: кто они, откуда, каким тарифом пользуются, сколько звонков и сообщений каждый отправил за 2018 год. Нужно проанализировать поведение клиентов и сделать вывод — какой тариф лучше.\n",
    "### Описание тарифов\n",
    "Тариф «Смарт»\n",
    "\n",
    "1. Ежемесячная плата: 550 рублей\n",
    "\n",
    "2. Включено 500 минут разговора, 50 сообщений и 15 Гб интернет-трафика\n",
    "\n",
    "3. Стоимость услуг сверх тарифного пакета:\n",
    "- минута разговора: 3 рубля\n",
    "- сообщение: 3 рубля\n",
    "- 1 Гб интернет-трафика: 200 рублей\n",
    "\n",
    "Тариф «Ультра»\n",
    "1. Ежемесячная плата: 1950 рублей\n",
    "2. Включено 3000 минут разговора, 1000 сообщений и 30 Гб интернет-трафика\n",
    "3. Стоимость услуг сверх тарифного пакета:\n",
    "- минута разговора: 1 рубль\n",
    "- сообщение: 1 рубль\n",
    "- 1 Гб интернет-трафика: 150 рублей\n",
    "Примечание:\n",
    "\n",
    "«Мегалайн» всегда округляет секунды до минут, а мегабайты — до гигабайт. Каждый звонок округляется отдельно: даже если он длился всего 1 секунду, будет засчитан как 1 минута.\n",
    "\n",
    "Для веб-трафика отдельные сессии не считаются. Вместо этого общая сумма за месяц округляется в бо́льшую сторону. Если абонент использует 1025 мегабайт в этом месяце, с него возьмут плату за 2 гигабайта."
   ]
  },
  {
   "cell_type": "markdown",
   "metadata": {},
   "source": [
    "### Описание данных\n",
    "\n",
    "Таблица users (информация о пользователях):\n",
    "- `user_id` — уникальный идентификатор пользователя\n",
    "- `first_name` — имя пользователя\n",
    "- `last_name` — фамилия пользователя\n",
    "- `age` — возраст пользователя (годы)\n",
    "- `reg_date` — дата подключения тарифа (день, месяц, год)\n",
    "- `churn_date` — дата прекращения пользования тарифом (если значение пропущено, то тариф ещё действовал на момент выгрузки данных)\n",
    "- `city` — город проживания пользователя\n",
    "- `tariff` — название тарифного плана\n",
    "Таблица calls (информация о звонках):\n",
    "- `id` — уникальный номер звонка\n",
    "- `call_date` — дата звонка\n",
    "- `duration` — длительность звонка в минутах\n",
    "- `user_id` — идентификатор пользователя, сделавшего звонок\n",
    "Таблица messages (информация о сообщениях):\n",
    "- `id` — уникальный номер сообщения\n",
    "- `message_date` — дата сообщения\n",
    "- `user_id` — идентификатор пользователя, отправившего сообщение\n",
    "Таблица internet (информация об интернет-сессиях):\n",
    "- `id` — уникальный номер сессии\n",
    "- `mb_used` — объём потраченного за сессию интернет-трафика (в мегабайтах)\n",
    "- `session_date` — дата интернет-сессии\n",
    "- `user_id` — идентификатор пользователя\n",
    "Таблица tariffs (информация о тарифах):\n",
    "- `tariff_name` — название тарифа\n",
    "- `rub_monthly_fee` — ежемесячная абонентская плата в рублях\n",
    "- `minutes_included` — количество минут разговора в месяц, включённых в абонентскую плату\n",
    "- `messages_included` — количество сообщений в месяц, включённых в абонентскую плату\n",
    "- `mb_per_month_included` — объём интернет-трафика, включённого в абонентскую плату (в мегабайтах)\n",
    "- `rub_per_minute` — стоимость минуты разговора сверх тарифного пакета (например, если в тарифе 100 минут разговора в месяц, то со 101 минуты будет взиматься плата)\n",
    "- `rub_per_message` — стоимость отправки сообщения сверх тарифного пакета\n",
    "- `rub_per_gb` — стоимость дополнительного гигабайта интернет-трафика сверх тарифного пакета (1 гигабайт = 1024 мегабайта)"
   ]
  },
  {
   "cell_type": "markdown",
   "metadata": {},
   "source": [
    "## Изучение информации"
   ]
  },
  {
   "cell_type": "markdown",
   "metadata": {},
   "source": [
    "Для начала:\n",
    "1. Загрузим нужные библиотеки\n",
    "2. Установим настройки библиотеки `pandas`\n",
    "3. Загрузим информацию из файлов"
   ]
  },
  {
   "cell_type": "code",
   "execution_count": 1,
   "metadata": {},
   "outputs": [],
   "source": [
    "import pandas as pd\n",
    "import numpy as np\n",
    "import matplotlib.pyplot as plt\n",
    "import os\n",
    "import math\n",
    "from scipy import stats as st"
   ]
  },
  {
   "cell_type": "code",
   "execution_count": 2,
   "metadata": {},
   "outputs": [],
   "source": [
    "pd.set_option('display.max_columns', 50)\n",
    "pd.options.mode.chained_assignment = None  # default='warn'"
   ]
  },
  {
   "cell_type": "code",
   "execution_count": 3,
   "metadata": {},
   "outputs": [],
   "source": [
    "pth_fold = '/datasets/'\n",
    "\n",
    "pth_calls = 'calls.csv'\n",
    "pth_internet = 'internet.csv'\n",
    "pth_messages = 'messages.csv'\n",
    "pth_tariffs = 'tariffs.csv'\n",
    "pth_users = 'users.csv'\n",
    "\n",
    "pth1 = 'real_estate_data.csv'\n",
    "pth2 = '/datasets/real_estate_data.csv'\n",
    "\n",
    "try:\n",
    "    data_calls = pd.read_csv(pth_calls)\n",
    "    data_inet = pd.read_csv(pth_internet)\n",
    "    data_mess = pd.read_csv(pth_messages)\n",
    "    data_tarif = pd.read_csv(pth_tariffs)\n",
    "    data_users = pd.read_csv(pth_users)\n",
    "except:\n",
    "    data_calls = pd.read_csv(pth_fold + pth_calls)\n",
    "    data_inet = pd.read_csv(pth_fold + pth_internet)\n",
    "    data_mess = pd.read_csv(pth_fold + pth_messages)\n",
    "    data_tarif = pd.read_csv(pth_fold + pth_tariffs)\n",
    "    data_users = pd.read_csv(pth_fold + pth_users)\n"
   ]
  },
  {
   "cell_type": "markdown",
   "metadata": {},
   "source": [
    "Просмотрим информацию о таблицах и сами таблицы"
   ]
  },
  {
   "cell_type": "code",
   "execution_count": 4,
   "metadata": {},
   "outputs": [
    {
     "name": "stdout",
     "output_type": "stream",
     "text": [
      "<class 'pandas.core.frame.DataFrame'>\n",
      "RangeIndex: 202607 entries, 0 to 202606\n",
      "Data columns (total 4 columns):\n",
      " #   Column     Non-Null Count   Dtype  \n",
      "---  ------     --------------   -----  \n",
      " 0   id         202607 non-null  object \n",
      " 1   call_date  202607 non-null  object \n",
      " 2   duration   202607 non-null  float64\n",
      " 3   user_id    202607 non-null  int64  \n",
      "dtypes: float64(1), int64(1), object(2)\n",
      "memory usage: 6.2+ MB\n"
     ]
    },
    {
     "data": {
      "text/html": [
       "<div>\n",
       "<style scoped>\n",
       "    .dataframe tbody tr th:only-of-type {\n",
       "        vertical-align: middle;\n",
       "    }\n",
       "\n",
       "    .dataframe tbody tr th {\n",
       "        vertical-align: top;\n",
       "    }\n",
       "\n",
       "    .dataframe thead th {\n",
       "        text-align: right;\n",
       "    }\n",
       "</style>\n",
       "<table border=\"1\" class=\"dataframe\">\n",
       "  <thead>\n",
       "    <tr style=\"text-align: right;\">\n",
       "      <th></th>\n",
       "      <th>id</th>\n",
       "      <th>call_date</th>\n",
       "      <th>duration</th>\n",
       "      <th>user_id</th>\n",
       "    </tr>\n",
       "  </thead>\n",
       "  <tbody>\n",
       "    <tr>\n",
       "      <th>0</th>\n",
       "      <td>1000_0</td>\n",
       "      <td>2018-07-25</td>\n",
       "      <td>0.00</td>\n",
       "      <td>1000</td>\n",
       "    </tr>\n",
       "    <tr>\n",
       "      <th>1</th>\n",
       "      <td>1000_1</td>\n",
       "      <td>2018-08-17</td>\n",
       "      <td>0.00</td>\n",
       "      <td>1000</td>\n",
       "    </tr>\n",
       "    <tr>\n",
       "      <th>2</th>\n",
       "      <td>1000_2</td>\n",
       "      <td>2018-06-11</td>\n",
       "      <td>2.85</td>\n",
       "      <td>1000</td>\n",
       "    </tr>\n",
       "    <tr>\n",
       "      <th>3</th>\n",
       "      <td>1000_3</td>\n",
       "      <td>2018-09-21</td>\n",
       "      <td>13.80</td>\n",
       "      <td>1000</td>\n",
       "    </tr>\n",
       "    <tr>\n",
       "      <th>4</th>\n",
       "      <td>1000_4</td>\n",
       "      <td>2018-12-15</td>\n",
       "      <td>5.18</td>\n",
       "      <td>1000</td>\n",
       "    </tr>\n",
       "    <tr>\n",
       "      <th>...</th>\n",
       "      <td>...</td>\n",
       "      <td>...</td>\n",
       "      <td>...</td>\n",
       "      <td>...</td>\n",
       "    </tr>\n",
       "    <tr>\n",
       "      <th>202602</th>\n",
       "      <td>1499_215</td>\n",
       "      <td>2018-12-26</td>\n",
       "      <td>0.76</td>\n",
       "      <td>1499</td>\n",
       "    </tr>\n",
       "    <tr>\n",
       "      <th>202603</th>\n",
       "      <td>1499_216</td>\n",
       "      <td>2018-10-18</td>\n",
       "      <td>18.83</td>\n",
       "      <td>1499</td>\n",
       "    </tr>\n",
       "    <tr>\n",
       "      <th>202604</th>\n",
       "      <td>1499_217</td>\n",
       "      <td>2018-11-10</td>\n",
       "      <td>10.81</td>\n",
       "      <td>1499</td>\n",
       "    </tr>\n",
       "    <tr>\n",
       "      <th>202605</th>\n",
       "      <td>1499_218</td>\n",
       "      <td>2018-10-06</td>\n",
       "      <td>4.27</td>\n",
       "      <td>1499</td>\n",
       "    </tr>\n",
       "    <tr>\n",
       "      <th>202606</th>\n",
       "      <td>1499_219</td>\n",
       "      <td>2018-12-14</td>\n",
       "      <td>19.62</td>\n",
       "      <td>1499</td>\n",
       "    </tr>\n",
       "  </tbody>\n",
       "</table>\n",
       "<p>202607 rows × 4 columns</p>\n",
       "</div>"
      ],
      "text/plain": [
       "              id   call_date  duration  user_id\n",
       "0         1000_0  2018-07-25      0.00     1000\n",
       "1         1000_1  2018-08-17      0.00     1000\n",
       "2         1000_2  2018-06-11      2.85     1000\n",
       "3         1000_3  2018-09-21     13.80     1000\n",
       "4         1000_4  2018-12-15      5.18     1000\n",
       "...          ...         ...       ...      ...\n",
       "202602  1499_215  2018-12-26      0.76     1499\n",
       "202603  1499_216  2018-10-18     18.83     1499\n",
       "202604  1499_217  2018-11-10     10.81     1499\n",
       "202605  1499_218  2018-10-06      4.27     1499\n",
       "202606  1499_219  2018-12-14     19.62     1499\n",
       "\n",
       "[202607 rows x 4 columns]"
      ]
     },
     "metadata": {},
     "output_type": "display_data"
    },
    {
     "name": "stdout",
     "output_type": "stream",
     "text": [
      "<class 'pandas.core.frame.DataFrame'>\n",
      "RangeIndex: 149396 entries, 0 to 149395\n",
      "Data columns (total 5 columns):\n",
      " #   Column        Non-Null Count   Dtype  \n",
      "---  ------        --------------   -----  \n",
      " 0   Unnamed: 0    149396 non-null  int64  \n",
      " 1   id            149396 non-null  object \n",
      " 2   mb_used       149396 non-null  float64\n",
      " 3   session_date  149396 non-null  object \n",
      " 4   user_id       149396 non-null  int64  \n",
      "dtypes: float64(1), int64(2), object(2)\n",
      "memory usage: 5.7+ MB\n"
     ]
    },
    {
     "data": {
      "text/html": [
       "<div>\n",
       "<style scoped>\n",
       "    .dataframe tbody tr th:only-of-type {\n",
       "        vertical-align: middle;\n",
       "    }\n",
       "\n",
       "    .dataframe tbody tr th {\n",
       "        vertical-align: top;\n",
       "    }\n",
       "\n",
       "    .dataframe thead th {\n",
       "        text-align: right;\n",
       "    }\n",
       "</style>\n",
       "<table border=\"1\" class=\"dataframe\">\n",
       "  <thead>\n",
       "    <tr style=\"text-align: right;\">\n",
       "      <th></th>\n",
       "      <th>Unnamed: 0</th>\n",
       "      <th>id</th>\n",
       "      <th>mb_used</th>\n",
       "      <th>session_date</th>\n",
       "      <th>user_id</th>\n",
       "    </tr>\n",
       "  </thead>\n",
       "  <tbody>\n",
       "    <tr>\n",
       "      <th>0</th>\n",
       "      <td>0</td>\n",
       "      <td>1000_0</td>\n",
       "      <td>112.95</td>\n",
       "      <td>2018-11-25</td>\n",
       "      <td>1000</td>\n",
       "    </tr>\n",
       "    <tr>\n",
       "      <th>1</th>\n",
       "      <td>1</td>\n",
       "      <td>1000_1</td>\n",
       "      <td>1052.81</td>\n",
       "      <td>2018-09-07</td>\n",
       "      <td>1000</td>\n",
       "    </tr>\n",
       "    <tr>\n",
       "      <th>2</th>\n",
       "      <td>2</td>\n",
       "      <td>1000_2</td>\n",
       "      <td>1197.26</td>\n",
       "      <td>2018-06-25</td>\n",
       "      <td>1000</td>\n",
       "    </tr>\n",
       "    <tr>\n",
       "      <th>3</th>\n",
       "      <td>3</td>\n",
       "      <td>1000_3</td>\n",
       "      <td>550.27</td>\n",
       "      <td>2018-08-22</td>\n",
       "      <td>1000</td>\n",
       "    </tr>\n",
       "    <tr>\n",
       "      <th>4</th>\n",
       "      <td>4</td>\n",
       "      <td>1000_4</td>\n",
       "      <td>302.56</td>\n",
       "      <td>2018-09-24</td>\n",
       "      <td>1000</td>\n",
       "    </tr>\n",
       "    <tr>\n",
       "      <th>...</th>\n",
       "      <td>...</td>\n",
       "      <td>...</td>\n",
       "      <td>...</td>\n",
       "      <td>...</td>\n",
       "      <td>...</td>\n",
       "    </tr>\n",
       "    <tr>\n",
       "      <th>149391</th>\n",
       "      <td>149391</td>\n",
       "      <td>1499_152</td>\n",
       "      <td>318.90</td>\n",
       "      <td>2018-10-03</td>\n",
       "      <td>1499</td>\n",
       "    </tr>\n",
       "    <tr>\n",
       "      <th>149392</th>\n",
       "      <td>149392</td>\n",
       "      <td>1499_153</td>\n",
       "      <td>490.13</td>\n",
       "      <td>2018-12-14</td>\n",
       "      <td>1499</td>\n",
       "    </tr>\n",
       "    <tr>\n",
       "      <th>149393</th>\n",
       "      <td>149393</td>\n",
       "      <td>1499_154</td>\n",
       "      <td>0.00</td>\n",
       "      <td>2018-10-27</td>\n",
       "      <td>1499</td>\n",
       "    </tr>\n",
       "    <tr>\n",
       "      <th>149394</th>\n",
       "      <td>149394</td>\n",
       "      <td>1499_155</td>\n",
       "      <td>1246.32</td>\n",
       "      <td>2018-11-26</td>\n",
       "      <td>1499</td>\n",
       "    </tr>\n",
       "    <tr>\n",
       "      <th>149395</th>\n",
       "      <td>149395</td>\n",
       "      <td>1499_156</td>\n",
       "      <td>544.37</td>\n",
       "      <td>2018-10-26</td>\n",
       "      <td>1499</td>\n",
       "    </tr>\n",
       "  </tbody>\n",
       "</table>\n",
       "<p>149396 rows × 5 columns</p>\n",
       "</div>"
      ],
      "text/plain": [
       "        Unnamed: 0        id  mb_used session_date  user_id\n",
       "0                0    1000_0   112.95   2018-11-25     1000\n",
       "1                1    1000_1  1052.81   2018-09-07     1000\n",
       "2                2    1000_2  1197.26   2018-06-25     1000\n",
       "3                3    1000_3   550.27   2018-08-22     1000\n",
       "4                4    1000_4   302.56   2018-09-24     1000\n",
       "...            ...       ...      ...          ...      ...\n",
       "149391      149391  1499_152   318.90   2018-10-03     1499\n",
       "149392      149392  1499_153   490.13   2018-12-14     1499\n",
       "149393      149393  1499_154     0.00   2018-10-27     1499\n",
       "149394      149394  1499_155  1246.32   2018-11-26     1499\n",
       "149395      149395  1499_156   544.37   2018-10-26     1499\n",
       "\n",
       "[149396 rows x 5 columns]"
      ]
     },
     "metadata": {},
     "output_type": "display_data"
    },
    {
     "name": "stdout",
     "output_type": "stream",
     "text": [
      "<class 'pandas.core.frame.DataFrame'>\n",
      "RangeIndex: 123036 entries, 0 to 123035\n",
      "Data columns (total 3 columns):\n",
      " #   Column        Non-Null Count   Dtype \n",
      "---  ------        --------------   ----- \n",
      " 0   id            123036 non-null  object\n",
      " 1   message_date  123036 non-null  object\n",
      " 2   user_id       123036 non-null  int64 \n",
      "dtypes: int64(1), object(2)\n",
      "memory usage: 2.8+ MB\n"
     ]
    },
    {
     "data": {
      "text/html": [
       "<div>\n",
       "<style scoped>\n",
       "    .dataframe tbody tr th:only-of-type {\n",
       "        vertical-align: middle;\n",
       "    }\n",
       "\n",
       "    .dataframe tbody tr th {\n",
       "        vertical-align: top;\n",
       "    }\n",
       "\n",
       "    .dataframe thead th {\n",
       "        text-align: right;\n",
       "    }\n",
       "</style>\n",
       "<table border=\"1\" class=\"dataframe\">\n",
       "  <thead>\n",
       "    <tr style=\"text-align: right;\">\n",
       "      <th></th>\n",
       "      <th>id</th>\n",
       "      <th>message_date</th>\n",
       "      <th>user_id</th>\n",
       "    </tr>\n",
       "  </thead>\n",
       "  <tbody>\n",
       "    <tr>\n",
       "      <th>0</th>\n",
       "      <td>1000_0</td>\n",
       "      <td>2018-06-27</td>\n",
       "      <td>1000</td>\n",
       "    </tr>\n",
       "    <tr>\n",
       "      <th>1</th>\n",
       "      <td>1000_1</td>\n",
       "      <td>2018-10-08</td>\n",
       "      <td>1000</td>\n",
       "    </tr>\n",
       "    <tr>\n",
       "      <th>2</th>\n",
       "      <td>1000_2</td>\n",
       "      <td>2018-08-04</td>\n",
       "      <td>1000</td>\n",
       "    </tr>\n",
       "    <tr>\n",
       "      <th>3</th>\n",
       "      <td>1000_3</td>\n",
       "      <td>2018-06-16</td>\n",
       "      <td>1000</td>\n",
       "    </tr>\n",
       "    <tr>\n",
       "      <th>4</th>\n",
       "      <td>1000_4</td>\n",
       "      <td>2018-12-05</td>\n",
       "      <td>1000</td>\n",
       "    </tr>\n",
       "    <tr>\n",
       "      <th>...</th>\n",
       "      <td>...</td>\n",
       "      <td>...</td>\n",
       "      <td>...</td>\n",
       "    </tr>\n",
       "    <tr>\n",
       "      <th>123031</th>\n",
       "      <td>1499_179</td>\n",
       "      <td>2018-12-12</td>\n",
       "      <td>1499</td>\n",
       "    </tr>\n",
       "    <tr>\n",
       "      <th>123032</th>\n",
       "      <td>1499_180</td>\n",
       "      <td>2018-09-28</td>\n",
       "      <td>1499</td>\n",
       "    </tr>\n",
       "    <tr>\n",
       "      <th>123033</th>\n",
       "      <td>1499_181</td>\n",
       "      <td>2018-09-27</td>\n",
       "      <td>1499</td>\n",
       "    </tr>\n",
       "    <tr>\n",
       "      <th>123034</th>\n",
       "      <td>1499_182</td>\n",
       "      <td>2018-11-15</td>\n",
       "      <td>1499</td>\n",
       "    </tr>\n",
       "    <tr>\n",
       "      <th>123035</th>\n",
       "      <td>1499_183</td>\n",
       "      <td>2018-11-16</td>\n",
       "      <td>1499</td>\n",
       "    </tr>\n",
       "  </tbody>\n",
       "</table>\n",
       "<p>123036 rows × 3 columns</p>\n",
       "</div>"
      ],
      "text/plain": [
       "              id message_date  user_id\n",
       "0         1000_0   2018-06-27     1000\n",
       "1         1000_1   2018-10-08     1000\n",
       "2         1000_2   2018-08-04     1000\n",
       "3         1000_3   2018-06-16     1000\n",
       "4         1000_4   2018-12-05     1000\n",
       "...          ...          ...      ...\n",
       "123031  1499_179   2018-12-12     1499\n",
       "123032  1499_180   2018-09-28     1499\n",
       "123033  1499_181   2018-09-27     1499\n",
       "123034  1499_182   2018-11-15     1499\n",
       "123035  1499_183   2018-11-16     1499\n",
       "\n",
       "[123036 rows x 3 columns]"
      ]
     },
     "metadata": {},
     "output_type": "display_data"
    },
    {
     "name": "stdout",
     "output_type": "stream",
     "text": [
      "<class 'pandas.core.frame.DataFrame'>\n",
      "RangeIndex: 2 entries, 0 to 1\n",
      "Data columns (total 8 columns):\n",
      " #   Column                 Non-Null Count  Dtype \n",
      "---  ------                 --------------  ----- \n",
      " 0   messages_included      2 non-null      int64 \n",
      " 1   mb_per_month_included  2 non-null      int64 \n",
      " 2   minutes_included       2 non-null      int64 \n",
      " 3   rub_monthly_fee        2 non-null      int64 \n",
      " 4   rub_per_gb             2 non-null      int64 \n",
      " 5   rub_per_message        2 non-null      int64 \n",
      " 6   rub_per_minute         2 non-null      int64 \n",
      " 7   tariff_name            2 non-null      object\n",
      "dtypes: int64(7), object(1)\n",
      "memory usage: 256.0+ bytes\n"
     ]
    },
    {
     "data": {
      "text/html": [
       "<div>\n",
       "<style scoped>\n",
       "    .dataframe tbody tr th:only-of-type {\n",
       "        vertical-align: middle;\n",
       "    }\n",
       "\n",
       "    .dataframe tbody tr th {\n",
       "        vertical-align: top;\n",
       "    }\n",
       "\n",
       "    .dataframe thead th {\n",
       "        text-align: right;\n",
       "    }\n",
       "</style>\n",
       "<table border=\"1\" class=\"dataframe\">\n",
       "  <thead>\n",
       "    <tr style=\"text-align: right;\">\n",
       "      <th></th>\n",
       "      <th>messages_included</th>\n",
       "      <th>mb_per_month_included</th>\n",
       "      <th>minutes_included</th>\n",
       "      <th>rub_monthly_fee</th>\n",
       "      <th>rub_per_gb</th>\n",
       "      <th>rub_per_message</th>\n",
       "      <th>rub_per_minute</th>\n",
       "      <th>tariff_name</th>\n",
       "    </tr>\n",
       "  </thead>\n",
       "  <tbody>\n",
       "    <tr>\n",
       "      <th>0</th>\n",
       "      <td>50</td>\n",
       "      <td>15360</td>\n",
       "      <td>500</td>\n",
       "      <td>550</td>\n",
       "      <td>200</td>\n",
       "      <td>3</td>\n",
       "      <td>3</td>\n",
       "      <td>smart</td>\n",
       "    </tr>\n",
       "    <tr>\n",
       "      <th>1</th>\n",
       "      <td>1000</td>\n",
       "      <td>30720</td>\n",
       "      <td>3000</td>\n",
       "      <td>1950</td>\n",
       "      <td>150</td>\n",
       "      <td>1</td>\n",
       "      <td>1</td>\n",
       "      <td>ultra</td>\n",
       "    </tr>\n",
       "  </tbody>\n",
       "</table>\n",
       "</div>"
      ],
      "text/plain": [
       "   messages_included  mb_per_month_included  minutes_included  \\\n",
       "0                 50                  15360               500   \n",
       "1               1000                  30720              3000   \n",
       "\n",
       "   rub_monthly_fee  rub_per_gb  rub_per_message  rub_per_minute tariff_name  \n",
       "0              550         200                3               3       smart  \n",
       "1             1950         150                1               1       ultra  "
      ]
     },
     "metadata": {},
     "output_type": "display_data"
    },
    {
     "name": "stdout",
     "output_type": "stream",
     "text": [
      "<class 'pandas.core.frame.DataFrame'>\n",
      "RangeIndex: 500 entries, 0 to 499\n",
      "Data columns (total 8 columns):\n",
      " #   Column      Non-Null Count  Dtype \n",
      "---  ------      --------------  ----- \n",
      " 0   user_id     500 non-null    int64 \n",
      " 1   age         500 non-null    int64 \n",
      " 2   churn_date  38 non-null     object\n",
      " 3   city        500 non-null    object\n",
      " 4   first_name  500 non-null    object\n",
      " 5   last_name   500 non-null    object\n",
      " 6   reg_date    500 non-null    object\n",
      " 7   tariff      500 non-null    object\n",
      "dtypes: int64(2), object(6)\n",
      "memory usage: 31.4+ KB\n"
     ]
    },
    {
     "data": {
      "text/html": [
       "<div>\n",
       "<style scoped>\n",
       "    .dataframe tbody tr th:only-of-type {\n",
       "        vertical-align: middle;\n",
       "    }\n",
       "\n",
       "    .dataframe tbody tr th {\n",
       "        vertical-align: top;\n",
       "    }\n",
       "\n",
       "    .dataframe thead th {\n",
       "        text-align: right;\n",
       "    }\n",
       "</style>\n",
       "<table border=\"1\" class=\"dataframe\">\n",
       "  <thead>\n",
       "    <tr style=\"text-align: right;\">\n",
       "      <th></th>\n",
       "      <th>user_id</th>\n",
       "      <th>age</th>\n",
       "      <th>churn_date</th>\n",
       "      <th>city</th>\n",
       "      <th>first_name</th>\n",
       "      <th>last_name</th>\n",
       "      <th>reg_date</th>\n",
       "      <th>tariff</th>\n",
       "    </tr>\n",
       "  </thead>\n",
       "  <tbody>\n",
       "    <tr>\n",
       "      <th>0</th>\n",
       "      <td>1000</td>\n",
       "      <td>52</td>\n",
       "      <td>NaN</td>\n",
       "      <td>Краснодар</td>\n",
       "      <td>Рафаил</td>\n",
       "      <td>Верещагин</td>\n",
       "      <td>2018-05-25</td>\n",
       "      <td>ultra</td>\n",
       "    </tr>\n",
       "    <tr>\n",
       "      <th>1</th>\n",
       "      <td>1001</td>\n",
       "      <td>41</td>\n",
       "      <td>NaN</td>\n",
       "      <td>Москва</td>\n",
       "      <td>Иван</td>\n",
       "      <td>Ежов</td>\n",
       "      <td>2018-11-01</td>\n",
       "      <td>smart</td>\n",
       "    </tr>\n",
       "    <tr>\n",
       "      <th>2</th>\n",
       "      <td>1002</td>\n",
       "      <td>59</td>\n",
       "      <td>NaN</td>\n",
       "      <td>Стерлитамак</td>\n",
       "      <td>Евгений</td>\n",
       "      <td>Абрамович</td>\n",
       "      <td>2018-06-17</td>\n",
       "      <td>smart</td>\n",
       "    </tr>\n",
       "    <tr>\n",
       "      <th>3</th>\n",
       "      <td>1003</td>\n",
       "      <td>23</td>\n",
       "      <td>NaN</td>\n",
       "      <td>Москва</td>\n",
       "      <td>Белла</td>\n",
       "      <td>Белякова</td>\n",
       "      <td>2018-08-17</td>\n",
       "      <td>ultra</td>\n",
       "    </tr>\n",
       "    <tr>\n",
       "      <th>4</th>\n",
       "      <td>1004</td>\n",
       "      <td>68</td>\n",
       "      <td>NaN</td>\n",
       "      <td>Новокузнецк</td>\n",
       "      <td>Татьяна</td>\n",
       "      <td>Авдеенко</td>\n",
       "      <td>2018-05-14</td>\n",
       "      <td>ultra</td>\n",
       "    </tr>\n",
       "    <tr>\n",
       "      <th>...</th>\n",
       "      <td>...</td>\n",
       "      <td>...</td>\n",
       "      <td>...</td>\n",
       "      <td>...</td>\n",
       "      <td>...</td>\n",
       "      <td>...</td>\n",
       "      <td>...</td>\n",
       "      <td>...</td>\n",
       "    </tr>\n",
       "    <tr>\n",
       "      <th>495</th>\n",
       "      <td>1495</td>\n",
       "      <td>65</td>\n",
       "      <td>NaN</td>\n",
       "      <td>Иркутск</td>\n",
       "      <td>Авксентий</td>\n",
       "      <td>Фокин</td>\n",
       "      <td>2018-08-28</td>\n",
       "      <td>ultra</td>\n",
       "    </tr>\n",
       "    <tr>\n",
       "      <th>496</th>\n",
       "      <td>1496</td>\n",
       "      <td>36</td>\n",
       "      <td>NaN</td>\n",
       "      <td>Вологда</td>\n",
       "      <td>Трифон</td>\n",
       "      <td>Блохин</td>\n",
       "      <td>2018-01-27</td>\n",
       "      <td>smart</td>\n",
       "    </tr>\n",
       "    <tr>\n",
       "      <th>497</th>\n",
       "      <td>1497</td>\n",
       "      <td>32</td>\n",
       "      <td>NaN</td>\n",
       "      <td>Челябинск</td>\n",
       "      <td>Каролина</td>\n",
       "      <td>Агеева</td>\n",
       "      <td>2018-10-09</td>\n",
       "      <td>smart</td>\n",
       "    </tr>\n",
       "    <tr>\n",
       "      <th>498</th>\n",
       "      <td>1498</td>\n",
       "      <td>68</td>\n",
       "      <td>2018-10-25</td>\n",
       "      <td>Владикавказ</td>\n",
       "      <td>Всеволод</td>\n",
       "      <td>Акимчин</td>\n",
       "      <td>2018-07-19</td>\n",
       "      <td>smart</td>\n",
       "    </tr>\n",
       "    <tr>\n",
       "      <th>499</th>\n",
       "      <td>1499</td>\n",
       "      <td>35</td>\n",
       "      <td>NaN</td>\n",
       "      <td>Пермь</td>\n",
       "      <td>Гектор</td>\n",
       "      <td>Корнилов</td>\n",
       "      <td>2018-09-27</td>\n",
       "      <td>smart</td>\n",
       "    </tr>\n",
       "  </tbody>\n",
       "</table>\n",
       "<p>500 rows × 8 columns</p>\n",
       "</div>"
      ],
      "text/plain": [
       "     user_id  age  churn_date         city first_name  last_name    reg_date  \\\n",
       "0       1000   52         NaN    Краснодар     Рафаил  Верещагин  2018-05-25   \n",
       "1       1001   41         NaN       Москва       Иван       Ежов  2018-11-01   \n",
       "2       1002   59         NaN  Стерлитамак    Евгений  Абрамович  2018-06-17   \n",
       "3       1003   23         NaN       Москва      Белла   Белякова  2018-08-17   \n",
       "4       1004   68         NaN  Новокузнецк    Татьяна   Авдеенко  2018-05-14   \n",
       "..       ...  ...         ...          ...        ...        ...         ...   \n",
       "495     1495   65         NaN      Иркутск  Авксентий      Фокин  2018-08-28   \n",
       "496     1496   36         NaN      Вологда     Трифон     Блохин  2018-01-27   \n",
       "497     1497   32         NaN    Челябинск   Каролина     Агеева  2018-10-09   \n",
       "498     1498   68  2018-10-25  Владикавказ   Всеволод    Акимчин  2018-07-19   \n",
       "499     1499   35         NaN        Пермь     Гектор   Корнилов  2018-09-27   \n",
       "\n",
       "    tariff  \n",
       "0    ultra  \n",
       "1    smart  \n",
       "2    smart  \n",
       "3    ultra  \n",
       "4    ultra  \n",
       "..     ...  \n",
       "495  ultra  \n",
       "496  smart  \n",
       "497  smart  \n",
       "498  smart  \n",
       "499  smart  \n",
       "\n",
       "[500 rows x 8 columns]"
      ]
     },
     "metadata": {},
     "output_type": "display_data"
    }
   ],
   "source": [
    "dataset = (data_calls, data_inet, data_mess, data_tarif, data_users)\n",
    "\n",
    "for data in dataset:\n",
    "    data.info()\n",
    "    display(data)\n",
    "  "
   ]
  },
  {
   "cell_type": "markdown",
   "metadata": {},
   "source": [
    "## Подготовка данных"
   ]
  },
  {
   "cell_type": "markdown",
   "metadata": {},
   "source": [
    "### Изменение типов данных в столбцах столбцов"
   ]
  },
  {
   "cell_type": "markdown",
   "metadata": {},
   "source": [
    "Изменим тип данных в столбцах с датами на `datetime` во всех таблицах и поосмотрим крайние значения дат."
   ]
  },
  {
   "cell_type": "code",
   "execution_count": 5,
   "metadata": {},
   "outputs": [
    {
     "data": {
      "text/plain": [
       "{'min': Timestamp('2018-01-01 00:00:00'),\n",
       " 'max': Timestamp('2018-12-31 00:00:00')}"
      ]
     },
     "metadata": {},
     "output_type": "display_data"
    }
   ],
   "source": [
    "# to datetime\n",
    "extr = dict.fromkeys(['min', 'max'])\n",
    "for data in dataset:\n",
    "    for column in data.columns:\n",
    "        if 'date' in column:            \n",
    "            data[column] = pd.to_datetime(data[column], format='%Y-%m-%d', errors='coerce')\n",
    "            # data[column] = data[column].values.astype('datetime64[D]')  # NOT FORGET\n",
    "            try:\n",
    "                if data[column].min() < extr['min']:\n",
    "                    extr['min'] = data[column].min()        \n",
    "            except:\n",
    "                extr['min'] = data[column].min()\n",
    "            try:\n",
    "                if data[column].max() > extr['max']:\n",
    "                    extr['max'] = data[column].max()        \n",
    "            except:\n",
    "                extr['max'] = data[column].max()\n",
    "\n",
    "display(extr)"
   ]
  },
  {
   "cell_type": "markdown",
   "metadata": {},
   "source": [
    "Данные охватывают ровно один год (2018) - соответствует заявленным данным."
   ]
  },
  {
   "cell_type": "markdown",
   "metadata": {},
   "source": [
    "### Поиск ошибок и обработка данных"
   ]
  },
  {
   "cell_type": "markdown",
   "metadata": {},
   "source": [
    "Просмотр информации выявил, что в таблице `data_inet` есть столбец `Unnamed: 0`. Данные в нём похожи на индекс - проверим есть ли отличия:"
   ]
  },
  {
   "cell_type": "code",
   "execution_count": 6,
   "metadata": {},
   "outputs": [
    {
     "data": {
      "text/html": [
       "<div>\n",
       "<style scoped>\n",
       "    .dataframe tbody tr th:only-of-type {\n",
       "        vertical-align: middle;\n",
       "    }\n",
       "\n",
       "    .dataframe tbody tr th {\n",
       "        vertical-align: top;\n",
       "    }\n",
       "\n",
       "    .dataframe thead th {\n",
       "        text-align: right;\n",
       "    }\n",
       "</style>\n",
       "<table border=\"1\" class=\"dataframe\">\n",
       "  <thead>\n",
       "    <tr style=\"text-align: right;\">\n",
       "      <th></th>\n",
       "      <th>Unnamed: 0</th>\n",
       "      <th>id</th>\n",
       "      <th>mb_used</th>\n",
       "      <th>session_date</th>\n",
       "      <th>user_id</th>\n",
       "    </tr>\n",
       "  </thead>\n",
       "  <tbody>\n",
       "    <tr>\n",
       "      <th>0</th>\n",
       "      <td>0</td>\n",
       "      <td>1000_0</td>\n",
       "      <td>112.95</td>\n",
       "      <td>2018-11-25</td>\n",
       "      <td>1000</td>\n",
       "    </tr>\n",
       "    <tr>\n",
       "      <th>1</th>\n",
       "      <td>1</td>\n",
       "      <td>1000_1</td>\n",
       "      <td>1052.81</td>\n",
       "      <td>2018-09-07</td>\n",
       "      <td>1000</td>\n",
       "    </tr>\n",
       "    <tr>\n",
       "      <th>2</th>\n",
       "      <td>2</td>\n",
       "      <td>1000_2</td>\n",
       "      <td>1197.26</td>\n",
       "      <td>2018-06-25</td>\n",
       "      <td>1000</td>\n",
       "    </tr>\n",
       "    <tr>\n",
       "      <th>3</th>\n",
       "      <td>3</td>\n",
       "      <td>1000_3</td>\n",
       "      <td>550.27</td>\n",
       "      <td>2018-08-22</td>\n",
       "      <td>1000</td>\n",
       "    </tr>\n",
       "    <tr>\n",
       "      <th>4</th>\n",
       "      <td>4</td>\n",
       "      <td>1000_4</td>\n",
       "      <td>302.56</td>\n",
       "      <td>2018-09-24</td>\n",
       "      <td>1000</td>\n",
       "    </tr>\n",
       "  </tbody>\n",
       "</table>\n",
       "</div>"
      ],
      "text/plain": [
       "   Unnamed: 0      id  mb_used session_date  user_id\n",
       "0           0  1000_0   112.95   2018-11-25     1000\n",
       "1           1  1000_1  1052.81   2018-09-07     1000\n",
       "2           2  1000_2  1197.26   2018-06-25     1000\n",
       "3           3  1000_3   550.27   2018-08-22     1000\n",
       "4           4  1000_4   302.56   2018-09-24     1000"
      ]
     },
     "execution_count": 6,
     "metadata": {},
     "output_type": "execute_result"
    }
   ],
   "source": [
    "data_inet.head()"
   ]
  },
  {
   "cell_type": "code",
   "execution_count": 7,
   "metadata": {},
   "outputs": [
    {
     "data": {
      "text/plain": [
       "True"
      ]
     },
     "execution_count": 7,
     "metadata": {},
     "output_type": "execute_result"
    }
   ],
   "source": [
    "# Checking sameness index and column values\n",
    "(data_inet.iloc[:, 0].values == data_inet.index).all()"
   ]
  },
  {
   "cell_type": "markdown",
   "metadata": {},
   "source": [
    "Отличий между индексом и столбцом нет - удаляем столбец, так как он дублирует данные индекса."
   ]
  },
  {
   "cell_type": "code",
   "execution_count": 8,
   "metadata": {},
   "outputs": [],
   "source": [
    "data_inet.drop('Unnamed: 0', axis=1, inplace=True)\n",
    "# убрали ненужный столбец, идентичен индексу"
   ]
  },
  {
   "cell_type": "markdown",
   "metadata": {},
   "source": [
    "Проверка на дубликаты:"
   ]
  },
  {
   "cell_type": "code",
   "execution_count": 9,
   "metadata": {},
   "outputs": [],
   "source": [
    "# Checking duplicates\n",
    "for data in dataset:\n",
    "    if len(data[data.duplicated(keep=False)]) != 0:\n",
    "        display(data[data.duplicated(keep=False)])"
   ]
  },
  {
   "cell_type": "markdown",
   "metadata": {},
   "source": [
    "Строк-дубликатов не выявлено. \n",
    "Проверим столбцы `id`, `user_id` таблиц `data_calls`, `data_inet`, `data_mess` на соответствие друг другу:"
   ]
  },
  {
   "cell_type": "code",
   "execution_count": 10,
   "metadata": {},
   "outputs": [],
   "source": [
    "# Checking columns 'id' and 'user_id'\n",
    "quontity_data = {'calls': data_calls, 'internet': data_inet, 'messages': data_mess}\n",
    "for  key, value in quontity_data.items():\n",
    "    if len(value['user_id'].unique()) != len(value['id'].apply(lambda x: x[:4]).unique()):\n",
    "        display(f'{key}-data has not enough users')"
   ]
  },
  {
   "cell_type": "markdown",
   "metadata": {},
   "source": [
    "Здесь разночтений не выявлено.\n",
    "\n",
    "Добавим в таблицы `data_calls`, `data_inet`, `data_mess` столбцы  в которых указан месяц использования услугой связи:"
   ]
  },
  {
   "cell_type": "code",
   "execution_count": 11,
   "metadata": {},
   "outputs": [],
   "source": [
    "for key, value in quontity_data.items():\n",
    "    temp = value.select_dtypes(include='datetime').iloc[:, 0]\n",
    "    name_col = 'month' + '_' + key\n",
    "    value[name_col] = pd.DatetimeIndex(temp).month"
   ]
  },
  {
   "cell_type": "markdown",
   "metadata": {},
   "source": [
    "По условиям оператора, если разговор длился хотя бы 1 секунду, то это засчитывается как 1 минута. 1 секунда это 1 / 60, т.е. около 0,016. В `duration` длительность разговоров представлена с точностью до сотых и при этом есть 0. Так как указан именно 0.00, а не 0,01 или 0,02 (если округлить до сотых), считаю строки с 0 в `data_calls` можно убрать - за них не идёт тарификация."
   ]
  },
  {
   "cell_type": "code",
   "execution_count": 12,
   "metadata": {},
   "outputs": [],
   "source": [
    "data_calls = data_calls.query('duration != 0')"
   ]
  },
  {
   "cell_type": "markdown",
   "metadata": {},
   "source": [
    "В таблице `data_inet` также присутствуют 0. По условиям оператора, отдельные сессии не считаются - считается суммарный траффик за месяц. Считаю строки с 0 в `mb_used` можно убрать - в суммарном вэб-траффики они не имеют значения."
   ]
  },
  {
   "cell_type": "code",
   "execution_count": 13,
   "metadata": {},
   "outputs": [],
   "source": [
    "data_inet = data_inet.query('mb_used != 0')"
   ]
  },
  {
   "cell_type": "markdown",
   "metadata": {},
   "source": [
    "Подготовим `data_tarif` для дальнейших расчётов:"
   ]
  },
  {
   "cell_type": "code",
   "execution_count": 14,
   "metadata": {},
   "outputs": [],
   "source": [
    "data_tarif.set_index(data_tarif['tariff_name'], inplace=True)\n",
    "data_tarif.drop('tariff_name', axis=1, inplace=True)\n"
   ]
  },
  {
   "cell_type": "code",
   "execution_count": 15,
   "metadata": {},
   "outputs": [],
   "source": [
    "data_tarif['mb_per_month_included'] = data_tarif['mb_per_month_included'] / 1024\n",
    "data_tarif = data_tarif.rename({'mb_per_month_included': 'gb_per_month_included'}, axis=1)"
   ]
  },
  {
   "cell_type": "markdown",
   "metadata": {},
   "source": [
    "   По условиям \"Мегалайна\" длительность разговоров в минутах округляется в большую сторону. Сделаем то же самое с табличными данными. Также переведём МБ в ГБ для удобства в расчётах и переименуем соответствующий столбец.    "
   ]
  },
  {
   "cell_type": "code",
   "execution_count": 16,
   "metadata": {},
   "outputs": [],
   "source": [
    "data_calls['duration'] = data_calls['duration'].apply(math.ceil)\n",
    "data_inet['mb_used'] = data_inet['mb_used'].apply(lambda x: x / 1024)\n",
    "data_inet = data_inet.rename({'mb_used': 'gb_used'}, axis=1)"
   ]
  },
  {
   "cell_type": "markdown",
   "metadata": {},
   "source": [
    "### Подготовка данных\n",
    "Посчитаем для каждого пользователя:\n",
    "1. количество сделанных звонков и израсходованных минут разговора по месяцам;\n",
    "2. количество отправленных сообщений по месяцам;\n",
    "3. объем израсходованного интернет-трафика по месяцам;\n",
    "4. помесячную выручку с каждого пользователя (вычтите бесплатный лимит из суммарного количества звонков, сообщений и интернет-трафика; остаток умножьте на значение из тарифного плана; прибавьте абонентскую плату, соответствующую тарифному плану).\n",
    " \n",
    "Рассчитаем объёмы потреблённых услуг по первым трём пунктам и сведём в одну таблицу. Пропуски заполнять не будем, так как это значит, что в данном месяце услуга не потреблялась."
   ]
  },
  {
   "cell_type": "code",
   "execution_count": 17,
   "metadata": {},
   "outputs": [
    {
     "data": {
      "text/html": [
       "<div>\n",
       "<style scoped>\n",
       "    .dataframe tbody tr th:only-of-type {\n",
       "        vertical-align: middle;\n",
       "    }\n",
       "\n",
       "    .dataframe tbody tr th {\n",
       "        vertical-align: top;\n",
       "    }\n",
       "\n",
       "    .dataframe thead th {\n",
       "        text-align: right;\n",
       "    }\n",
       "</style>\n",
       "<table border=\"1\" class=\"dataframe\">\n",
       "  <thead>\n",
       "    <tr style=\"text-align: right;\">\n",
       "      <th></th>\n",
       "      <th></th>\n",
       "      <th>min_used</th>\n",
       "      <th>calls_done</th>\n",
       "      <th>mess_used</th>\n",
       "      <th>gb_used</th>\n",
       "    </tr>\n",
       "  </thead>\n",
       "  <tbody>\n",
       "    <tr>\n",
       "      <th rowspan=\"5\" valign=\"top\">1000</th>\n",
       "      <th>5</th>\n",
       "      <td>159.0</td>\n",
       "      <td>17.0</td>\n",
       "      <td>22.0</td>\n",
       "      <td>2.200674</td>\n",
       "    </tr>\n",
       "    <tr>\n",
       "      <th>6</th>\n",
       "      <td>172.0</td>\n",
       "      <td>28.0</td>\n",
       "      <td>60.0</td>\n",
       "      <td>22.689229</td>\n",
       "    </tr>\n",
       "    <tr>\n",
       "      <th>7</th>\n",
       "      <td>340.0</td>\n",
       "      <td>41.0</td>\n",
       "      <td>75.0</td>\n",
       "      <td>13.675430</td>\n",
       "    </tr>\n",
       "    <tr>\n",
       "      <th>8</th>\n",
       "      <td>408.0</td>\n",
       "      <td>42.0</td>\n",
       "      <td>81.0</td>\n",
       "      <td>13.726494</td>\n",
       "    </tr>\n",
       "    <tr>\n",
       "      <th>9</th>\n",
       "      <td>466.0</td>\n",
       "      <td>46.0</td>\n",
       "      <td>57.0</td>\n",
       "      <td>14.227451</td>\n",
       "    </tr>\n",
       "    <tr>\n",
       "      <th>...</th>\n",
       "      <th>...</th>\n",
       "      <td>...</td>\n",
       "      <td>...</td>\n",
       "      <td>...</td>\n",
       "      <td>...</td>\n",
       "    </tr>\n",
       "    <tr>\n",
       "      <th>1498</th>\n",
       "      <th>10</th>\n",
       "      <td>247.0</td>\n",
       "      <td>30.0</td>\n",
       "      <td>42.0</td>\n",
       "      <td>20.097031</td>\n",
       "    </tr>\n",
       "    <tr>\n",
       "      <th rowspan=\"4\" valign=\"top\">1499</th>\n",
       "      <th>9</th>\n",
       "      <td>70.0</td>\n",
       "      <td>8.0</td>\n",
       "      <td>11.0</td>\n",
       "      <td>1.802490</td>\n",
       "    </tr>\n",
       "    <tr>\n",
       "      <th>10</th>\n",
       "      <td>449.0</td>\n",
       "      <td>44.0</td>\n",
       "      <td>48.0</td>\n",
       "      <td>17.371592</td>\n",
       "    </tr>\n",
       "    <tr>\n",
       "      <th>11</th>\n",
       "      <td>612.0</td>\n",
       "      <td>62.0</td>\n",
       "      <td>59.0</td>\n",
       "      <td>17.542295</td>\n",
       "    </tr>\n",
       "    <tr>\n",
       "      <th>12</th>\n",
       "      <td>492.0</td>\n",
       "      <td>56.0</td>\n",
       "      <td>66.0</td>\n",
       "      <td>12.749590</td>\n",
       "    </tr>\n",
       "  </tbody>\n",
       "</table>\n",
       "<p>3214 rows × 4 columns</p>\n",
       "</div>"
      ],
      "text/plain": [
       "         min_used  calls_done  mess_used    gb_used\n",
       "1000 5      159.0        17.0       22.0   2.200674\n",
       "     6      172.0        28.0       60.0  22.689229\n",
       "     7      340.0        41.0       75.0  13.675430\n",
       "     8      408.0        42.0       81.0  13.726494\n",
       "     9      466.0        46.0       57.0  14.227451\n",
       "...           ...         ...        ...        ...\n",
       "1498 10     247.0        30.0       42.0  20.097031\n",
       "1499 9       70.0         8.0       11.0   1.802490\n",
       "     10     449.0        44.0       48.0  17.371592\n",
       "     11     612.0        62.0       59.0  17.542295\n",
       "     12     492.0        56.0       66.0  12.749590\n",
       "\n",
       "[3214 rows x 4 columns]"
      ]
     },
     "metadata": {},
     "output_type": "display_data"
    }
   ],
   "source": [
    "calls_sum = data_calls.pivot_table(index=['user_id', 'month_calls'], values='duration', aggfunc='sum')\n",
    "calls_count = data_calls.groupby(['user_id', 'month_calls'])['id'].count()\n",
    "\n",
    "result = calls_sum.join(calls_count, how='outer')\n",
    "result.rename(\n",
    "    columns={\n",
    "        'duration': 'min_used',\n",
    "        'id': 'calls_done',        \n",
    "            },\n",
    "    inplace=True\n",
    ")\n",
    "mess_count = data_mess.groupby(['user_id', 'month_messages'])['id'].count()\n",
    "inet_sum = data_inet.groupby(['user_id', 'month_internet'])['gb_used'].sum()\n",
    "\n",
    "result = pd.concat([result, mess_count, inet_sum], axis=1)\n",
    "result.rename(columns={'id': 'mess_used'}, inplace=True)\n",
    "# result = result.fillna(0) # TO THINK ABOUT IT. IS IT NECESSARY?\n",
    "\n",
    "display(result)\n"
   ]
  },
  {
   "cell_type": "markdown",
   "metadata": {},
   "source": [
    "#### Расчёт выручки по тарифу\n",
    "Для расчёта среднемесячной выручки по абонентской плате за тариф будем исходить из того, что абонентская плата за неполный месяц будет считаться пропорционально количеству дней в месяце пользования тарифом. \n",
    "\n",
    "Для расчёта среднемесячной выручки, будем использовать формулу:\n",
    "\n",
    " **Сумма месяцев** * **Абонентская плата** / **Количество месяцев** (1)\n",
    " , \n",
    " \n",
    "где:\n",
    "    \n",
    " **Сумма месяцев** - обычно не целое число, отражающие количество месяцев пользования тарифом включая неполные месяцы;\n",
    " \n",
    " **Количество месяцев** - целое число, **Сумма месяцев** округленное в большую сторону .\n",
    "\n",
    "    \n",
    "Создадим списки с `user_id` для каждого тарифа:"
   ]
  },
  {
   "cell_type": "code",
   "execution_count": 18,
   "metadata": {},
   "outputs": [],
   "source": [
    "ultra_users = data_users.loc[data_users['tariff'] == 'ultra', 'user_id']\n",
    "smart_users = data_users.loc[data_users['tariff'] == 'smart', 'user_id']"
   ]
  },
  {
   "cell_type": "markdown",
   "metadata": {},
   "source": [
    "Чтобы произвести расчёты по формуле 1, создадим функции для:\n",
    "- расчёта доля месяца по дате\n",
    "- получения суммы месяцев с учётом неполных месяцев\n",
    "- расчёта среднемесячной выручки."
   ]
  },
  {
   "cell_type": "code",
   "execution_count": 19,
   "metadata": {},
   "outputs": [],
   "source": [
    "def get_part_month(date, sign):\n",
    "    \"\"\"Функция для расчёта неполной части месяца.\n",
    "    Функия принимает:\n",
    "    - дату\n",
    "    - метка, определяющая какую часть месяца берём: до даты или после.\n",
    "    Возвращает: \n",
    "    - долю месяца\"\"\"\n",
    "    if sign == 'end':\n",
    "        end_month = date.floor('d') + pd.offsets.MonthBegin(1)  \n",
    "        delta_reg = (end_month - date).days\n",
    "    elif sign == 'begin':  \n",
    "        begin_month = date.floor('d') - pd.offsets.MonthBegin(1)\n",
    "        delta_reg = (date - begin_month).days + 1\n",
    "    month_len = date.days_in_month\n",
    "    return delta_reg / month_len\n",
    "\n",
    "def get_whole_months(reg, end, begin, churn):\n",
    "    \"\"\"Функция для получения суммы месяцев с учётом неполных месяцев.\n",
    "    Функция принимает:\n",
    "    - дату подключения\n",
    "    - долю месяца после даты подключения\n",
    "    - долю месяца до даты отключения\n",
    "    - дату отключения\"\"\"\n",
    "    if churn.year == 2019:\n",
    "        return 12 - reg.month + end \n",
    "    return churn.month - reg.month - 1 + end + begin\n",
    "\n",
    "def get_avg_rev_fee(months, tarif, data_tarif=data_tarif):\n",
    "    \"\"\"Функция по формуле 1\"\"\"\n",
    "    return months * data_tarif.loc[tarif, 'rub_monthly_fee'] / math.ceil(months)\n",
    "\n",
    "# Добавим расчётные столбцы в 'data_users'\n",
    "data_users['end_month'] = data_users.apply(lambda x: get_part_month(x['reg_date'], 'end'), axis=1)\n",
    "data_users['begin_month'] = data_users.apply(lambda x: get_part_month(x['churn_date'], 'begin'), axis=1)\n",
    "data_users['churn_date'].fillna(pd.Timestamp('2019-01-01'), inplace=True)\n",
    "data_users['sum_months'] = data_users.apply(lambda x: get_whole_months(x['reg_date'], x['end_month'], x['begin_month'], x['churn_date']), axis=1)\n",
    "data_users['avg_revenue_fee_per_month'] = data_users.apply(lambda x: round(get_avg_rev_fee(x['sum_months'], x['tariff']), 2), axis=1)\n",
    "\n",
    "# Расчитаем средние выручки для пользователей каждого тарифа:\n",
    "avg_ultra = data_users.loc[data_users['tariff'] == 'ultra', ['user_id', 'avg_revenue_fee_per_month']]\n",
    "avg_smart = data_users.loc[data_users['tariff'] == 'smart', ['user_id', 'avg_revenue_fee_per_month']]\n",
    "avg_ultra.set_index('user_id', inplace=True)\n",
    "avg_smart.set_index('user_id', inplace=True)"
   ]
  },
  {
   "cell_type": "markdown",
   "metadata": {},
   "source": [
    "#### Расчёт выручки по превышени лимитов"
   ]
  },
  {
   "cell_type": "markdown",
   "metadata": {},
   "source": [
    "   Для расчёта среднемесячной выручки создадим две функции для расчёта:\n",
    "- дополнительной помесячной выручки за превышение лимитов \n",
    "- среднемесячной выручки по минутам, ГБ, сообщениям сверх лимитов"
   ]
  },
  {
   "cell_type": "code",
   "execution_count": 20,
   "metadata": {},
   "outputs": [],
   "source": [
    "new_dataset = [data_calls, data_inet, data_mess]\n",
    "\n",
    "def get_add_rev(costs, resource, tarif, data_tarif=data_tarif):\n",
    "    for col in data_tarif.columns:\n",
    "        if resource in col:\n",
    "            limit = data_tarif.loc[tarif, col]\n",
    "    for col_with_per in data_tarif.columns[3:]:\n",
    "        if resource[:-1] in col_with_per:\n",
    "            price = data_tarif.loc[tarif, col_with_per]\n",
    "    delta = costs - limit\n",
    "    if delta > 0:\n",
    "        return delta * price\n",
    "    return 0\n",
    "\n",
    "def get_avg_data(group_users, tarif, data_tarif=data_tarif, dataset=new_dataset):\n",
    "    new = []\n",
    "    for df in dataset:        \n",
    "        new.append(df[df['user_id'].isin(group_users)])\n",
    "    group_calls = new[0]\n",
    "    group_inet = new[1]\n",
    "    group_mess = new[2]\n",
    "\n",
    "    _calls = group_calls.pivot_table(index=['user_id', 'month_calls'], values='duration', aggfunc='sum') \n",
    "    _calls['add_minutes'] = _calls.apply(lambda x: get_add_rev(x['duration'], 'minutes', tarif), axis=1)\n",
    "    _calls = _calls.pivot_table(index='user_id', values='add_minutes')\n",
    "\n",
    "    _inet = group_inet.pivot_table(index=['user_id', 'month_internet'], values='gb_used', aggfunc='sum').apply(np.ceil)\n",
    "    _inet['add_gb'] = _inet.apply(lambda x: get_add_rev(x['gb_used'], 'gb', tarif), axis=1)\n",
    "    _inet = _inet.pivot_table(index='user_id', values='add_gb')\n",
    "\n",
    "    _mess = group_mess.pivot_table(index=['user_id', 'month_messages'], values='id', aggfunc='count')\n",
    "    _mess['add_messages'] = _mess.apply(lambda x: get_add_rev(x['id'], 'messages', tarif), axis=1)\n",
    "    _mess = _mess.pivot_table(index='user_id', values='add_messages')\n",
    "    return [_calls, _inet, _mess]\n",
    "      \n",
    "\n",
    "ultra_revenue = pd.concat([avg_ultra] + get_avg_data(ultra_users, 'ultra'), axis=1)\n",
    "smart_revenue = pd.concat([avg_smart] + get_avg_data(smart_users, 'smart'), axis=1)\n",
    "\n",
    "ultra_revenue = ultra_revenue.sum(axis=1)\n",
    "smart_revenue = smart_revenue.sum(axis=1)"
   ]
  },
  {
   "cell_type": "markdown",
   "metadata": {},
   "source": [
    "## Анализ данных\n",
    "\n",
    "В этом разделе опишем поведение клиентов оператора, исходя из тарифа. Для этого взглянем на количества минут разговора, сообщений и ГБ и посчитаем среднее количество, дисперсию и стандартное отклонение, а также построим гистограммы. \n",
    "\n",
    "Статистические метрики сведём в одну таблицу для каждого тарифа."
   ]
  },
  {
   "cell_type": "code",
   "execution_count": 31,
   "metadata": {},
   "outputs": [
    {
     "data": {
      "text/html": [
       "<div>\n",
       "<style scoped>\n",
       "    .dataframe tbody tr th:only-of-type {\n",
       "        vertical-align: middle;\n",
       "    }\n",
       "\n",
       "    .dataframe tbody tr th {\n",
       "        vertical-align: top;\n",
       "    }\n",
       "\n",
       "    .dataframe thead th {\n",
       "        text-align: right;\n",
       "    }\n",
       "</style>\n",
       "<table border=\"1\" class=\"dataframe\">\n",
       "  <thead>\n",
       "    <tr style=\"text-align: right;\">\n",
       "      <th></th>\n",
       "      <th></th>\n",
       "      <th>min_used</th>\n",
       "      <th>calls_done</th>\n",
       "      <th>mess_used</th>\n",
       "      <th>gb_used</th>\n",
       "    </tr>\n",
       "  </thead>\n",
       "  <tbody>\n",
       "    <tr>\n",
       "      <th rowspan=\"5\" valign=\"top\">1000</th>\n",
       "      <th>5</th>\n",
       "      <td>159.0</td>\n",
       "      <td>17.0</td>\n",
       "      <td>22.0</td>\n",
       "      <td>2.200674</td>\n",
       "    </tr>\n",
       "    <tr>\n",
       "      <th>6</th>\n",
       "      <td>172.0</td>\n",
       "      <td>28.0</td>\n",
       "      <td>60.0</td>\n",
       "      <td>22.689229</td>\n",
       "    </tr>\n",
       "    <tr>\n",
       "      <th>7</th>\n",
       "      <td>340.0</td>\n",
       "      <td>41.0</td>\n",
       "      <td>75.0</td>\n",
       "      <td>13.675430</td>\n",
       "    </tr>\n",
       "    <tr>\n",
       "      <th>8</th>\n",
       "      <td>408.0</td>\n",
       "      <td>42.0</td>\n",
       "      <td>81.0</td>\n",
       "      <td>13.726494</td>\n",
       "    </tr>\n",
       "    <tr>\n",
       "      <th>9</th>\n",
       "      <td>466.0</td>\n",
       "      <td>46.0</td>\n",
       "      <td>57.0</td>\n",
       "      <td>14.227451</td>\n",
       "    </tr>\n",
       "    <tr>\n",
       "      <th>...</th>\n",
       "      <th>...</th>\n",
       "      <td>...</td>\n",
       "      <td>...</td>\n",
       "      <td>...</td>\n",
       "      <td>...</td>\n",
       "    </tr>\n",
       "    <tr>\n",
       "      <th>1498</th>\n",
       "      <th>10</th>\n",
       "      <td>247.0</td>\n",
       "      <td>30.0</td>\n",
       "      <td>42.0</td>\n",
       "      <td>20.097031</td>\n",
       "    </tr>\n",
       "    <tr>\n",
       "      <th rowspan=\"4\" valign=\"top\">1499</th>\n",
       "      <th>9</th>\n",
       "      <td>70.0</td>\n",
       "      <td>8.0</td>\n",
       "      <td>11.0</td>\n",
       "      <td>1.802490</td>\n",
       "    </tr>\n",
       "    <tr>\n",
       "      <th>10</th>\n",
       "      <td>449.0</td>\n",
       "      <td>44.0</td>\n",
       "      <td>48.0</td>\n",
       "      <td>17.371592</td>\n",
       "    </tr>\n",
       "    <tr>\n",
       "      <th>11</th>\n",
       "      <td>612.0</td>\n",
       "      <td>62.0</td>\n",
       "      <td>59.0</td>\n",
       "      <td>17.542295</td>\n",
       "    </tr>\n",
       "    <tr>\n",
       "      <th>12</th>\n",
       "      <td>492.0</td>\n",
       "      <td>56.0</td>\n",
       "      <td>66.0</td>\n",
       "      <td>12.749590</td>\n",
       "    </tr>\n",
       "  </tbody>\n",
       "</table>\n",
       "<p>3214 rows × 4 columns</p>\n",
       "</div>"
      ],
      "text/plain": [
       "         min_used  calls_done  mess_used    gb_used\n",
       "1000 5      159.0        17.0       22.0   2.200674\n",
       "     6      172.0        28.0       60.0  22.689229\n",
       "     7      340.0        41.0       75.0  13.675430\n",
       "     8      408.0        42.0       81.0  13.726494\n",
       "     9      466.0        46.0       57.0  14.227451\n",
       "...           ...         ...        ...        ...\n",
       "1498 10     247.0        30.0       42.0  20.097031\n",
       "1499 9       70.0         8.0       11.0   1.802490\n",
       "     10     449.0        44.0       48.0  17.371592\n",
       "     11     612.0        62.0       59.0  17.542295\n",
       "     12     492.0        56.0       66.0  12.749590\n",
       "\n",
       "[3214 rows x 4 columns]"
      ]
     },
     "execution_count": 31,
     "metadata": {},
     "output_type": "execute_result"
    }
   ],
   "source": [
    "result"
   ]
  },
  {
   "cell_type": "code",
   "execution_count": 21,
   "metadata": {},
   "outputs": [],
   "source": [
    "describe_spent = ('min_used', 'mess_used', 'gb_used') # Список с названиями столбцов для итоговой таблицы"
   ]
  },
  {
   "cell_type": "code",
   "execution_count": 22,
   "metadata": {},
   "outputs": [
    {
     "data": {
      "text/html": [
       "<div>\n",
       "<style scoped>\n",
       "    .dataframe tbody tr th:only-of-type {\n",
       "        vertical-align: middle;\n",
       "    }\n",
       "\n",
       "    .dataframe tbody tr th {\n",
       "        vertical-align: top;\n",
       "    }\n",
       "\n",
       "    .dataframe thead th {\n",
       "        text-align: right;\n",
       "    }\n",
       "</style>\n",
       "<table border=\"1\" class=\"dataframe\">\n",
       "  <thead>\n",
       "    <tr style=\"text-align: right;\">\n",
       "      <th></th>\n",
       "      <th>min_used</th>\n",
       "      <th>mess_used</th>\n",
       "      <th>gb_used</th>\n",
       "    </tr>\n",
       "  </thead>\n",
       "  <tbody>\n",
       "    <tr>\n",
       "      <th>mean</th>\n",
       "      <td>547.755016</td>\n",
       "      <td>61.161006</td>\n",
       "      <td>19.227225</td>\n",
       "    </tr>\n",
       "    <tr>\n",
       "      <th>median</th>\n",
       "      <td>529.000000</td>\n",
       "      <td>51.000000</td>\n",
       "      <td>18.954126</td>\n",
       "    </tr>\n",
       "    <tr>\n",
       "      <th>std</th>\n",
       "      <td>305.513385</td>\n",
       "      <td>45.931026</td>\n",
       "      <td>9.695444</td>\n",
       "    </tr>\n",
       "    <tr>\n",
       "      <th>var</th>\n",
       "      <td>93338.428291</td>\n",
       "      <td>2109.659183</td>\n",
       "      <td>94.001641</td>\n",
       "    </tr>\n",
       "  </tbody>\n",
       "</table>\n",
       "</div>"
      ],
      "text/plain": [
       "            min_used    mess_used    gb_used\n",
       "mean      547.755016    61.161006  19.227225\n",
       "median    529.000000    51.000000  18.954126\n",
       "std       305.513385    45.931026   9.695444\n",
       "var     93338.428291  2109.659183  94.001641"
      ]
     },
     "metadata": {},
     "output_type": "display_data"
    },
    {
     "data": {
      "text/html": [
       "<div>\n",
       "<style scoped>\n",
       "    .dataframe tbody tr th:only-of-type {\n",
       "        vertical-align: middle;\n",
       "    }\n",
       "\n",
       "    .dataframe tbody tr th {\n",
       "        vertical-align: top;\n",
       "    }\n",
       "\n",
       "    .dataframe thead th {\n",
       "        text-align: right;\n",
       "    }\n",
       "</style>\n",
       "<table border=\"1\" class=\"dataframe\">\n",
       "  <thead>\n",
       "    <tr style=\"text-align: right;\">\n",
       "      <th></th>\n",
       "      <th>min_used</th>\n",
       "      <th>mess_used</th>\n",
       "      <th>gb_used</th>\n",
       "    </tr>\n",
       "  </thead>\n",
       "  <tbody>\n",
       "    <tr>\n",
       "      <th>mean</th>\n",
       "      <td>419.440342</td>\n",
       "      <td>38.716441</td>\n",
       "      <td>15.842718</td>\n",
       "    </tr>\n",
       "    <tr>\n",
       "      <th>median</th>\n",
       "      <td>423.000000</td>\n",
       "      <td>34.000000</td>\n",
       "      <td>16.121719</td>\n",
       "    </tr>\n",
       "    <tr>\n",
       "      <th>std</th>\n",
       "      <td>188.992403</td>\n",
       "      <td>26.787949</td>\n",
       "      <td>5.715787</td>\n",
       "    </tr>\n",
       "    <tr>\n",
       "      <th>var</th>\n",
       "      <td>35718.128534</td>\n",
       "      <td>717.594201</td>\n",
       "      <td>32.670220</td>\n",
       "    </tr>\n",
       "  </tbody>\n",
       "</table>\n",
       "</div>"
      ],
      "text/plain": [
       "            min_used   mess_used    gb_used\n",
       "mean      419.440342   38.716441  15.842718\n",
       "median    423.000000   34.000000  16.121719\n",
       "std       188.992403   26.787949   5.715787\n",
       "var     35718.128534  717.594201  32.670220"
      ]
     },
     "metadata": {},
     "output_type": "display_data"
    }
   ],
   "source": [
    "ultra_res = result.loc[ultra_users, describe_spent]\n",
    "st_ultra = ultra_res.describe().iloc[[1, 5]].loc[:, describe_spent]\n",
    "std_ultra = ultra_res.apply(lambda x: np.std(x, ddof=1)).to_frame().transpose()  # НЕ СМЕЩЁННАЯ STD\n",
    "var_ultra = ultra_res.apply(lambda x: np.var(x, ddof=1)).to_frame().transpose()  # НЕ СМЕЩЁННАЯ ДИСПЕРСИЯ\n",
    "st_ultra = pd.concat([st_ultra, std_ultra, var_ultra])\n",
    "st_ultra.index = ['mean', 'median', 'std', 'var']\n",
    "\n",
    "smart_res = result.loc[smart_users, describe_spent]\n",
    "st_smart = smart_res.describe().iloc[[1, 5, 2]].loc[:, describe_spent]\n",
    "var_smart = smart_res.apply(lambda x: np.var(x, ddof=1))  # НЕ СМЕЩЁННАЯ ДИСПЕРСИЯ\n",
    "st_smart = pd.concat([st_smart, var_smart.to_frame().transpose()], axis=0)\n",
    "st_smart.index = ['mean', 'median', 'std', 'var']\n",
    "\n",
    "display(st_ultra)\n",
    "display(st_smart)"
   ]
  },
  {
   "cell_type": "markdown",
   "metadata": {},
   "source": [
    "Частотная гистограмма плохо подходит непрерывным переменным: частота попадания значений в интервалы зависит от выбора границ интервалов. Исходя из этого будем подбирать интервалы по размеры стандартного отклонения. Для расчёта граница напишем соответствующую функцию. "
   ]
  },
  {
   "cell_type": "code",
   "execution_count": 23,
   "metadata": {},
   "outputs": [
    {
     "data": {
      "text/plain": [
       "<matplotlib.axes._subplots.AxesSubplot at 0x2771796c400>"
      ]
     },
     "metadata": {},
     "output_type": "display_data"
    },
    {
     "data": {
      "text/plain": [
       "<matplotlib.axes._subplots.AxesSubplot at 0x2771796c400>"
      ]
     },
     "metadata": {},
     "output_type": "display_data"
    },
    {
     "data": {
      "image/png": "[encoded data removed]",
      "text/plain": [
       "<Figure size 432x288 with 1 Axes>"
      ]
     },
     "metadata": {
      "needs_background": "light"
     },
     "output_type": "display_data"
    }
   ],
   "source": [
    "# function for bins:\n",
    "def get_bins(st_data):\n",
    "    mean = st_data.loc['mean']\n",
    "    std = st_data.loc['std']\n",
    "    left_mean = [0] + [(mean - x * std) for x in range(1, 4) if (mean - x * std) > 0]\n",
    "    right_mean = [mean] + [(mean + x * std) for x in range(1, 5)]\n",
    "    return sorted(left_mean + right_mean)\n",
    "\n",
    "display(ultra_res['min_used'].hist(bins=get_bins(st_ultra['min_used']), alpha=0.5));\n",
    "display(smart_res['min_used'].hist(bins=get_bins(st_smart['min_used']), alpha=0.5));"
   ]
  },
  {
   "cell_type": "markdown",
   "metadata": {},
   "source": [
    "*Оранжевая гистограмма  - использование минут на тарифе \"Смарт\"; \n",
    "Синяя гистограмма - использование минут на тарифе тарифа \"Ультра\".*\n"
   ]
  },
  {
   "cell_type": "code",
   "execution_count": 24,
   "metadata": {},
   "outputs": [
    {
     "data": {
      "text/plain": [
       "<matplotlib.axes._subplots.AxesSubplot at 0x277184a8250>"
      ]
     },
     "metadata": {},
     "output_type": "display_data"
    },
    {
     "data": {
      "text/plain": [
       "<matplotlib.axes._subplots.AxesSubplot at 0x277184a8250>"
      ]
     },
     "metadata": {},
     "output_type": "display_data"
    },
    {
     "data": {
      "image/png": "[encoded data removed]",
      "text/plain": [
       "<Figure size 432x288 with 1 Axes>"
      ]
     },
     "metadata": {
      "needs_background": "light"
     },
     "output_type": "display_data"
    }
   ],
   "source": [
    "display(ultra_res['mess_used'].hist(bins=get_bins(st_ultra['mess_used']), alpha=0.5))\n",
    "display(smart_res['mess_used'].hist(bins=get_bins(st_smart['mess_used']), alpha=0.5))"
   ]
  },
  {
   "cell_type": "markdown",
   "metadata": {},
   "source": [
    "*Оранжевая гистограмма - использование сообщений на тарифе \"Смарт\"; \n",
    "Синяя гистограмма - использование сообщений на тарифе \"Ультра\".*\n"
   ]
  },
  {
   "cell_type": "code",
   "execution_count": 25,
   "metadata": {},
   "outputs": [
    {
     "data": {
      "text/plain": [
       "<matplotlib.axes._subplots.AxesSubplot at 0x277194d3160>"
      ]
     },
     "metadata": {},
     "output_type": "display_data"
    },
    {
     "data": {
      "text/plain": [
       "<matplotlib.axes._subplots.AxesSubplot at 0x277194d3160>"
      ]
     },
     "metadata": {},
     "output_type": "display_data"
    },
    {
     "data": {
      "image/png": "[encoded data removed]",
      "text/plain": [
       "<Figure size 432x288 with 1 Axes>"
      ]
     },
     "metadata": {
      "needs_background": "light"
     },
     "output_type": "display_data"
    }
   ],
   "source": [
    "display(ultra_res['gb_used'].hist(bins=get_bins(st_ultra['gb_used']), alpha=0.5));\n",
    "display(smart_res['gb_used'].hist(bins=get_bins(st_smart['gb_used']), alpha=0.5));"
   ]
  },
  {
   "cell_type": "markdown",
   "metadata": {},
   "source": [
    "*Оранжевая гистограмма - использование ГБ на тарифе \"Смарт\"; \n",
    "Синяя гистограмма - использование ГБ на тарифе \"Ультра\".*\n"
   ]
  },
  {
   "cell_type": "markdown",
   "metadata": {},
   "source": [
    "**ВЫВОДЫ** \n",
    "\n",
    "1. Средние, стандартное отклонения и дисперсии по тарифу \"Ультра\" заметно выше.\n",
    "2. Лимиты по сообщениям и по минутам иногда превышаются по тарифу \"Смарт\" и практически никогда по тарифу \"Ультра\"\n",
    "3. Лимиты по ГБ обычно превышаются на тарифе \"Смарт\"\n",
    "4. Все гистограммы для тарифа \"Ультра\" имеют *правое* смещение - там медианы меньше средней. \n",
    "5. В целом на обоих тарифах, распределение заметно ближе к нормальному по минутам и мегабайтам."
   ]
  },
  {
   "cell_type": "markdown",
   "metadata": {},
   "source": [
    "\n",
    "##  Проверка статистических гипотез\n",
    "Следуют проверить следующие гипотезы:\n",
    "1. средняя выручка пользователей тарифов «Ультра» и «Смарт» различаются;\n",
    "2. средняя выручка пользователей из Москвы отличается от выручки пользователей из других регионов.\n",
    "Значение alpha зададим равным 1%.\n",
    "\n",
    "Поясните:\n",
    "- как вы формулировали нулевую и альтернативную гипотезы;\n",
    "- какой критерий использовали для проверки гипотез и почему."
   ]
  },
  {
   "cell_type": "markdown",
   "metadata": {},
   "source": [
    "### Проверка гипотезы №1\n",
    "\n",
    "\n",
    "Мы имеем две независимые совокупности: абонентов двух разных тарифов. Нужно проверить гипотезу по выборкам абонентов: различаются ли средние выручки.\n",
    "\n",
    "Для этого формулировка нулевой гипотезы звучит так: средние выручки равны. \n",
    "\n",
    "Соответственно гипотеза H1: средние выручки не равны.\n",
    "\n",
    "Для формулировки нулевой гипотезы, исходили из того, что верно некое равенство. Альтернативная гипотеза отвергает верность равенства. \n",
    "\n",
    "\n",
    "Для этого используем t-тест. Рассмотрим, подходит ли он нам по его ограничениям:\n",
    "1. Генеральные совокупности не должны зависеть друг от друга. Совокупность абонентов одного тарифа, не влияет на совокупность абонентов другого тарифа.\n",
    "2. Выборочные средние должны быть нормально распределены.Благодаря ЦПТ, если размер выборки составляет хотя бы несколько десятков значений, выборочные средние, которые можно получить из одной и той же генеральной совокупности, будут распределены нормально вокруг истинного среднего этой совокупности. Напомним, это утверждение верно, даже если сама генеральная совокупность не распределена нормально. У нас размеры выборок: 149 и 351 - это условие подходит.\n",
    "3. Дисперсии рассматриваемых генеральных совокупностей должны быть равны. Так как мы имеем разные по размеры выборки, мы укажем в параметрах функции для расчёта `equal_var` равным `False` - это условия обойдём таким образом.\n",
    "\n",
    "Для проверки гипотезы будем использовать критерий `p-value` - это вероятность получить наблюдаемый или еще более далекий от предполагаемого результат при условии, что нулевая гипотеза верна."
   ]
  },
  {
   "cell_type": "code",
   "execution_count": 26,
   "metadata": {},
   "outputs": [
    {
     "name": "stdout",
     "output_type": "stream",
     "text": [
      "p-value: 4.8540438733270327e-101\n",
      "Отвергаем нулевую гипотезу\n"
     ]
    }
   ],
   "source": [
    "ultra_sample = ultra_revenue\n",
    "smart_sample = smart_revenue\n",
    "alpha = .01\n",
    "\n",
    "results = st.ttest_ind(ultra_sample, smart_sample, equal_var=False)\n",
    "print(f'p-value: {results.pvalue}')\n",
    "if results.pvalue < alpha:\n",
    "    print(\"Отвергаем нулевую гипотезу\")\n",
    "else:\n",
    "    print(\"Не получилось отвергнуть нулевую гипотезу\") "
   ]
  },
  {
   "cell_type": "markdown",
   "metadata": {},
   "source": [
    "**Вывод:** по значению `pvalue` мы видим почти *нулевую вероятность* того что средние выручки по тарифам будут одинаковые. "
   ]
  },
  {
   "cell_type": "markdown",
   "metadata": {},
   "source": [
    "### Проверка гипотезы №2\n",
    "\n",
    "Определим две выборки:"
   ]
  },
  {
   "cell_type": "code",
   "execution_count": 27,
   "metadata": {},
   "outputs": [],
   "source": [
    "mos_users = data_users.loc[data_users['city'] == 'Москва', 'user_id']\n",
    "prov_users = data_users.loc[data_users['city'] != 'Москва', 'user_id']"
   ]
  },
  {
   "cell_type": "markdown",
   "metadata": {},
   "source": [
    "#### Расчёт выручки по тарифу"
   ]
  },
  {
   "cell_type": "code",
   "execution_count": 28,
   "metadata": {},
   "outputs": [],
   "source": [
    "avg_mos = data_users.loc[data_users['city'] == 'Москва', ['user_id', 'avg_revenue_fee_per_month']]\n",
    "avg_prov = data_users.loc[data_users['city'] != 'Москва', ['user_id', 'avg_revenue_fee_per_month']]\n",
    "avg_mos.set_index('user_id', inplace=True)\n",
    "avg_prov.set_index('user_id', inplace=True)"
   ]
  },
  {
   "cell_type": "markdown",
   "metadata": {},
   "source": [
    "#### Расчёт выручки по превышени лимитов"
   ]
  },
  {
   "cell_type": "code",
   "execution_count": 29,
   "metadata": {},
   "outputs": [],
   "source": [
    "mos_ultra_users = data_users.query('city == \"Москва\" and tariff == \"ultra\"')['user_id']\n",
    "mos_smart_users = data_users.query('city == \"Москва\" and tariff == \"smart\"')['user_id']\n",
    "\n",
    "mos_ultra_revenue = pd.concat(get_avg_data(mos_ultra_users, 'ultra'), axis=1)\n",
    "mos_smart_revenue = pd.concat(get_avg_data(mos_smart_users, 'smart'), axis=1)\n",
    "\n",
    "mos_revenue = mos_ultra_revenue.append(mos_smart_revenue)\n",
    "mos_revenue = pd.concat([avg_mos, mos_revenue], axis=1)\n",
    "\n",
    "prov_ultra_users = data_users.query('city != \"Москва\" and tariff == \"ultra\"')['user_id']\n",
    "prov_smart_users = data_users.query('city != \"Москва\" and tariff == \"smart\"')['user_id']\n",
    "\n",
    "prov_ultra_revenue = pd.concat(get_avg_data(prov_ultra_users, 'ultra'), axis=1)\n",
    "prov_smart_revenue = pd.concat(get_avg_data(prov_smart_users, 'smart'), axis=1)\n",
    "\n",
    "prov_revenue = prov_ultra_revenue.append(prov_smart_revenue)\n",
    "prov_revenue = pd.concat([avg_prov, prov_revenue], axis=1)"
   ]
  },
  {
   "cell_type": "markdown",
   "metadata": {},
   "source": [
    "#### Статистические расчёты по гипотезе №1\n",
    "\n",
    "Формулировка нулевой гипотезы звучит так: средние выручки равны.\n",
    "\n",
    "Соответственно гипотеза H1: средние выручки не равны.\n",
    "\n",
    "Для проверки нулевой гипотезы используем t-тест. Рассмотрим, подходит ли он нам по его ограничениям:\n",
    "1. Генеральные совокупности не должны зависеть друг от друга. Совокупность абонентов из разных регионов не влияют друг на друга.\n",
    "2. Выборочные средние должны быть нормально распределены.Благодаря ЦПТ, если размер выборки составляет хотя бы несколько десятков значений, выборочные средние, которые можно получить из одной и той же генеральной совокупности, будут распределены нормально вокруг истинного среднего этой совокупности. Напомним, это утверждение верно, даже если сама генеральная совокупность не распределена нормально. У нас размеры выборок более 30 - это условие подходит.\n",
    "3. Дисперсии рассматриваемых генеральных совокупностей должны быть равны. Так как мы имеем разные по размеры выборки, мы укажем в параметрах функции для расчёта `equal_var` равным `False` - это условия обойдём таким образом.\n",
    "\n",
    "Мы имеем две независимые совокупности: абонентов двух разных тарифов. "
   ]
  },
  {
   "cell_type": "code",
   "execution_count": 30,
   "metadata": {},
   "outputs": [
    {
     "name": "stdout",
     "output_type": "stream",
     "text": [
      "0.3796788026920448\n",
      "Не получилось отвергнуть нулевую гипотезу\n"
     ]
    }
   ],
   "source": [
    "mos_sample = mos_revenue.sum(axis=1)\n",
    "prov_sample = prov_revenue.sum(axis=1)\n",
    "alpha = .01\n",
    "results = st.ttest_ind(mos_sample, prov_sample, equal_var=False)\n",
    "print(results.pvalue)\n",
    "if results.pvalue < alpha:\n",
    "    print(\"Отвергаем нулевую гипотезу\")\n",
    "else:\n",
    "    print(\"Не получилось отвергнуть нулевую гипотезу\") "
   ]
  },
  {
   "cell_type": "markdown",
   "metadata": {},
   "source": [
    "Есть 37% вероятность, что средняя выручка в Москве и регионах равны."
   ]
  },
  {
   "cell_type": "markdown",
   "metadata": {},
   "source": [
    "## Общий вывод\n"
   ]
  },
  {
   "cell_type": "markdown",
   "metadata": {},
   "source": [
    "1. Лимит минут по тарифу \"Ультра\" очень редко превышается. Причём средняя по минутам для пользователей тарифа \"Ультра\" \n",
    "близка к лимиту минут по тарифу \"Смарт\". Средний пользователь \"Ультра\" использует не более 20 % лимита по минутам и 6 % по \n",
    "сообщениям при этом абон. плата по тарифу на 254% выше от тарифа \"Смарт\".\n",
    "\n",
    "2. Активно используются ГБ на обоих тарифах. На тарифе \"Смарт\" лимит ГБ обычно превышается. Стандартное отклонение в 6 ГБ - \n",
    "а это доп. выручка для \"Мегалайна\" и доп. расход для пользователя, который с большой вероятностью может доходить\n",
    "до 1200 рублей.\n",
    "\n",
    "3. Формы гистограмм для минут и ГБ близки к форме гистограммы нормального распределения. Гистограммы минут имеют выраженное\n",
    "правое смещение - это говорит о том, что большинство пользователей сообщений отсылают мало.\n",
    "\n",
    "4. Средние выручки тарифов \"Ультра\" и \"Смарт\" очень маловероятно, что будут равны.\n",
    "\n",
    "5. Средние выручки абонентов \"Мегалайна\" из Москвы и в целом из остальных регионов похожи."
   ]
  }
 ],
 "metadata": {
  "kernelspec": {
   "display_name": "Python 3",
   "language": "python",
   "name": "python3"
  },
  "language_info": {
   "codemirror_mode": {
    "name": "ipython",
    "version": 3
   },
   "file_extension": ".py",
   "mimetype": "text/x-python",
   "name": "python",
   "nbconvert_exporter": "python",
   "pygments_lexer": "ipython3",
   "version": "3.8.3"
  },
  "toc": {
   "base_numbering": 1,
   "nav_menu": {},
   "number_sections": true,
   "sideBar": true,
   "skip_h1_title": false,
   "title_cell": "Table of Contents",
   "title_sidebar": "Contents",
   "toc_cell": true,
   "toc_position": {},
   "toc_section_display": true,
   "toc_window_display": false
  }
 },
 "nbformat": 4,
 "nbformat_minor": 4
}
