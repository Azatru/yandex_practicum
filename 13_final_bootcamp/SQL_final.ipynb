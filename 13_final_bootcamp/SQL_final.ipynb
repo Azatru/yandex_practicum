{
 "cells": [
  {
   "cell_type": "markdown",
   "id": "28950b9e",
   "metadata": {
    "toc": true
   },
   "source": [
    "<h1>Table of Contents<span class=\"tocSkip\"></span></h1>\n",
    "<div class=\"toc\"><ul class=\"toc-item\"><li><span><a href=\"#Описание-данных\" data-toc-modified-id=\"Описание-данных-1\"><span class=\"toc-item-num\">1&nbsp;&nbsp;</span>Описание данных</a></span></li><li><span><a href=\"#Импорт-библиотек-и-создание-соединения-с-базой-данных\" data-toc-modified-id=\"Импорт-библиотек-и-создание-соединения-с-базой-данных-2\"><span class=\"toc-item-num\">2&nbsp;&nbsp;</span>Импорт библиотек и создание соединения с базой данных</a></span></li><li><span><a href=\"#Анализ-базы-данных\" data-toc-modified-id=\"Анализ-базы-данных-3\"><span class=\"toc-item-num\">3&nbsp;&nbsp;</span>Анализ базы данных</a></span><ul class=\"toc-item\"><li><span><a href=\"#Знакомство-с-базой-данных\" data-toc-modified-id=\"Знакомство-с-базой-данных-3.1\"><span class=\"toc-item-num\">3.1&nbsp;&nbsp;</span>Знакомство с базой данных</a></span></li><li><span><a href=\"#Расчёт-количества-книг-вышедших-после-1-января-2000-года\" data-toc-modified-id=\"Расчёт-количества-книг-вышедших-после-1-января-2000-года-3.2\"><span class=\"toc-item-num\">3.2&nbsp;&nbsp;</span>Расчёт количества книг вышедших после 1 января 2000 года</a></span></li><li><span><a href=\"#Расчёт-количества-обзоров-и-средней-оценки\" data-toc-modified-id=\"Расчёт-количества-обзоров-и-средней-оценки-3.3\"><span class=\"toc-item-num\">3.3&nbsp;&nbsp;</span>Расчёт количества обзоров и средней оценки</a></span></li><li><span><a href=\"#Определение-издательства,-которое-выпустило-наибольшее-число-книг-толще-50-страниц-(исключение-из-анализа-брошюр)\" data-toc-modified-id=\"Определение-издательства,-которое-выпустило-наибольшее-число-книг-толще-50-страниц-(исключение-из-анализа-брошюр)-3.4\"><span class=\"toc-item-num\">3.4&nbsp;&nbsp;</span>Определение издательства, которое выпустило наибольшее число книг толще 50 страниц (исключение из анализа брошюр)</a></span></li><li><span><a href=\"#Определение-автора-с-самой-высокой-средней-оценкой-книг-(только-для-книг-с-50-и-более-оценками)\" data-toc-modified-id=\"Определение-автора-с-самой-высокой-средней-оценкой-книг-(только-для-книг-с-50-и-более-оценками)-3.5\"><span class=\"toc-item-num\">3.5&nbsp;&nbsp;</span>Определение автора с самой высокой средней оценкой книг (только для книг с 50 и более оценками)</a></span></li><li><span><a href=\"#Расчёт-среднего-количества-обзоров-от-пользователей-(для-пользователей,-поставивших-более-50-оценок)\" data-toc-modified-id=\"Расчёт-среднего-количества-обзоров-от-пользователей-(для-пользователей,-поставивших-более-50-оценок)-3.6\"><span class=\"toc-item-num\">3.6&nbsp;&nbsp;</span>Расчёт среднего количества обзоров от пользователей (для пользователей, поставивших более 50 оценок)</a></span></li></ul></li><li><span><a href=\"#Выводы-по-анализу\" data-toc-modified-id=\"Выводы-по-анализу-4\"><span class=\"toc-item-num\">4&nbsp;&nbsp;</span>Выводы по анализу</a></span></li></ul></div>"
   ]
  },
  {
   "cell_type": "markdown",
   "id": "ebd4d84b",
   "metadata": {},
   "source": [
    "<font size = 5>**Финальный проект \"SQL\"**<font size>"
   ]
  },
  {
   "cell_type": "markdown",
   "id": "720aea18",
   "metadata": {},
   "source": [
    "# Введение\n",
    "\n",
    "Цель проекта: изучив базу данных **с помощью запросов SQL** получить информация о книгах, издательствах, авторах, а также пользовательские обзоры книг. Эти данные помогут сформулировать ценностное предложение для нового продукта.\n",
    "\n",
    "Во первом разделе содержится описание проекта.\n",
    "\n",
    "Во втором разделе импортируются необходимые библиотеки и создаётся соединение с базой данных.\n",
    "\n",
    "Анализ базы данных ведётся в разделе 3.\n",
    "\n",
    "Выводы описаны в последнем разделе."
   ]
  },
  {
   "cell_type": "markdown",
   "id": "c3438cfc",
   "metadata": {},
   "source": [
    "## Описание данных\n",
    "\n",
    "**Таблица `books`**\n",
    "\n",
    "Содержит данные о книгах:\n",
    "\n",
    "- `book_id` — идентификатор книги;\n",
    "- `author_id` — идентификатор автора;\n",
    "- `title` — название книги;\n",
    "- `num_pages` — количество страниц;\n",
    "- `publication_date` — дата публикации книги;\n",
    "- `publisher_id` — идентификатор издателя.\n",
    "\n",
    "**Таблица `authors`**\n",
    "\n",
    "Содержит данные об авторах:\n",
    "\n",
    "- `author_id` — идентификатор автора;\n",
    "- `author` — имя автора.\n",
    "\n",
    "**Таблица `publishers`**\n",
    "\n",
    "Содержит данные об издательствах:\n",
    "\n",
    "- `publisher_id` — идентификатор издательства;\n",
    "- `publisher` — название издательства;\n",
    "\n",
    "**Таблица `ratings`**\n",
    "\n",
    "Содержит данные о пользовательских оценках книг:\n",
    "\n",
    "- `rating_id` — идентификатор оценки;\n",
    "- `book_id` — идентификатор книги;\n",
    "- `username` — имя пользователя, оставившего оценку;\n",
    "- `rating` — оценка книги.\n",
    "\n",
    "**Таблица `reviews`**\n",
    "\n",
    "Содержит данные о пользовательских обзорах на книги:\n",
    "\n",
    "- `review_id` — идентификатор обзора;\n",
    "- `book_id` — идентификатор книги;\n",
    "- `username` — имя пользователя, написавшего обзор;\n",
    "- `text` — текст обзора.\n",
    "\n",
    "![title](u.png)"
   ]
  },
  {
   "cell_type": "markdown",
   "id": "fa904e40",
   "metadata": {},
   "source": [
    "## Импорт библиотек и создание соединения с базой данных"
   ]
  },
  {
   "cell_type": "code",
   "execution_count": 1,
   "id": "8c7fc8f7",
   "metadata": {},
   "outputs": [],
   "source": [
    "# импортируем библиотеки\n",
    "import pandas as pd\n",
    "from sqlalchemy import create_engine\n",
    "# устанавливаем параметры\n",
    "db_config = {'user': 'praktikum_student', # имя пользователя\n",
    "'pwd': 'Sdf4$2;d-d30pp', # пароль\n",
    "'host': 'rc1b-wcoijxj3yxfsf3fs.mdb.yandexcloud.net',\n",
    "'port': 6432, # порт подключения\n",
    "'db': 'data-analyst-final-project-db'} # название базы данных\n",
    "connection_string = 'postgresql://{}:{}@{}:{}/{}'.format(db_config['user'],\n",
    " db_config['pwd'],\n",
    " db_config['host'],\n",
    " db_config['port'],\n",
    " db_config['db'])\n",
    "# сохраняем коннектор\n",
    "engine = create_engine(connection_string, connect_args={'sslmode':'require'}) "
   ]
  },
  {
   "cell_type": "markdown",
   "id": "c2fc88fc",
   "metadata": {},
   "source": [
    "## Анализ базы данных"
   ]
  },
  {
   "cell_type": "markdown",
   "id": "44ca0cc2",
   "metadata": {},
   "source": [
    "### Знакомство с базой данных"
   ]
  },
  {
   "cell_type": "code",
   "execution_count": 18,
   "id": "6c937e83",
   "metadata": {},
   "outputs": [
    {
     "data": {
      "text/html": [
       "<div>\n",
       "<style scoped>\n",
       "    .dataframe tbody tr th:only-of-type {\n",
       "        vertical-align: middle;\n",
       "    }\n",
       "\n",
       "    .dataframe tbody tr th {\n",
       "        vertical-align: top;\n",
       "    }\n",
       "\n",
       "    .dataframe thead th {\n",
       "        text-align: right;\n",
       "    }\n",
       "</style>\n",
       "<table border=\"1\" class=\"dataframe\">\n",
       "  <thead>\n",
       "    <tr style=\"text-align: right;\">\n",
       "      <th></th>\n",
       "      <th>book_id</th>\n",
       "      <th>author_id</th>\n",
       "      <th>title</th>\n",
       "      <th>num_pages</th>\n",
       "      <th>publication_date</th>\n",
       "      <th>publisher_id</th>\n",
       "    </tr>\n",
       "  </thead>\n",
       "  <tbody>\n",
       "    <tr>\n",
       "      <th>0</th>\n",
       "      <td>1</td>\n",
       "      <td>546</td>\n",
       "      <td>'Salem's Lot</td>\n",
       "      <td>594</td>\n",
       "      <td>2005-11-01</td>\n",
       "      <td>93</td>\n",
       "    </tr>\n",
       "    <tr>\n",
       "      <th>1</th>\n",
       "      <td>2</td>\n",
       "      <td>465</td>\n",
       "      <td>1 000 Places to See Before You Die</td>\n",
       "      <td>992</td>\n",
       "      <td>2003-05-22</td>\n",
       "      <td>336</td>\n",
       "    </tr>\n",
       "  </tbody>\n",
       "</table>\n",
       "</div>"
      ],
      "text/plain": [
       "   book_id  author_id                               title  num_pages  \\\n",
       "0        1        546                        'Salem's Lot        594   \n",
       "1        2        465  1 000 Places to See Before You Die        992   \n",
       "\n",
       "  publication_date  publisher_id  \n",
       "0       2005-11-01            93  \n",
       "1       2003-05-22           336  "
      ]
     },
     "metadata": {},
     "output_type": "display_data"
    },
    {
     "data": {
      "text/html": [
       "<div>\n",
       "<style scoped>\n",
       "    .dataframe tbody tr th:only-of-type {\n",
       "        vertical-align: middle;\n",
       "    }\n",
       "\n",
       "    .dataframe tbody tr th {\n",
       "        vertical-align: top;\n",
       "    }\n",
       "\n",
       "    .dataframe thead th {\n",
       "        text-align: right;\n",
       "    }\n",
       "</style>\n",
       "<table border=\"1\" class=\"dataframe\">\n",
       "  <thead>\n",
       "    <tr style=\"text-align: right;\">\n",
       "      <th></th>\n",
       "      <th>rating_id</th>\n",
       "      <th>book_id</th>\n",
       "      <th>username</th>\n",
       "      <th>rating</th>\n",
       "    </tr>\n",
       "  </thead>\n",
       "  <tbody>\n",
       "    <tr>\n",
       "      <th>0</th>\n",
       "      <td>1</td>\n",
       "      <td>1</td>\n",
       "      <td>ryanfranco</td>\n",
       "      <td>4</td>\n",
       "    </tr>\n",
       "    <tr>\n",
       "      <th>1</th>\n",
       "      <td>2</td>\n",
       "      <td>1</td>\n",
       "      <td>grantpatricia</td>\n",
       "      <td>2</td>\n",
       "    </tr>\n",
       "  </tbody>\n",
       "</table>\n",
       "</div>"
      ],
      "text/plain": [
       "   rating_id  book_id       username  rating\n",
       "0          1        1     ryanfranco       4\n",
       "1          2        1  grantpatricia       2"
      ]
     },
     "metadata": {},
     "output_type": "display_data"
    },
    {
     "data": {
      "text/html": [
       "<div>\n",
       "<style scoped>\n",
       "    .dataframe tbody tr th:only-of-type {\n",
       "        vertical-align: middle;\n",
       "    }\n",
       "\n",
       "    .dataframe tbody tr th {\n",
       "        vertical-align: top;\n",
       "    }\n",
       "\n",
       "    .dataframe thead th {\n",
       "        text-align: right;\n",
       "    }\n",
       "</style>\n",
       "<table border=\"1\" class=\"dataframe\">\n",
       "  <thead>\n",
       "    <tr style=\"text-align: right;\">\n",
       "      <th></th>\n",
       "      <th>review_id</th>\n",
       "      <th>book_id</th>\n",
       "      <th>username</th>\n",
       "      <th>text</th>\n",
       "    </tr>\n",
       "  </thead>\n",
       "  <tbody>\n",
       "    <tr>\n",
       "      <th>0</th>\n",
       "      <td>1</td>\n",
       "      <td>1</td>\n",
       "      <td>brandtandrea</td>\n",
       "      <td>Mention society tell send professor analysis. ...</td>\n",
       "    </tr>\n",
       "    <tr>\n",
       "      <th>1</th>\n",
       "      <td>2</td>\n",
       "      <td>1</td>\n",
       "      <td>ryanfranco</td>\n",
       "      <td>Foot glass pretty audience hit themselves. Amo...</td>\n",
       "    </tr>\n",
       "  </tbody>\n",
       "</table>\n",
       "</div>"
      ],
      "text/plain": [
       "   review_id  book_id      username  \\\n",
       "0          1        1  brandtandrea   \n",
       "1          2        1    ryanfranco   \n",
       "\n",
       "                                                text  \n",
       "0  Mention society tell send professor analysis. ...  \n",
       "1  Foot glass pretty audience hit themselves. Amo...  "
      ]
     },
     "metadata": {},
     "output_type": "display_data"
    },
    {
     "data": {
      "text/html": [
       "<div>\n",
       "<style scoped>\n",
       "    .dataframe tbody tr th:only-of-type {\n",
       "        vertical-align: middle;\n",
       "    }\n",
       "\n",
       "    .dataframe tbody tr th {\n",
       "        vertical-align: top;\n",
       "    }\n",
       "\n",
       "    .dataframe thead th {\n",
       "        text-align: right;\n",
       "    }\n",
       "</style>\n",
       "<table border=\"1\" class=\"dataframe\">\n",
       "  <thead>\n",
       "    <tr style=\"text-align: right;\">\n",
       "      <th></th>\n",
       "      <th>author_id</th>\n",
       "      <th>author</th>\n",
       "    </tr>\n",
       "  </thead>\n",
       "  <tbody>\n",
       "    <tr>\n",
       "      <th>0</th>\n",
       "      <td>1</td>\n",
       "      <td>A.S. Byatt</td>\n",
       "    </tr>\n",
       "    <tr>\n",
       "      <th>1</th>\n",
       "      <td>2</td>\n",
       "      <td>Aesop/Laura Harris/Laura Gibbs</td>\n",
       "    </tr>\n",
       "  </tbody>\n",
       "</table>\n",
       "</div>"
      ],
      "text/plain": [
       "   author_id                          author\n",
       "0          1                      A.S. Byatt\n",
       "1          2  Aesop/Laura Harris/Laura Gibbs"
      ]
     },
     "metadata": {},
     "output_type": "display_data"
    },
    {
     "data": {
      "text/html": [
       "<div>\n",
       "<style scoped>\n",
       "    .dataframe tbody tr th:only-of-type {\n",
       "        vertical-align: middle;\n",
       "    }\n",
       "\n",
       "    .dataframe tbody tr th {\n",
       "        vertical-align: top;\n",
       "    }\n",
       "\n",
       "    .dataframe thead th {\n",
       "        text-align: right;\n",
       "    }\n",
       "</style>\n",
       "<table border=\"1\" class=\"dataframe\">\n",
       "  <thead>\n",
       "    <tr style=\"text-align: right;\">\n",
       "      <th></th>\n",
       "      <th>publisher_id</th>\n",
       "      <th>publisher</th>\n",
       "    </tr>\n",
       "  </thead>\n",
       "  <tbody>\n",
       "    <tr>\n",
       "      <th>0</th>\n",
       "      <td>1</td>\n",
       "      <td>Ace</td>\n",
       "    </tr>\n",
       "    <tr>\n",
       "      <th>1</th>\n",
       "      <td>2</td>\n",
       "      <td>Ace Book</td>\n",
       "    </tr>\n",
       "  </tbody>\n",
       "</table>\n",
       "</div>"
      ],
      "text/plain": [
       "   publisher_id publisher\n",
       "0             1       Ace\n",
       "1             2  Ace Book"
      ]
     },
     "metadata": {},
     "output_type": "display_data"
    }
   ],
   "source": [
    "tables = 'books', 'ratings', 'reviews', 'authors', 'publishers'\n",
    "for table in tables:\n",
    "    display(pd.io.sql.read_sql(f'SELECT * FROM {table} LIMIT 2', con = engine))"
   ]
  },
  {
   "cell_type": "markdown",
   "id": "0c8611e9",
   "metadata": {},
   "source": [
    "### Расчёт количества книг вышедших после 1 января 2000 года"
   ]
  },
  {
   "cell_type": "code",
   "execution_count": 8,
   "id": "68c97dfa",
   "metadata": {},
   "outputs": [],
   "source": [
    "f_query = '''SELECT COUNT(book_id) \n",
    "           FROM books \n",
    "           WHERE EXTRACT(YEAR FROM publication_date) >= 2000'''"
   ]
  },
  {
   "cell_type": "code",
   "execution_count": 9,
   "id": "1cd30652",
   "metadata": {},
   "outputs": [
    {
     "data": {
      "text/html": [
       "<div>\n",
       "<style scoped>\n",
       "    .dataframe tbody tr th:only-of-type {\n",
       "        vertical-align: middle;\n",
       "    }\n",
       "\n",
       "    .dataframe tbody tr th {\n",
       "        vertical-align: top;\n",
       "    }\n",
       "\n",
       "    .dataframe thead th {\n",
       "        text-align: right;\n",
       "    }\n",
       "</style>\n",
       "<table border=\"1\" class=\"dataframe\">\n",
       "  <thead>\n",
       "    <tr style=\"text-align: right;\">\n",
       "      <th></th>\n",
       "      <th>count</th>\n",
       "    </tr>\n",
       "  </thead>\n",
       "  <tbody>\n",
       "    <tr>\n",
       "      <th>0</th>\n",
       "      <td>821</td>\n",
       "    </tr>\n",
       "  </tbody>\n",
       "</table>\n",
       "</div>"
      ],
      "text/plain": [
       "   count\n",
       "0    821"
      ]
     },
     "execution_count": 9,
     "metadata": {},
     "output_type": "execute_result"
    }
   ],
   "source": [
    "pd.io.sql.read_sql(f_query, con = engine) "
   ]
  },
  {
   "cell_type": "markdown",
   "id": "54e67425",
   "metadata": {},
   "source": [
    "### Расчёт количества обзоров и средней оценки"
   ]
  },
  {
   "cell_type": "code",
   "execution_count": 161,
   "id": "d0024988",
   "metadata": {},
   "outputs": [],
   "source": [
    "s_query = '''SELECT b.title, \n",
    "                    COUNT(r.review_id) count_reviews,\n",
    "                    AVG(ra.rating) avg_rating\n",
    "            FROM books b\n",
    "            JOIN reviews r ON r.book_id = b.book_id\n",
    "            JOIN ratings ra ON ra.book_id = b.book_id\n",
    "            GROUP BY b.title\n",
    "            ORDER BY avg_rating DESC'''"
   ]
  },
  {
   "cell_type": "code",
   "execution_count": 162,
   "id": "de7d731d",
   "metadata": {},
   "outputs": [
    {
     "data": {
      "text/html": [
       "<div>\n",
       "<style scoped>\n",
       "    .dataframe tbody tr th:only-of-type {\n",
       "        vertical-align: middle;\n",
       "    }\n",
       "\n",
       "    .dataframe tbody tr th {\n",
       "        vertical-align: top;\n",
       "    }\n",
       "\n",
       "    .dataframe thead th {\n",
       "        text-align: right;\n",
       "    }\n",
       "</style>\n",
       "<table border=\"1\" class=\"dataframe\">\n",
       "  <thead>\n",
       "    <tr style=\"text-align: right;\">\n",
       "      <th></th>\n",
       "      <th>title</th>\n",
       "      <th>count_reviews</th>\n",
       "      <th>avg_rating</th>\n",
       "    </tr>\n",
       "  </thead>\n",
       "  <tbody>\n",
       "    <tr>\n",
       "      <th>0</th>\n",
       "      <td>School's Out—Forever (Maximum Ride  #2)</td>\n",
       "      <td>12</td>\n",
       "      <td>5.00</td>\n",
       "    </tr>\n",
       "    <tr>\n",
       "      <th>1</th>\n",
       "      <td>The War of Art: Break Through the Blocks &amp; Win...</td>\n",
       "      <td>4</td>\n",
       "      <td>5.00</td>\n",
       "    </tr>\n",
       "    <tr>\n",
       "      <th>2</th>\n",
       "      <td>A Woman of Substance (Emma Harte Saga #1)</td>\n",
       "      <td>4</td>\n",
       "      <td>5.00</td>\n",
       "    </tr>\n",
       "    <tr>\n",
       "      <th>3</th>\n",
       "      <td>Misty of Chincoteague (Misty  #1)</td>\n",
       "      <td>4</td>\n",
       "      <td>5.00</td>\n",
       "    </tr>\n",
       "    <tr>\n",
       "      <th>4</th>\n",
       "      <td>In the Hand of the Goddess (Song of the Liones...</td>\n",
       "      <td>6</td>\n",
       "      <td>5.00</td>\n",
       "    </tr>\n",
       "    <tr>\n",
       "      <th>...</th>\n",
       "      <td>...</td>\n",
       "      <td>...</td>\n",
       "      <td>...</td>\n",
       "    </tr>\n",
       "    <tr>\n",
       "      <th>988</th>\n",
       "      <td>The World Is Flat: A Brief History of the Twen...</td>\n",
       "      <td>12</td>\n",
       "      <td>2.25</td>\n",
       "    </tr>\n",
       "    <tr>\n",
       "      <th>989</th>\n",
       "      <td>Junky</td>\n",
       "      <td>4</td>\n",
       "      <td>2.00</td>\n",
       "    </tr>\n",
       "    <tr>\n",
       "      <th>990</th>\n",
       "      <td>His Excellency: George Washington</td>\n",
       "      <td>4</td>\n",
       "      <td>2.00</td>\n",
       "    </tr>\n",
       "    <tr>\n",
       "      <th>991</th>\n",
       "      <td>Drowning Ruth</td>\n",
       "      <td>9</td>\n",
       "      <td>2.00</td>\n",
       "    </tr>\n",
       "    <tr>\n",
       "      <th>992</th>\n",
       "      <td>Harvesting the Heart</td>\n",
       "      <td>4</td>\n",
       "      <td>1.50</td>\n",
       "    </tr>\n",
       "  </tbody>\n",
       "</table>\n",
       "<p>993 rows × 3 columns</p>\n",
       "</div>"
      ],
      "text/plain": [
       "                                                 title  count_reviews  \\\n",
       "0              School's Out—Forever (Maximum Ride  #2)             12   \n",
       "1    The War of Art: Break Through the Blocks & Win...              4   \n",
       "2            A Woman of Substance (Emma Harte Saga #1)              4   \n",
       "3                    Misty of Chincoteague (Misty  #1)              4   \n",
       "4    In the Hand of the Goddess (Song of the Liones...              6   \n",
       "..                                                 ...            ...   \n",
       "988  The World Is Flat: A Brief History of the Twen...             12   \n",
       "989                                              Junky              4   \n",
       "990                  His Excellency: George Washington              4   \n",
       "991                                      Drowning Ruth              9   \n",
       "992                               Harvesting the Heart              4   \n",
       "\n",
       "     avg_rating  \n",
       "0          5.00  \n",
       "1          5.00  \n",
       "2          5.00  \n",
       "3          5.00  \n",
       "4          5.00  \n",
       "..          ...  \n",
       "988        2.25  \n",
       "989        2.00  \n",
       "990        2.00  \n",
       "991        2.00  \n",
       "992        1.50  \n",
       "\n",
       "[993 rows x 3 columns]"
      ]
     },
     "execution_count": 162,
     "metadata": {},
     "output_type": "execute_result"
    }
   ],
   "source": [
    "pd.io.sql.read_sql(s_query, con = engine)"
   ]
  },
  {
   "cell_type": "markdown",
   "id": "94f3c334",
   "metadata": {},
   "source": [
    "### Определение издательства, которое выпустило наибольшее число книг толще 50 страниц (исключение из анализа брошюр)"
   ]
  },
  {
   "cell_type": "code",
   "execution_count": 46,
   "id": "d4b15667",
   "metadata": {},
   "outputs": [],
   "source": [
    "t_query = '''SELECT p.publisher\n",
    "            FROM publishers p\n",
    "            JOIN books b ON p.publisher_id = b.publisher_id\n",
    "            WHERE b.num_pages > 50\n",
    "            GROUP BY p.publisher\n",
    "            ORDER BY p.publisher DESC\n",
    "            LIMIT 1\n",
    "            '''"
   ]
  },
  {
   "cell_type": "code",
   "execution_count": 47,
   "id": "b680083e",
   "metadata": {},
   "outputs": [
    {
     "data": {
      "text/html": [
       "<div>\n",
       "<style scoped>\n",
       "    .dataframe tbody tr th:only-of-type {\n",
       "        vertical-align: middle;\n",
       "    }\n",
       "\n",
       "    .dataframe tbody tr th {\n",
       "        vertical-align: top;\n",
       "    }\n",
       "\n",
       "    .dataframe thead th {\n",
       "        text-align: right;\n",
       "    }\n",
       "</style>\n",
       "<table border=\"1\" class=\"dataframe\">\n",
       "  <thead>\n",
       "    <tr style=\"text-align: right;\">\n",
       "      <th></th>\n",
       "      <th>publisher</th>\n",
       "    </tr>\n",
       "  </thead>\n",
       "  <tbody>\n",
       "    <tr>\n",
       "      <th>0</th>\n",
       "      <td>Yearling Books</td>\n",
       "    </tr>\n",
       "  </tbody>\n",
       "</table>\n",
       "</div>"
      ],
      "text/plain": [
       "        publisher\n",
       "0  Yearling Books"
      ]
     },
     "execution_count": 47,
     "metadata": {},
     "output_type": "execute_result"
    }
   ],
   "source": [
    "pd.io.sql.read_sql(t_query, con = engine)"
   ]
  },
  {
   "cell_type": "markdown",
   "id": "90a0abf8",
   "metadata": {},
   "source": [
    "### Определение автора с самой высокой средней оценкой книг (только для книг с 50 и более оценками)"
   ]
  },
  {
   "cell_type": "code",
   "execution_count": 153,
   "id": "420c968b",
   "metadata": {},
   "outputs": [],
   "source": [
    "f_query = '''WITH\n",
    "             util  AS    (         \n",
    "                         SELECT a.author, b.title, nb.count, r.rating\n",
    "                         FROM (SELECT book_id,\n",
    "                                            COUNT(rating_id) \n",
    "                                    FROM ratings\n",
    "                                    GROUP BY book_id) nb\n",
    "                         JOIN books b ON b.book_id = nb.book_id\n",
    "                         JOIN authors a ON b.author_id = a.author_id\n",
    "                         JOIN ratings r ON b.book_id = r.book_id\n",
    "                         WHERE nb.count > 50\n",
    "                         )\n",
    "             SELECT author\n",
    "             FROM util\n",
    "             GROUP BY author\n",
    "             ORDER BY AVG(rating) DESC\n",
    "             LIMIT 1\n",
    "             '''"
   ]
  },
  {
   "cell_type": "code",
   "execution_count": 154,
   "id": "eada357a",
   "metadata": {},
   "outputs": [
    {
     "data": {
      "text/html": [
       "<div>\n",
       "<style scoped>\n",
       "    .dataframe tbody tr th:only-of-type {\n",
       "        vertical-align: middle;\n",
       "    }\n",
       "\n",
       "    .dataframe tbody tr th {\n",
       "        vertical-align: top;\n",
       "    }\n",
       "\n",
       "    .dataframe thead th {\n",
       "        text-align: right;\n",
       "    }\n",
       "</style>\n",
       "<table border=\"1\" class=\"dataframe\">\n",
       "  <thead>\n",
       "    <tr style=\"text-align: right;\">\n",
       "      <th></th>\n",
       "      <th>author</th>\n",
       "    </tr>\n",
       "  </thead>\n",
       "  <tbody>\n",
       "    <tr>\n",
       "      <th>0</th>\n",
       "      <td>J.K. Rowling/Mary GrandPré</td>\n",
       "    </tr>\n",
       "  </tbody>\n",
       "</table>\n",
       "</div>"
      ],
      "text/plain": [
       "                       author\n",
       "0  J.K. Rowling/Mary GrandPré"
      ]
     },
     "execution_count": 154,
     "metadata": {},
     "output_type": "execute_result"
    }
   ],
   "source": [
    "pd.io.sql.read_sql(f_query, con = engine)"
   ]
  },
  {
   "cell_type": "markdown",
   "id": "7e84eff1",
   "metadata": {},
   "source": [
    "### Расчёт среднего количества обзоров от пользователей (для пользователей, поставивших более 50 оценок)"
   ]
  },
  {
   "cell_type": "code",
   "execution_count": 155,
   "id": "acf2efef",
   "metadata": {},
   "outputs": [],
   "source": [
    "t_query = '''WITH \n",
    "              needed AS (SELECT u.username, u.count\n",
    "                         FROM (\n",
    "                                SELECT username,\n",
    "                                        COUNT(rating)\n",
    "                                FROM ratings\n",
    "                                GROUP BY username\n",
    "                                ) u\n",
    "                         WHERE u.count > 50)\n",
    "                     \n",
    "             SELECT AVG(count_reviews) avg_reviews\n",
    "             FROM (\n",
    "                     SELECT username,\n",
    "                           COUNT(review_id) count_reviews\n",
    "                     FROM reviews\n",
    "                     WHERE username IN (SELECT username FROM needed)\n",
    "                     GROUP BY username\n",
    "                   ) review\n",
    "                   \n",
    "            '''"
   ]
  },
  {
   "cell_type": "code",
   "execution_count": 151,
   "id": "ffcb2360",
   "metadata": {},
   "outputs": [
    {
     "data": {
      "text/html": [
       "<div>\n",
       "<style scoped>\n",
       "    .dataframe tbody tr th:only-of-type {\n",
       "        vertical-align: middle;\n",
       "    }\n",
       "\n",
       "    .dataframe tbody tr th {\n",
       "        vertical-align: top;\n",
       "    }\n",
       "\n",
       "    .dataframe thead th {\n",
       "        text-align: right;\n",
       "    }\n",
       "</style>\n",
       "<table border=\"1\" class=\"dataframe\">\n",
       "  <thead>\n",
       "    <tr style=\"text-align: right;\">\n",
       "      <th></th>\n",
       "      <th>avg_reviews</th>\n",
       "    </tr>\n",
       "  </thead>\n",
       "  <tbody>\n",
       "    <tr>\n",
       "      <th>0</th>\n",
       "      <td>24.333333</td>\n",
       "    </tr>\n",
       "  </tbody>\n",
       "</table>\n",
       "</div>"
      ],
      "text/plain": [
       "   avg_reviews\n",
       "0    24.333333"
      ]
     },
     "execution_count": 151,
     "metadata": {},
     "output_type": "execute_result"
    }
   ],
   "source": [
    "pd.io.sql.read_sql(t_query, con = engine)"
   ]
  },
  {
   "cell_type": "markdown",
   "id": "2127d78c",
   "metadata": {},
   "source": [
    "## Выводы по анализу\n",
    "\n",
    "1. За последнее два десятилетие в базу данных добавилось 821 книга.\n",
    "2. Средняя оценка книга в базе данных колеблется от 1.5 до 5.\n",
    "3. Самым продуктивным издательством является 'Yearling Books'.\n",
    "4. Самым высокооцениваемым автором является J.K. Rowling/Mary GrandPré\n",
    "5. Самые активные читатели в плане оценок книг сделали в среднем 24 обзора книг."
   ]
  }
 ],
 "metadata": {
  "kernelspec": {
   "display_name": "Python 3 (ipykernel)",
   "language": "python",
   "name": "python3"
  },
  "language_info": {
   "codemirror_mode": {
    "name": "ipython",
    "version": 3
   },
   "file_extension": ".py",
   "mimetype": "text/x-python",
   "name": "python",
   "nbconvert_exporter": "python",
   "pygments_lexer": "ipython3",
   "version": "3.8.3"
  },
  "toc": {
   "base_numbering": 1,
   "nav_menu": {},
   "number_sections": true,
   "sideBar": true,
   "skip_h1_title": true,
   "title_cell": "Table of Contents",
   "title_sidebar": "Contents",
   "toc_cell": true,
   "toc_position": {},
   "toc_section_display": true,
   "toc_window_display": false
  }
 },
 "nbformat": 4,
 "nbformat_minor": 5
}
